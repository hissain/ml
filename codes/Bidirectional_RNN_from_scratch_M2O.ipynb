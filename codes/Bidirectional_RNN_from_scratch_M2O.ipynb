{
  "nbformat": 4,
  "nbformat_minor": 0,
  "metadata": {
    "colab": {
      "provenance": [],
      "include_colab_link": true
    },
    "kernelspec": {
      "name": "python3",
      "display_name": "Python 3"
    },
    "language_info": {
      "name": "python"
    }
  },
  "cells": [
    {
      "cell_type": "markdown",
      "metadata": {
        "id": "view-in-github",
        "colab_type": "text"
      },
      "source": [
        "<a href=\"https://colab.research.google.com/github/hissain/mlworks/blob/main/codes/Bidirectional_RNN_from_scratch_M2O.ipynb\" target=\"_parent\"><img src=\"https://colab.research.google.com/assets/colab-badge.svg\" alt=\"Open In Colab\"/></a>"
      ]
    },
    {
      "cell_type": "code",
      "source": [
        "# import\n",
        "import torch\n",
        "import torch.nn as nn\n",
        "import math"
      ],
      "metadata": {
        "id": "Xa-r8LHHpWSj"
      },
      "execution_count": null,
      "outputs": []
    },
    {
      "cell_type": "code",
      "source": [
        "# Seed\n",
        "torch.manual_seed(0)"
      ],
      "metadata": {
        "id": "6ktNrC6LqERA",
        "colab": {
          "base_uri": "https://localhost:8080/"
        },
        "outputId": "abfc2b42-32fa-44a4-e96e-e58c4252ef5b"
      },
      "execution_count": null,
      "outputs": [
        {
          "output_type": "execute_result",
          "data": {
            "text/plain": [
              "<torch._C.Generator at 0x7fad700a98f0>"
            ]
          },
          "metadata": {},
          "execution_count": 2
        }
      ]
    },
    {
      "cell_type": "code",
      "source": [
        "class RNNLayer(torch.nn.Module):\n",
        "    def __init__(self, input_size, hidden_size):\n",
        "        super(RNNLayer, self).__init__()\n",
        "        self.input_size = input_size\n",
        "        self.hidden_size = hidden_size\n",
        "\n",
        "        # Weight matrices for input and hidden layer connections\n",
        "        self.W_xh = torch.nn.Parameter(torch.randn(input_size, hidden_size))\n",
        "        self.W_hh = torch.nn.Parameter(torch.randn(hidden_size, hidden_size))\n",
        "        # Bias term for hidden layer\n",
        "        self.b_h = torch.nn.Parameter(torch.zeros(hidden_size))\n",
        "\n",
        "    def forward(self, input_data, hidden_state=None):\n",
        "        \"\"\"\n",
        "        Performs a forward pass through the RNN layer.\n",
        "\n",
        "        Args:\n",
        "            input_data: A tensor of shape (batch_size, input_size) representing the input sequence.\n",
        "            hidden_state: A tensor of shape (batch_size, hidden_size) representing the initial hidden state (optional).\n",
        "\n",
        "        Returns:\n",
        "            output: A tensor of shape (batch_size, hidden_size) representing the hidden state at each time step.\n",
        "            hidden_state: A tensor of shape (batch_size, hidden_size) representing the hidden state.\n",
        "        \"\"\"\n",
        "        batch_size, _ = input_data.size()\n",
        "\n",
        "        # Initialize hidden state if not provided\n",
        "        if hidden_state is None:\n",
        "            hidden_state = torch.zeros(batch_size, self.hidden_size)\n",
        "\n",
        "        # Calculate current hidden state\n",
        "        hidden_state = torch.tanh(\n",
        "            # (batch_size, input_size) x (input_size, hidden_size)\n",
        "            # = (batch_size, hidden_size)\n",
        "            torch.mm(input_data, self.W_xh) + \\\n",
        "            # (batch_size, hidden_size) x (hidden_size, hidden_size)\n",
        "            # = (batch_size, hidden_size)\n",
        "            torch.mm(hidden_state, self.W_hh) + \\\n",
        "            # hidden_size\n",
        "            self.b_h\n",
        "        )\n",
        "\n",
        "        return hidden_state"
      ],
      "metadata": {
        "id": "HRt-IF7RpeQo"
      },
      "execution_count": null,
      "outputs": []
    },
    {
      "cell_type": "code",
      "source": [
        "class BiRNN(nn.Module):\n",
        "    def __init__(self, input_size, hidden_size, output_size):\n",
        "        super(BiRNN, self).__init__()\n",
        "        self.input_size = input_size\n",
        "        self.hidden_size = hidden_size\n",
        "\n",
        "        self.forward_rnn_cell = RNNLayer(input_size, hidden_size)\n",
        "        self.backward_rnn_cell = RNNLayer(input_size, hidden_size)\n",
        "        self.fc = torch.nn.Linear(2 * hidden_size, output_size)\n",
        "\n",
        "    def forward(self, inputs):\n",
        "        \"\"\"\n",
        "        Performs a forward pass through the RNN model.\n",
        "\n",
        "        Args:\n",
        "            inputs: A tensor of shape (batch_size, seq_len, input_size) representing the input sequence.\n",
        "\n",
        "        Returns:\n",
        "            prediction: A tensor of shape (batch_size, output_size) representing the model output.\n",
        "        \"\"\"\n",
        "        forward_hidden_state = None\n",
        "        backward_hidden_state = None\n",
        "\n",
        "        _, seq_len, _ = inputs.size()\n",
        "\n",
        "        for t in range(seq_len):\n",
        "            forward_hidden_state = self.forward_rnn_cell(inputs[:, t, :], forward_hidden_state)\n",
        "            backward_hidden_state = self.backward_rnn_cell(inputs[:, seq_len - t - 1, :], backward_hidden_state)\n",
        "\n",
        "        hidden_state = torch.cat([forward_hidden_state, backward_hidden_state], dim=1)\n",
        "        prediction = self.fc(hidden_state)\n",
        "\n",
        "        return prediction, hidden_state"
      ],
      "metadata": {
        "id": "T3xRT2AyrvfG"
      },
      "execution_count": null,
      "outputs": []
    },
    {
      "cell_type": "code",
      "execution_count": null,
      "metadata": {
        "id": "gxPiLA42pOnG",
        "colab": {
          "base_uri": "https://localhost:8080/"
        },
        "outputId": "59289d2c-09c1-42ae-d819-a0d04509012d"
      },
      "outputs": [
        {
          "output_type": "stream",
          "name": "stdout",
          "text": [
            "Output shape: torch.Size([2, 10])\n",
            "Last hidden state shape: torch.Size([2, 40])\n"
          ]
        }
      ],
      "source": [
        "# Example usage:\n",
        "input_size = 10\n",
        "output_size = 10\n",
        "hidden_size = 20\n",
        "seq_length = 5\n",
        "batch_size = 2\n",
        "\n",
        "# Create LSTM model\n",
        "rnn = BiRNN(input_size, hidden_size, output_size)\n",
        "\n",
        "# Generate some random input data\n",
        "input_data = torch.randn(batch_size, seq_length, input_size)\n",
        "\n",
        "# Forward pass\n",
        "output, hidden_state_last = rnn(input_data)\n",
        "print(\"Output shape:\", output.shape)\n",
        "print(\"Last hidden state shape:\", hidden_state_last.shape)\n"
      ]
    },
    {
      "cell_type": "code",
      "source": [],
      "metadata": {
        "id": "GvZ22F1Hu5fV"
      },
      "execution_count": null,
      "outputs": []
    }
  ]
}