{
  "nbformat": 4,
  "nbformat_minor": 0,
  "metadata": {
    "colab": {
      "provenance": [],
      "machine_shape": "hm",
      "gpuType": "L4",
      "include_colab_link": true
    },
    "kernelspec": {
      "name": "python3",
      "display_name": "Python 3"
    },
    "language_info": {
      "name": "python"
    },
    "accelerator": "GPU"
  },
  "cells": [
    {
      "cell_type": "markdown",
      "metadata": {
        "id": "view-in-github",
        "colab_type": "text"
      },
      "source": [
        "<a href=\"https://colab.research.google.com/github/hissain/mlworks/blob/main/codes/Vanilla_Autoencoder.ipynb\" target=\"_parent\"><img src=\"https://colab.research.google.com/assets/colab-badge.svg\" alt=\"Open In Colab\"/></a>"
      ]
    },
    {
      "cell_type": "code",
      "execution_count": null,
      "metadata": {
        "colab": {
          "base_uri": "https://localhost:8080/"
        },
        "id": "0GnAKRu2lmeO",
        "outputId": "95df6ee2-551b-4215-e3ad-00c9300acc67"
      },
      "outputs": [
        {
          "output_type": "stream",
          "name": "stdout",
          "text": [
            "Requirement already satisfied: torchvision in /usr/local/lib/python3.10/dist-packages (0.17.1+cu121)\n",
            "Requirement already satisfied: numpy in /usr/local/lib/python3.10/dist-packages (from torchvision) (1.25.2)\n",
            "Requirement already satisfied: torch==2.2.1 in /usr/local/lib/python3.10/dist-packages (from torchvision) (2.2.1+cu121)\n",
            "Requirement already satisfied: pillow!=8.3.*,>=5.3.0 in /usr/local/lib/python3.10/dist-packages (from torchvision) (9.4.0)\n",
            "Requirement already satisfied: filelock in /usr/local/lib/python3.10/dist-packages (from torch==2.2.1->torchvision) (3.14.0)\n",
            "Requirement already satisfied: typing-extensions>=4.8.0 in /usr/local/lib/python3.10/dist-packages (from torch==2.2.1->torchvision) (4.11.0)\n",
            "Requirement already satisfied: sympy in /usr/local/lib/python3.10/dist-packages (from torch==2.2.1->torchvision) (1.12)\n",
            "Requirement already satisfied: networkx in /usr/local/lib/python3.10/dist-packages (from torch==2.2.1->torchvision) (3.3)\n",
            "Requirement already satisfied: jinja2 in /usr/local/lib/python3.10/dist-packages (from torch==2.2.1->torchvision) (3.1.4)\n",
            "Requirement already satisfied: fsspec in /usr/local/lib/python3.10/dist-packages (from torch==2.2.1->torchvision) (2023.6.0)\n",
            "Collecting nvidia-cuda-nvrtc-cu12==12.1.105 (from torch==2.2.1->torchvision)\n",
            "  Using cached nvidia_cuda_nvrtc_cu12-12.1.105-py3-none-manylinux1_x86_64.whl (23.7 MB)\n",
            "Collecting nvidia-cuda-runtime-cu12==12.1.105 (from torch==2.2.1->torchvision)\n",
            "  Using cached nvidia_cuda_runtime_cu12-12.1.105-py3-none-manylinux1_x86_64.whl (823 kB)\n",
            "Collecting nvidia-cuda-cupti-cu12==12.1.105 (from torch==2.2.1->torchvision)\n",
            "  Using cached nvidia_cuda_cupti_cu12-12.1.105-py3-none-manylinux1_x86_64.whl (14.1 MB)\n",
            "Collecting nvidia-cudnn-cu12==8.9.2.26 (from torch==2.2.1->torchvision)\n",
            "  Using cached nvidia_cudnn_cu12-8.9.2.26-py3-none-manylinux1_x86_64.whl (731.7 MB)\n",
            "Collecting nvidia-cublas-cu12==12.1.3.1 (from torch==2.2.1->torchvision)\n",
            "  Using cached nvidia_cublas_cu12-12.1.3.1-py3-none-manylinux1_x86_64.whl (410.6 MB)\n",
            "Collecting nvidia-cufft-cu12==11.0.2.54 (from torch==2.2.1->torchvision)\n",
            "  Using cached nvidia_cufft_cu12-11.0.2.54-py3-none-manylinux1_x86_64.whl (121.6 MB)\n",
            "Collecting nvidia-curand-cu12==10.3.2.106 (from torch==2.2.1->torchvision)\n",
            "  Using cached nvidia_curand_cu12-10.3.2.106-py3-none-manylinux1_x86_64.whl (56.5 MB)\n",
            "Collecting nvidia-cusolver-cu12==11.4.5.107 (from torch==2.2.1->torchvision)\n",
            "  Using cached nvidia_cusolver_cu12-11.4.5.107-py3-none-manylinux1_x86_64.whl (124.2 MB)\n",
            "Collecting nvidia-cusparse-cu12==12.1.0.106 (from torch==2.2.1->torchvision)\n",
            "  Using cached nvidia_cusparse_cu12-12.1.0.106-py3-none-manylinux1_x86_64.whl (196.0 MB)\n",
            "Collecting nvidia-nccl-cu12==2.19.3 (from torch==2.2.1->torchvision)\n",
            "  Using cached nvidia_nccl_cu12-2.19.3-py3-none-manylinux1_x86_64.whl (166.0 MB)\n",
            "Collecting nvidia-nvtx-cu12==12.1.105 (from torch==2.2.1->torchvision)\n",
            "  Using cached nvidia_nvtx_cu12-12.1.105-py3-none-manylinux1_x86_64.whl (99 kB)\n",
            "Requirement already satisfied: triton==2.2.0 in /usr/local/lib/python3.10/dist-packages (from torch==2.2.1->torchvision) (2.2.0)\n",
            "Collecting nvidia-nvjitlink-cu12 (from nvidia-cusolver-cu12==11.4.5.107->torch==2.2.1->torchvision)\n",
            "  Using cached nvidia_nvjitlink_cu12-12.4.127-py3-none-manylinux2014_x86_64.whl (21.1 MB)\n",
            "Requirement already satisfied: MarkupSafe>=2.0 in /usr/local/lib/python3.10/dist-packages (from jinja2->torch==2.2.1->torchvision) (2.1.5)\n",
            "Requirement already satisfied: mpmath>=0.19 in /usr/local/lib/python3.10/dist-packages (from sympy->torch==2.2.1->torchvision) (1.3.0)\n",
            "Installing collected packages: nvidia-nvtx-cu12, nvidia-nvjitlink-cu12, nvidia-nccl-cu12, nvidia-curand-cu12, nvidia-cufft-cu12, nvidia-cuda-runtime-cu12, nvidia-cuda-nvrtc-cu12, nvidia-cuda-cupti-cu12, nvidia-cublas-cu12, nvidia-cusparse-cu12, nvidia-cudnn-cu12, nvidia-cusolver-cu12\n",
            "Successfully installed nvidia-cublas-cu12-12.1.3.1 nvidia-cuda-cupti-cu12-12.1.105 nvidia-cuda-nvrtc-cu12-12.1.105 nvidia-cuda-runtime-cu12-12.1.105 nvidia-cudnn-cu12-8.9.2.26 nvidia-cufft-cu12-11.0.2.54 nvidia-curand-cu12-10.3.2.106 nvidia-cusolver-cu12-11.4.5.107 nvidia-cusparse-cu12-12.1.0.106 nvidia-nccl-cu12-2.19.3 nvidia-nvjitlink-cu12-12.4.127 nvidia-nvtx-cu12-12.1.105\n"
          ]
        }
      ],
      "source": [
        "!pip install torchvision"
      ]
    },
    {
      "cell_type": "code",
      "source": [
        "# Importing the necessary libraries\n",
        "import numpy as np\n",
        "import matplotlib.pyplot as plt\n",
        "import torchvision\n",
        "import torch"
      ],
      "metadata": {
        "id": "q9ycT0Arlt3u"
      },
      "execution_count": null,
      "outputs": []
    },
    {
      "cell_type": "code",
      "source": [
        "plt.rcParams['figure.figsize'] = 15, 10"
      ],
      "metadata": {
        "id": "UisYWEFblu66"
      },
      "execution_count": null,
      "outputs": []
    },
    {
      "cell_type": "code",
      "source": [
        "# Initializing the transform for the dataset\n",
        "transform = torchvision.transforms.Compose([\n",
        "\ttorchvision.transforms.ToTensor(),\n",
        "\ttorchvision.transforms.Normalize((0.5), (0.5))\n",
        "])"
      ],
      "metadata": {
        "id": "qUxU7_iOlwJ3"
      },
      "execution_count": null,
      "outputs": []
    },
    {
      "cell_type": "code",
      "source": [
        "# Downloading the MNIST dataset\n",
        "train_dataset = torchvision.datasets.MNIST(\n",
        "\troot=\"./MNIST/train\",\n",
        "    train=True,\n",
        "\ttransform=torchvision.transforms.ToTensor(),\n",
        "\tdownload=True\n",
        " )\n",
        "\n",
        "test_dataset = torchvision.datasets.MNIST(\n",
        "\troot=\"./MNIST/test\",\n",
        "    train=False,\n",
        "\ttransform=torchvision.transforms.ToTensor(),\n",
        "\tdownload=True\n",
        " )"
      ],
      "metadata": {
        "colab": {
          "base_uri": "https://localhost:8080/"
        },
        "id": "1saFyMtblxmm",
        "outputId": "9c543392-d568-43fe-82c3-c6736b2f7752"
      },
      "execution_count": null,
      "outputs": [
        {
          "output_type": "stream",
          "name": "stdout",
          "text": [
            "Downloading http://yann.lecun.com/exdb/mnist/train-images-idx3-ubyte.gz\n",
            "Failed to download (trying next):\n",
            "HTTP Error 403: Forbidden\n",
            "\n",
            "Downloading https://ossci-datasets.s3.amazonaws.com/mnist/train-images-idx3-ubyte.gz\n",
            "Downloading https://ossci-datasets.s3.amazonaws.com/mnist/train-images-idx3-ubyte.gz to ./MNIST/train/MNIST/raw/train-images-idx3-ubyte.gz\n"
          ]
        },
        {
          "output_type": "stream",
          "name": "stderr",
          "text": [
            "100%|██████████| 9912422/9912422 [00:10<00:00, 977201.66it/s] \n"
          ]
        },
        {
          "output_type": "stream",
          "name": "stdout",
          "text": [
            "Extracting ./MNIST/train/MNIST/raw/train-images-idx3-ubyte.gz to ./MNIST/train/MNIST/raw\n",
            "\n",
            "Downloading http://yann.lecun.com/exdb/mnist/train-labels-idx1-ubyte.gz\n",
            "Failed to download (trying next):\n",
            "HTTP Error 403: Forbidden\n",
            "\n",
            "Downloading https://ossci-datasets.s3.amazonaws.com/mnist/train-labels-idx1-ubyte.gz\n",
            "Downloading https://ossci-datasets.s3.amazonaws.com/mnist/train-labels-idx1-ubyte.gz to ./MNIST/train/MNIST/raw/train-labels-idx1-ubyte.gz\n"
          ]
        },
        {
          "output_type": "stream",
          "name": "stderr",
          "text": [
            "100%|██████████| 28881/28881 [00:00<00:00, 132461.84it/s]\n"
          ]
        },
        {
          "output_type": "stream",
          "name": "stdout",
          "text": [
            "Extracting ./MNIST/train/MNIST/raw/train-labels-idx1-ubyte.gz to ./MNIST/train/MNIST/raw\n",
            "\n",
            "Downloading http://yann.lecun.com/exdb/mnist/t10k-images-idx3-ubyte.gz\n",
            "Failed to download (trying next):\n",
            "HTTP Error 403: Forbidden\n",
            "\n",
            "Downloading https://ossci-datasets.s3.amazonaws.com/mnist/t10k-images-idx3-ubyte.gz\n",
            "Downloading https://ossci-datasets.s3.amazonaws.com/mnist/t10k-images-idx3-ubyte.gz to ./MNIST/train/MNIST/raw/t10k-images-idx3-ubyte.gz\n"
          ]
        },
        {
          "output_type": "stream",
          "name": "stderr",
          "text": [
            "100%|██████████| 1648877/1648877 [00:01<00:00, 1266067.77it/s]\n"
          ]
        },
        {
          "output_type": "stream",
          "name": "stdout",
          "text": [
            "Extracting ./MNIST/train/MNIST/raw/t10k-images-idx3-ubyte.gz to ./MNIST/train/MNIST/raw\n",
            "\n",
            "Downloading http://yann.lecun.com/exdb/mnist/t10k-labels-idx1-ubyte.gz\n",
            "Failed to download (trying next):\n",
            "HTTP Error 403: Forbidden\n",
            "\n",
            "Downloading https://ossci-datasets.s3.amazonaws.com/mnist/t10k-labels-idx1-ubyte.gz\n",
            "Downloading https://ossci-datasets.s3.amazonaws.com/mnist/t10k-labels-idx1-ubyte.gz to ./MNIST/train/MNIST/raw/t10k-labels-idx1-ubyte.gz\n"
          ]
        },
        {
          "output_type": "stream",
          "name": "stderr",
          "text": [
            "100%|██████████| 4542/4542 [00:00<00:00, 5970081.09it/s]\n"
          ]
        },
        {
          "output_type": "stream",
          "name": "stdout",
          "text": [
            "Extracting ./MNIST/train/MNIST/raw/t10k-labels-idx1-ubyte.gz to ./MNIST/train/MNIST/raw\n",
            "\n",
            "Downloading http://yann.lecun.com/exdb/mnist/train-images-idx3-ubyte.gz\n",
            "Failed to download (trying next):\n",
            "HTTP Error 403: Forbidden\n",
            "\n",
            "Downloading https://ossci-datasets.s3.amazonaws.com/mnist/train-images-idx3-ubyte.gz\n",
            "Downloading https://ossci-datasets.s3.amazonaws.com/mnist/train-images-idx3-ubyte.gz to ./MNIST/test/MNIST/raw/train-images-idx3-ubyte.gz\n"
          ]
        },
        {
          "output_type": "stream",
          "name": "stderr",
          "text": [
            "100%|██████████| 9912422/9912422 [00:01<00:00, 5107089.97it/s]\n"
          ]
        },
        {
          "output_type": "stream",
          "name": "stdout",
          "text": [
            "Extracting ./MNIST/test/MNIST/raw/train-images-idx3-ubyte.gz to ./MNIST/test/MNIST/raw\n",
            "\n",
            "Downloading http://yann.lecun.com/exdb/mnist/train-labels-idx1-ubyte.gz\n",
            "Failed to download (trying next):\n",
            "HTTP Error 403: Forbidden\n",
            "\n",
            "Downloading https://ossci-datasets.s3.amazonaws.com/mnist/train-labels-idx1-ubyte.gz\n",
            "Downloading https://ossci-datasets.s3.amazonaws.com/mnist/train-labels-idx1-ubyte.gz to ./MNIST/test/MNIST/raw/train-labels-idx1-ubyte.gz\n"
          ]
        },
        {
          "output_type": "stream",
          "name": "stderr",
          "text": [
            "100%|██████████| 28881/28881 [00:00<00:00, 134465.98it/s]\n"
          ]
        },
        {
          "output_type": "stream",
          "name": "stdout",
          "text": [
            "Extracting ./MNIST/test/MNIST/raw/train-labels-idx1-ubyte.gz to ./MNIST/test/MNIST/raw\n",
            "\n",
            "Downloading http://yann.lecun.com/exdb/mnist/t10k-images-idx3-ubyte.gz\n",
            "Failed to download (trying next):\n",
            "HTTP Error 403: Forbidden\n",
            "\n",
            "Downloading https://ossci-datasets.s3.amazonaws.com/mnist/t10k-images-idx3-ubyte.gz\n",
            "Downloading https://ossci-datasets.s3.amazonaws.com/mnist/t10k-images-idx3-ubyte.gz to ./MNIST/test/MNIST/raw/t10k-images-idx3-ubyte.gz\n"
          ]
        },
        {
          "output_type": "stream",
          "name": "stderr",
          "text": [
            "100%|██████████| 1648877/1648877 [00:06<00:00, 246581.98it/s]\n"
          ]
        },
        {
          "output_type": "stream",
          "name": "stdout",
          "text": [
            "Extracting ./MNIST/test/MNIST/raw/t10k-images-idx3-ubyte.gz to ./MNIST/test/MNIST/raw\n",
            "\n",
            "Downloading http://yann.lecun.com/exdb/mnist/t10k-labels-idx1-ubyte.gz\n",
            "Failed to download (trying next):\n",
            "HTTP Error 403: Forbidden\n",
            "\n",
            "Downloading https://ossci-datasets.s3.amazonaws.com/mnist/t10k-labels-idx1-ubyte.gz\n",
            "Downloading https://ossci-datasets.s3.amazonaws.com/mnist/t10k-labels-idx1-ubyte.gz to ./MNIST/test/MNIST/raw/t10k-labels-idx1-ubyte.gz\n"
          ]
        },
        {
          "output_type": "stream",
          "name": "stderr",
          "text": [
            "100%|██████████| 4542/4542 [00:00<00:00, 5947714.26it/s]"
          ]
        },
        {
          "output_type": "stream",
          "name": "stdout",
          "text": [
            "Extracting ./MNIST/test/MNIST/raw/t10k-labels-idx1-ubyte.gz to ./MNIST/test/MNIST/raw\n",
            "\n"
          ]
        },
        {
          "output_type": "stream",
          "name": "stderr",
          "text": [
            "\n"
          ]
        }
      ]
    },
    {
      "cell_type": "code",
      "source": [
        "# Creating Dataloaders from the\n",
        "# training and testing dataset\n",
        "train_loader = torch.utils.data.DataLoader(\n",
        "\ttrain_dataset,\n",
        "    batch_size=512\n",
        ")\n",
        "test_loader = torch.utils.data.DataLoader(\n",
        "\ttest_dataset,\n",
        "    batch_size=512\n",
        ")"
      ],
      "metadata": {
        "id": "4sqMUTTdlzee"
      },
      "execution_count": null,
      "outputs": []
    },
    {
      "cell_type": "code",
      "source": [
        "# Printing 25 random images from the training dataset\n",
        "random_samples = np.random.randint(\n",
        "\t\t 1,\n",
        "\t\t len(train_dataset),\n",
        "\t\t (25)\n",
        ")\n",
        "\n",
        "for idx in range(random_samples.shape[0]):\n",
        "\tplt.subplot(5, 5, idx + 1)\n",
        "\tplt.imshow(train_dataset[idx][0][0].numpy(), cmap='gray')\n",
        "\tplt.title(train_dataset[idx][1])\n",
        "\tplt.axis('off')\n",
        "\n",
        "plt.tight_layout()\n",
        "plt.show()"
      ],
      "metadata": {
        "colab": {
          "base_uri": "https://localhost:8080/",
          "height": 567
        },
        "id": "sUoa0OKwl-Yn",
        "outputId": "511514a0-ebe4-4bff-bdf1-11cdb96ab160"
      },
      "execution_count": null,
      "outputs": [
        {
          "output_type": "display_data",
          "data": {
            "text/plain": [
              "<Figure size 1500x1000 with 25 Axes>"
            ],
            "image/png": "[encoded data removed]"
          },
          "metadata": {}
        }
      ]
    },
    {
      "cell_type": "code",
      "source": [
        " # Creating a DeepAutoencoder class\n",
        "class DeepAutoencoder(torch.nn.Module):\n",
        "\tdef __init__(self):\n",
        "\t\tsuper().__init__()\n",
        "\t\tself.encoder = torch.nn.Sequential(\n",
        "\t\t\ttorch.nn.Linear(28 * 28, 256),\n",
        "\t\t\ttorch.nn.ReLU(),\n",
        "\t\t\ttorch.nn.Linear(256, 128),\n",
        "\t\t\ttorch.nn.ReLU(),\n",
        "\t\t\ttorch.nn.Linear(128, 64),\n",
        "\t\t\ttorch.nn.ReLU(),\n",
        "\t\t\ttorch.nn.Linear(64, 10)\n",
        "\t\t)\n",
        "\n",
        "\t\tself.decoder = torch.nn.Sequential(\n",
        "\t\t\ttorch.nn.Linear(10, 64),\n",
        "\t\t\ttorch.nn.ReLU(),\n",
        "\t\t\ttorch.nn.Linear(64, 128),\n",
        "\t\t\ttorch.nn.ReLU(),\n",
        "\t\t\ttorch.nn.Linear(128, 256),\n",
        "\t\t\ttorch.nn.ReLU(),\n",
        "\t\t\ttorch.nn.Linear(256, 28 * 28),\n",
        "\t\t\ttorch.nn.Sigmoid()\n",
        "\t\t)\n",
        "\n",
        "\tdef forward(self, x):\n",
        "\t\tencoded = self.encoder(x)\n",
        "\t\tdecoded = self.decoder(encoded)\n",
        "\t\treturn decoded\n"
      ],
      "metadata": {
        "id": "-Bz_X4W-mJ2y"
      },
      "execution_count": null,
      "outputs": []
    },
    {
      "cell_type": "code",
      "source": [
        "# Instantiating the model and hyperparameters\n",
        "model = DeepAutoencoder()\n",
        "criterion = torch.nn.MSELoss()\n",
        "optimizer = torch.optim.Adam(model.parameters(), lr=1e-3)"
      ],
      "metadata": {
        "id": "hnZTAq56lnfW"
      },
      "execution_count": null,
      "outputs": []
    },
    {
      "cell_type": "code",
      "source": [
        "# List that will store the training loss\n",
        "train_loss = []\n",
        "\n",
        "# Dictionary that will store the\n",
        "# different images and outputs for\n",
        "# various epochs\n",
        "outputs = {}\n",
        "\n",
        "batch_size = len(train_loader)\n",
        "\n",
        "num_epochs = 100\n",
        "\n",
        "\n",
        "# Training loop starts\n",
        "for epoch in range(num_epochs):\n",
        "\n",
        "\t# Initializing variable for storing\n",
        "\t# loss\n",
        "\trunning_loss = 0\n",
        "\n",
        "\t# Iterating over the training dataset\n",
        "\tfor batch in train_loader:\n",
        "\n",
        "\t\t# Loading image(s) and\n",
        "\t\t# reshaping it into a 1-d vector\n",
        "\t\timg, _ = batch\n",
        "\t\timg = img.reshape(-1, 28*28)\n",
        "\n",
        "\t\t# Generating output\n",
        "\t\tout = model(img)\n",
        "\n",
        "\t\t# Calculating loss\n",
        "\t\tloss = criterion(out, img)\n",
        "\n",
        "\t\t# Updating weights according\n",
        "\t\t# to the calculated loss\n",
        "\t\toptimizer.zero_grad()\n",
        "\t\tloss.backward()\n",
        "\t\toptimizer.step()\n",
        "\n",
        "\t\t# Incrementing loss\n",
        "\t\trunning_loss += loss.item()\n",
        "\n",
        "\t# Averaging out loss over entire batch\n",
        "\trunning_loss /= batch_size\n",
        "\ttrain_loss.append(running_loss)\n",
        "\n",
        "\t# Storing useful images and\n",
        "\t# reconstructed outputs for the last batch\n",
        "\toutputs[epoch+1] = {'img': img, 'out': out}\n",
        "\n",
        "\n",
        "# Plotting the training loss\n",
        "plt.plot(range(1,num_epochs+1),train_loss)\n",
        "plt.xlabel(\"Number of epochs\")\n",
        "plt.ylabel(\"Training Loss\")\n",
        "plt.show()\n"
      ],
      "metadata": {
        "id": "iDpTzUmBmOI6"
      },
      "execution_count": null,
      "outputs": []
    },
    {
      "cell_type": "code",
      "source": [
        "# Plotting is done on a 7x5 subplot\n",
        "# Plotting the reconstructed images\n",
        "\n",
        "# Initializing subplot counter\n",
        "counter = 1\n",
        "\n",
        "# Plotting reconstructions\n",
        "# for epochs = [1, 5, 10, 50, 100]\n",
        "epochs_list = [1, 5, 10, 25, 50, 75, 100]\n",
        "\n",
        "# Iterating over specified epochs\n",
        "for val in epochs_list:\n",
        "\n",
        "\t# Extracting recorded information\n",
        "\ttemp = outputs[val]['out'].detach().numpy()\n",
        "\ttitle_text = f\"Epoch = {val}\"\n",
        "\n",
        "\t# Plotting first five images of the last batch\n",
        "\tfor idx in range(5):\n",
        "\t\tplt.subplot(7, 5, counter)\n",
        "\t\tplt.title(title_text)\n",
        "\t\tplt.imshow(temp[idx].reshape(28,28), cmap= 'gray')\n",
        "\t\tplt.axis('off')\n",
        "\n",
        "\t\t# Incrementing the subplot counter\n",
        "\t\tcounter+=1\n",
        "\n",
        "# Plotting original images\n",
        "\n",
        "# Iterating over first five\n",
        "# images of the last batch\n",
        "for idx in range(5):\n",
        "\n",
        "\t# Obtaining image from the dictionary\n",
        "\tval = outputs[10]['img']\n",
        "\n",
        "\t# Plotting image\n",
        "\tplt.subplot(7,5,counter)\n",
        "\tplt.imshow(val[idx].reshape(28, 28),\n",
        "\t\t\tcmap = 'gray')\n",
        "\tplt.title(\"Original Image\")\n",
        "\tplt.axis('off')\n",
        "\n",
        "\t# Incrementing subplot counter\n",
        "\tcounter+=1\n",
        "\n",
        "plt.tight_layout()\n",
        "plt.show()\n"
      ],
      "metadata": {
        "id": "wQJt7AismTAk"
      },
      "execution_count": null,
      "outputs": []
    },
    {
      "cell_type": "code",
      "source": [
        "# Dictionary that will store the different\n",
        "# images and outputs for various epochs\n",
        "outputs = {}\n",
        "\n",
        "# Extracting the last batch from the test\n",
        "# dataset\n",
        "img, _ = list(test_loader)[-1]\n",
        "\n",
        "# Reshaping into 1d vector\n",
        "img = img.reshape(-1, 28 * 28)\n",
        "\n",
        "# Generating output for the obtained\n",
        "# batch\n",
        "with torch.no_grad():\n",
        "\tout = model(img)\n",
        "\n",
        "# Storing information in dictionary\n",
        "outputs['img'] = img\n",
        "outputs['out'] = out\n",
        "\n",
        "# Plotting reconstructed images\n",
        "# Initializing subplot counter\n",
        "counter = 1\n",
        "val = outputs['out'].detach().numpy()\n",
        "\n",
        "# Plotting first 10 images of the batch\n",
        "for idx in range(10):\n",
        "\tplt.subplot(2, 10, counter)\n",
        "\tplt.title(\"Reconstructed \\n image\")\n",
        "\tplt.imshow(val[idx].reshape(28, 28), cmap='gray')\n",
        "\tplt.axis('off')\n",
        "\n",
        "\t# Incrementing subplot counter\n",
        "\tcounter += 1\n",
        "\n",
        "# Plotting original images\n",
        "\n",
        "# Plotting first 10 images\n",
        "for idx in range(10):\n",
        "\tval = outputs['img']\n",
        "\tplt.subplot(2, 10, counter)\n",
        "\tplt.imshow(val[idx].reshape(28, 28), cmap='gray')\n",
        "\tplt.title(\"Original Image\")\n",
        "\tplt.axis('off')\n",
        "\n",
        "\t# Incrementing subplot counter\n",
        "\tcounter += 1\n",
        "\n",
        "plt.tight_layout()\n",
        "plt.show()\n"
      ],
      "metadata": {
        "id": "daaE9l7amYfP"
      },
      "execution_count": null,
      "outputs": []
    }
  ]
}