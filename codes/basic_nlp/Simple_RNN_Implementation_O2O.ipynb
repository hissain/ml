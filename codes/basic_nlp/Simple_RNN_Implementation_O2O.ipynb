{
  "nbformat": 4,
  "nbformat_minor": 0,
  "metadata": {
    "colab": {
      "provenance": [],
      "include_colab_link": true
    },
    "kernelspec": {
      "name": "python3",
      "display_name": "Python 3"
    },
    "language_info": {
      "name": "python"
    }
  },
  "cells": [
    {
      "cell_type": "markdown",
      "metadata": {
        "id": "view-in-github",
        "colab_type": "text"
      },
      "source": [
        "<a href=\"https://colab.research.google.com/github/hissain/mlworks/blob/main/codes/Simple_RNN_Implementation_O2O.ipynb\" target=\"_parent\"><img src=\"https://colab.research.google.com/assets/colab-badge.svg\" alt=\"Open In Colab\"/></a>"
      ]
    },
    {
      "cell_type": "code",
      "source": [
        "# %pip install torchtext torchdata portalocker>=2.0.0"
      ],
      "metadata": {
        "id": "_qDI6_wRxk3w"
      },
      "execution_count": null,
      "outputs": []
    },
    {
      "cell_type": "code",
      "execution_count": null,
      "metadata": {
        "id": "VdowMQHxCnue"
      },
      "outputs": [],
      "source": [
        "# Import\n",
        "%matplotlib inline\n",
        "import math\n",
        "import torch\n",
        "from torch import nn\n",
        "from torch.nn import functional as F"
      ]
    },
    {
      "cell_type": "code",
      "source": [
        "torch.manual_seed(0)"
      ],
      "metadata": {
        "colab": {
          "base_uri": "https://localhost:8080/"
        },
        "id": "L5v1qBIWQIj9",
        "outputId": "7439c24c-8c23-4261-8049-dc14d661a643"
      },
      "execution_count": null,
      "outputs": [
        {
          "output_type": "execute_result",
          "data": {
            "text/plain": [
              "<torch._C.Generator at 0x782e0c3ad8d0>"
            ]
          },
          "metadata": {},
          "execution_count": 3
        }
      ]
    },
    {
      "cell_type": "code",
      "source": [
        "class RNNLayer(torch.nn.Module):\n",
        "    def __init__(self, input_size, hidden_size):\n",
        "        super(RNNLayer, self).__init__()\n",
        "        self.input_size = input_size\n",
        "        self.hidden_size = hidden_size\n",
        "\n",
        "        # Weight matrices for input and hidden layer connections\n",
        "        self.W_xh = torch.nn.Parameter(torch.randn(input_size, hidden_size))\n",
        "        self.W_hh = torch.nn.Parameter(torch.randn(hidden_size, hidden_size))\n",
        "        # Bias term for hidden layer\n",
        "        self.b_h = torch.nn.Parameter(torch.zeros(hidden_size))\n",
        "\n",
        "        # Fully connected layer for output generation\n",
        "        self.fc = torch.nn.Linear(hidden_size, output_size)\n",
        "\n",
        "    def forward(self, input_data, hidden_state=None):\n",
        "        \"\"\"\n",
        "        Performs a forward pass through the RNN layer.\n",
        "\n",
        "        Args:\n",
        "            input_data: A tensor of shape (batch_size, input_size) representing the input sequence.\n",
        "            hidden_state: A tensor of shape (batch_size, hidden_size) representing the initial hidden state (optional).\n",
        "\n",
        "        Returns:\n",
        "            output: A tensor of shape (batch_size, hidden_size) representing the hidden state at each time step.\n",
        "            hidden_state: A tensor of shape (batch_size, hidden_size) representing the hidden state.\n",
        "        \"\"\"\n",
        "        batch_size, _ = input_data.size()\n",
        "\n",
        "        # Initialize hidden state if not provided\n",
        "        if hidden_state is None:\n",
        "            hidden_state = torch.zeros(batch_size, self.hidden_size)\n",
        "\n",
        "        # Calculate current hidden state\n",
        "        hidden_state = torch.tanh(\n",
        "            # (batch_size, input_size) x (input_size, hidden_size)\n",
        "            # = (batch_size, hidden_size)\n",
        "            torch.mm(input_data, self.W_xh) + \\\n",
        "            # (batch_size, hidden_size) x (hidden_size, hidden_size)\n",
        "            # = (batch_size, hidden_size)\n",
        "            torch.mm(hidden_state, self.W_hh) + \\\n",
        "            # hidden_size\n",
        "            self.b_h\n",
        "        )\n",
        "\n",
        "        # Output generation\n",
        "        # (batch_size, hidden_size) x (hidden_size, output_size)\n",
        "        # = (batch_size, output_size)\n",
        "        output = self.fc(hidden_state)\n",
        "\n",
        "        return output, hidden_state"
      ],
      "metadata": {
        "id": "hGC_9V-bFbVz"
      },
      "execution_count": null,
      "outputs": []
    },
    {
      "cell_type": "code",
      "source": [
        "class RNNModel(torch.nn.Module):\n",
        "    def __init__(self, input_size, hidden_size, output_size):\n",
        "        super(RNNModel, self).__init__()\n",
        "        self.rnn = RNNLayer(input_size, hidden_size)\n",
        "\n",
        "    def forward(self, inputs):\n",
        "        \"\"\"\n",
        "        Performs a forward pass through the RNN model.\n",
        "\n",
        "        Args:\n",
        "            inputs: A tensor of shape (batch_size, seq_len, input_size) representing the input sequence.\n",
        "\n",
        "        Returns:\n",
        "            predictions: A tensor of shape (batch_size, seq_len, output_size) representing the model output at each time step.\n",
        "        \"\"\"\n",
        "        _, seq_len, _ = inputs.size()\n",
        "        predictions, hidden_states = [], []\n",
        "\n",
        "        hidden_state = None\n",
        "        # loop through the sequence\n",
        "        for i in range(seq_len):\n",
        "            # Pass data through RNN layer\n",
        "            prediction, hidden_state = self.rnn(inputs[:, i, :], hidden_state)\n",
        "\n",
        "            # Storing the results\n",
        "            predictions.append(torch.argmax(prediction, dim=1))\n",
        "            hidden_states.append(hidden_state)\n",
        "\n",
        "        predictions = torch.stack(predictions, dim=1)\n",
        "        hidden_states = torch.stack(hidden_states, dim=1)\n",
        "\n",
        "        return predictions, hidden_states\n",
        "\n"
      ],
      "metadata": {
        "id": "U7vyplK4dQaX"
      },
      "execution_count": null,
      "outputs": []
    },
    {
      "cell_type": "code",
      "source": [
        "# Define hyperparameters\n",
        "input_size =  3  # Vocabulary size (assuming one-hot encoded words)\n",
        "hidden_size = 20\n",
        "output_size = 3"
      ],
      "metadata": {
        "id": "S_gMfgPjreyd"
      },
      "execution_count": null,
      "outputs": []
    },
    {
      "cell_type": "code",
      "source": [
        "# Create model instance\n",
        "model = RNNModel(input_size, hidden_size, output_size)"
      ],
      "metadata": {
        "id": "vKGUHryHrfu0"
      },
      "execution_count": null,
      "outputs": []
    },
    {
      "cell_type": "code",
      "source": [
        "# Example input sequence (one-hot encoded)\n",
        "inputs = torch.tensor([\n",
        "    [[1, 0, 0], [0, 1, 0], [0, 0, 1], [1, 0, 0]],\n",
        "    [[0, 1, 0], [1, 0, 0], [0, 0, 1], [1, 0, 0]]\n",
        "    ], dtype=torch.float\n",
        ")\n",
        "print(inputs.size())"
      ],
      "metadata": {
        "colab": {
          "base_uri": "https://localhost:8080/"
        },
        "id": "6AH0H3KurgvU",
        "outputId": "024dc522-6521-4a50-df9a-644e70adb8f3"
      },
      "execution_count": null,
      "outputs": [
        {
          "output_type": "stream",
          "name": "stdout",
          "text": [
            "torch.Size([2, 4, 3])\n"
          ]
        }
      ]
    },
    {
      "cell_type": "code",
      "source": [
        "outputs = torch.tensor([\n",
        "    [1, 2, 0, 1],\n",
        "    [2, 1, 0, 1]\n",
        "    ], dtype=torch.int64\n",
        ")"
      ],
      "metadata": {
        "id": "jAG8dXlpryD7"
      },
      "execution_count": null,
      "outputs": []
    },
    {
      "cell_type": "code",
      "source": [
        "# Pass the sequence through the model\n",
        "predictions, _ = model(inputs)\n",
        "print(predictions.size())"
      ],
      "metadata": {
        "colab": {
          "base_uri": "https://localhost:8080/"
        },
        "id": "PY-PNFlQriC8",
        "outputId": "cc6d096c-380b-45eb-f485-842e95e252ab"
      },
      "execution_count": null,
      "outputs": [
        {
          "output_type": "stream",
          "name": "stdout",
          "text": [
            "torch.Size([2, 4])\n"
          ]
        }
      ]
    },
    {
      "cell_type": "code",
      "source": [
        "outputs.tolist()"
      ],
      "metadata": {
        "colab": {
          "base_uri": "https://localhost:8080/"
        },
        "id": "kDtpphi6sglL",
        "outputId": "7d76f032-de98-43e5-8039-9cff5b338f54"
      },
      "execution_count": null,
      "outputs": [
        {
          "output_type": "execute_result",
          "data": {
            "text/plain": [
              "[[1, 2, 0, 1], [2, 1, 0, 1]]"
            ]
          },
          "metadata": {},
          "execution_count": 11
        }
      ]
    },
    {
      "cell_type": "code",
      "source": [
        "predictions.tolist()"
      ],
      "metadata": {
        "colab": {
          "base_uri": "https://localhost:8080/"
        },
        "id": "ivguiA8fsuLL",
        "outputId": "f015c487-ea84-4665-e3e0-273f4793dcbf"
      },
      "execution_count": null,
      "outputs": [
        {
          "output_type": "execute_result",
          "data": {
            "text/plain": [
              "[[2, 2, 1, 2], [0, 2, 2, 2]]"
            ]
          },
          "metadata": {},
          "execution_count": 12
        }
      ]
    },
    {
      "cell_type": "code",
      "source": [
        "# Accuracy\n",
        "acc = (torch.sum(predictions == outputs) / predictions.numel()).item()\n",
        "print(f\"Accuracy: \", acc)"
      ],
      "metadata": {
        "colab": {
          "base_uri": "https://localhost:8080/"
        },
        "id": "i46LjJMYnZI3",
        "outputId": "d80a99b1-37d1-421d-9325-3d2980af83f5"
      },
      "execution_count": null,
      "outputs": [
        {
          "output_type": "stream",
          "name": "stdout",
          "text": [
            "Accuracy:  0.125\n"
          ]
        }
      ]
    }
  ]
}