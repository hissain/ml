{
 "cells": [
  {
   "cell_type": "code",
   "execution_count": null,
   "id": "94c52be7",
   "metadata": {},
   "outputs": [],
   "source": [
    "# BM25 and TF-IDF Scoring\n",
    "from sklearn.feature_extraction.text import TfidfVectorizer\n",
    "from rank_bm25 import BM25Okapi\n",
    "import pandas as pd\n",
    "\n",
    "corpus = [\n",
    "    \"Apple is a leading technology company\",\n",
    "    \"Steve Jobs was one of the founders of Apple\",\n",
    "    \"The company is headquartered in Cupertino\",\n",
    "    \"Apple designs and sells electronics, software, and online services\"\n",
    "]\n",
    "query = \"technology company in Cupertino\"\n",
    "\n",
    "tfidf_vectorizer = TfidfVectorizer()\n",
    "tfidf_corpus_matrix = tfidf_vectorizer.fit_transform(corpus)\n",
    "tfidf_query_vector = tfidf_vectorizer.transform([query])\n",
    "tfidf_scores = (tfidf_corpus_matrix @ tfidf_query_vector.T).toarray().flatten()\n",
    "\n",
    "tokenized_corpus = [doc.split(\" \") for doc in corpus]\n",
    "bm25 = BM25Okapi(tokenized_corpus)\n",
    "bm25_scores = bm25.get_scores(query.split())\n",
    "\n",
    "results_df = pd.DataFrame({\n",
    "    \"Document\": corpus,\n",
    "    \"TF-IDF Score\": tfidf_scores,\n",
    "    \"BM25 Score\": bm25_scores\n",
    "})\n",
    "results_df"
   ]
  },
  {
   "cell_type": "code",
   "execution_count": 9,
   "id": "f345789c",
   "metadata": {},
   "outputs": [
    {
     "data": {
      "text/html": [
       "<div>\n",
       "<style scoped>\n",
       "    .dataframe tbody tr th:only-of-type {\n",
       "        vertical-align: middle;\n",
       "    }\n",
       "\n",
       "    .dataframe tbody tr th {\n",
       "        vertical-align: top;\n",
       "    }\n",
       "\n",
       "    .dataframe thead th {\n",
       "        text-align: right;\n",
       "    }\n",
       "</style>\n",
       "<table border=\"1\" class=\"dataframe\">\n",
       "  <thead>\n",
       "    <tr style=\"text-align: right;\">\n",
       "      <th></th>\n",
       "      <th>Entity</th>\n",
       "      <th>Label</th>\n",
       "    </tr>\n",
       "  </thead>\n",
       "  <tbody>\n",
       "    <tr>\n",
       "      <th>0</th>\n",
       "      <td>Apple Inc.</td>\n",
       "      <td>ORG</td>\n",
       "    </tr>\n",
       "    <tr>\n",
       "      <th>1</th>\n",
       "      <td>Steve Jobs</td>\n",
       "      <td>PERSON</td>\n",
       "    </tr>\n",
       "    <tr>\n",
       "      <th>2</th>\n",
       "      <td>Cupertino</td>\n",
       "      <td>GPE</td>\n",
       "    </tr>\n",
       "  </tbody>\n",
       "</table>\n",
       "</div>"
      ],
      "text/plain": [
       "       Entity   Label\n",
       "0  Apple Inc.     ORG\n",
       "1  Steve Jobs  PERSON\n",
       "2   Cupertino     GPE"
      ]
     },
     "execution_count": 9,
     "metadata": {},
     "output_type": "execute_result"
    }
   ],
   "source": [
    "import spacy\n",
    "import pandas as pd\n",
    "\n",
    "nlp = spacy.load(\"en_core_web_sm\")  # Load a pre-trained model\n",
    "text = \"Apple Inc. was founded by Steve Jobs in Cupertino.\"\n",
    "\n",
    "def ne(text):\n",
    "    doc = nlp(text)\n",
    "    entities = [(ent.text, ent.label_) for ent in doc.ents]\n",
    "    return entities\n",
    "\n",
    "entries = ne(text)\n",
    "entities_df = pd.DataFrame(entities, columns=[\"Entity\", \"Label\"])\n",
    "entities_df"
   ]
  },
  {
   "cell_type": "code",
   "execution_count": null,
   "id": "c67c7958",
   "metadata": {},
   "outputs": [],
   "source": [
    "from transformers import pipeline\n",
    "\n",
    "nlp_ner = pipeline(\"ner\", model=\"dbmdz/bert-large-cased-finetuned-conll03-english\")\n",
    "text = \"Apple Inc. was founded by Steve Jobs in Cupertino.\"\n",
    "entities = nlp_ner(text)\n",
    "entities_df = pd.DataFrame(entities)\n",
    "entities_df"
   ]
  }
 ],
 "metadata": {
  "kernelspec": {
   "display_name": "Python (myenv)",
   "language": "python",
   "name": "myenv"
  },
  "language_info": {
   "codemirror_mode": {
    "name": "ipython",
    "version": 3
   },
   "file_extension": ".py",
   "mimetype": "text/x-python",
   "name": "python",
   "nbconvert_exporter": "python",
   "pygments_lexer": "ipython3",
   "version": "3.11.5"
  }
 },
 "nbformat": 4,
 "nbformat_minor": 5
}
