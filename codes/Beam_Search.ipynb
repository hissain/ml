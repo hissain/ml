{
  "nbformat": 4,
  "nbformat_minor": 0,
  "metadata": {
    "colab": {
      "provenance": [],
      "include_colab_link": true
    },
    "kernelspec": {
      "name": "python3",
      "display_name": "Python 3"
    },
    "language_info": {
      "name": "python"
    }
  },
  "cells": [
    {
      "cell_type": "markdown",
      "metadata": {
        "id": "view-in-github",
        "colab_type": "text"
      },
      "source": [
        "<a href=\"https://colab.research.google.com/github/hissain/mlworks/blob/main/codes/Beam_Search.ipynb\" target=\"_parent\"><img src=\"https://colab.research.google.com/assets/colab-badge.svg\" alt=\"Open In Colab\"/></a>"
      ]
    },
    {
      "cell_type": "code",
      "source": [
        "import math"
      ],
      "metadata": {
        "id": "vs3BCOH6OcbJ"
      },
      "execution_count": null,
      "outputs": []
    },
    {
      "cell_type": "code",
      "source": [
        "def beam_search(start, transition_fn, score_fn, beam_width, max_len):\n",
        "    # `start`: the initial state\n",
        "    # `transition_fn`: a function that takes a state and returns a list of (action, next_state) pairs\n",
        "    # `score_fn`: a function that takes an action and returns a score\n",
        "    # `beam_width`: the number of candidates to keep at each step\n",
        "    # `max_len`: the maximum length of the output sequence\n",
        "\n",
        "    # Initialize the beam with the start state\n",
        "    beam = [(start, [], 0)]\n",
        "\n",
        "    # Iterate until we reach the maximum length or run out of candidates\n",
        "    for i in range(max_len):\n",
        "        candidates = []\n",
        "\n",
        "        # Generate new candidates by expanding each current candidate\n",
        "        for state, seq, score in beam:\n",
        "            for action, next_state in transition_fn(state):\n",
        "                new_seq = seq + [action]\n",
        "                new_score = score + score_fn(action)\n",
        "                candidates.append((next_state, new_seq, new_score))\n",
        "\n",
        "        # Select the top `beam_width` candidates based on their scores\n",
        "        beam = sorted(candidates, key=lambda x: x[2], reverse=True)[:beam_width]\n",
        "\n",
        "    # Return the sequence with the highest score\n",
        "    return beam"
      ],
      "metadata": {
        "id": "7FQYVnR7obKk"
      },
      "execution_count": null,
      "outputs": []
    },
    {
      "cell_type": "code",
      "source": [
        "# Define the set of possible choices at each step\n",
        "choices = ['a', 'b', 'c']\n",
        "\n",
        "# Define the transition function\n",
        "def transition_fn(state):\n",
        "    return [(c, state+c) for c in choices]\n",
        "\n",
        "# Define the score function\n",
        "def score_fn(action):\n",
        "    return 0.5 if action == 'a' else 0.25\n",
        "\n",
        "# Define the start state\n",
        "start = ''\n",
        "# Run beam search\n",
        "seq = beam_search(start, transition_fn, score_fn, beam_width=3, max_len=2)\n",
        "# Print the resulting sequence\n",
        "print(seq)"
      ],
      "metadata": {
        "colab": {
          "base_uri": "https://localhost:8080/"
        },
        "id": "9Dqf3NXOokZd",
        "outputId": "1e769c1e-5c66-44d4-ca69-054d6aae6245"
      },
      "execution_count": null,
      "outputs": [
        {
          "output_type": "stream",
          "name": "stdout",
          "text": [
            "[('aa', ['a', 'a'], 1.0), ('ab', ['a', 'b'], 0.75), ('ac', ['a', 'c'], 0.75)]\n"
          ]
        }
      ]
    },
    {
      "cell_type": "markdown",
      "source": [],
      "metadata": {
        "id": "adAT1K2jxhRt"
      }
    },
    {
      "cell_type": "code",
      "source": [],
      "metadata": {
        "id": "Vkz_modYo79E"
      },
      "execution_count": null,
      "outputs": []
    }
  ]
}