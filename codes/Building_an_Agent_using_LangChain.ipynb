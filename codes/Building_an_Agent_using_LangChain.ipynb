{
  "cells": [
    {
      "cell_type": "markdown",
      "metadata": {
        "id": "view-in-github",
        "colab_type": "text"
      },
      "source": [
        "<a href=\"https://colab.research.google.com/github/hissain/mlworks/blob/main/codes/Building_an_Agent_using_LangChain.ipynb\" target=\"_parent\"><img src=\"https://colab.research.google.com/assets/colab-badge.svg\" alt=\"Open In Colab\"/></a>"
      ]
    },
    {
      "cell_type": "markdown",
      "source": [
        "# Build an Agent"
      ],
      "metadata": {
        "id": "zwCw8f6g3YuO"
      },
      "id": "zwCw8f6g3YuO"
    },
    {
      "cell_type": "markdown",
      "id": "1df78a71",
      "metadata": {
        "id": "1df78a71"
      },
      "source": [
        "This guide assumes familiarity with the following concepts:\n",
        "\n",
        "- [Chat Models](https://python.langchain.com/docs/concepts/#chat-models)\n",
        "- [Tools](https://python.langchain.com/docs/concepts/#tools)\n",
        "- [Agents](https://python.langchain.com/docs/concepts/#agents)\n",
        "\n",
        "By themselves, language models can't take actions - they just output text.\n",
        "A big use case for LangChain is creating **agents**.\n",
        "Agents are systems that use LLMs as reasoning engines to determine which actions to take and the inputs to pass them.\n",
        "After executing actions, the results can be fed back into the LLM to determine whether more actions are needed, or whether it is okay to finish.\n",
        "\n",
        "In this tutorial we will build an agent that can interact with a search engine. You will be able to ask this agent questions, watch it call the search tool, and have conversations with it.\n",
        "\n",
        "## End-to-end agent\n",
        "\n",
        "The code snippet below represents a fully functional agent that uses an LLM to decide which tools to use. It is equipped with a generic search tool. It has conversational memory - meaning that it can be used as a multi-turn chatbot.\n",
        "\n",
        "In the rest of the guide, we will walk through the individual components and what each part does - but if you want to just grab some code and get started, feel free to use this!"
      ]
    },
    {
      "cell_type": "code",
      "source": [
        "# Installation\n",
        "!pip install -qU langchain-community langgraph tavily-python langgraph-checkpoint-sqlite\n",
        "!pip install -qU langchain-openai\n",
        "!pip install -qU langchain-groq"
      ],
      "metadata": {
        "id": "9TgIKBJB39Dl",
        "colab": {
          "base_uri": "https://localhost:8080/"
        },
        "outputId": "bc7eea04-386d-48e9-ce01-fd5c9e2e1ae1"
      },
      "id": "9TgIKBJB39Dl",
      "execution_count": null,
      "outputs": [
        {
          "output_type": "stream",
          "name": "stdout",
          "text": [
            "\u001b[2K     \u001b[90m━━━━━━━━━━━━━━━━━━━━━━━━━━━━━━━━━━━━━━━━\u001b[0m \u001b[32m50.4/50.4 kB\u001b[0m \u001b[31m853.8 kB/s\u001b[0m eta \u001b[36m0:00:00\u001b[0m\n",
            "\u001b[2K   \u001b[90m━━━━━━━━━━━━━━━━━━━━━━━━━━━━━━━━━━━━━━━━\u001b[0m \u001b[32m2.4/2.4 MB\u001b[0m \u001b[31m11.4 MB/s\u001b[0m eta \u001b[36m0:00:00\u001b[0m\n",
            "\u001b[2K   \u001b[90m━━━━━━━━━━━━━━━━━━━━━━━━━━━━━━━━━━━━━━━━\u001b[0m \u001b[32m106.6/106.6 kB\u001b[0m \u001b[31m5.2 MB/s\u001b[0m eta \u001b[36m0:00:00\u001b[0m\n",
            "\u001b[2K   \u001b[90m━━━━━━━━━━━━━━━━━━━━━━━━━━━━━━━━━━━━━━━━\u001b[0m \u001b[32m1.0/1.0 MB\u001b[0m \u001b[31m29.0 MB/s\u001b[0m eta \u001b[36m0:00:00\u001b[0m\n",
            "\u001b[2K   \u001b[90m━━━━━━━━━━━━━━━━━━━━━━━━━━━━━━━━━━━━━━━━\u001b[0m \u001b[32m400.9/400.9 kB\u001b[0m \u001b[31m6.7 MB/s\u001b[0m eta \u001b[36m0:00:00\u001b[0m\n",
            "\u001b[2K   \u001b[90m━━━━━━━━━━━━━━━━━━━━━━━━━━━━━━━━━━━━━━━━\u001b[0m \u001b[32m292.2/292.2 kB\u001b[0m \u001b[31m13.7 MB/s\u001b[0m eta \u001b[36m0:00:00\u001b[0m\n",
            "\u001b[2K   \u001b[90m━━━━━━━━━━━━━━━━━━━━━━━━━━━━━━━━━━━━━━━━\u001b[0m \u001b[32m76.4/76.4 kB\u001b[0m \u001b[31m3.3 MB/s\u001b[0m eta \u001b[36m0:00:00\u001b[0m\n",
            "\u001b[2K   \u001b[90m━━━━━━━━━━━━━━━━━━━━━━━━━━━━━━━━━━━━━━━━\u001b[0m \u001b[32m77.9/77.9 kB\u001b[0m \u001b[31m3.9 MB/s\u001b[0m eta \u001b[36m0:00:00\u001b[0m\n",
            "\u001b[2K   \u001b[90m━━━━━━━━━━━━━━━━━━━━━━━━━━━━━━━━━━━━━━━━\u001b[0m \u001b[32m1.1/1.1 MB\u001b[0m \u001b[31m26.1 MB/s\u001b[0m eta \u001b[36m0:00:00\u001b[0m\n",
            "\u001b[2K   \u001b[90m━━━━━━━━━━━━━━━━━━━━━━━━━━━━━━━━━━━━━━━━\u001b[0m \u001b[32m49.3/49.3 kB\u001b[0m \u001b[31m2.0 MB/s\u001b[0m eta \u001b[36m0:00:00\u001b[0m\n",
            "\u001b[2K   \u001b[90m━━━━━━━━━━━━━━━━━━━━━━━━━━━━━━━━━━━━━━━━\u001b[0m \u001b[32m378.0/378.0 kB\u001b[0m \u001b[31m15.8 MB/s\u001b[0m eta \u001b[36m0:00:00\u001b[0m\n",
            "\u001b[2K   \u001b[90m━━━━━━━━━━━━━━━━━━━━━━━━━━━━━━━━━━━━━━━━\u001b[0m \u001b[32m141.9/141.9 kB\u001b[0m \u001b[31m5.7 MB/s\u001b[0m eta \u001b[36m0:00:00\u001b[0m\n",
            "\u001b[2K   \u001b[90m━━━━━━━━━━━━━━━━━━━━━━━━━━━━━━━━━━━━━━━━\u001b[0m \u001b[32m58.3/58.3 kB\u001b[0m \u001b[31m2.9 MB/s\u001b[0m eta \u001b[36m0:00:00\u001b[0m\n",
            "\u001b[2K   \u001b[90m━━━━━━━━━━━━━━━━━━━━━━━━━━━━━━━━━━━━━━━━\u001b[0m \u001b[32m49.6/49.6 kB\u001b[0m \u001b[31m728.8 kB/s\u001b[0m eta \u001b[36m0:00:00\u001b[0m\n",
            "\u001b[2K   \u001b[90m━━━━━━━━━━━━━━━━━━━━━━━━━━━━━━━━━━━━━━━━\u001b[0m \u001b[32m383.0/383.0 kB\u001b[0m \u001b[31m3.7 MB/s\u001b[0m eta \u001b[36m0:00:00\u001b[0m\n",
            "\u001b[2K   \u001b[90m━━━━━━━━━━━━━━━━━━━━━━━━━━━━━━━━━━━━━━━━\u001b[0m \u001b[32m318.9/318.9 kB\u001b[0m \u001b[31m13.7 MB/s\u001b[0m eta \u001b[36m0:00:00\u001b[0m\n",
            "\u001b[2K   \u001b[90m━━━━━━━━━━━━━━━━━━━━━━━━━━━━━━━━━━━━━━━━\u001b[0m \u001b[32m106.5/106.5 kB\u001b[0m \u001b[31m2.3 MB/s\u001b[0m eta \u001b[36m0:00:00\u001b[0m\n",
            "\u001b[?25h"
          ]
        }
      ]
    },
    {
      "cell_type": "code",
      "source": [
        "# Import relevant functionality\n",
        "import os\n",
        "import getpass\n",
        "from langchain_openai import ChatOpenAI\n",
        "from langchain_groq import ChatGroq\n",
        "from langchain_community.tools.tavily_search import TavilySearchResults\n",
        "from langchain_core.messages import HumanMessage\n",
        "from langgraph.checkpoint.memory import MemorySaver\n",
        "from langgraph.prebuilt import create_react_agent"
      ],
      "metadata": {
        "id": "jR3YgM8F4PFw"
      },
      "id": "jR3YgM8F4PFw",
      "execution_count": null,
      "outputs": []
    },
    {
      "cell_type": "code",
      "source": [
        "# os.environ[\"OPENAI_API_KEY\"] = getpass.getpass()\n",
        "os.environ[\"GROQ_API_KEY\"] = getpass.getpass()"
      ],
      "metadata": {
        "colab": {
          "base_uri": "https://localhost:8080/"
        },
        "id": "nv6BR-_g4Pdn",
        "outputId": "5432beba-2ada-4b99-818c-2ce44be76acd"
      },
      "id": "nv6BR-_g4Pdn",
      "execution_count": null,
      "outputs": [
        {
          "name": "stdout",
          "output_type": "stream",
          "text": [
            "··········\n"
          ]
        }
      ]
    },
    {
      "cell_type": "code",
      "source": [
        "# model = ChatOpenAI(model=\"gpt-3.5-turbo\")\n",
        "model = ChatGroq(model=\"gemma2-9b-it\")"
      ],
      "metadata": {
        "id": "QSxHcXK44P6y"
      },
      "id": "QSxHcXK44P6y",
      "execution_count": null,
      "outputs": []
    },
    {
      "cell_type": "code",
      "source": [
        "os.environ[\"TAVILY_API_KEY\"] = getpass.getpass()"
      ],
      "metadata": {
        "colab": {
          "base_uri": "https://localhost:8080/"
        },
        "id": "ZkbKDO1p5__w",
        "outputId": "86bf74dc-fb26-4fff-f968-62ed359ad5a5"
      },
      "id": "ZkbKDO1p5__w",
      "execution_count": null,
      "outputs": [
        {
          "name": "stdout",
          "output_type": "stream",
          "text": [
            "··········\n"
          ]
        }
      ]
    },
    {
      "cell_type": "markdown",
      "id": "c335d1bf",
      "metadata": {
        "id": "c335d1bf"
      },
      "source": [
        "## Define tools\n",
        "\n",
        "We first need to create the tools we want to use. Our main tool of choice will be [Tavily](https://tavily.com/) - a search engine. We have a built-in tool in LangChain to easily use Tavily search engine as tool.\n"
      ]
    },
    {
      "cell_type": "code",
      "execution_count": null,
      "id": "482ce13d",
      "metadata": {
        "id": "482ce13d",
        "outputId": "ab8435dc-986c-461e-aee5-a30d512ba6e5",
        "colab": {
          "base_uri": "https://localhost:8080/"
        }
      },
      "outputs": [
        {
          "output_type": "stream",
          "name": "stdout",
          "text": [
            "[{'url': 'https://www.weatherapi.com/', 'content': \"{'location': {'name': 'Dhaka', 'region': '', 'country': 'Bangladesh', 'lat': 23.72, 'lon': 90.41, 'tz_id': 'Asia/Dhaka', 'localtime_epoch': 1727779410, 'localtime': '2024-10-01 16:43'}, 'current': {'last_updated_epoch': 1727778600, 'last_updated': '2024-10-01 16:30', 'temp_c': 32.1, 'temp_f': 89.7, 'is_day': 1, 'condition': {'text': 'Light rain shower', 'icon': '//cdn.weatherapi.com/weather/64x64/day/353.png', 'code': 1240}, 'wind_mph': 4.9, 'wind_kph': 7.9, 'wind_degree': 253, 'wind_dir': 'WSW', 'pressure_mb': 1001.0, 'pressure_in': 29.57, 'precip_mm': 0.16, 'precip_in': 0.01, 'humidity': 65, 'cloud': 69, 'feelslike_c': 38.8, 'feelslike_f': 101.8, 'windchill_c': 32.1, 'windchill_f': 89.7, 'heatindex_c': 38.8, 'heatindex_f': 101.8, 'dewpoint_c': 24.7, 'dewpoint_f': 76.4, 'vis_km': 10.0, 'vis_miles': 6.0, 'uv': 7.0, 'gust_mph': 7.7, 'gust_kph': 12.4}}\"}, {'url': 'https://www.bssnews.net/news/213162', 'content': '01 Oct 2024, 10:56 Light to moderate rain likely over country DHAKA, Oct 1, 2024 (BSS) - Bangladesh Meteorological Department (BMD) today predicted light to moderate rain at many places over the country within the next 24 hours as of 9 am tomorrow.'}]\n"
          ]
        }
      ],
      "source": [
        "from langchain_community.tools.tavily_search import TavilySearchResults\n",
        "\n",
        "search = TavilySearchResults(max_results=2)\n",
        "search_results = search.invoke(\"what is the weather in Bangladesh today?\")\n",
        "print(search_results)\n",
        "# If we want, we can create other tools.\n",
        "# Once we have all the tools we want, we can put them in a list that we will reference later.\n",
        "tools = [search]"
      ]
    },
    {
      "cell_type": "markdown",
      "id": "e00068b0",
      "metadata": {
        "id": "e00068b0"
      },
      "source": [
        "## Using Language Models\n",
        "\n",
        "Next, let's learn how to use a language model by to call tools. LangChain supports many different language models that you can use interchangably - select the one you want to use below!\n",
        "\n"
      ]
    },
    {
      "cell_type": "markdown",
      "id": "642ed8bf",
      "metadata": {
        "id": "642ed8bf"
      },
      "source": [
        "You can call the language model by passing in a list of messages. By default, the response is a `content` string."
      ]
    },
    {
      "cell_type": "code",
      "execution_count": null,
      "id": "c96c960b",
      "metadata": {
        "id": "c96c960b",
        "outputId": "39867a53-a1b8-46c2-f7c8-7219e24d6c5a",
        "colab": {
          "base_uri": "https://localhost:8080/",
          "height": 36
        }
      },
      "outputs": [
        {
          "output_type": "execute_result",
          "data": {
            "text/plain": [
              "'Hello! 👋  How can I help you today? 😊\\n'"
            ],
            "application/vnd.google.colaboratory.intrinsic+json": {
              "type": "string"
            }
          },
          "metadata": {},
          "execution_count": 29
        }
      ],
      "source": [
        "from langchain_core.messages import HumanMessage\n",
        "\n",
        "response = model.invoke([HumanMessage(content=\"hi!\")])\n",
        "response.content"
      ]
    },
    {
      "cell_type": "markdown",
      "id": "47bf8210",
      "metadata": {
        "id": "47bf8210"
      },
      "source": [
        "We can now see what it is like to enable this model to do tool calling. In order to enable that we use `.bind_tools` to give the language model knowledge of these tools"
      ]
    },
    {
      "cell_type": "code",
      "execution_count": null,
      "id": "ba692a74",
      "metadata": {
        "id": "ba692a74"
      },
      "outputs": [],
      "source": [
        "model_with_tools = model.bind_tools(tools)"
      ]
    },
    {
      "cell_type": "markdown",
      "id": "fd920b69",
      "metadata": {
        "id": "fd920b69"
      },
      "source": [
        "We can now call the model. Let's first call it with a normal message, and see how it responds. We can look at both the `content` field as well as the `tool_calls` field."
      ]
    },
    {
      "cell_type": "code",
      "execution_count": null,
      "id": "b6a7e925",
      "metadata": {
        "id": "b6a7e925",
        "outputId": "c00e5642-d22c-4ce7-f93d-df9955dd789a",
        "colab": {
          "base_uri": "https://localhost:8080/"
        }
      },
      "outputs": [
        {
          "output_type": "stream",
          "name": "stdout",
          "text": [
            "ContentString: \n",
            "ToolCalls: [{'name': 'tavily_search_results_json', 'args': {'query': 'Hi!'}, 'id': 'call_vvtz', 'type': 'tool_call'}]\n"
          ]
        }
      ],
      "source": [
        "response = model_with_tools.invoke([HumanMessage(content=\"Hi!\")])\n",
        "\n",
        "print(f\"ContentString: {response.content}\")\n",
        "print(f\"ToolCalls: {response.tool_calls}\")"
      ]
    },
    {
      "cell_type": "markdown",
      "id": "e8c81e76",
      "metadata": {
        "id": "e8c81e76"
      },
      "source": [
        "Now, let's try calling it with some input that would expect a tool to be called."
      ]
    },
    {
      "cell_type": "code",
      "execution_count": null,
      "id": "688b465d",
      "metadata": {
        "id": "688b465d",
        "outputId": "be8eef45-02de-4e83-d62e-2e1cb7c37e9c",
        "colab": {
          "base_uri": "https://localhost:8080/"
        }
      },
      "outputs": [
        {
          "output_type": "stream",
          "name": "stdout",
          "text": [
            "ContentString: \n",
            "ToolCalls: [{'name': 'tavily_search_results_json', 'args': {'query': 'weather in Bangladesh today'}, 'id': 'call_t6x2', 'type': 'tool_call'}]\n"
          ]
        }
      ],
      "source": [
        "response = model_with_tools.invoke([HumanMessage(content=\"What's the weather in Bangladesh today?\")])\n",
        "\n",
        "print(f\"ContentString: {response.content}\")\n",
        "print(f\"ToolCalls: {response.tool_calls}\")"
      ]
    },
    {
      "cell_type": "markdown",
      "id": "83c4bcd3",
      "metadata": {
        "id": "83c4bcd3"
      },
      "source": [
        "We can see that there's now no text content, but there is a tool call! It wants us to call the Tavily Search tool.\n",
        "\n",
        "This isn't calling that tool yet - it's just telling us to. In order to actually call it, we'll want to create our agent."
      ]
    },
    {
      "cell_type": "markdown",
      "id": "40ccec80",
      "metadata": {
        "id": "40ccec80"
      },
      "source": [
        "## Create the agent\n",
        "\n",
        "Now that we have defined the tools and the LLM, we can create the agent. We will be using [LangGraph](/docs/concepts/#langgraph) to construct the agent.\n",
        "Currently we are using a high level interface to construct the agent, but the nice thing about LangGraph is that this high-level interface is backed by a low-level, highly controllable API in case you want to modify the agent logic.\n"
      ]
    },
    {
      "cell_type": "markdown",
      "id": "f8014c9d",
      "metadata": {
        "id": "f8014c9d"
      },
      "source": [
        "Now, we can initialize the agent with the LLM and the tools.\n",
        "\n",
        "Note that we are passing in the `model`, not `model_with_tools`. That is because `create_react_agent` will call `.bind_tools` for us under the hood."
      ]
    },
    {
      "cell_type": "code",
      "execution_count": null,
      "id": "89cf72b4-6046-4b47-8f27-5522d8cb8036",
      "metadata": {
        "id": "89cf72b4-6046-4b47-8f27-5522d8cb8036"
      },
      "outputs": [],
      "source": [
        "from langgraph.prebuilt import create_react_agent\n",
        "\n",
        "agent_executor = create_react_agent(model, tools)"
      ]
    },
    {
      "cell_type": "markdown",
      "id": "e4df0e06",
      "metadata": {
        "id": "e4df0e06"
      },
      "source": [
        "## Run the agent\n",
        "\n",
        "We can now run the agent on a few queries! Note that for now, these are all **stateless** queries (it won't remember previous interactions). Note that the agent will return the **final** state at the end of the interaction (which includes any inputs, we will see later on how to get only the outputs).\n",
        "\n",
        "First up, let's see how it responds when there's no need to call a tool:"
      ]
    },
    {
      "cell_type": "code",
      "execution_count": null,
      "id": "114ba50d",
      "metadata": {
        "id": "114ba50d",
        "outputId": "dd96ba5b-3af7-469c-b279-f90fef10de23",
        "colab": {
          "base_uri": "https://localhost:8080/"
        }
      },
      "outputs": [
        {
          "output_type": "execute_result",
          "data": {
            "text/plain": [
              "[HumanMessage(content='hi!', additional_kwargs={}, response_metadata={}, id='1f0870de-7a38-4f90-8288-009e0ba01c06'),\n",
              " AIMessage(content='', additional_kwargs={'tool_calls': [{'id': 'call_4yg8', 'function': {'arguments': '{\"query\":\"hi\"}', 'name': 'tavily_search_results_json'}, 'type': 'function'}]}, response_metadata={'token_usage': {'completion_tokens': 85, 'prompt_tokens': 983, 'total_tokens': 1068, 'completion_time': 0.154545455, 'prompt_time': 0.03174423, 'queue_time': 0.0030977189999999988, 'total_time': 0.186289685}, 'model_name': 'gemma2-9b-it', 'system_fingerprint': 'fp_10c08bf97d', 'finish_reason': 'tool_calls', 'logprobs': None}, id='run-72774b60-6aa1-4a4e-8c20-6b22de3613cd-0', tool_calls=[{'name': 'tavily_search_results_json', 'args': {'query': 'hi'}, 'id': 'call_4yg8', 'type': 'tool_call'}], usage_metadata={'input_tokens': 983, 'output_tokens': 85, 'total_tokens': 1068}),\n",
              " ToolMessage(content=\"HTTPError('400 Client Error: Bad Request for url: https://api.tavily.com/search')\", name='tavily_search_results_json', id='7b0de112-efa6-4051-b671-ef22dd673f8e', tool_call_id='call_4yg8', artifact={}),\n",
              " AIMessage(content='', additional_kwargs={'tool_calls': [{'id': 'call_bm9k', 'function': {'arguments': '{\"query\":\"hi\"}', 'name': 'tavily_search_results_json'}, 'type': 'function'}]}, response_metadata={'token_usage': {'completion_tokens': 48, 'prompt_tokens': 1083, 'total_tokens': 1131, 'completion_time': 0.087272727, 'prompt_time': 0.035236761, 'queue_time': 0.002676353999999999, 'total_time': 0.122509488}, 'model_name': 'gemma2-9b-it', 'system_fingerprint': 'fp_10c08bf97d', 'finish_reason': 'tool_calls', 'logprobs': None}, id='run-bdab81df-40db-4e44-91f7-83687d314e5e-0', tool_calls=[{'name': 'tavily_search_results_json', 'args': {'query': 'hi'}, 'id': 'call_bm9k', 'type': 'tool_call'}], usage_metadata={'input_tokens': 1083, 'output_tokens': 48, 'total_tokens': 1131}),\n",
              " ToolMessage(content=\"HTTPError('400 Client Error: Bad Request for url: https://api.tavily.com/search')\", name='tavily_search_results_json', id='7e9b711e-5134-4ddb-8f17-523ef85fef98', tool_call_id='call_bm9k', artifact={}),\n",
              " AIMessage(content='It seems like there might be an issue with the connection to the search engine.  Could you please try again later? \\n', additional_kwargs={}, response_metadata={'token_usage': {'completion_tokens': 28, 'prompt_tokens': 1183, 'total_tokens': 1211, 'completion_time': 0.050909091, 'prompt_time': 0.038317805, 'queue_time': 0.0027950009999999983, 'total_time': 0.089226896}, 'model_name': 'gemma2-9b-it', 'system_fingerprint': 'fp_10c08bf97d', 'finish_reason': 'stop', 'logprobs': None}, id='run-0067530d-39d3-4910-9241-993ec131d143-0', usage_metadata={'input_tokens': 1183, 'output_tokens': 28, 'total_tokens': 1211})]"
            ]
          },
          "metadata": {},
          "execution_count": 34
        }
      ],
      "source": [
        "response = agent_executor.invoke({\"messages\": [HumanMessage(content=\"hi!\")]})\n",
        "\n",
        "response[\"messages\"]"
      ]
    },
    {
      "cell_type": "markdown",
      "id": "71493a42",
      "metadata": {
        "id": "71493a42"
      },
      "source": [
        "In order to see exactly what is happening under the hood (and to make sure it's not calling a tool) we can take a look at the [LangSmith trace](https://smith.langchain.com/public/28311faa-e135-4d6a-ab6b-caecf6482aaa/r)\n",
        "\n",
        "Let's now try it out on an example where it should be invoking the tool"
      ]
    },
    {
      "cell_type": "code",
      "execution_count": null,
      "id": "77c2f769",
      "metadata": {
        "id": "77c2f769",
        "outputId": "d7f2c4e3-f67b-490b-b6f2-1df37b6489df",
        "colab": {
          "base_uri": "https://localhost:8080/"
        }
      },
      "outputs": [
        {
          "output_type": "execute_result",
          "data": {
            "text/plain": [
              "[HumanMessage(content='whats the weather in Bangladesh today?', additional_kwargs={}, response_metadata={}, id='addb5d2a-4959-4e2a-a7d8-6a2fe35c9c03'),\n",
              " AIMessage(content='', additional_kwargs={'tool_calls': [{'id': 'call_e29b', 'function': {'arguments': '{\"query\":\"weather in Bangladesh today\"}', 'name': 'tavily_search_results_json'}, 'type': 'function'}]}, response_metadata={'token_usage': {'completion_tokens': 90, 'prompt_tokens': 988, 'total_tokens': 1078, 'completion_time': 0.163636364, 'prompt_time': 0.035156477, 'queue_time': 0.08520396899999999, 'total_time': 0.198792841}, 'model_name': 'gemma2-9b-it', 'system_fingerprint': 'fp_10c08bf97d', 'finish_reason': 'tool_calls', 'logprobs': None}, id='run-43d13376-231e-4bdd-8346-bc8684242bc0-0', tool_calls=[{'name': 'tavily_search_results_json', 'args': {'query': 'weather in Bangladesh today'}, 'id': 'call_e29b', 'type': 'tool_call'}], usage_metadata={'input_tokens': 988, 'output_tokens': 90, 'total_tokens': 1078}),\n",
              " ToolMessage(content='[{\"url\": \"https://www.weatherapi.com/\", \"content\": \"{\\'location\\': {\\'name\\': \\'Dhaka\\', \\'region\\': \\'\\', \\'country\\': \\'Bangladesh\\', \\'lat\\': 23.72, \\'lon\\': 90.41, \\'tz_id\\': \\'Asia/Dhaka\\', \\'localtime_epoch\\': 1727779410, \\'localtime\\': \\'2024-10-01 16:43\\'}, \\'current\\': {\\'last_updated_epoch\\': 1727778600, \\'last_updated\\': \\'2024-10-01 16:30\\', \\'temp_c\\': 32.1, \\'temp_f\\': 89.7, \\'is_day\\': 1, \\'condition\\': {\\'text\\': \\'Light rain shower\\', \\'icon\\': \\'//cdn.weatherapi.com/weather/64x64/day/353.png\\', \\'code\\': 1240}, \\'wind_mph\\': 4.9, \\'wind_kph\\': 7.9, \\'wind_degree\\': 253, \\'wind_dir\\': \\'WSW\\', \\'pressure_mb\\': 1001.0, \\'pressure_in\\': 29.57, \\'precip_mm\\': 0.16, \\'precip_in\\': 0.01, \\'humidity\\': 65, \\'cloud\\': 69, \\'feelslike_c\\': 38.8, \\'feelslike_f\\': 101.8, \\'windchill_c\\': 32.1, \\'windchill_f\\': 89.7, \\'heatindex_c\\': 38.8, \\'heatindex_f\\': 101.8, \\'dewpoint_c\\': 24.7, \\'dewpoint_f\\': 76.4, \\'vis_km\\': 10.0, \\'vis_miles\\': 6.0, \\'uv\\': 7.0, \\'gust_mph\\': 7.7, \\'gust_kph\\': 12.4}}\"}, {\"url\": \"https://weatherspark.com/h/m/111858/2024/1/Historical-Weather-in-January-2024-in-Dhaka-Bangladesh\", \"content\": \"January 2024 Weather History in Dhaka Bangladesh This report shows the past weather for Dhaka, providing a weather history for January 2024. It features all historical weather data series we have available, including the Dhaka temperature history for January 2024. Dhaka Temperature History January 2024 Hourly Temperature in January 2024 in Dhaka Cloud Cover in January 2024 in Dhaka Observed Weather in January 2024 in Dhaka Hours of Daylight and Twilight in January 2024 in Dhaka Sunrise & Sunset with Twilight in January 2024 in Dhaka Humidity Comfort Levels in January 2024 in Dhaka Wind Speed in January 2024 in Dhaka Hourly Wind Speed in January 2024 in Dhaka Atmospheric Pressure in January 2024 in Dhaka\"}]', name='tavily_search_results_json', id='e9993f46-9542-4844-b9d5-b7fb8e002f5a', tool_call_id='call_e29b', artifact={'query': 'weather in Bangladesh today', 'follow_up_questions': None, 'answer': None, 'images': [], 'results': [{'title': 'Weather in Bangladesh', 'url': 'https://www.weatherapi.com/', 'content': \"{'location': {'name': 'Dhaka', 'region': '', 'country': 'Bangladesh', 'lat': 23.72, 'lon': 90.41, 'tz_id': 'Asia/Dhaka', 'localtime_epoch': 1727779410, 'localtime': '2024-10-01 16:43'}, 'current': {'last_updated_epoch': 1727778600, 'last_updated': '2024-10-01 16:30', 'temp_c': 32.1, 'temp_f': 89.7, 'is_day': 1, 'condition': {'text': 'Light rain shower', 'icon': '//cdn.weatherapi.com/weather/64x64/day/353.png', 'code': 1240}, 'wind_mph': 4.9, 'wind_kph': 7.9, 'wind_degree': 253, 'wind_dir': 'WSW', 'pressure_mb': 1001.0, 'pressure_in': 29.57, 'precip_mm': 0.16, 'precip_in': 0.01, 'humidity': 65, 'cloud': 69, 'feelslike_c': 38.8, 'feelslike_f': 101.8, 'windchill_c': 32.1, 'windchill_f': 89.7, 'heatindex_c': 38.8, 'heatindex_f': 101.8, 'dewpoint_c': 24.7, 'dewpoint_f': 76.4, 'vis_km': 10.0, 'vis_miles': 6.0, 'uv': 7.0, 'gust_mph': 7.7, 'gust_kph': 12.4}}\", 'score': 0.9227778, 'raw_content': None}, {'title': 'January 2024 Weather History in Dhaka Bangladesh', 'url': 'https://weatherspark.com/h/m/111858/2024/1/Historical-Weather-in-January-2024-in-Dhaka-Bangladesh', 'content': 'January 2024 Weather History in Dhaka Bangladesh This report shows the past weather for Dhaka, providing a weather history for January 2024. It features all historical weather data series we have available, including the Dhaka temperature history for January 2024. Dhaka Temperature History January 2024 Hourly Temperature in January 2024 in Dhaka Cloud Cover in January 2024 in Dhaka Observed Weather in January 2024 in Dhaka Hours of Daylight and Twilight in January 2024 in Dhaka Sunrise & Sunset with Twilight in January 2024 in Dhaka Humidity Comfort Levels in January 2024 in Dhaka Wind Speed in January 2024 in Dhaka Hourly Wind Speed in January 2024 in Dhaka Atmospheric Pressure in January 2024 in Dhaka', 'score': 0.91920847, 'raw_content': None}], 'response_time': 2.94}),\n",
              " AIMessage(content='The weather in Dhaka, Bangladesh today is Light rain shower with a temperature of 32.1°C. \\n', additional_kwargs={}, response_metadata={'token_usage': {'completion_tokens': 27, 'prompt_tokens': 1777, 'total_tokens': 1804, 'completion_time': 0.049090909, 'prompt_time': 0.074880352, 'queue_time': 0.002688676000000001, 'total_time': 0.123971261}, 'model_name': 'gemma2-9b-it', 'system_fingerprint': 'fp_10c08bf97d', 'finish_reason': 'stop', 'logprobs': None}, id='run-719a2c26-4c7a-4c4d-8bd3-b133140f47ea-0', usage_metadata={'input_tokens': 1777, 'output_tokens': 27, 'total_tokens': 1804})]"
            ]
          },
          "metadata": {},
          "execution_count": 36
        }
      ],
      "source": [
        "response = agent_executor.invoke(\n",
        "    {\"messages\": [HumanMessage(content=\"whats the weather in Bangladesh today?\")]}\n",
        ")\n",
        "response[\"messages\"]"
      ]
    },
    {
      "cell_type": "markdown",
      "id": "8f6ca7e4",
      "metadata": {
        "id": "8f6ca7e4"
      },
      "source": [
        "## Streaming Messages\n",
        "\n",
        "We've seen how the agent can be called with `.invoke` to get back a final response. If the agent is executing multiple steps, that may take a while. In order to show intermediate progress, we can stream back messages as they occur."
      ]
    },
    {
      "cell_type": "code",
      "execution_count": null,
      "id": "532d6557",
      "metadata": {
        "id": "532d6557",
        "outputId": "6ec7aad1-2dd2-4df0-ea46-c6595d114a1c",
        "colab": {
          "base_uri": "https://localhost:8080/"
        }
      },
      "outputs": [
        {
          "output_type": "stream",
          "name": "stdout",
          "text": [
            "{'agent': {'messages': [AIMessage(content='', additional_kwargs={'tool_calls': [{'id': 'call_1j4p', 'function': {'arguments': '{\"query\":\"weather in Bangladesh today\"}', 'name': 'tavily_search_results_json'}, 'type': 'function'}]}, response_metadata={'token_usage': {'completion_tokens': 90, 'prompt_tokens': 988, 'total_tokens': 1078, 'completion_time': 0.163636364, 'prompt_time': 0.032016907, 'queue_time': 0.0030873460000000047, 'total_time': 0.195653271}, 'model_name': 'gemma2-9b-it', 'system_fingerprint': 'fp_10c08bf97d', 'finish_reason': 'tool_calls', 'logprobs': None}, id='run-fb20b4ab-8a85-4dca-8088-fda3068402c5-0', tool_calls=[{'name': 'tavily_search_results_json', 'args': {'query': 'weather in Bangladesh today'}, 'id': 'call_1j4p', 'type': 'tool_call'}], usage_metadata={'input_tokens': 988, 'output_tokens': 90, 'total_tokens': 1078})]}}\n",
            "----\n",
            "{'tools': {'messages': [ToolMessage(content='[{\"url\": \"https://www.weatherapi.com/\", \"content\": \"{\\'location\\': {\\'name\\': \\'Dhaka\\', \\'region\\': \\'\\', \\'country\\': \\'Bangladesh\\', \\'lat\\': 23.72, \\'lon\\': 90.41, \\'tz_id\\': \\'Asia/Dhaka\\', \\'localtime_epoch\\': 1727779410, \\'localtime\\': \\'2024-10-01 16:43\\'}, \\'current\\': {\\'last_updated_epoch\\': 1727778600, \\'last_updated\\': \\'2024-10-01 16:30\\', \\'temp_c\\': 32.1, \\'temp_f\\': 89.7, \\'is_day\\': 1, \\'condition\\': {\\'text\\': \\'Light rain shower\\', \\'icon\\': \\'//cdn.weatherapi.com/weather/64x64/day/353.png\\', \\'code\\': 1240}, \\'wind_mph\\': 4.9, \\'wind_kph\\': 7.9, \\'wind_degree\\': 253, \\'wind_dir\\': \\'WSW\\', \\'pressure_mb\\': 1001.0, \\'pressure_in\\': 29.57, \\'precip_mm\\': 0.16, \\'precip_in\\': 0.01, \\'humidity\\': 65, \\'cloud\\': 69, \\'feelslike_c\\': 38.8, \\'feelslike_f\\': 101.8, \\'windchill_c\\': 32.1, \\'windchill_f\\': 89.7, \\'heatindex_c\\': 38.8, \\'heatindex_f\\': 101.8, \\'dewpoint_c\\': 24.7, \\'dewpoint_f\\': 76.4, \\'vis_km\\': 10.0, \\'vis_miles\\': 6.0, \\'uv\\': 7.0, \\'gust_mph\\': 7.7, \\'gust_kph\\': 12.4}}\"}, {\"url\": \"https://weatherspark.com/h/y/111858/2024/Historical-Weather-during-2024-in-Dhaka-Bangladesh\", \"content\": \"270 deg, W. Cloud Cover. Mostly Cloudy 10,000 ft. Partly Cloudy 1,500 ft. Vis. 3.11 mi. Raw: VGHS 290730Z 27006KT 5000 HZ SCT015 BKN100 32/27 Q10078 NOSIG. This report shows the past weather for Dhaka, providing a weather history for 2024. It features all historical weather data series we have available, including the Dhaka temperature history ...\"}]', name='tavily_search_results_json', id='77b8362a-92f9-49aa-9932-9d387105b6e5', tool_call_id='call_1j4p', artifact={'query': 'weather in Bangladesh today', 'follow_up_questions': None, 'answer': None, 'images': [], 'results': [{'title': 'Weather in Bangladesh', 'url': 'https://www.weatherapi.com/', 'content': \"{'location': {'name': 'Dhaka', 'region': '', 'country': 'Bangladesh', 'lat': 23.72, 'lon': 90.41, 'tz_id': 'Asia/Dhaka', 'localtime_epoch': 1727779410, 'localtime': '2024-10-01 16:43'}, 'current': {'last_updated_epoch': 1727778600, 'last_updated': '2024-10-01 16:30', 'temp_c': 32.1, 'temp_f': 89.7, 'is_day': 1, 'condition': {'text': 'Light rain shower', 'icon': '//cdn.weatherapi.com/weather/64x64/day/353.png', 'code': 1240}, 'wind_mph': 4.9, 'wind_kph': 7.9, 'wind_degree': 253, 'wind_dir': 'WSW', 'pressure_mb': 1001.0, 'pressure_in': 29.57, 'precip_mm': 0.16, 'precip_in': 0.01, 'humidity': 65, 'cloud': 69, 'feelslike_c': 38.8, 'feelslike_f': 101.8, 'windchill_c': 32.1, 'windchill_f': 89.7, 'heatindex_c': 38.8, 'heatindex_f': 101.8, 'dewpoint_c': 24.7, 'dewpoint_f': 76.4, 'vis_km': 10.0, 'vis_miles': 6.0, 'uv': 7.0, 'gust_mph': 7.7, 'gust_kph': 12.4}}\", 'score': 0.9808072, 'raw_content': None}, {'title': 'Dhaka 2024 Past Weather (Bangladesh) - Weather Spark', 'url': 'https://weatherspark.com/h/y/111858/2024/Historical-Weather-during-2024-in-Dhaka-Bangladesh', 'content': '270 deg, W. Cloud Cover. Mostly Cloudy 10,000 ft. Partly Cloudy 1,500 ft. Vis. 3.11 mi. Raw: VGHS 290730Z 27006KT 5000 HZ SCT015 BKN100 32/27 Q10078 NOSIG. This report shows the past weather for Dhaka, providing a weather history for 2024. It features all historical weather data series we have available, including the Dhaka temperature history ...', 'score': 0.96253246, 'raw_content': None}], 'response_time': 2.88})]}}\n",
            "----\n",
            "{'agent': {'messages': [AIMessage(content='The weather in Dhaka, Bangladesh today is Light rain shower with a temperature of 32.1°C.', additional_kwargs={}, response_metadata={'token_usage': {'completion_tokens': 25, 'prompt_tokens': 1727, 'total_tokens': 1752, 'completion_time': 0.045454545, 'prompt_time': 0.056244134, 'queue_time': 0.003416533999999999, 'total_time': 0.101698679}, 'model_name': 'gemma2-9b-it', 'system_fingerprint': 'fp_10c08bf97d', 'finish_reason': 'stop', 'logprobs': None}, id='run-8d0fde16-cf8c-41d7-ac58-6fa7e01314d8-0', usage_metadata={'input_tokens': 1727, 'output_tokens': 25, 'total_tokens': 1752})]}}\n",
            "----\n"
          ]
        }
      ],
      "source": [
        "for chunk in agent_executor.stream(\n",
        "    {\"messages\": [HumanMessage(content=\"whats the weather in Bangladesh today?\")]}\n",
        "):\n",
        "    print(chunk)\n",
        "    print(\"----\")"
      ]
    },
    {
      "cell_type": "markdown",
      "id": "c72b3043",
      "metadata": {
        "id": "c72b3043"
      },
      "source": [
        "## Streaming tokens\n",
        "\n",
        "In addition to streaming back messages, it is also useful to be streaming back tokens.\n",
        "We can do this with the `.astream_events` method.\n",
        "\n",
        ":::important\n",
        "This `.astream_events` method only works with Python 3.11 or higher.\n",
        ":::"
      ]
    },
    {
      "cell_type": "code",
      "execution_count": null,
      "id": "a3fb262c",
      "metadata": {
        "id": "a3fb262c",
        "outputId": "c8623b07-4265-4567-8eb4-81401ff46ce9",
        "colab": {
          "base_uri": "https://localhost:8080/"
        }
      },
      "outputs": [
        {
          "output_type": "stream",
          "name": "stdout",
          "text": [
            "--\n",
            "Starting tool: tavily_search_results_json with inputs: {'query': 'weather in San Francisco'}\n",
            "Done tool: tavily_search_results_json\n",
            "Tool output was: content='[{\"url\": \"https://www.weatherapi.com/\", \"content\": \"{\\'location\\': {\\'name\\': \\'San Francisco\\', \\'region\\': \\'California\\', \\'country\\': \\'United States of America\\', \\'lat\\': 37.78, \\'lon\\': -122.42, \\'tz_id\\': \\'America/Los_Angeles\\', \\'localtime_epoch\\': 1727766680, \\'localtime\\': \\'2024-10-01 00:11\\'}, \\'current\\': {\\'last_updated_epoch\\': 1727766000, \\'last_updated\\': \\'2024-10-01 00:00\\', \\'temp_c\\': 20.2, \\'temp_f\\': 68.4, \\'is_day\\': 0, \\'condition\\': {\\'text\\': \\'Partly cloudy\\', \\'icon\\': \\'//cdn.weatherapi.com/weather/64x64/night/116.png\\', \\'code\\': 1003}, \\'wind_mph\\': 2.2, \\'wind_kph\\': 3.6, \\'wind_degree\\': 20, \\'wind_dir\\': \\'NNE\\', \\'pressure_mb\\': 1013.0, \\'pressure_in\\': 29.91, \\'precip_mm\\': 0.0, \\'precip_in\\': 0.0, \\'humidity\\': 61, \\'cloud\\': 25, \\'feelslike_c\\': 20.2, \\'feelslike_f\\': 68.4, \\'windchill_c\\': 15.7, \\'windchill_f\\': 60.2, \\'heatindex_c\\': 15.7, \\'heatindex_f\\': 60.2, \\'dewpoint_c\\': 13.0, \\'dewpoint_f\\': 55.5, \\'vis_km\\': 16.0, \\'vis_miles\\': 9.0, \\'uv\\': 1.0, \\'gust_mph\\': 6.7, \\'gust_kph\\': 10.8}}\"}, {\"url\": \"https://world-weather.info/forecast/usa/san_francisco/january-2024/\", \"content\": \"Detailed ⚡ San Francisco Weather Forecast for January 2024 - day/night 🌡️ temperatures, precipitations - World-Weather.info ... Archive; Widgets °F. World; United States; California; Weather in San Francisco; Weather in San Francisco in January 2024. San Francisco Weather Forecast for January 2024 is based on statistical data. 2015 ...\"}]' name='tavily_search_results_json' tool_call_id='call_VN1kauG0QJnIED500NLBRSwO' artifact={'query': 'weather in San Francisco', 'follow_up_questions': None, 'answer': None, 'images': [], 'results': [{'title': 'Weather in San Francisco', 'url': 'https://www.weatherapi.com/', 'content': \"{'location': {'name': 'San Francisco', 'region': 'California', 'country': 'United States of America', 'lat': 37.78, 'lon': -122.42, 'tz_id': 'America/Los_Angeles', 'localtime_epoch': 1727766680, 'localtime': '2024-10-01 00:11'}, 'current': {'last_updated_epoch': 1727766000, 'last_updated': '2024-10-01 00:00', 'temp_c': 20.2, 'temp_f': 68.4, 'is_day': 0, 'condition': {'text': 'Partly cloudy', 'icon': '//cdn.weatherapi.com/weather/64x64/night/116.png', 'code': 1003}, 'wind_mph': 2.2, 'wind_kph': 3.6, 'wind_degree': 20, 'wind_dir': 'NNE', 'pressure_mb': 1013.0, 'pressure_in': 29.91, 'precip_mm': 0.0, 'precip_in': 0.0, 'humidity': 61, 'cloud': 25, 'feelslike_c': 20.2, 'feelslike_f': 68.4, 'windchill_c': 15.7, 'windchill_f': 60.2, 'heatindex_c': 15.7, 'heatindex_f': 60.2, 'dewpoint_c': 13.0, 'dewpoint_f': 55.5, 'vis_km': 16.0, 'vis_miles': 9.0, 'uv': 1.0, 'gust_mph': 6.7, 'gust_kph': 10.8}}\", 'score': 0.9976011, 'raw_content': None}, {'title': 'Weather in San Francisco in January 2024', 'url': 'https://world-weather.info/forecast/usa/san_francisco/january-2024/', 'content': 'Detailed ⚡ San Francisco Weather Forecast for January 2024 - day/night 🌡️ temperatures, precipitations - World-Weather.info ... Archive; Widgets °F. World; United States; California; Weather in San Francisco; Weather in San Francisco in January 2024. San Francisco Weather Forecast for January 2024 is based on statistical data. 2015 ...', 'score': 0.99482024, 'raw_content': None}], 'response_time': 2.76}\n",
            "--\n",
            "The| current| weather| in| San| Francisco| is| |68|.|4|°F| (|20|.|2|°C|)| with| partly| cloudy| conditions|.| The| wind| is| blowing| at| |3|.|6| km|/h| from| the| N|NE| direction|.| The| humidity| is| at| |61|%,| and| the| visibility| is| |16|.|0| km|.|"
          ]
        }
      ],
      "source": [
        "async for event in agent_executor.astream_events(\n",
        "    {\"messages\": [HumanMessage(content=\"whats the weather in Bangladesh?\")]}, version=\"v1\"\n",
        "):\n",
        "    kind = event[\"event\"]\n",
        "    if kind == \"on_chain_start\":\n",
        "        if (\n",
        "            event[\"name\"] == \"Agent\"\n",
        "        ):  # Was assigned when creating the agent with `.with_config({\"run_name\": \"Agent\"})`\n",
        "            print(\n",
        "                f\"Starting agent: {event['name']} with input: {event['data'].get('input')}\"\n",
        "            )\n",
        "    elif kind == \"on_chain_end\":\n",
        "        if (\n",
        "            event[\"name\"] == \"Agent\"\n",
        "        ):  # Was assigned when creating the agent with `.with_config({\"run_name\": \"Agent\"})`\n",
        "            print()\n",
        "            print(\"--\")\n",
        "            print(\n",
        "                f\"Done agent: {event['name']} with output: {event['data'].get('output')['output']}\"\n",
        "            )\n",
        "    if kind == \"on_chat_model_stream\":\n",
        "        content = event[\"data\"][\"chunk\"].content\n",
        "        if content:\n",
        "            # Empty content in the context of OpenAI means\n",
        "            # that the model is asking for a tool to be invoked.\n",
        "            # So we only print non-empty content\n",
        "            print(content, end=\"|\")\n",
        "    elif kind == \"on_tool_start\":\n",
        "        print(\"--\")\n",
        "        print(\n",
        "            f\"Starting tool: {event['name']} with inputs: {event['data'].get('input')}\"\n",
        "        )\n",
        "    elif kind == \"on_tool_end\":\n",
        "        print(f\"Done tool: {event['name']}\")\n",
        "        print(f\"Tool output was: {event['data'].get('output')}\")\n",
        "        print(\"--\")"
      ]
    },
    {
      "cell_type": "markdown",
      "id": "022cbc8a",
      "metadata": {
        "id": "022cbc8a"
      },
      "source": [
        "## Adding in memory\n",
        "\n",
        "As mentioned earlier, this agent is stateless. This means it does not remember previous interactions. To give it memory we need to pass in a checkpointer. When passing in a checkpointer, we also have to pass in a `thread_id` when invoking the agent (so it knows which thread/conversation to resume from)."
      ]
    },
    {
      "cell_type": "code",
      "execution_count": null,
      "id": "c4073e35",
      "metadata": {
        "id": "c4073e35"
      },
      "outputs": [],
      "source": [
        "from langgraph.checkpoint.memory import MemorySaver\n",
        "\n",
        "memory = MemorySaver()"
      ]
    },
    {
      "cell_type": "code",
      "execution_count": null,
      "id": "e64a944e-f9ac-43cf-903c-d3d28d765377",
      "metadata": {
        "id": "e64a944e-f9ac-43cf-903c-d3d28d765377"
      },
      "outputs": [],
      "source": [
        "agent_executor = create_react_agent(model, tools, checkpointer=memory)\n",
        "\n",
        "config = {\"configurable\": {\"thread_id\": \"abc123\"}}"
      ]
    },
    {
      "cell_type": "code",
      "execution_count": null,
      "id": "a13462d0-2d02-4474-921e-15a1ba1fa274",
      "metadata": {
        "id": "a13462d0-2d02-4474-921e-15a1ba1fa274",
        "outputId": "ceebb21e-aff7-46c2-e6b3-eb1ed835d3f0",
        "colab": {
          "base_uri": "https://localhost:8080/"
        }
      },
      "outputs": [
        {
          "output_type": "stream",
          "name": "stdout",
          "text": [
            "{'agent': {'messages': [AIMessage(content='Hello Bob! How can I assist you today?', additional_kwargs={'refusal': None}, response_metadata={'token_usage': {'completion_tokens': 11, 'prompt_tokens': 85, 'total_tokens': 96, 'completion_tokens_details': {'reasoning_tokens': 0}}, 'model_name': 'gpt-3.5-turbo-0125', 'system_fingerprint': None, 'finish_reason': 'stop', 'logprobs': None}, id='run-597c963e-560e-4591-8151-066197c3b4f0-0', usage_metadata={'input_tokens': 85, 'output_tokens': 11, 'total_tokens': 96})]}}\n",
            "----\n"
          ]
        }
      ],
      "source": [
        "for chunk in agent_executor.stream(\n",
        "    {\"messages\": [HumanMessage(content=\"hi im bob!\")]}, config\n",
        "):\n",
        "    print(chunk)\n",
        "    print(\"----\")"
      ]
    },
    {
      "cell_type": "code",
      "execution_count": null,
      "id": "56d8028b-5dbc-40b2-86f5-ed60631d86a3",
      "metadata": {
        "id": "56d8028b-5dbc-40b2-86f5-ed60631d86a3",
        "outputId": "8cb0aff5-3009-4b27-eb16-2d4b627a83d0",
        "colab": {
          "base_uri": "https://localhost:8080/"
        }
      },
      "outputs": [
        {
          "output_type": "stream",
          "name": "stdout",
          "text": [
            "{'agent': {'messages': [AIMessage(content='Your name is Bob! How can I help you, Bob?', additional_kwargs={'refusal': None}, response_metadata={'token_usage': {'completion_tokens': 14, 'prompt_tokens': 108, 'total_tokens': 122, 'completion_tokens_details': {'reasoning_tokens': 0}}, 'model_name': 'gpt-3.5-turbo-0125', 'system_fingerprint': None, 'finish_reason': 'stop', 'logprobs': None}, id='run-add17659-e299-49f7-9e1e-ef513e749dc8-0', usage_metadata={'input_tokens': 108, 'output_tokens': 14, 'total_tokens': 122})]}}\n",
            "----\n"
          ]
        }
      ],
      "source": [
        "for chunk in agent_executor.stream(\n",
        "    {\"messages\": [HumanMessage(content=\"whats my name?\")]}, config\n",
        "):\n",
        "    print(chunk)\n",
        "    print(\"----\")"
      ]
    },
    {
      "cell_type": "markdown",
      "id": "bda99754-0a11-4447-b408-e8db8f2e3517",
      "metadata": {
        "id": "bda99754-0a11-4447-b408-e8db8f2e3517"
      },
      "source": [
        "Example [LangSmith trace](https://smith.langchain.com/public/fa73960b-0f7d-4910-b73d-757a12f33b2b/r)"
      ]
    },
    {
      "cell_type": "markdown",
      "id": "ae908088",
      "metadata": {
        "id": "ae908088"
      },
      "source": [
        "If I want to start a new conversation, all I have to do is change the `thread_id` used"
      ]
    },
    {
      "cell_type": "code",
      "execution_count": null,
      "id": "24460239",
      "metadata": {
        "id": "24460239",
        "outputId": "c7eea652-7690-45c7-f7e8-8351c3ff82ea",
        "colab": {
          "base_uri": "https://localhost:8080/"
        }
      },
      "outputs": [
        {
          "output_type": "stream",
          "name": "stdout",
          "text": [
            "{'agent': {'messages': [AIMessage(content=\"I am unable to know your name as I don't have access to personal information. How can I assist you today?\", additional_kwargs={'refusal': None}, response_metadata={'token_usage': {'completion_tokens': 25, 'prompt_tokens': 86, 'total_tokens': 111, 'completion_tokens_details': {'reasoning_tokens': 0}}, 'model_name': 'gpt-3.5-turbo-0125', 'system_fingerprint': None, 'finish_reason': 'stop', 'logprobs': None}, id='run-6bc05096-2803-4571-8d21-c4340dfaa372-0', usage_metadata={'input_tokens': 86, 'output_tokens': 25, 'total_tokens': 111})]}}\n",
            "----\n"
          ]
        }
      ],
      "source": [
        "config = {\"configurable\": {\"thread_id\": \"xyz123\"}}\n",
        "for chunk in agent_executor.stream(\n",
        "    {\"messages\": [HumanMessage(content=\"whats my name?\")]}, config\n",
        "):\n",
        "    print(chunk)\n",
        "    print(\"----\")"
      ]
    },
    {
      "cell_type": "markdown",
      "id": "c029798f",
      "metadata": {
        "id": "c029798f"
      },
      "source": [
        "## Conclusion\n",
        "\n",
        "That's a wrap! In this quick start we covered how to create a simple agent.\n",
        "We've then shown how to stream back a response - not only the intermediate steps, but also tokens!\n",
        "We've also added in memory so you can have a conversation with them.\n",
        "Agents are a complex topic, and there's lot to learn!\n",
        "\n",
        "For more information on Agents, please check out the [LangGraph](/docs/concepts/#langgraph) documentation. This has it's own set of concepts, tutorials, and how-to guides."
      ]
    },
    {
      "cell_type": "code",
      "execution_count": null,
      "id": "e3ec3244",
      "metadata": {
        "id": "e3ec3244"
      },
      "outputs": [],
      "source": []
    }
  ],
  "metadata": {
    "kernelspec": {
      "display_name": "Python 3 (ipykernel)",
      "language": "python",
      "name": "python3"
    },
    "language_info": {
      "codemirror_mode": {
        "name": "ipython",
        "version": 3
      },
      "file_extension": ".py",
      "mimetype": "text/x-python",
      "name": "python",
      "nbconvert_exporter": "python",
      "pygments_lexer": "ipython3",
      "version": "3.12.3"
    },
    "colab": {
      "provenance": [],
      "include_colab_link": true
    }
  },
  "nbformat": 4,
  "nbformat_minor": 5
}