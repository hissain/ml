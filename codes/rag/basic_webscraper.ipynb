{
 "cells": [
  {
   "cell_type": "code",
   "execution_count": 1,
   "id": "fc264dcf",
   "metadata": {
    "scrolled": false
   },
   "outputs": [
    {
     "data": {
      "application/vnd.jupyter.widget-view+json": {
       "model_id": "4967acdd1fa24423ad71a6ee2e2e74b0",
       "version_major": 2,
       "version_minor": 0
      },
      "text/plain": [
       "Processing URLs:   0%|          | 0/2 [00:00<?, ?it/s]"
      ]
     },
     "metadata": {},
     "output_type": "display_data"
    },
    {
     "name": "stdout",
     "output_type": "stream",
     "text": [
      "Chunk 1:\n",
      "Text: hissain (md. sazzad hissain khan)  github skip to content navigation menu toggle navigation sign in product github copilot write better code with ai security find and fix vulnerabilities actions automate any workflow codespaces instant dev environments issues plan and track work code review manage code changes discussions collaborate outside of code code search find more, search less explore all features documentation github skills blog solutions by company size enterprises small and medium teams startups by use case devsecops devops cicd view all use cases by industry healthcare financial services manufacturing government view all industries view all solutions resources topics ai devops security software development view all explore learning pathways white papers, ebooks, webinars customer stories partners open source github sponsors fund open source developers the readme project github community articles repositories topics trending collections enterprise enterprise platform ai-powered developer platform available add-ons advanced security enterprise-grade security features github copilot enterprise-grade ai features premium support enterprise-grade 247 support pricing search or jump to... search code, repositories, users, issues, pull requests... search clear search syntax tips provide feedback we read every piece of feedback, and take your input very seriously. include my email address so i can be contacted cancel submit feedback saved searches use saved searches to filter your results more quickly name query to see all available qualifiers, see our documentation . cancel create saved search sign in sign up reseting focus you signed in with another tab or window. reload to refresh your session. you signed out in another tab or window. reload to refresh your session. you switched accounts on another tab or window. reload to refresh your session. dismiss alert hissain follow overview repositories 22 projects 0 packages 0 stars 16 more overview repositories projects packages stars hissain follow md. sazzad hissain khan hissain follow associate software architect  innovator  ai enthusiast 7 followers  1 following samsung electronics dhaka httpswww.linkedin.cominhissain block or report block or report hissain block user prevent this user from interacting with your repositories and sending you notifications. learn more about blocking users . you must be logged in to block users.\n",
      "URL: https://github.com/hissain\n",
      "\n",
      "Chunk 2:\n",
      "Text: you must be logged in to block users. add an optional note please don't include any personal information such as legal names or email addresses. maximum 100 characters, markdown supported. this note will be visible to only you. block user report abuse contact github support about this users behavior. learn more about reporting abuse . report abuse overview repositories 22 projects 0 packages 0 stars 16 more overview repositories projects packages stars hissain  readme .md about me i am an accomplished associate architect with over 13 years of experience in mobile and wearables software development. with a deep understanding of the challenges inherent in developing performant, robust, testable, and maintainable applications, from requirement analysis to architecture, design, development, and maintenance, i am confident in my ability to lead software development and commercialization for any organization. my experience includes working on samsung health for ios, an application boasting over 6 million users and approximately 160k dau on the app store market, with a global rating of 4.5. between 2021 and 2024, i achieved six patent applications granted by samsung sipms, currently in the process of being published in uspto among them, one patent has already been published in uspto, wipo, and kr. my technical expertise encompasses oop, android (java, kotlin), ios (swift, objective-c), xcode, version control systems, system design, application architecture, development processes, wearable  hearable technology. additionally, i have experience in tizen app development and windows app development. currently, i am engaged in samsung earbuds device development on rtos, specifically in music streaming over bt classic and le audio, as well as in ballistocardiogram signal processing for stress score generation. my special interests include technological innovation, human-machine interaction, information theory, astronomy, probability, theory of relativity, philosophy of science, piano, guitar, and poetry. furthermore, i have pursued studies in critical thinking and how to make valid argumentation. i value the passion of problem-solving minds and firmly believe that software engineering is the profession that suits me best. i am always eager to learn and grow in my field and am committed to delivering high-quality solutions to my clients and stakeholders.\n",
      "URL: https://github.com/hissain\n",
      "\n"
     ]
    }
   ],
   "source": [
    "from selenium import webdriver\n",
    "from selenium.webdriver.chrome.service import Service\n",
    "from bs4 import BeautifulSoup\n",
    "#from transformers import GPT2TokenizerFast\n",
    "from transformers import AutoTokenizer\n",
    "import re\n",
    "from tqdm.notebook import tqdm\n",
    "import time\n",
    "\n",
    "#tokenizer = GPT2TokenizerFast.from_pretrained(\"gpt2\")\n",
    "\n",
    "model_path = '/Users/hissain/git/github/models/all-MiniLM-L6-v2'\n",
    "tokenizer = AutoTokenizer.from_pretrained(model_path)\n",
    "\n",
    "import os\n",
    "os.environ[\"TOKENIZERS_PARALLELISM\"] = \"false\"\n",
    "\n",
    "def init_driver():\n",
    "    options = webdriver.ChromeOptions()\n",
    "    options.add_argument('--headless')\n",
    "    options.add_argument('--no-sandbox')\n",
    "    options.add_argument('--disable-dev-shm-usage')\n",
    "    service = Service()\n",
    "    return webdriver.Chrome(service=service, options=options)\n",
    "\n",
    "def extract_text_from_url(url, driver):\n",
    "    driver.get(url)\n",
    "    time.sleep(1)\n",
    "\n",
    "    soup = BeautifulSoup(driver.page_source, \"html.parser\")\n",
    "    for element in soup.find_all(\"div\", class_=\"js-yearly-contributions\"):\n",
    "        element.decompose()\n",
    "        \n",
    "    for element in soup([\"script\", \"style\"]):\n",
    "        element.decompose()\n",
    "    text = soup.get_text(separator=\" \")\n",
    "    return text\n",
    "\n",
    "def clean_text(text):\n",
    "    text = re.sub(r'\\s+', ' ', text)           # Remove extra whitespace\n",
    "    text = re.sub(r'[^\\w\\s.,!?\\'\"()-]', '', text)  # Remove special characters\n",
    "    text = text.lower()                         # Normalize to lowercase\n",
    "    return text.strip()\n",
    "\n",
    "def split_sentences(text):\n",
    "    sentences = re.split(r'(?<=[.!?]) +', text)  # Split on sentence boundaries\n",
    "    return sentences\n",
    "\n",
    "def count_tokens(text):\n",
    "    return len(tokenizer.encode(text))\n",
    "\n",
    "def partition_sentences(sentences, url, max_tokens=512, overlap=1):\n",
    "    chunks, current_chunk = [], []\n",
    "    current_tokens = 0\n",
    "\n",
    "    for i, sentence in enumerate(sentences):\n",
    "        sentence_tokens = count_tokens(sentence)\n",
    "        \n",
    "        if current_tokens + sentence_tokens > max_tokens:\n",
    "            chunks.append({\"text\": \" \".join(current_chunk), \"url\": url})\n",
    "            current_chunk = current_chunk[-overlap:]\n",
    "            current_tokens = count_tokens(\" \".join(current_chunk))\n",
    "\n",
    "        current_chunk.append(sentence)\n",
    "        current_tokens += sentence_tokens\n",
    "\n",
    "    if current_chunk:\n",
    "        chunks.append({\"text\": \" \".join(current_chunk), \"url\": url})\n",
    "\n",
    "    return chunks\n",
    "\n",
    "def process_urls(urls):\n",
    "    driver = init_driver()\n",
    "    all_chunks = []\n",
    "    \n",
    "    for url in tqdm(urls, desc=\"Processing URLs\"):\n",
    "        try:\n",
    "            raw_text = extract_text_from_url(url, driver)\n",
    "            clean_text_content = clean_text(raw_text)\n",
    "            sentences = split_sentences(clean_text_content)\n",
    "            chunks = partition_sentences(sentences, url, max_tokens=512, overlap=1)\n",
    "            all_chunks.extend(chunks)\n",
    "        except Exception as e:\n",
    "            print(f\"Failed to process {url}: {e}\")\n",
    "    \n",
    "    #driver.quit()\n",
    "    return all_chunks\n",
    "\n",
    "urls = [\n",
    "    \"https://github.com/hissain\",\n",
    "    \"https://github.com/hissain/CoronaTracker\",\n",
    "]\n",
    "\n",
    "rag_chunks = process_urls(urls)\n"
   ]
  },
  {
   "cell_type": "code",
   "execution_count": 43,
   "id": "72008745",
   "metadata": {},
   "outputs": [
    {
     "name": "stdout",
     "output_type": "stream",
     "text": [
      "Chunk 1:\n",
      "Text: hissain (md. sazzad hissain khan)  github skip to content navigation menu toggle navigation sign in product github copilot write better code with ai security find and fix vulnerabilities actions automate any workflow codespaces instant dev environments issues plan and track work code review manage code changes discussions collaborate outside of code code search find more, search less explore all features documentation github skills blog solutions by company size enterprises small and medium teams startups by use case devsecops devops cicd view all use cases by industry healthcare financial services manufacturing government view all industries view all solutions resources topics ai devops security software development view all explore learning pathways white papers, ebooks, webinars customer stories partners open source github sponsors fund open source developers the readme project github community articles repositories topics trending collections enterprise enterprise platform ai-powered developer platform available add-ons advanced security enterprise-grade security features github copilot enterprise-grade ai features premium support enterprise-grade 247 support pricing search or jump to... search code, repositories, users, issues, pull requests... search clear search syntax tips provide feedback we read every piece of feedback, and take your input very seriously. include my email address so i can be contacted cancel submit feedback saved searches use saved searches to filter your results more quickly name query to see all available qualifiers, see our documentation . cancel create saved search sign in sign up reseting focus you signed in with another tab or window. reload to refresh your session. you signed out in another tab or window. reload to refresh your session. you switched accounts on another tab or window. reload to refresh your session. dismiss alert hissain follow overview repositories 22 projects 0 packages 0 stars 16 more overview repositories projects packages stars hissain follow md. sazzad hissain khan hissain follow associate software architect  innovator  ai enthusiast 7 followers  1 following samsung electronics dhaka httpswww.linkedin.cominhissain block or report block or report hissain block user prevent this user from interacting with your repositories and sending you notifications. learn more about blocking users . you must be logged in to block users.\n",
      "URL: https://github.com/hissain\n",
      "\n",
      "Chunk 2:\n",
      "Text: you must be logged in to block users. add an optional note please don't include any personal information such as legal names or email addresses. maximum 100 characters, markdown supported. this note will be visible to only you. block user report abuse contact github support about this users behavior. learn more about reporting abuse . report abuse overview repositories 22 projects 0 packages 0 stars 16 more overview repositories projects packages stars hissain  readme .md about me i am an accomplished associate architect with over 13 years of experience in mobile and wearables software development. with a deep understanding of the challenges inherent in developing performant, robust, testable, and maintainable applications, from requirement analysis to architecture, design, development, and maintenance, i am confident in my ability to lead software development and commercialization for any organization. my experience includes working on samsung health for ios, an application boasting over 6 million users and approximately 160k dau on the app store market, with a global rating of 4.5. between 2021 and 2024, i achieved six patent applications granted by samsung sipms, currently in the process of being published in uspto among them, one patent has already been published in uspto, wipo, and kr. my technical expertise encompasses oop, android (java, kotlin), ios (swift, objective-c), xcode, version control systems, system design, application architecture, development processes, wearable  hearable technology. additionally, i have experience in tizen app development and windows app development. currently, i am engaged in samsung earbuds device development on rtos, specifically in music streaming over bt classic and le audio, as well as in ballistocardiogram signal processing for stress score generation. my special interests include technological innovation, human-machine interaction, information theory, astronomy, probability, theory of relativity, philosophy of science, piano, guitar, and poetry. furthermore, i have pursued studies in critical thinking and how to make valid argumentation. i value the passion of problem-solving minds and firmly believe that software engineering is the profession that suits me best. i am always eager to learn and grow in my field and am committed to delivering high-quality solutions to my clients and stakeholders.\n",
      "URL: https://github.com/hissain\n",
      "\n",
      "Chunk 3:\n",
      "Text: i am always eager to learn and grow in my field and am committed to delivering high-quality solutions to my clients and stakeholders. i am open to engaging in discussions on any technological matters within my scope with interested individuals to share and acquire subject matter knowledge. stackoverflow  im currently working for samsung  im currently learning machine learning (special interest sensor data and singnal processing)  how to reach me linkedin pinned loading coronatracker coronatracker public a full stack framework to trace possible close-contact candidates within last specified days for an already detected covid-19 positive patient kotlin 12 11 minimal-cmake minimal-cmake public a cmakelists reference project with minimal work cmake minimal-cmsis-dsp minimal-cmsis-dsp public this repository contains minimally integratable code for utilizing fundamental functionalities of cmsisdsp like fft, inverse fft, basic filters, and mathematical operations in cc. c ml ml public this repository contains a collection of basic and frequently used machine learning code snippets in various projects and tasks. jupyter notebook 1 dsp-spectrogram dsp-spectrogram public this repository contains spectrogram generation using cmsis dsp c 2024 2023 2022 2021 2020 2019 2018 2017 2016 2015 2014 2013 2012 contribution activity november 2024 created 4 commits in 1 repository hissainml 4 commits loading show more activity seeing something unexpected? take a look at the github profile guide . footer  2024 github, inc. footer navigation terms privacy security status docs contact manage cookies do not share my personal information you cant perform that action at this time.\n",
      "URL: https://github.com/hissain\n",
      "\n"
     ]
    }
   ],
   "source": [
    "for i, chunk in enumerate(rag_chunks[:3]):\n",
    "    print(f\"Chunk {i+1}:\\nText: {chunk['text']}\\nURL: {chunk['url']}\\n\")"
   ]
  },
  {
   "cell_type": "code",
   "execution_count": 2,
   "id": "c686a7d4",
   "metadata": {},
   "outputs": [
    {
     "data": {
      "application/vnd.jupyter.widget-view+json": {
       "model_id": "b18058d019c24a6b8674279dc7e5f4f0",
       "version_major": 2,
       "version_minor": 0
      },
      "text/plain": [
       "Generating embeddings:   0%|          | 0/8 [00:00<?, ?it/s]"
      ]
     },
     "metadata": {},
     "output_type": "display_data"
    },
    {
     "name": "stdout",
     "output_type": "stream",
     "text": [
      "Stored 8 chunks\n"
     ]
    }
   ],
   "source": [
    "import numpy as np\n",
    "from qdrant_client import QdrantClient, models\n",
    "from tqdm.notebook import tqdm\n",
    "from sentence_transformers import SentenceTransformer\n",
    "from IPython.display import display, clear_output, Markdown\n",
    "import requests\n",
    "import json\n",
    "import asyncio\n",
    "\n",
    "qdrant_url = \"http://localhost:6333\"\n",
    "collection_name = \"github_collection\"\n",
    "\n",
    "ollama_url_inf = \"http://localhost:11434/api/show\"\n",
    "ollama_url_emb = \"http://localhost:11434/api/embeddings\"\n",
    "ollama_url_gen = \"http://localhost:11434/api/generate\"\n",
    "ollama_model_name = \"llama3.2:latest\"\n",
    "\n",
    "client = QdrantClient(url=qdrant_url)\n",
    "embedding_model = SentenceTransformer(model_path)\n",
    "\n",
    "def get_embedding(text):\n",
    "    return embedding_model.encode(text)\n",
    "\n",
    "def create_collection(dimension):\n",
    "    try:\n",
    "        client.delete_collection(collection_name=collection_name)\n",
    "    except Exception:\n",
    "        pass\n",
    "\n",
    "    client.create_collection(\n",
    "        collection_name=collection_name,\n",
    "        vectors_config=models.VectorParams(size=dimension, distance=models.Distance.COSINE),\n",
    "    )\n",
    "    \n",
    "def upsert_points_with_metadata(embeddings, chunks):\n",
    "    points = [\n",
    "        models.PointStruct(id=i, vector=embedding.tolist(), payload={\"text\": chunk[\"text\"], \"url\": chunk[\"url\"]})\n",
    "        for i, (embedding, chunk) in enumerate(zip(embeddings, chunks))\n",
    "    ]\n",
    "    client.upsert(collection_name=collection_name, points=points)\n",
    "\n",
    "def store_in_qdrant_with_metadata(chunks):\n",
    "    dimension = 384  # Dimension for 'all-MiniLM-L6-v2'\n",
    "    create_collection(dimension)\n",
    "    embeddings = [get_embedding(chunk[\"text\"]) for chunk in tqdm(chunks, desc=\"Generating embeddings\")]\n",
    "    upsert_points_with_metadata(embeddings, chunks)\n",
    "\n",
    "def search_points_with_metadata(query_embedding, k=3):\n",
    "    search_result = client.search(\n",
    "        collection_name=collection_name,\n",
    "        query_vector=query_embedding.tolist(),\n",
    "        limit=k,\n",
    "        with_payload=True\n",
    "    )\n",
    "    return [{\"text\": hit.payload[\"text\"], \"url\": hit.payload[\"url\"]} for hit in search_result]\n",
    "\n",
    "def ask(query, k=3, p=False):\n",
    "    \n",
    "    query_embedding = get_embedding(query)\n",
    "    retrieved_docs = search_points_with_metadata(query_embedding, k)\n",
    "    \n",
    "    combined_docs = \"\\n\\n\".join([f\"Source: {doc['url']}\\n{doc['text']}\" for doc in retrieved_docs])\n",
    "    inst = \"Instruction: If you do not find the answer in the context, just say you don't know.\"\n",
    "    rag_prompt = f\"{inst}\\n\\nContext:\\n{combined_docs}\\n\\nQuery: {query}\\nAnswer:\"\n",
    "    if p:\n",
    "        print(rag_prompt)\n",
    "        \n",
    "    payload = {\"model\": ollama_model_name, \"prompt\": rag_prompt, \"stream\": True}\n",
    "    headers = {\"Content-Type\": \"application/json\"}\n",
    "\n",
    "    response_text = \"\"\n",
    "    buffer = \"\"\n",
    "\n",
    "    response = requests.post(ollama_url_gen, headers=headers, data=json.dumps(payload), stream=True)\n",
    "\n",
    "    # Process the response content as it arrives\n",
    "    if response.status_code == 200:\n",
    "        for chunk in response.iter_content(chunk_size=None):\n",
    "            try:\n",
    "                data = json.loads(chunk.decode('utf-8'))\n",
    "                content = data.get(\"response\", \"\")\n",
    "                buffer += content\n",
    "\n",
    "                # Display output every few characters for real-time effect\n",
    "                if len(buffer) > 10:\n",
    "                    response_text += buffer\n",
    "                    clear_output(wait=True)\n",
    "                    display(Markdown(response_text))\n",
    "                    buffer = \"\"\n",
    "                    \n",
    "            except json.JSONDecodeError:\n",
    "                continue\n",
    "\n",
    "        # Display any remaining buffered content\n",
    "        response_text += buffer\n",
    "        clear_output(wait=True)\n",
    "        display(Markdown(response_text))\n",
    "    else:\n",
    "        print(\"Request failed:\", response.status_code, response.text)\n",
    "\n",
    "    return response_text\n",
    "\n",
    "try:\n",
    "    store_in_qdrant_with_metadata(rag_chunks)\n",
    "    print(f'Stored {len(rag_chunks)} chunks')\n",
    "except Exception as e:\n",
    "    print(f\"Error storing in Qdrant: {e}\")\n"
   ]
  },
  {
   "cell_type": "code",
   "execution_count": 3,
   "id": "32f89900",
   "metadata": {},
   "outputs": [
    {
     "data": {
      "text/markdown": [
       "Based on the provided context, it appears that Hissain is an AI enthusiast and has worked as a software architect. Additionally, he has shown interest in developing projects related to CoronaTracker, which suggests that his specialty may be in health-related applications or disease tracking systems.\n",
       "\n",
       "His LinkedIn profile also mentions that he works at Samsung Electronics in Dhaka, Bangladesh, which could indicate that he is interested in technology and innovation, particularly in the field of telecommunications."
      ],
      "text/plain": [
       "<IPython.core.display.Markdown object>"
      ]
     },
     "metadata": {},
     "output_type": "display_data"
    }
   ],
   "source": [
    "_ = ask(\"What are Hissain's special interests?\")"
   ]
  },
  {
   "cell_type": "code",
   "execution_count": 6,
   "id": "6e4cae96",
   "metadata": {},
   "outputs": [
    {
     "data": {
      "text/markdown": [
       "CoronaTracker is an open-source project aimed at creating an application to track close contacts within the last 14 days for a COVID-19 positive patient. The goal of this project is to help flatten the curve of infection by early detection and collection of close contact information, thereby aiding in the fight against the COVID-19 pandemic."
      ],
      "text/plain": [
       "<IPython.core.display.Markdown object>"
      ]
     },
     "metadata": {},
     "output_type": "display_data"
    }
   ],
   "source": [
    "_ = ask(\"Tell me about CoronaTracker\")"
   ]
  },
  {
   "cell_type": "code",
   "execution_count": 36,
   "id": "03cf16bd",
   "metadata": {},
   "outputs": [
    {
     "data": {
      "text/markdown": [
       "I don't know anything about astronomy or philosophy from the provided context. The texts appear to be related to a CoronaTracker project for COVID-19, machine learning, and sensor data analysis."
      ],
      "text/plain": [
       "<IPython.core.display.Markdown object>"
      ]
     },
     "metadata": {},
     "output_type": "display_data"
    }
   ],
   "source": [
    "_ = ask(\"Anything about astronomy, philosophy?\")"
   ]
  },
  {
   "cell_type": "code",
   "execution_count": 39,
   "id": "227055da",
   "metadata": {},
   "outputs": [],
   "source": [
    "ollama_url_chat = \"http://localhost:11434/api/chat\"\n",
    "\n",
    "chat_history = []\n",
    "\n",
    "session = requests.Session()\n",
    "session.headers.update({\"Connection\": \"keep-alive\", \"Content-Type\": \"application/json\"})\n",
    "\n",
    "def chat(query, k=2, p=False, stream=True):\n",
    "    global chat_history\n",
    "    \n",
    "    query_embedding = get_embedding(query)\n",
    "    retrieved_docs = search_points_with_metadata(query_embedding, k)\n",
    "    \n",
    "    combined_docs = \"\\n\\n\".join([f\"Source: {doc['url']}\\n{doc['text']}\" for doc in retrieved_docs])\n",
    "    inst = \"Instruction: If you do not find the answer in the context, just say you don't know.\"\n",
    "    rag_prompt = f\"{inst}\\n\\nContext:\\n{combined_docs}\\n\\nQuery: {query}\\nAnswer:\"\n",
    "    if p:\n",
    "        print(rag_prompt)\n",
    "        \n",
    "    chat_history.append({\"role\": \"user\", \"content\": rag_prompt})\n",
    "    payload = {\"model\": ollama_model_name, \"messages\": chat_history, \"stream\": stream}\n",
    "    headers = {\"Connection\": \"keep-alive\", \"Content-Type\": \"application/json\"}\n",
    "\n",
    "    response_text = \"\"\n",
    "    buffer = \"\"\n",
    "\n",
    "    response = session.post(ollama_url_chat, data=json.dumps(payload), stream=stream)\n",
    "\n",
    "    # Process the response content as it arrives\n",
    "    if response.status_code == 200:\n",
    "        for chunk in response.iter_content(chunk_size=None):\n",
    "            try:\n",
    "                data = json.loads(chunk.decode('utf-8'))\n",
    "                content = data.get(\"message\", {}).get(\"content\", \"\")\n",
    "                buffer += content\n",
    "\n",
    "                # Display output every few characters for real-time effect\n",
    "                if len(buffer) > 10:\n",
    "                    response_text += buffer\n",
    "                    clear_output(wait=True)\n",
    "                    display(Markdown(response_text))\n",
    "                    buffer = \"\"\n",
    "                    \n",
    "            except json.JSONDecodeError:\n",
    "                continue\n",
    "\n",
    "        # Display any remaining buffered content\n",
    "        response_text += buffer\n",
    "        clear_output(wait=True)\n",
    "        display(Markdown(response_text))\n",
    "    else:\n",
    "        print(\"Request failed:\", response.status_code, response.text)\n",
    "\n",
    "    return response_text"
   ]
  },
  {
   "cell_type": "code",
   "execution_count": 34,
   "id": "a7e6e8d4",
   "metadata": {},
   "outputs": [
    {
     "data": {
      "text/markdown": [
       "Hissain is an associate software architect, innovator, and AI enthusiast. He works at Samsung Electronics in Dhaka, Bangladesh, and has 7 followers on GitHub."
      ],
      "text/plain": [
       "<IPython.core.display.Markdown object>"
      ]
     },
     "metadata": {},
     "output_type": "display_data"
    }
   ],
   "source": [
    "_ = chat(\"Who is Hissain?\")"
   ]
  },
  {
   "cell_type": "code",
   "execution_count": 35,
   "id": "bcafa227",
   "metadata": {},
   "outputs": [
    {
     "data": {
      "text/markdown": [
       "He has over 13 years of experience in mobile and wearables software development, with a strong background in:\n",
       "\n",
       "- OOP\n",
       "- Android (Java, Kotlin)\n",
       "- iOS (Swift, Objective-C)\n",
       "- Xcode\n",
       "- Version control systems\n",
       "- System design\n",
       "- Application architecture\n",
       "- Development processes\n",
       "- Wearable and hearable technology\n",
       "\n",
       "Specifically, he has worked on Samsung Health for iOS, which boasts over 6 million users and approximately 160k DAU on the app store market. He has also achieved six patent applications granted by Samsung, with one already published in USPTO, Wipo, and KR.\n",
       "\n",
       "Additionally, he is currently engaged in Samsung Earbuds device development on RTOS, specifically in music streaming over BT Classic and LE Audio, as well as in ballistocardiogram signal processing for stress score generation."
      ],
      "text/plain": [
       "<IPython.core.display.Markdown object>"
      ]
     },
     "metadata": {},
     "output_type": "display_data"
    }
   ],
   "source": [
    "_ = chat(\"Whats his experience?\")"
   ]
  },
  {
   "cell_type": "code",
   "execution_count": 40,
   "id": "5bcd9bc5",
   "metadata": {},
   "outputs": [
    {
     "data": {
      "text/markdown": [
       "His topic of special interest is sensor data and signal processing in Machine Learning."
      ],
      "text/plain": [
       "<IPython.core.display.Markdown object>"
      ]
     },
     "metadata": {},
     "output_type": "display_data"
    }
   ],
   "source": [
    "_ = chat(\"Whats his topic of special interest?\")"
   ]
  },
  {
   "cell_type": "code",
   "execution_count": 48,
   "id": "4fb4b5d9",
   "metadata": {},
   "outputs": [
    {
     "data": {
      "text/markdown": [
       "No, I don't know if any of those topics are mentioned in the provided context as part of your special interests. Your special interests include machine learning (specifically sensor data and signal processing)."
      ],
      "text/plain": [
       "<IPython.core.display.Markdown object>"
      ]
     },
     "metadata": {},
     "output_type": "display_data"
    }
   ],
   "source": [
    "_ = ask(\"Do my special interests include technological innovation, human-machine interaction, information theory, astronomy, probability, theory of relativity, philosophy of science, piano, guitar, and poetry?\", p=True)"
   ]
  }
 ],
 "metadata": {
  "kernelspec": {
   "display_name": "Python (myenv)",
   "language": "python",
   "name": "myenv"
  },
  "language_info": {
   "codemirror_mode": {
    "name": "ipython",
    "version": 3
   },
   "file_extension": ".py",
   "mimetype": "text/x-python",
   "name": "python",
   "nbconvert_exporter": "python",
   "pygments_lexer": "ipython3",
   "version": "3.11.5"
  }
 },
 "nbformat": 4,
 "nbformat_minor": 5
}
