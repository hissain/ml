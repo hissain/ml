{
 "cells": [
  {
   "cell_type": "code",
   "execution_count": 11,
   "id": "2342993c",
   "metadata": {},
   "outputs": [
    {
     "name": "stdout",
     "output_type": "stream",
     "text": [
      "Loaded 9 URLs from pickle file\n"
     ]
    },
    {
     "data": {
      "application/vnd.jupyter.widget-view+json": {
       "model_id": "fec437c7491b48dcbe059b6e823ee884",
       "version_major": 2,
       "version_minor": 0
      },
      "text/plain": [
       "Scraping pages:   0%|          | 0/9 [00:00<?, ?it/s]"
      ]
     },
     "metadata": {},
     "output_type": "display_data"
    },
    {
     "name": "stderr",
     "output_type": "stream",
     "text": [
      "Token indices sequence length is longer than the specified maximum sequence length for this model (528 > 512). Running this sequence through the model will result in indexing errors\n"
     ]
    },
    {
     "name": "stdout",
     "output_type": "stream",
     "text": [
      "Total Chunks: 299\n",
      "Chunk: contents list of wars by death toll List of wars by death toll | 0 ||| Part of a series on || War (outline) || showHistory || showMilitary || showBattlespace || showWeapons || showTactics || showOperational || showStrategy || showGrand strategy || showAdministrative || showOrganization || showPersonnel || showLogistics || showScience || showLaw || showTheory || showNon-warfare || showCulture || showRelated || hideLists Battles Military occupations Military terms Operations Sieges War crimes Wars Weapons Writers || vte || this list of wars by death toll includes all deaths that are either directly or indirectly caused by war. these numbers include the deaths of military personnel which are the direct results of a battle or other military wartime actions, as well as wartime / war - related deaths of civilians which are often results of war - induced epidemics, famines, genocide, etc. due to incomplete records, the destruction of evidence, differing methods of counting, and various other reasons, death tolls of wars have often been quite uncertain, and heavily debated. while the definition of war isn't entirely clear - cut, there is a general understanding of what it is. merriam - webster defines war as \" a state of usually open and declared armed hostile conflict between states or nations \", [ 1 ] oxford english dictionary defines war as \" hostile contention by means of armed forces, carried on between nations, states, or rulers, or between parties in the same nation or state ; the employment of armed forces against a foreign power, or against an opposing party in the state \", [ 2 ] and encyclopædia britannica defines war as \" a conflict between political groups involving hostilities of considerable duration and magnitude \". [ 3 ] this list excludes mass killings and atrocities not explicitly classified as genocides, as well as genocides occurring outside of wartime, human sacrifices, ethnic cleansing operations, and acts of state terrorism or political repression during peacetime. [ a ] list\n",
      "Source URL: https://en.wikipedia.org/wiki/List_of_wars_by_death_toll\n",
      "\n",
      "Chunk: List | War | Death range | Date | Combatants | Location ||| World War II | 50–85 million[4][5][6] | 1939–1945 | Allied Powers vs. Axis Powers | Global || Mongol invasions and conquests | 20–60 million[7][8][9][10] | 1207–1405 | Mongol Empire vs. various states in Eurasia | Asia and Europe || Three Kingdoms | 34 million[10] | 220–280 | Multiple sides | China || Taiping Rebellion | 20–30 million[11][12] | 1850–1864 | Qing Dynasty vs. Taiping Heavenly Kingdom | China || World War I | 15–30 million[13][14] | 1914–1918 | Allied Powers vs. Central Powers | Global || Manchu Conquest of China | 25 million[15][16] | 1618–1683 | Manchu vs. Ming Dynasty | China || Conquests of Timur | 7–20 million[10] | 1369–1405 | Timurid Empire vs. various states in Asia | Central Asia, West Asia, and South Asia || An Lushan rebellion | 13 million[17] | 754–763 | Tang Dynasty and Uyghur Khaganate vs. Yan Dynasty | China || Thirty Years' War | 4–12 million[18] | 1618–1648 | Anti-Imperial Alliance vs. Imperial Alliance | Europe || Spanish conquest of Mexico | 10.5 million[19] | 1519–1530 | Spanish Empire and allies vs. Aztec Empire and allies | Mexico || Spanish conquest of the Inca Empire | 10 million[20] | 1533–1572 | Spanish Empire vs. Inca Empire | South America || Russian Civil War | 7–10 million[21] | 1917–1922 | Multiple sides; Bolsheviks, Anti-Bolshevik left, White Movement, Allied and Central Intervention, as well as various separatists | Russia || Chinese Civil War | 4–9 million[22] | 1927–1949[b] | Multiple sides; but predominantly Communists vs. Kuomintang | China ||\n",
      "Source URL: https://en.wikipedia.org/wiki/List_of_wars_by_death_toll\n",
      "\n",
      "Chunk: List | War | Death range | Date | Combatants | Location ||| crusades | 1 – 9 million [ 25 ] [ 26 ] | 1095 – 1291 | originally byzantine empire vs. seljuk empire, but evolved into christians vs. muslims | europe and the middle east || Reconquista | 7 million[27] | 718–1492 | Spanish and Portuguese Christians vs. Spanish and Portuguese Muslims | Iberian Peninsula || French Revolutionary and Napoleonic Wars | 5–7 million[28] | 1792–1815 | French Republic, later French Empire, vs. Coalition forces | Europe || Conquests of Menelik II | 6 million[29] | 1878–1904 | Ethiopian Empire vs. Emirate of Harar, Kingdom of Kaffa, Kingdom of Wolaita, and allies | Horn of Africa || Second Congo War | 3–5.4 million[30][31][32] | 1998–2003 | Multiple sides | Democratic Republic of the Congo || Spanish conquest of New Granada | 5.25 million[33][34] | 1525–1540 | Spanish Empire and Klein-Venedig vs. Muisca Confederation and other civilizations | Colombia || Deccan wars | 4.6–5 million[35] | 1680–1707 | Mughal Empire vs. Maratha Confederacy | Indian subcontinent || Nigerian Civil War | 3.04–4.1 million[36][37] | 1967–1970 | Nigeria vs. Biafra | Nigeria || Deluge | 3–4 milion[38] | 1648–1666 | Poland–Lithuania vs Swedish Empire and Russia | Eastern Europe || French Wars of Religion | 2–4 million[39] | 1562–1598 | French catholics vs Huguenots | France || Korean War | 2.5–3.5 million[40][22] | 1950–1953 | North Korea and allies vs. South Korea and allies | Korean Peninsula || Vietnam War | 1.1–3.4 million[41][42] | 1955–1975 | North Vietnam and allies vs. South Vietnam and allies | Indochina ||\n",
      "Source URL: https://en.wikipedia.org/wiki/List_of_wars_by_death_toll\n",
      "\n"
     ]
    }
   ],
   "source": [
    "import re\n",
    "import pickle\n",
    "from bs4 import BeautifulSoup\n",
    "import pandas as pd\n",
    "from transformers import AutoTokenizer\n",
    "import os\n",
    "from io import StringIO\n",
    "import logging\n",
    "from tqdm.notebook import tqdm\n",
    "\n",
    "os.environ[\"TOKENIZERS_PARALLELISM\"] = \"false\"\n",
    "\n",
    "model_path = '/Users/hissain/git/github/models/all-MiniLM-L6-v2'\n",
    "tokenizer = AutoTokenizer.from_pretrained(model_path)\n",
    "\n",
    "# Define maximum token length per chunk\n",
    "max_token_length = 480\n",
    "\n",
    "def get_text_content(element):\n",
    "    return ' '.join(element.stripped_strings)\n",
    "\n",
    "def chunk_text(text, max_token_length):\n",
    "    tokens = tokenizer.encode(text, add_special_tokens=False)\n",
    "    chunks = []\n",
    "    start = 0\n",
    "    while start < len(tokens):\n",
    "        end = min(start + max_token_length, len(tokens))\n",
    "        chunk = tokenizer.decode(tokens[start:end])\n",
    "        chunks.append(chunk)\n",
    "        start = end\n",
    "    return chunks\n",
    "\n",
    "def merge_small_chunks(chunks, max_token_length):\n",
    "    merged_chunks = []\n",
    "    temp_chunk = \"\"\n",
    "    \n",
    "    for chunk in chunks:\n",
    "        if len(tokenizer.encode(temp_chunk + \" \" + chunk)) <= max_token_length:\n",
    "            temp_chunk += \" \" + chunk\n",
    "        else:\n",
    "            while len(tokenizer.encode(temp_chunk)) > max_token_length:\n",
    "                split_point = max_token_length - 1  # Choose safe split point\n",
    "                merged_chunks.append(tokenizer.decode(tokenizer.encode(temp_chunk)[:split_point]))\n",
    "                temp_chunk = tokenizer.decode(tokenizer.encode(temp_chunk)[split_point:])\n",
    "                \n",
    "            merged_chunks.append(temp_chunk.strip())\n",
    "            temp_chunk = chunk\n",
    "    \n",
    "    if temp_chunk:\n",
    "        merged_chunks.append(temp_chunk.strip())\n",
    "    \n",
    "    return merged_chunks\n",
    "\n",
    "def chunk_table(df, max_token_length, header_info):\n",
    "    table_chunks = []\n",
    "    current_chunk = header_info + ' ||| '\n",
    "    \n",
    "    for _, row in df.iterrows():\n",
    "        row_text = ' | '.join([str(cell) for cell in row if pd.notna(cell)])\n",
    "        combined_text = current_chunk + row_text + ' || '\n",
    "        \n",
    "        if len(tokenizer.encode(combined_text)) <= max_token_length:\n",
    "            current_chunk += row_text + ' || '\n",
    "        else:\n",
    "            # Split the row if adding it would exceed max_token_length\n",
    "            row_chunks = chunk_text(row_text, max_token_length)\n",
    "            for sub_chunk in row_chunks:\n",
    "                if len(tokenizer.encode(current_chunk)) + len(tokenizer.encode(sub_chunk)) <= max_token_length:\n",
    "                    current_chunk += sub_chunk + ' || '\n",
    "                else:\n",
    "                    table_chunks.append(current_chunk.strip())\n",
    "                    current_chunk = header_info + ' ||| ' + sub_chunk + ' || '\n",
    "                    \n",
    "    if current_chunk:\n",
    "        table_chunks.append(current_chunk.strip())\n",
    "    \n",
    "    return table_chunks\n",
    "\n",
    "\n",
    "def scrape_and_chunk_page(content):\n",
    "\n",
    "    soup = BeautifulSoup(content[1], 'html.parser') # index-1 for html\n",
    "    \n",
    "    chunks = []\n",
    "    current_url = content[0] #index-0 for url\n",
    "    last_header = \"\"\n",
    "\n",
    "    elements = soup.find_all(['h1', 'h2', 'h3', 'h4', 'p', 'table'])\n",
    "    for element in elements:\n",
    "        if element.name in ['h1', 'h2', 'h3', 'h4']:\n",
    "            header_text = get_text_content(element)\n",
    "            last_header = header_text\n",
    "            header_chunks = chunk_text(header_text, max_token_length)\n",
    "            chunks.extend([(chunk, current_url) for chunk in header_chunks])\n",
    "            \n",
    "        elif element.name == 'p':\n",
    "            paragraph_text = get_text_content(element)\n",
    "            paragraph_chunks = chunk_text(paragraph_text, max_token_length)\n",
    "            chunks.extend([(chunk, current_url) for chunk in paragraph_chunks])\n",
    "            \n",
    "        elif element.name == 'table':\n",
    "            table_html = StringIO(str(element))\n",
    "            df = pd.read_html(table_html)[0]\n",
    "            \n",
    "            df.dropna(axis=0, how='all', inplace=True)\n",
    "            df.dropna(axis=1, how='all', inplace=True)\n",
    "            \n",
    "            df.columns = [str(col) for col in df.columns]\n",
    "            header_info = last_header + ' | ' + ' | '.join(df.columns) if not df.columns.empty else last_header\n",
    "            \n",
    "            table_chunks = chunk_table(df, max_token_length, header_info)\n",
    "            chunks.extend([(chunk, current_url) for chunk in table_chunks])\n",
    "\n",
    "    text_chunks = [chunk[0] for chunk in chunks]\n",
    "    final_chunks = merge_small_chunks(text_chunks, max_token_length)\n",
    "    \n",
    "    return [(chunk, current_url) for chunk in final_chunks]\n",
    "\n",
    "def scrape_and_chunk(html_contents):\n",
    "    chunks = []\n",
    "    for content in tqdm(html_contents, desc=\"Scraping pages\"):\n",
    "        chunks.extend(scrape_and_chunk_page(content))\n",
    "    return chunks\n",
    "\n",
    "with open(\"html_contents.pkl\", \"rb\") as f:\n",
    "    html_contents = pickle.load(f)\n",
    "\n",
    "print(f\"Loaded {len(html_contents)} URLs from pickle file\")\n",
    "scraped_chunks = scrape_and_chunk(html_contents)\n",
    "\n",
    "print(f\"Total Chunks: {len(scraped_chunks)}\")\n",
    "\n",
    "for chunk, url in scraped_chunks[:3]:\n",
    "    print(f\"Chunk: {chunk}\\nSource URL: {url}\\n\")"
   ]
  },
  {
   "cell_type": "code",
   "execution_count": 13,
   "id": "e4e3efb3",
   "metadata": {},
   "outputs": [],
   "source": [
    "with open(\"scraped_chunks.pkl\", \"wb\") as f:\n",
    "    pickle.dump(scraped_chunks, f)"
   ]
  },
  {
   "cell_type": "code",
   "execution_count": 14,
   "id": "0dac0f31",
   "metadata": {},
   "outputs": [
    {
     "name": "stdout",
     "output_type": "stream",
     "text": [
      "299\n"
     ]
    }
   ],
   "source": [
    "with open(\"scraped_chunks.pkl\", \"rb\") as f:\n",
    "    data = pickle.load(f)\n",
    "print(len(data))"
   ]
  }
 ],
 "metadata": {
  "kernelspec": {
   "display_name": "Python (myenv)",
   "language": "python",
   "name": "myenv"
  },
  "language_info": {
   "codemirror_mode": {
    "name": "ipython",
    "version": 3
   },
   "file_extension": ".py",
   "mimetype": "text/x-python",
   "name": "python",
   "nbconvert_exporter": "python",
   "pygments_lexer": "ipython3",
   "version": "3.11.5"
  }
 },
 "nbformat": 4,
 "nbformat_minor": 5
}
