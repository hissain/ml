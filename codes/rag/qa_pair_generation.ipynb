{
 "cells": [
  {
   "cell_type": "code",
   "execution_count": 30,
   "id": "bf5ff37e",
   "metadata": {},
   "outputs": [
    {
     "name": "stdout",
     "output_type": "stream",
     "text": [
      "299\n"
     ]
    }
   ],
   "source": [
    "import pickle\n",
    "with open(\"scraped_chunks.pkl\", \"rb\") as f:\n",
    "    data = pickle.load(f)\n",
    "print(len(data))"
   ]
  },
  {
   "cell_type": "code",
   "execution_count": 33,
   "id": "77001c3d",
   "metadata": {},
   "outputs": [],
   "source": [
    "import requests\n",
    "import json\n",
    "import pandas as pd\n",
    "import re\n",
    "\n",
    "ollama_url_gen = \"http://localhost:11434/api/generate\"\n",
    "ollama_model_name = \"llama3.2:latest\"\n",
    "\n",
    "def generate_qa_pairs(chunk, model=ollama_model_name):\n",
    "    prompt = f\"\"\"\n",
    "You are an expert assistant skilled at generating question-answer pairs for text comprehension. \n",
    "Given a text chunk, generate diverse, relevant, and accurate question-answer pairs that cover the key information in the chunk. \n",
    "Your output should be a list of pairs in JSON format, where each pair includes a \"question\" and its corresponding \"answer.\"\n",
    "\n",
    "Example:\n",
    "Chunk: \"The Eiffel Tower is a wrought-iron lattice tower located on the Champ de Mars in Paris, France. It was designed by Gustave Eiffel's engineering company and completed in 1889.\"\n",
    "\n",
    "Output:\n",
    "[\n",
    "  {{\"question\": \"Where is the Eiffel Tower located?\", \"answer\": \"The Eiffel Tower is located on the Champ de Mars in Paris, France.\"}},\n",
    "  {{\"question\": \"Who designed the Eiffel Tower?\", \"answer\": \"The Eiffel Tower was designed by Gustave Eiffel's engineering company.\"}},\n",
    "  {{\"question\": \"When was the Eiffel Tower completed?\", \"answer\": \"The Eiffel Tower was completed in 1889.\"}}\n",
    "]\n",
    "\n",
    "Now, process the following chunk:\n",
    "Chunk: {chunk}\n",
    "\"\"\"\n",
    "    \n",
    "    payload = {\"model\": model, \"prompt\": prompt, \"stream\": False}\n",
    "    headers = {\"Content-Type\": \"application/json\"}\n",
    "    response = requests.post(ollama_url_gen, headers=headers, data=json.dumps(payload))\n",
    "    \n",
    "    if response.status_code != 200:\n",
    "        raise Exception(f\"Error from Ollama: {response.text}\")\n",
    "    \n",
    "    content = response.json().get(\"response\", \"\")\n",
    "    try:\n",
    "        json_match = re.search(r\"\\[.*?\\]\", content, re.DOTALL)\n",
    "        if json_match:\n",
    "            raw_json = json_match.group()\n",
    "            sanitized_json = re.sub(r\",\\s*]\", \"]\", raw_json)\n",
    "            qa_pairs = json.loads(sanitized_json)\n",
    "            return qa_pairs\n",
    "        else:\n",
    "            raise Exception(f\"Valid JSON not found in response: {content}\")\n",
    "    except json.JSONDecodeError as e:\n",
    "        raise Exception(f\"Failed to parse JSON response: {content}\")"
   ]
  },
  {
   "cell_type": "code",
   "execution_count": 43,
   "id": "d360e6bd",
   "metadata": {},
   "outputs": [],
   "source": [
    "df_chunks = pd.DataFrame(data)[1:3]"
   ]
  },
  {
   "cell_type": "code",
   "execution_count": 44,
   "id": "df833ed8",
   "metadata": {},
   "outputs": [
    {
     "data": {
      "text/html": [
       "<div>\n",
       "<style scoped>\n",
       "    .dataframe tbody tr th:only-of-type {\n",
       "        vertical-align: middle;\n",
       "    }\n",
       "\n",
       "    .dataframe tbody tr th {\n",
       "        vertical-align: top;\n",
       "    }\n",
       "\n",
       "    .dataframe thead th {\n",
       "        text-align: right;\n",
       "    }\n",
       "</style>\n",
       "<table border=\"1\" class=\"dataframe\">\n",
       "  <thead>\n",
       "    <tr style=\"text-align: right;\">\n",
       "      <th></th>\n",
       "      <th>0</th>\n",
       "      <th>1</th>\n",
       "    </tr>\n",
       "  </thead>\n",
       "  <tbody>\n",
       "    <tr>\n",
       "      <th>1</th>\n",
       "      <td>List | War | Death range | Date | Combatants |...</td>\n",
       "      <td>https://en.wikipedia.org/wiki/List_of_wars_by_...</td>\n",
       "    </tr>\n",
       "    <tr>\n",
       "      <th>2</th>\n",
       "      <td>List | War | Death range | Date | Combatants |...</td>\n",
       "      <td>https://en.wikipedia.org/wiki/List_of_wars_by_...</td>\n",
       "    </tr>\n",
       "  </tbody>\n",
       "</table>\n",
       "</div>"
      ],
      "text/plain": [
       "                                                   0  \\\n",
       "1  List | War | Death range | Date | Combatants |...   \n",
       "2  List | War | Death range | Date | Combatants |...   \n",
       "\n",
       "                                                   1  \n",
       "1  https://en.wikipedia.org/wiki/List_of_wars_by_...  \n",
       "2  https://en.wikipedia.org/wiki/List_of_wars_by_...  "
      ]
     },
     "execution_count": 44,
     "metadata": {},
     "output_type": "execute_result"
    }
   ],
   "source": [
    "df_chunks"
   ]
  },
  {
   "cell_type": "code",
   "execution_count": null,
   "id": "4ec55f9a",
   "metadata": {},
   "outputs": [
    {
     "data": {
      "application/vnd.jupyter.widget-view+json": {
       "model_id": "c6e3ef97f5c24ba1bc5aeb845c4720d6",
       "version_major": 2,
       "version_minor": 0
      },
      "text/plain": [
       "  0%|          | 0/2 [00:00<?, ?it/s]"
      ]
     },
     "metadata": {},
     "output_type": "display_data"
    }
   ],
   "source": [
    "from tqdm.notebook import tqdm\n",
    "\n",
    "qa_data = []\n",
    "for _, row in tqdm(df_chunks.iterrows(), total=len(df_chunks)):\n",
    "    chunk_id = row[1]\n",
    "    chunk_text = row[0]\n",
    "    try:\n",
    "        qa_pairs = generate_qa_pairs(chunk_text)\n",
    "        for pair in qa_pairs:\n",
    "            qa_data.append({\n",
    "                \"chunk_id\": chunk_id,\n",
    "                \"question\": pair[\"question\"],\n",
    "                \"answer\": pair[\"answer\"]\n",
    "            })\n",
    "    except Exception as e:\n",
    "        print(f\"Error processing chunk {chunk_id}: {e}\")\n",
    "\n",
    "df_qa = pd.DataFrame(qa_data)\n",
    "df_qa.to_csv(\"qa_pairs.csv\", index=False)\n",
    "print(\"QA pairs saved to qa_pairs.csv\")"
   ]
  }
 ],
 "metadata": {
  "kernelspec": {
   "display_name": "Python 3 (ipykernel)",
   "language": "python",
   "name": "python3"
  },
  "language_info": {
   "codemirror_mode": {
    "name": "ipython",
    "version": 3
   },
   "file_extension": ".py",
   "mimetype": "text/x-python",
   "name": "python",
   "nbconvert_exporter": "python",
   "pygments_lexer": "ipython3",
   "version": "3.11.5"
  }
 },
 "nbformat": 4,
 "nbformat_minor": 5
}
