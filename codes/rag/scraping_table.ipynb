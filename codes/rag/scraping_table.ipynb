{
 "cells": [
  {
   "cell_type": "code",
   "execution_count": 37,
   "id": "91808bb3",
   "metadata": {
    "scrolled": false
   },
   "outputs": [
    {
     "name": "stderr",
     "output_type": "stream",
     "text": [
      "/Users/hissain/myenv/lib/python3.11/site-packages/huggingface_hub/file_download.py:1142: FutureWarning: `resume_download` is deprecated and will be removed in version 1.0.0. Downloads always resume when possible. If you want to force a new download, use `force_download=True`.\n",
      "  warnings.warn(\n"
     ]
    },
    {
     "data": {
      "application/vnd.jupyter.widget-view+json": {
       "model_id": "35847b18941b4a1e9adac2de30f734f6",
       "version_major": 2,
       "version_minor": 0
      },
      "text/plain": [
       "tokenizer_config.json:   0%|          | 0.00/49.0 [00:00<?, ?B/s]"
      ]
     },
     "metadata": {},
     "output_type": "display_data"
    },
    {
     "data": {
      "application/vnd.jupyter.widget-view+json": {
       "model_id": "dc62b6efe84a4858ada0826d22da799f",
       "version_major": 2,
       "version_minor": 0
      },
      "text/plain": [
       "config.json:   0%|          | 0.00/570 [00:00<?, ?B/s]"
      ]
     },
     "metadata": {},
     "output_type": "display_data"
    },
    {
     "data": {
      "application/vnd.jupyter.widget-view+json": {
       "model_id": "fd90729c9f654abc94ee8855e1d800ef",
       "version_major": 2,
       "version_minor": 0
      },
      "text/plain": [
       "tokenizer_config.json:   0%|          | 0.00/49.0 [00:00<?, ?B/s]"
      ]
     },
     "metadata": {},
     "output_type": "display_data"
    },
    {
     "data": {
      "application/vnd.jupyter.widget-view+json": {
       "model_id": "616b7d3fe1e448939169feb9ee1c425c",
       "version_major": 2,
       "version_minor": 0
      },
      "text/plain": [
       "vocab.txt:   0%|          | 0.00/213k [00:00<?, ?B/s]"
      ]
     },
     "metadata": {},
     "output_type": "display_data"
    },
    {
     "data": {
      "application/vnd.jupyter.widget-view+json": {
       "model_id": "3176dd441aad4c62a649218b737939d9",
       "version_major": 2,
       "version_minor": 0
      },
      "text/plain": [
       "tokenizer.json:   0%|          | 0.00/436k [00:00<?, ?B/s]"
      ]
     },
     "metadata": {},
     "output_type": "display_data"
    },
    {
     "data": {
      "application/vnd.jupyter.widget-view+json": {
       "model_id": "353834b8596048779655c9b52268a4fa",
       "version_major": 2,
       "version_minor": 0
      },
      "text/plain": [
       "tokenizer_config.json:   0%|          | 0.00/49.0 [00:00<?, ?B/s]"
      ]
     },
     "metadata": {},
     "output_type": "display_data"
    },
    {
     "name": "stdout",
     "output_type": "stream",
     "text": [
      "Loaded 9 URLs from pickle file\n"
     ]
    },
    {
     "data": {
      "application/vnd.jupyter.widget-view+json": {
       "model_id": "43903f961947422cabee0837796a98b0",
       "version_major": 2,
       "version_minor": 0
      },
      "text/plain": [
       "Scraping pages:   0%|          | 0/9 [00:00<?, ?it/s]"
      ]
     },
     "metadata": {},
     "output_type": "display_data"
    },
    {
     "name": "stderr",
     "output_type": "stream",
     "text": [
      "Token indices sequence length is longer than the specified maximum sequence length for this model (580 > 512). Running this sequence through the model will result in indexing errors\n"
     ]
    },
    {
     "name": "stdout",
     "output_type": "stream",
     "text": [
      "Total Chunks: 1131\n",
      "Chunk: Contents List of wars by death toll Table (List of wars by death toll): | 0 ||| Part of a series on || War (outline) || showHistory || showMilitary || showBattlespace || showWeapons || showTactics || showOperational || showStrategy || showGrand strategy || showAdministrative || showOrganization || showPersonnel || showLogistics || showScience || showLaw || showTheory || showNon-warfare || showCulture || showRelated || hideLists Battles Military occupations Military terms Operations Sieges War crimes Wars Weapons Writers || vte ||\n",
      "Source URL: https://en.wikipedia.org/wiki/List_of_wars_by_death_toll\n",
      "\n",
      "Chunk: This list of wars by death toll includes all deaths that are either directly or indirectly caused by war. These numbers include the deaths of military personnel which are the direct results of a battle or other military wartime actions, as well as wartime / war - related deaths of civilians which are often results of war - induced epidemics, famines, genocide, etc. Due to incomplete records, the destruction of evidence, differing methods of counting, and various other reasons, death tolls of wars have often been quite uncertain, and heavily debated.\n",
      "Source URL: https://en.wikipedia.org/wiki/List_of_wars_by_death_toll\n",
      "\n"
     ]
    }
   ],
   "source": [
    "import os\n",
    "import re\n",
    "import pickle\n",
    "import pandas as pd\n",
    "\n",
    "from io import StringIO\n",
    "from bs4 import BeautifulSoup\n",
    "from tqdm.notebook import tqdm\n",
    "from transformers import AutoTokenizer\n",
    "\n",
    "os.environ[\"TOKENIZERS_PARALLELISM\"] = \"false\"\n",
    "\n",
    "#model_path = '/Users/hissain/git/github/models/all-MiniLM-L6-v2'\n",
    "model_path = \"bert-base-cased\"\n",
    "tokenizer = AutoTokenizer.from_pretrained(model_path, force_download=True)\n",
    "\n",
    "# Define maximum token length per chunk\n",
    "max_token_length = 200\n",
    "\n",
    "def clean(text):\n",
    "    clean_text = re.sub(r'\\[\\s*\\d+\\s*\\]', '', text)\n",
    "    return clean_text\n",
    "\n",
    "def get_text_content(element):\n",
    "    return ' '.join(str(e) for e in element.stripped_strings)\n",
    "\n",
    "def chunk_text(text, max_token_length):\n",
    "    tokens = tokenizer.encode(text, add_special_tokens=False)\n",
    "    chunks = []\n",
    "    start = 0\n",
    "    while start < len(tokens):\n",
    "        end = min(start + max_token_length, len(tokens))\n",
    "        chunk = tokenizer.decode(tokens[start:end])\n",
    "        chunks.append(chunk)\n",
    "        start = end\n",
    "    return chunks\n",
    "\n",
    "def merge_small_chunks(chunks, max_token_length):\n",
    "    merged_chunks = []\n",
    "    temp_chunk = \"\"\n",
    "    \n",
    "    for chunk in chunks:\n",
    "        if len(tokenizer.encode(temp_chunk + \" \" + chunk)) <= max_token_length:\n",
    "            temp_chunk += \" \" + chunk\n",
    "        else:\n",
    "            while len(tokenizer.encode(temp_chunk)) > max_token_length:\n",
    "                split_point = max_token_length - 1\n",
    "                merged_chunks.append(tokenizer.decode(tokenizer.encode(temp_chunk)[:split_point]))\n",
    "                temp_chunk = tokenizer.decode(tokenizer.encode(temp_chunk)[split_point:])\n",
    "                \n",
    "            merged_chunks.append(temp_chunk.strip())\n",
    "            temp_chunk = chunk\n",
    "    \n",
    "    if temp_chunk:\n",
    "        merged_chunks.append(temp_chunk.strip())\n",
    "    \n",
    "    return merged_chunks\n",
    "\n",
    "def chunk_table(df, max_token_length, header_info):\n",
    "    table_chunks = []\n",
    "    current_chunk = header_info + ' ||| '\n",
    "    \n",
    "    for _, row in df.iterrows():\n",
    "        row_text = ' | '.join([str(cell) for cell in row if pd.notna(cell)])\n",
    "        row_text = clean(row_text)\n",
    "        combined_text = current_chunk + row_text + ' || '\n",
    "        \n",
    "        if len(tokenizer.encode(combined_text)) <= max_token_length:\n",
    "            current_chunk += row_text + ' || '\n",
    "        else:\n",
    "            row_chunks = chunk_text(row_text, max_token_length)\n",
    "            for sub_chunk in row_chunks:\n",
    "                if len(tokenizer.encode(current_chunk)) + len(tokenizer.encode(sub_chunk)) <= max_token_length:\n",
    "                    current_chunk += sub_chunk + ' || '\n",
    "                else:\n",
    "                    table_chunks.append(current_chunk.strip())\n",
    "                    current_chunk = header_info + ' ||| ' + sub_chunk + ' || '\n",
    "                    \n",
    "    if current_chunk:\n",
    "        table_chunks.append(current_chunk.strip())\n",
    "    \n",
    "    return table_chunks\n",
    "\n",
    "\n",
    "def scrape_and_chunk_page(content):\n",
    "\n",
    "    soup = BeautifulSoup(content[1], 'html.parser') # index-1 for html\n",
    "    \n",
    "    chunks = []\n",
    "    current_url = content[0] #index-0 for url\n",
    "    last_header = \"\"\n",
    "\n",
    "    elements = soup.find_all(['h1', 'h2', 'h3', 'h4', 'p', 'table'])\n",
    "    for element in elements:\n",
    "        if element.name in ['h1', 'h2', 'h3', 'h4']:\n",
    "            header_text = get_text_content(element)\n",
    "            header_text = clean(header_text)\n",
    "            last_header = \"\\nTable (\" + header_text + \"):\"\n",
    "            header_chunks = chunk_text(header_text, max_token_length)\n",
    "            chunks.extend([(chunk, current_url) for chunk in header_chunks])\n",
    "            \n",
    "        elif element.name == 'p':\n",
    "            paragraph_text = get_text_content(element)\n",
    "            paragraph_text = clean(paragraph_text)\n",
    "            paragraph_chunks = chunk_text(paragraph_text, max_token_length)\n",
    "            chunks.extend([(chunk, current_url) for chunk in paragraph_chunks])\n",
    "            \n",
    "        elif element.name == 'table':\n",
    "            table_html = StringIO(str(element))\n",
    "            df = pd.read_html(table_html)[0]\n",
    "            \n",
    "            df.dropna(axis=0, how='all', inplace=True)\n",
    "            df.dropna(axis=1, how='all', inplace=True)\n",
    "            \n",
    "            df.columns = [str(col) for col in df.columns]\n",
    "            header_info = last_header + ' | ' + ' | '.join(df.columns) if not df.columns.empty else last_header\n",
    "            \n",
    "            table_chunks = chunk_table(df, max_token_length, header_info)\n",
    "            chunks.extend([(chunk, current_url) for chunk in table_chunks])\n",
    "\n",
    "    text_chunks = [chunk[0] for chunk in chunks]\n",
    "    final_chunks = merge_small_chunks(text_chunks, max_token_length)\n",
    "    \n",
    "    return [(chunk, current_url) for chunk in final_chunks]\n",
    "\n",
    "def scrape_and_chunk(html_contents):\n",
    "    chunks = []\n",
    "    for content in tqdm(html_contents, desc=\"Scraping pages\"):\n",
    "        chunks.extend(scrape_and_chunk_page(content))\n",
    "    return chunks\n",
    "\n",
    "with open(\"html_contents.pkl\", \"rb\") as f:\n",
    "    html_contents = pickle.load(f)\n",
    "\n",
    "print(f\"Loaded {len(html_contents)} URLs from pickle file\")\n",
    "scraped_chunks = scrape_and_chunk(html_contents)\n",
    "\n",
    "print(f\"Total Chunks: {len(scraped_chunks)}\")\n",
    "\n",
    "for chunk, url in scraped_chunks[:2]:\n",
    "    print(f\"Chunk: {chunk}\\nSource URL: {url}\\n\")"
   ]
  },
  {
   "cell_type": "code",
   "execution_count": 39,
   "id": "8f543279",
   "metadata": {},
   "outputs": [
    {
     "data": {
      "application/vnd.jupyter.widget-view+json": {
       "model_id": "4efc9d5d843549cf9171f83a6ab98986",
       "version_major": 2,
       "version_minor": 0
      },
      "text/plain": [
       "Batches:   0%|          | 0/36 [00:00<?, ?it/s]"
      ]
     },
     "metadata": {},
     "output_type": "display_data"
    },
    {
     "name": "stdout",
     "output_type": "stream",
     "text": [
      "Stored 1131 relevant chunks\n"
     ]
    }
   ],
   "source": [
    "import spacy\n",
    "from collections import Counter\n",
    "import re\n",
    "import numpy as np\n",
    "from qdrant_client import QdrantClient, models\n",
    "from tqdm.notebook import tqdm\n",
    "from sentence_transformers import SentenceTransformer\n",
    "from IPython.display import display, clear_output, Markdown\n",
    "import requests\n",
    "import json\n",
    "from requests.adapters import HTTPAdapter\n",
    "from requests.packages.urllib3.util.retry import Retry\n",
    "from rank_bm25 import BM25Okapi\n",
    "\n",
    "# Load SpaCy's English model for Named Entity Recognition\n",
    "nlp = spacy.load(\"en_core_web_sm\")\n",
    "\n",
    "session = requests.Session()\n",
    "retry = Retry(total=5, backoff_factor=1, status_forcelist=[429, 500, 502, 503, 504])\n",
    "adapter = HTTPAdapter(max_retries=retry)\n",
    "session.mount(\"http://\", adapter)\n",
    "session.headers.update({\"Connection\": \"keep-alive\", \"Content-Type\": \"application/json\"})\n",
    "\n",
    "qdrant_url = \"http://localhost:6333\"\n",
    "collection_name = \"wiki_collection\"\n",
    "ollama_url_gen = \"http://localhost:11434/api/generate\"\n",
    "ollama_model_name = \"llama3.2:latest\"\n",
    "\n",
    "client = QdrantClient(url=qdrant_url)\n",
    "\n",
    "model_path_st = '/Users/hissain/git/github/models/all-MiniLM-L6-v2'\n",
    "embedding_model = SentenceTransformer(model_path_st)\n",
    "\n",
    "TOP_K = 20\n",
    "TOP_N = 3\n",
    "SYM_W = 0.8\n",
    "SYN_W = 0.2\n",
    "NE_BOOST_FACTOR = 1.2\n",
    "NE_FULL_BOOST_FACTOR = 1.2\n",
    "\n",
    "def get_embeddings(texts):\n",
    "    return embedding_model.encode(texts, batch_size=32, show_progress_bar=True)\n",
    "\n",
    "def create_collection(dimension):\n",
    "    client.delete_collection(collection_name=collection_name)\n",
    "    if not client.collection_exists(collection_name=collection_name):\n",
    "        client.create_collection(\n",
    "            collection_name=collection_name,\n",
    "            vectors_config=models.VectorParams(size=dimension, distance=models.Distance.COSINE),\n",
    "        )\n",
    "    \n",
    "def upsert_points_with_metadata(embeddings, chunks):\n",
    "    points = [\n",
    "        models.PointStruct(\n",
    "            id=i,\n",
    "            vector=embedding.tolist(),\n",
    "            payload={\"text\": chunk, \"url\": url}\n",
    "        ) for i, (embedding, (chunk, url)) in enumerate(zip(embeddings, chunks))\n",
    "    ]\n",
    "    client.upsert(collection_name=collection_name, points=points)\n",
    "\n",
    "def store_in_qdrant_with_metadata(chunks):\n",
    "    dimension = 384\n",
    "    create_collection(dimension)\n",
    "    chunk_texts = [chunk for chunk, _ in chunks]\n",
    "    embeddings = get_embeddings(chunk_texts)\n",
    "    upsert_points_with_metadata(embeddings, chunks)\n",
    "\n",
    "def search_points_with_metadata(query_text, k=TOP_K):\n",
    "    query_embedding = get_embeddings([query_text])[0]\n",
    "    search_result = client.search(\n",
    "        collection_name=collection_name,\n",
    "        query_vector=query_embedding.tolist(),\n",
    "        limit=k,\n",
    "        with_payload=True\n",
    "    )\n",
    "    return [{\"text\": hit.payload[\"text\"], \"url\": hit.payload[\"url\"], \"score\": hit.score} for hit in search_result]\n",
    "\n",
    "def init_bm25(corpus_texts):\n",
    "    tokenized_corpus = [text.split() for text in corpus_texts]\n",
    "    return BM25Okapi(tokenized_corpus)\n",
    "\n",
    "def calculate_bm25_scores(bm25, query_text):\n",
    "    tokenized_query = query_text.split()\n",
    "    return bm25.get_scores(tokenized_query)\n",
    "\n",
    "def extract_named_entities(text):\n",
    "    doc = nlp(text)\n",
    "    return [ent.text for ent in doc.ents]\n",
    "\n",
    "def boost_ne_scores(query_text, docs, bm25_scores, boost_factor=NE_BOOST_FACTOR, full_match_boost=NE_FULL_BOOST_FACTOR):\n",
    "    query_entities = extract_named_entities(query_text)\n",
    "    print(f\"Query Named Entities: {query_entities}\")\n",
    "    \n",
    "    boosted_scores = []\n",
    "    for idx, (doc, bm25_score) in enumerate(zip(docs, bm25_scores)):\n",
    "        doc_entities = extract_named_entities(doc[\"text\"])\n",
    "        matching_ne_count = sum(1 for ne in query_entities if ne in doc_entities)\n",
    "        full_match = all(ne in doc_entities for ne in query_entities)\n",
    "        ne_boost = 1 + (boost_factor * matching_ne_count)\n",
    "        if full_match:\n",
    "            ne_boost *= full_match_boost\n",
    "        boosted_scores.append(bm25_score * ne_boost)\n",
    "\n",
    "    print(f\"First-4 Boosted scores: {boosted_scores[:4]}\")          \n",
    "    return boosted_scores\n",
    "\n",
    "#def calculate_boosted_scores(query_text, retrieved_docs, bm25):\n",
    "#    bm25_scores = calculate_bm25_scores(bm25, query_text)\n",
    "#    return boost_ne_scores(query_text, retrieved_docs, bm25_scores)\n",
    "\n",
    "def get_top_n_chunks_by_combined_score(query_text, retrieved_docs, n=TOP_N, semantic_weight=SYM_W, keyword_weight=SYN_W):\n",
    "    \n",
    "    bm25 = init_bm25([doc[\"text\"] for doc in retrieved_docs])\n",
    "    bm25_scores = calculate_bm25_scores(bm25, query_text)\n",
    "    boosted_keyword_scores = boost_ne_scores(query_text, retrieved_docs, bm25_scores)\n",
    "\n",
    "    scored_chunks = []\n",
    "    \n",
    "    for idx, doc in enumerate(retrieved_docs):\n",
    "        semantic_score = doc[\"score\"]\n",
    "        keyword_score = boosted_keyword_scores[idx]\n",
    "        combined_score = (semantic_weight * semantic_score) + (keyword_weight * keyword_score)\n",
    "        scored_chunks.append({\"text\": doc[\"text\"], \"url\": doc[\"url\"], \"combined_score\": combined_score})\n",
    "\n",
    "    scored_chunks.sort(key=lambda n: n[\"combined_score\"], reverse=True)\n",
    "    print(f\"Top-4 Combined scores: {[s['combined_score'] for s in scored_chunks[:4]]}\")\n",
    "    return scored_chunks[:n]\n",
    "\n",
    "def search_points_with_metadata(query_text, k=TOP_K, n=TOP_N, semantic_weight=SYM_W, keyword_weight=SYN_W):\n",
    "    query_embedding = get_embeddings([query_text])[0]\n",
    "    search_result = client.search(\n",
    "        collection_name=collection_name,\n",
    "        query_vector=query_embedding.tolist(),\n",
    "        limit=k,\n",
    "        with_payload=True\n",
    "    )\n",
    "    \n",
    "    retrieved_docs = [{\"text\": hit.payload[\"text\"], \"url\": hit.payload[\"url\"], \"score\": hit.score} for hit in search_result]\n",
    "    \n",
    "    return get_top_n_chunks_by_combined_score(query_text, retrieved_docs, n=n, semantic_weight=semantic_weight, keyword_weight=keyword_weight)\n",
    "\n",
    "def process_streamed_response(response, buffer_size=5):\n",
    "    response_text, buffer = \"\", \"\"\n",
    "    for chunk in response.iter_content(chunk_size=None):\n",
    "        try:\n",
    "            data = json.loads(chunk.decode('utf-8'))\n",
    "            content = data.get(\"response\", \"\")\n",
    "            buffer += content\n",
    "\n",
    "            if len(buffer) >= buffer_size:\n",
    "                response_text += buffer\n",
    "                clear_output(wait=True)\n",
    "                display(Markdown(response_text))\n",
    "                buffer = \"\"\n",
    "                \n",
    "        except json.JSONDecodeError:\n",
    "            continue\n",
    "            \n",
    "    response_text += buffer\n",
    "    clear_output(wait=True)\n",
    "    display(Markdown(response_text))\n",
    "    return response_text\n",
    "\n",
    "def inspect(query, k=TOP_K, n=TOP_N):\n",
    "    retrieved_docs = search_points_with_metadata(query, k=k, n=n)\n",
    "    combined_docs = \"\\n\\n\".join([f\"Source: {doc['url']}\\n\\n{doc['text']}\" for doc in retrieved_docs])\n",
    "    rag_prompt = f\"Documents:\\n\\n<context>\\n\\n{combined_docs}\\n\\n</context>\\n\\nQuestion: {query}\\n\\nAnswer:\\n\"\n",
    "    print(rag_prompt)\n",
    "\n",
    "def ask(query, k=TOP_K, n=TOP_N):\n",
    "    retrieved_docs = search_points_with_metadata(query, k=k, n=n)\n",
    "    combined_docs = \"\\n\\n\".join([f\"Source: {doc['url']}\\n\\n{doc['text']}\" for doc in retrieved_docs])\n",
    "    inst = (\"Instruction: Please answer the following question based on following context.\"\n",
    "            \"If you do not find the answer within the following context, please respond,\"\n",
    "            \"'Answer not found in the context.' without speculation or general knowledge.\"\n",
    "            \"'Do not start with phrase like, 'according to the context', or anything similar.\")\n",
    "    rag_prompt = f\"{inst}\\n\\n<context>\\n\\n{combined_docs}\\n\\n</context>\\n\\nQuestion: {query}\\n\\nAnswer:\\n\"\n",
    "    payload = {\"model\": ollama_model_name, \"prompt\": rag_prompt, \"stream\": True}\n",
    "    headers = {\"Content-Type\": \"application/json\"}\n",
    "\n",
    "    response = session.post(ollama_url_gen, headers=headers, data=json.dumps(payload), stream=True)\n",
    "    response_text = process_streamed_response(response) if response.status_code == 200 else \"Request failed\"\n",
    "    return response_text\n",
    "    \n",
    "try:\n",
    "    store_in_qdrant_with_metadata(scraped_chunks)\n",
    "    print(f'Stored {len(scraped_chunks)} relevant chunks')\n",
    "except Exception as e:\n",
    "    print(f\"Error storing in Qdrant: {e}\")"
   ]
  },
  {
   "cell_type": "code",
   "execution_count": 41,
   "id": "a90f09c8",
   "metadata": {},
   "outputs": [],
   "source": [
    "def ask(q):\n",
    "    return inspect(q)"
   ]
  },
  {
   "cell_type": "code",
   "execution_count": 42,
   "id": "4e5ba643",
   "metadata": {},
   "outputs": [
    {
     "data": {
      "application/vnd.jupyter.widget-view+json": {
       "model_id": "1d1d2c2bcd3c41928df7de36042d5d25",
       "version_major": 2,
       "version_minor": 0
      },
      "text/plain": [
       "Batches:   0%|          | 0/1 [00:00<?, ?it/s]"
      ]
     },
     "metadata": {},
     "output_type": "display_data"
    },
    {
     "name": "stdout",
     "output_type": "stream",
     "text": [
      "Query Named Entities: ['Bangladesh Liberation War']\n",
      "First-4 Boosted scores: [1.6317178267888255, 4.761380236393816, 0.5702600950934912, 1.1020164986765395]\n",
      "Top-4 Combined scores: [1.3892509272787632, 0.7634079253577651, 0.7422620260577495, 0.6699134942933664]\n",
      "Documents:\n",
      "\n",
      "<context>\n",
      "\n",
      "Source: https://en.wikipedia.org/wiki/List_of_wars_by_death_toll\n",
      "\n",
      "Table (List): | War | Death range | Date | Combatants | Location ||| Afghan conflict | 1. 17 – 3 million | 1978 – present | Multiple sides ; Afghan mujahideen, later Islamic Emirate of Afghanistan, United Tajik Opposition vs. Soviet Union, Democratic Republic of Afghanistan, Northern Alliance, Tajikistan, and the United States - led coalition | Afghanistan, Pakistan and Tajikistan || Delhi Conquest of North India | 0.5–3 million | 1300–1310 | Delhi Sultanate vs. North Indian States | Indian subcontinent || Bangladesh Liberation War | 0.3–3 million | 1971 | India and Provisional Government of Bangladesh vs. Pakistan | Indian subcontinent || Mexican Revolution | 1.7–2.7 million | 1910–1920 | Anti-government vs. Pro-government | Mexico ||\n",
      "\n",
      "Source: https://en.wikipedia.org/wiki/List_of_wars:_1945%E2%80%931989\n",
      "\n",
      "Table (1970–1979): | ('Started', 'Started') | ('Ended', 'Ended') | ('Name of conflict', 'Name of conflict') | ('Belligerents', 'Victorious party (if applicable)') | ('Belligerents', 'Defeated party (if applicable)') ||| 1971 | 1971 | 1971 Ugandan coup d'état | Ugandan putschists Rebel military Rebel police Supported by : Israel United Kingdom United States | Ugandan government Loyal state institutions || 1971 | 1971 | Bangladesh Liberation War Part of the Indo-Pakistani wars and conflicts | Bangladesh  India | Pakistan || 1971 | 1971 | 1971 JVP insurrection | Ceylon | JVP || 1971 | 1971 | Seizure of Abu Musa and the Greater and Lesser Tunbs | Iran | Sharjah ||\n",
      "\n",
      "Source: https://en.wikipedia.org/wiki/List_of_wars:_1945%E2%80%931989\n",
      "\n",
      "Table (1970–1979): | ('Started', 'Started') | ('Ended', 'Ended') | ('Name of conflict', 'Name of conflict') | ('Belligerents', 'Victorious party (if applicable)') | ('Belligerents', 'Defeated party (if applicable)') ||| 1972 | 1974 | First Eritrean Civil War Part of the Ethiopian Civil War and the Eritrean War of Independence | EPLF | ELF || 1972 | 1975 | 1972–1975 Bangladesh insurgency | Bangladesh | Gonobahini  Purba Banglar Sarbahara Party ||\n",
      "\n",
      "</context>\n",
      "\n",
      "Question: When was Bangladesh Liberation War happened?\n",
      "\n",
      "Answer:\n",
      "\n"
     ]
    }
   ],
   "source": [
    "_ = ask(\"When was Bangladesh Liberation War happened?\")"
   ]
  },
  {
   "cell_type": "code",
   "execution_count": 50,
   "id": "82154565",
   "metadata": {},
   "outputs": [
    {
     "data": {
      "application/vnd.jupyter.widget-view+json": {
       "model_id": "d9408fbe8c00447b800180a31f4abe66",
       "version_major": 2,
       "version_minor": 0
      },
      "text/plain": [
       "Batches:   0%|          | 0/1 [00:00<?, ?it/s]"
      ]
     },
     "metadata": {},
     "output_type": "display_data"
    },
    {
     "name": "stdout",
     "output_type": "stream",
     "text": [
      "Query Named Entities: ['Bangladesh Liberation War']\n",
      "First-4 Boosted scores: [3.0810359194788495, 0.8790158352985613, 1.0464795611702875, 1.2067768550289126]\n",
      "Top-4 Combined scores: [1.0969487838957699, 0.6768555630057826, 0.6470319442340575, 0.6434675890139607]\n",
      "Documents:\n",
      "\n",
      "<context>\n",
      "\n",
      "Source: https://en.wikipedia.org/wiki/List_of_wars_by_death_toll\n",
      "\n",
      "Table (List): | War | Death range | Date | Combatants | Location ||| Afghan conflict | 1. 17 – 3 million | 1978 – present | Multiple sides ; Afghan mujahideen, later Islamic Emirate of Afghanistan, United Tajik Opposition vs. Soviet Union, Democratic Republic of Afghanistan, Northern Alliance, Tajikistan, and the United States - led coalition | Afghanistan, Pakistan and Tajikistan || Delhi Conquest of North India | 0.5–3 million | 1300–1310 | Delhi Sultanate vs. North Indian States | Indian subcontinent || Bangladesh Liberation War | 0.3–3 million | 1971 | India and Provisional Government of Bangladesh vs. Pakistan | Indian subcontinent || Mexican Revolution | 1.7–2.7 million | 1910–1920 | Anti-government vs. Pro-government | Mexico ||\n",
      "\n",
      "Source: https://en.wikipedia.org/wiki/List_of_wars:_1945%E2%80%931989\n",
      "\n",
      "Table (1970–1979): | ('Started', 'Started') | ('Ended', 'Ended') | ('Name of conflict', 'Name of conflict') | ('Belligerents', 'Victorious party (if applicable)') | ('Belligerents', 'Defeated party (if applicable)') ||| 1971 | 1971 | 1971 Ugandan coup d'état | Ugandan putschists Rebel military Rebel police Supported by : Israel United Kingdom United States | Ugandan government Loyal state institutions || 1971 | 1971 | Bangladesh Liberation War Part of the Indo-Pakistani wars and conflicts | Bangladesh  India | Pakistan || 1971 | 1971 | 1971 JVP insurrection | Ceylon | JVP || 1971 | 1971 | Seizure of Abu Musa and the Greater and Lesser Tunbs | Iran | Sharjah ||\n",
      "\n",
      "Source: https://en.wikipedia.org/wiki/List_of_wars:_2003%E2%80%93present\n",
      "\n",
      "Table (2020–2024): | ('Started', 'Started') | ('Ended', 'Ended') | ('Name of conflict', 'Name of conflict') | ('Belligerents', 'Victorious party (if applicable)') | ('Belligerents', 'Defeated party (if applicable)') ||| 2022 | Ongoing | Chittagong Hill Tracts conflict Part of the Terrorism in Bangladesh | Bangladesh PCJSS - MN Larma UPDF - D Mog Party ( MNP ) | PCJSS UPDF Kuki - Chin National Front || 2022 | Ongoing | Russian invasion of Ukraine Part of the Russo-Ukrainian War | Russia  Donetsk People's Republic  Luhansk People's Republic show Supported by: | Ukraine Ukrainian diaspora volunteers Foreign volunteers show Supported by: ||\n",
      "\n",
      "</context>\n",
      "\n",
      "Question: How many died in Bangladesh Liberation War?\n",
      "\n",
      "Answer:\n",
      "\n"
     ]
    }
   ],
   "source": [
    "_ = ask(\"How many died in Bangladesh Liberation War?\")"
   ]
  },
  {
   "cell_type": "code",
   "execution_count": 51,
   "id": "3eb7e384",
   "metadata": {
    "scrolled": false
   },
   "outputs": [
    {
     "data": {
      "application/vnd.jupyter.widget-view+json": {
       "model_id": "1f985955004941faa819084a4f6a81af",
       "version_major": 2,
       "version_minor": 0
      },
      "text/plain": [
       "Batches:   0%|          | 0/1 [00:00<?, ?it/s]"
      ]
     },
     "metadata": {},
     "output_type": "display_data"
    },
    {
     "name": "stdout",
     "output_type": "stream",
     "text": [
      "Query Named Entities: ['Federal War']\n",
      "First-4 Boosted scores: [0.8928353991247043, 1.0323785226742406, 0.9704249154982434, 0.9097973634870831]\n",
      "Top-4 Combined scores: [1.4003795161308563, 0.6321273525348482, 0.6281856398249409, 0.6178327430996488]\n",
      "Documents:\n",
      "\n",
      "<context>\n",
      "\n",
      "Source: https://en.wikipedia.org/wiki/List_of_wars_by_death_toll\n",
      "\n",
      "Table (List): | War | Death range | Date | Combatants | Location ||| Lebanese Civil War | 0. 12 – 0. 15 million | 1975 – 1990 | Multiple sides | Levant || Greek Civil War | 0.08–0.15 million | 1946–1949 | Kingdom of Greece vs. Provisional Democratic Government | Balkans and Peloponnese Peninsula || Yugoslav Wars | 0.13–0.14 million | 1991–2001 | Separatist forces and NATO vs. Socialist Federal Republic of Yugoslavia, later Federal Republic of Yugoslavia | Balkans || Irish Nine Year's War | 0.13 million | 1593–1603 | Kingdom of England vs. Irish rebels | Ireland || Chaco War | 0.08–0.13 million | 1932–1935 | Paraguay vs. Bolivia | Paraguay and Bolivia || Federal War | 0.1 million | 1859–1863 | Federalists vs. Conservatives | Venezuela ||\n",
      "\n",
      "Source: https://en.wikipedia.org/wiki/List_of_wars:_1800%E2%80%931899\n",
      "\n",
      "Contents List of wars : 1800 – 1899 This article provides a list of wars occurring between 1800 and 1899. Conflicts of this era include the Napoleonic Wars in Europe, the American Civil War in North America, the Taiping Rebellion in Asia, the Paraguayan War in South America, the Zulu War in Africa, and the Australian frontier wars in Oceania. 1800 – 1810\n",
      "\n",
      "Source: https://en.wikipedia.org/wiki/List_of_wars:_1800%E2%80%931899\n",
      "\n",
      "Table (1860–1869): | ('Start', 'Start') | ('Finish', 'Finish') | ('Name of conflict', 'Name of conflict') | ('Belligerents', 'Victorious party (if applicable)') | ('Belligerents', 'Defeated party (if applicable)') ||| 1861 | 1865 | American Civil War | United States of America | Confederate States of America || 1861 | 1867 | French intervention in Mexico Also known as Franco-Mexican War | United Mexican States Supported by : United States of America (entered in 1865) | Second French Empire  Second Mexican Empire  Austrian Empire (German and Hungarian volunteers)  Belgian Foreign Legion  Egyptian Sudanese Supported by : Kingdom of Spain (retired in 1862)  United Kingdom (retired in 1862) || 1862 | 1862 | Dakota War of 1862 | United States | Dakota Sioux ||\n",
      "\n",
      "</context>\n",
      "\n",
      "Question: When was Federal War happened?\n",
      "\n",
      "Answer:\n",
      "\n"
     ]
    }
   ],
   "source": [
    "_ = ask(\"When was Federal War happened?\")"
   ]
  },
  {
   "cell_type": "code",
   "execution_count": 52,
   "id": "9d7782d1",
   "metadata": {},
   "outputs": [
    {
     "data": {
      "application/vnd.jupyter.widget-view+json": {
       "model_id": "0f6aff2e1cf84a8f86db9cf1a88903b5",
       "version_major": 2,
       "version_minor": 0
      },
      "text/plain": [
       "Batches:   0%|          | 0/1 [00:00<?, ?it/s]"
      ]
     },
     "metadata": {},
     "output_type": "display_data"
    },
    {
     "name": "stdout",
     "output_type": "stream",
     "text": [
      "Query Named Entities: ['Quasi-War']\n",
      "First-4 Boosted scores: [0.0, 0.0, 0.0, 0.0]\n",
      "Top-4 Combined scores: [1.629217961652049, 0.36842660800000004, 0.35620008000000003, 0.33735992000000004]\n",
      "Documents:\n",
      "\n",
      "<context>\n",
      "\n",
      "Source: https://en.wikipedia.org/wiki/List_of_wars:_1800%E2%80%931899\n",
      "\n",
      "Table (1800–1810): | ('Start', 'Start') | ('Finish', 'Finish') | ('Name of conflict', 'Name of conflict') | ('Belligerents', 'Victorious party (if applicable)') | ('Belligerents', 'Defeated party (if applicable)') ||| 1765 | 1865 | Temne War | British Empire Susu Tribes | Kingdom of Koya || 1798 | 1800 | Quasi-War | United States | France || 1801 | 1805 | Tripolitan War | United States  Sweden (until 1802)  Sicily | Tripolitania  Morocco (1802) || 1801 | 1801 | War of the Oranges Part of the War of the Second Coalition | France  Spain | Portugal || 1802 | 1805 | Fourth quarter of the Haitian Revolution | Haiti | France ||\n",
      "\n",
      "Source: https://en.wikipedia.org/wiki/List_of_wars:_before_1000\n",
      "\n",
      "Table (References): | hidevteLists of wars by date | hidevteLists of wars by date.1 ||| Before 1000 1000–1499 1500–1799 1800–1899 1900–1944 1945–1989 1990–2002 2003–present | Before 1000 1000–1499 1500–1799 1800–1899 1900–1944 1945–1989 1990–2002 2003–present || Longest wars Ongoing military conflicts | Longest wars Ongoing military conflicts ||\n",
      "\n",
      "Source: https://en.wikipedia.org/wiki/List_of_wars:_before_1000\n",
      "\n",
      "Contents List of wars : before 1000 Table (List of wars: before 1000): | 1 ||| This article needs additional citations for verification. Please help improve this article by adding citations to reliable sources. Unsourced material may be challenged and removed. Find sources: \"List of wars: before 1000\" – news · newspapers · books · scholar · JSTOR (November 2023) (Learn how and when to remove this message) || This is a list of wars that began before 1000 AD. Other wars can be found in the historical lists of wars and the list of wars extended by diplomatic irregularity. Prehistoric warfare\n",
      "\n",
      "</context>\n",
      "\n",
      "Question: When did Quasi-War happend?\n",
      "\n",
      "Answer:\n",
      "\n"
     ]
    }
   ],
   "source": [
    "_ = ask(\"When did Quasi-War happend?\")"
   ]
  },
  {
   "cell_type": "code",
   "execution_count": 53,
   "id": "13817562",
   "metadata": {},
   "outputs": [
    {
     "data": {
      "application/vnd.jupyter.widget-view+json": {
       "model_id": "f3c040b9870a4020bac8dda605c346b1",
       "version_major": 2,
       "version_minor": 0
      },
      "text/plain": [
       "Batches:   0%|          | 0/1 [00:00<?, ?it/s]"
      ]
     },
     "metadata": {},
     "output_type": "display_data"
    },
    {
     "name": "stdout",
     "output_type": "stream",
     "text": [
      "Query Named Entities: ['Second Congo War']\n",
      "First-4 Boosted scores: [2.6707555382629695, 2.4112001210587786, 0.4742173729454025, 1.3371314998052841]\n",
      "Top-4 Combined scores: [1.0246731556525939, 0.9601797042117557, 0.8288685882184187, 0.7940875843347115]\n",
      "Documents:\n",
      "\n",
      "<context>\n",
      "\n",
      "Source: https://en.wikipedia.org/wiki/List_of_wars:_1990%E2%80%932002\n",
      "\n",
      "Table (List of wars: 1990–2002): | ('Started', 'Started') | ('Ended', 'Ended') | ('Name of Conflict', 'Name of Conflict') | ('Belligerents', 'Victorious party (if applicable)') | ('Belligerents', 'Defeated party (if applicable)') ||| 1999 | 2003 | Ituri conflict Part of the Second Congo War and the Kivu conflict | Hema tribe : Union of Congolese Patriots ( UPC ) RCD - Kisangani Uganda Democratic Republic of the Congo MONUC Artemis | Lendu tribe : Nationalist and Integrationist Front ( FNI ) Front for Patriotic Resistance in Ituri ( FRPI ) Popular Front for Justice in Congo ( PFJC ) Mai - Mai Simba ||\n",
      "\n",
      "Source: https://en.wikipedia.org/wiki/List_of_wars:_1990%E2%80%932002\n",
      "\n",
      "[CLS] Table ( List of wars : 1990 – 2002 ) : | ('Started ','Started') | ('Ended ','Ended') | ('Name of Conflict ','Name of Conflict') | ('Belligerents ','Victorious party ( if applicable )') | ('Belligerents ','Defeated party ( if applicable )') | | | 1998 | 2003 | Second Congo War | Pro - government : Democratic Republic of the Congo Angola Chad Namibia Zimbabwe Anti - Ugandan forces : LRA Sudan ( Alleged ) ADF UNRF II FNI Anti - Rwandan militias : FDLR Mai - Mai Interahamwe RDR ALiR Other Hutu - aligned forces Anti - Burundi militias : CNDD - FDD FROLINA | RCD RCD - Goma MLC Forces for Renewal UPC Other Tu\n",
      "\n",
      "Source: https://en.wikipedia.org/wiki/List_of_wars_by_death_toll\n",
      "\n",
      "Table (List): | War | Death range | Date | Combatants | Location ||| First Sudanese Civil War | 0. 5 – 1 million | 1955 – 1972 | Anglo - Egyptian Sudan, later Democratic Republic of the Sudan vs. Sudan Defence Force | Sudan || First Indochina War | 0.4–0.84 million | 1946–1954 | Viet Minh, Pathet Lao, and Khmer Issarak vs. French Union | Indochina || Burundian Civil War | 0.55–0.8 million | 1993–2005 | Burundi vs. Ethnic Hutu vs. Tutsi Militants | Rwanda and Burundi || Second Punic War | 0.77 million | 218 BCE–201 BCE | Roman Republic vs. Ancient Carthage | Southern Europe, the Mediterranean Sea, and North Africa ||\n",
      "\n",
      "</context>\n",
      "\n",
      "Question: Where did Second Congo War happend?\n",
      "\n",
      "Answer:\n",
      "\n"
     ]
    }
   ],
   "source": [
    "_ = ask(\"Where did Second Congo War happend?\")"
   ]
  },
  {
   "cell_type": "code",
   "execution_count": 54,
   "id": "a653292e",
   "metadata": {},
   "outputs": [
    {
     "data": {
      "application/vnd.jupyter.widget-view+json": {
       "model_id": "df3a0cb5a24e47afa01b4e961eed63cc",
       "version_major": 2,
       "version_minor": 0
      },
      "text/plain": [
       "Batches:   0%|          | 0/1 [00:00<?, ?it/s]"
      ]
     },
     "metadata": {},
     "output_type": "display_data"
    },
    {
     "name": "stdout",
     "output_type": "stream",
     "text": [
      "Query Named Entities: []\n",
      "First-4 Boosted scores: [6.629371764038861, 1.5088244592636266, 0.9019272447735285, 1.2017340776665637]\n",
      "Top-4 Combined scores: [1.6407644008077724, 1.1101194390601332, 0.6452742724336044, 0.63233808765913]\n",
      "Documents:\n",
      "\n",
      "<context>\n",
      "\n",
      "Source: https://en.wikipedia.org/wiki/List_of_wars_by_death_toll\n",
      "\n",
      "This list of wars by death toll includes all deaths that are either directly or indirectly caused by war. These numbers include the deaths of military personnel which are the direct results of a battle or other military wartime actions, as well as wartime / war - related deaths of civilians which are often results of war - induced epidemics, famines, genocide, etc. Due to incomplete records, the destruction of evidence, differing methods of counting, and various other reasons, death tolls of wars have often been quite uncertain, and heavily debated.\n",
      "\n",
      "Source: https://en.wikipedia.org/wiki/List_of_wars_by_death_toll\n",
      "\n",
      "While the definition of war isn't entirely clear - cut, there is a general understanding of what it is. Merriam - Webster defines war as \" a state of usually open and declared armed hostile conflict between states or nations \", Oxford English Dictionary defines war as \" hostile contention by means of armed forces, carried on between nations, states, or rulers, or between parties in the same nation or state ; the employment of armed forces against a foreign power, or against an opposing party in the state \", and Encyclopædia Britannica defines war as \" a conflict between political groups involving hostilities of considerable duration and magnitude \". This list excludes mass killings and atrocities not explicitly classified as genocides, as well as genocides occurring outside of wartime, human sacrifices, ethnic cleansing operations, and acts of state terrorism or political repression during peacetime. [ a ] List\n",
      "\n",
      "Source: https://en.wikipedia.org/wiki/List_of_wars:_1900%E2%80%931944\n",
      "\n",
      "Table (1900–1909): | ('Start', 'Start') | ('Finish', 'Finish') | ('Name of Conflict', 'Name of Conflict') | ('Belligerents', 'Victorious party (if applicable)') | ('Belligerents', 'Defeated party (if applicable)') ||| 1900 | 1907 | Unrest in Java | Dutch Empire | Peasant rebels Lone - wolf robbers and arsonists || 1900 | 1903 | 1900–1903 uprising in southwest Madagascar | France | Rebels || 1900 | 1900 | Shoubak revolt of 1900 | Ottoman Empire | Shoubakis || 1900 | 1900 | Sharjah conquest of Ras Al Khaimah | Emirate of Sharjah | Ras Al Khaimah ||\n",
      "\n",
      "</context>\n",
      "\n",
      "Question: What types of killings are excluded in the list?\n",
      "\n",
      "Answer:\n",
      "\n"
     ]
    }
   ],
   "source": [
    "_ = ask(\"What types of killings are excluded in the list?\")"
   ]
  },
  {
   "cell_type": "code",
   "execution_count": 55,
   "id": "aa182603",
   "metadata": {},
   "outputs": [
    {
     "data": {
      "application/vnd.jupyter.widget-view+json": {
       "model_id": "6fcac9174d764feb90fb9094fd94b092",
       "version_major": 2,
       "version_minor": 0
      },
      "text/plain": [
       "Batches:   0%|          | 0/1 [00:00<?, ?it/s]"
      ]
     },
     "metadata": {},
     "output_type": "display_data"
    },
    {
     "name": "stdout",
     "output_type": "stream",
     "text": [
      "Query Named Entities: ['1945', '1949']\n",
      "First-4 Boosted scores: [2.027656302049483, 1.6173422983483066, 3.168547074743969, 0.40260934474457977]\n",
      "Top-4 Combined scores: [2.3037568645429043, 1.425824875578201, 1.069019014948794, 0.8614262204098966]\n",
      "Documents:\n",
      "\n",
      "<context>\n",
      "\n",
      "Source: https://en.wikipedia.org/wiki/List_of_wars:_1945%E2%80%931989\n",
      "\n",
      "Contents List of wars : 1945 – 1989 This is a list of wars that began between 1945 and 1989. Other wars can be found in the historical lists of wars and the list of wars extended by diplomatic irregularity. Major conflicts of this period include the Chinese Civil War in Asia, the Greek Civil War in Europe, the Colombian civil war known as La Violencia in South America, the Vietnam War in Southeast Asia, the Ethiopian Civil War in Africa, and the Guatemalan Civil War in North America. 1945 – 1949\n",
      "\n",
      "Source: https://en.wikipedia.org/wiki/List_of_wars:_1945%E2%80%931989\n",
      "\n",
      "Table (1945–1949): | ('Started', 'Started') | ('Ended', 'Ended') | ('Name of conflict', 'Name of conflict') | ('Belligerents', 'Victorious party (if applicable)') | ('Belligerents', 'Defeated party (if applicable)') ||| 1947 | 1949 | Indo - Pakistani War of 1947 – 1948 Part of the Indo - Pakistani wars and conflicts | India | Pakistan || 1947 | 1948 | 1947–1948 civil war in Mandatory Palestine Part of the 1948 Palestine war | Jews of Palestine Haganah Irgun Lehi | Arabs of Palestine Army of the Holy War Arab Liberation Army || 1948 or 1947 | 1949 | Safi Rebellion | Afghanistan | Safi rebels ||\n",
      "\n",
      "Source: https://en.wikipedia.org/wiki/List_of_wars:_1945%E2%80%931989\n",
      "\n",
      "Table (1945–1949): | ('Started', 'Started') | ('Ended', 'Ended') | ('Name of conflict', 'Name of conflict') | ('Belligerents', 'Victorious party (if applicable)') | ('Belligerents', 'Defeated party (if applicable)') ||| 1945 | 1949 | 1945 Khuzestan revolt | Iran | Khuzestan rebels || 1945 | 1950 | Crusader insurgency | Yugoslavia | Crusaders || 1945 | 1949 | Chinese Civil War (second phase) | Chinese Communist Party  People's Republic of China (after 1949) Supported by:  Soviet Union | Republic of China Supported by:  United States || 1945 | 1945 | August Revolution | Việt Minh | Empire of Vietnam  Japan ||\n",
      "\n",
      "</context>\n",
      "\n",
      "Question: Which war started in 1945 ended in 1949?\n",
      "\n",
      "Answer:\n",
      "\n"
     ]
    }
   ],
   "source": [
    "_ = ask(\"Which war started in 1945 ended in 1949?\")"
   ]
  },
  {
   "cell_type": "code",
   "execution_count": 56,
   "id": "013b2fe8",
   "metadata": {},
   "outputs": [
    {
     "data": {
      "application/vnd.jupyter.widget-view+json": {
       "model_id": "bc905ba9d92f4ec594e9a12cfb864166",
       "version_major": 2,
       "version_minor": 0
      },
      "text/plain": [
       "Batches:   0%|          | 0/1 [00:00<?, ?it/s]"
      ]
     },
     "metadata": {},
     "output_type": "display_data"
    },
    {
     "name": "stdout",
     "output_type": "stream",
     "text": [
      "Query Named Entities: ['Ethiopian Empire', 'Emirate of Harar']\n",
      "First-4 Boosted scores: [1.1074289244774995, 2.2619705287002354, 0.0, 0.9813587378955455]\n",
      "Top-4 Combined scores: [6.745102110936357, 1.4472712614886873, 1.111249389525159, 1.0317781736989413]\n",
      "Documents:\n",
      "\n",
      "<context>\n",
      "\n",
      "Source: https://en.wikipedia.org/wiki/List_of_wars_by_death_toll\n",
      "\n",
      "Table (List): | War | Death range | Date | Combatants | Location ||| Conquests of Menelik II | 6 million | 1878 – 1904 | Ethiopian Empire vs. Emirate of Harar, Kingdom of Kaffa, Kingdom of Wolaita, and allies | Horn of Africa || Second Congo War | 3–5.4 million | 1998–2003 | Multiple sides | Democratic Republic of the Congo || Spanish conquest of New Granada | 5.25 million | 1525–1540 | Spanish Empire and Klein-Venedig vs. Muisca Confederation and other civilizations | Colombia || Deccan wars | 4.6–5 million | 1680–1707 | Mughal Empire vs. Maratha Confederacy | Indian subcontinent || Nigerian Civil War | 3.04–4.1 million | 1967–1970 | Nigeria vs. Biafra | Nigeria ||\n",
      "\n",
      "Source: https://en.wikipedia.org/wiki/List_of_wars:_1500%E2%80%931799\n",
      "\n",
      "Table (1500–1599): | ('Start', 'Start') | ('Finish', 'Finish') | ('Name of conflict', 'Name of conflict') | ('Belligerents', 'Victorious party (if applicable)') | ('Belligerents', 'Defeated party (if applicable)') ||| 1538 | 1538 | Yemeni Expedition of 1538 Part of the Yemeni – Ottoman conflicts | Ottoman Empire | Zaidis || 1538 | 1545 | Toungoo–Ava War | Toungoo dynasty | Ava Kingdom Confederation of Shan States Mrauk-U Kingdom Prome Kingdom || 1538 | 1557 | Ottoman–Portuguese conflicts (1538–1559) | Portuguese Empire  Ethiopian Empire | Ottoman Empire Adal Sultanate  Ajuran Sultanate  Gujarat Sultanate ||\n",
      "\n",
      "Source: https://en.wikipedia.org/wiki/List_of_wars:_1945%E2%80%931989\n",
      "\n",
      "Table (1970–1979): | ('Started', 'Started') | ('Ended', 'Ended') | ('Name of conflict', 'Name of conflict') | ('Belligerents', 'Victorious party (if applicable)') | ('Belligerents', 'Defeated party (if applicable)') ||| 1973 | Ongoing | Oromo conflict | Ethiopian Empire ( 1973 – 1975 ) Derg ( 1975 – 1987 ) PDR Ethiopia ( 1987 – 1991 ) Transitional Government of Ethiopia ( 1991 – 1995 ) Ethiopia ( 1995 – present ) | OLF IFLO OIM COPLF OYRM || 1974 | 1974 | Battle of the Paracel Islands Part of the Vietnam War | China | South Vietnam || 1974 | 1974 | Arube uprising | Uganda | Putschists ||\n",
      "\n",
      "</context>\n",
      "\n",
      "Question: Ethiopian Empire vs. Emirate of Harar?\n",
      "\n",
      "Answer:\n",
      "\n"
     ]
    }
   ],
   "source": [
    "_ = ask(\"Ethiopian Empire vs. Emirate of Harar?\")"
   ]
  }
 ],
 "metadata": {
  "kernelspec": {
   "display_name": "Python (myenv)",
   "language": "python",
   "name": "myenv"
  },
  "language_info": {
   "codemirror_mode": {
    "name": "ipython",
    "version": 3
   },
   "file_extension": ".py",
   "mimetype": "text/x-python",
   "name": "python",
   "nbconvert_exporter": "python",
   "pygments_lexer": "ipython3",
   "version": "3.11.5"
  }
 },
 "nbformat": 4,
 "nbformat_minor": 5
}
