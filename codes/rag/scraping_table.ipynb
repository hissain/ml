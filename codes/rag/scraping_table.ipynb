{
 "cells": [
  {
   "cell_type": "code",
   "execution_count": 2,
   "id": "91808bb3",
   "metadata": {
    "scrolled": false
   },
   "outputs": [
    {
     "name": "stdout",
     "output_type": "stream",
     "text": [
      "Loaded 9 URLs from pickle file\n"
     ]
    },
    {
     "data": {
      "application/vnd.jupyter.widget-view+json": {
       "model_id": "173cb955bbfd458da4574c6e459ac88e",
       "version_major": 2,
       "version_minor": 0
      },
      "text/plain": [
       "Scraping pages:   0%|          | 0/9 [00:00<?, ?it/s]"
      ]
     },
     "metadata": {},
     "output_type": "display_data"
    },
    {
     "name": "stderr",
     "output_type": "stream",
     "text": [
      "Token indices sequence length is longer than the specified maximum sequence length for this model (528 > 512). Running this sequence through the model will result in indexing errors\n"
     ]
    },
    {
     "name": "stdout",
     "output_type": "stream",
     "text": [
      "Total Chunks: 299\n",
      "Chunk: contents list of wars by death toll List of wars by death toll | 0 ||| Part of a series on || War (outline) || showHistory || showMilitary || showBattlespace || showWeapons || showTactics || showOperational || showStrategy || showGrand strategy || showAdministrative || showOrganization || showPersonnel || showLogistics || showScience || showLaw || showTheory || showNon-warfare || showCulture || showRelated || hideLists Battles Military occupations Military terms Operations Sieges War crimes Wars Weapons Writers || vte || this list of wars by death toll includes all deaths that are either directly or indirectly caused by war. these numbers include the deaths of military personnel which are the direct results of a battle or other military wartime actions, as well as wartime / war - related deaths of civilians which are often results of war - induced epidemics, famines, genocide, etc. due to incomplete records, the destruction of evidence, differing methods of counting, and various other reasons, death tolls of wars have often been quite uncertain, and heavily debated. while the definition of war isn't entirely clear - cut, there is a general understanding of what it is. merriam - webster defines war as \" a state of usually open and declared armed hostile conflict between states or nations \", [ 1 ] oxford english dictionary defines war as \" hostile contention by means of armed forces, carried on between nations, states, or rulers, or between parties in the same nation or state ; the employment of armed forces against a foreign power, or against an opposing party in the state \", [ 2 ] and encyclopædia britannica defines war as \" a conflict between political groups involving hostilities of considerable duration and magnitude \". [ 3 ] this list excludes mass killings and atrocities not explicitly classified as genocides, as well as genocides occurring outside of wartime, human sacrifices, ethnic cleansing operations, and acts of state terrorism or political repression during peacetime. [ a ] list\n",
      "Source URL: https://en.wikipedia.org/wiki/List_of_wars_by_death_toll\n",
      "\n",
      "Chunk: List | War | Death range | Date | Combatants | Location ||| World War II | 50–85 million[4][5][6] | 1939–1945 | Allied Powers vs. Axis Powers | Global || Mongol invasions and conquests | 20–60 million[7][8][9][10] | 1207–1405 | Mongol Empire vs. various states in Eurasia | Asia and Europe || Three Kingdoms | 34 million[10] | 220–280 | Multiple sides | China || Taiping Rebellion | 20–30 million[11][12] | 1850–1864 | Qing Dynasty vs. Taiping Heavenly Kingdom | China || World War I | 15–30 million[13][14] | 1914–1918 | Allied Powers vs. Central Powers | Global || Manchu Conquest of China | 25 million[15][16] | 1618–1683 | Manchu vs. Ming Dynasty | China || Conquests of Timur | 7–20 million[10] | 1369–1405 | Timurid Empire vs. various states in Asia | Central Asia, West Asia, and South Asia || An Lushan rebellion | 13 million[17] | 754–763 | Tang Dynasty and Uyghur Khaganate vs. Yan Dynasty | China || Thirty Years' War | 4–12 million[18] | 1618–1648 | Anti-Imperial Alliance vs. Imperial Alliance | Europe || Spanish conquest of Mexico | 10.5 million[19] | 1519–1530 | Spanish Empire and allies vs. Aztec Empire and allies | Mexico || Spanish conquest of the Inca Empire | 10 million[20] | 1533–1572 | Spanish Empire vs. Inca Empire | South America || Russian Civil War | 7–10 million[21] | 1917–1922 | Multiple sides; Bolsheviks, Anti-Bolshevik left, White Movement, Allied and Central Intervention, as well as various separatists | Russia || Chinese Civil War | 4–9 million[22] | 1927–1949[b] | Multiple sides; but predominantly Communists vs. Kuomintang | China ||\n",
      "Source URL: https://en.wikipedia.org/wiki/List_of_wars_by_death_toll\n",
      "\n",
      "Chunk: List | War | Death range | Date | Combatants | Location ||| crusades | 1 – 9 million [ 25 ] [ 26 ] | 1095 – 1291 | originally byzantine empire vs. seljuk empire, but evolved into christians vs. muslims | europe and the middle east || Reconquista | 7 million[27] | 718–1492 | Spanish and Portuguese Christians vs. Spanish and Portuguese Muslims | Iberian Peninsula || French Revolutionary and Napoleonic Wars | 5–7 million[28] | 1792–1815 | French Republic, later French Empire, vs. Coalition forces | Europe || Conquests of Menelik II | 6 million[29] | 1878–1904 | Ethiopian Empire vs. Emirate of Harar, Kingdom of Kaffa, Kingdom of Wolaita, and allies | Horn of Africa || Second Congo War | 3–5.4 million[30][31][32] | 1998–2003 | Multiple sides | Democratic Republic of the Congo || Spanish conquest of New Granada | 5.25 million[33][34] | 1525–1540 | Spanish Empire and Klein-Venedig vs. Muisca Confederation and other civilizations | Colombia || Deccan wars | 4.6–5 million[35] | 1680–1707 | Mughal Empire vs. Maratha Confederacy | Indian subcontinent || Nigerian Civil War | 3.04–4.1 million[36][37] | 1967–1970 | Nigeria vs. Biafra | Nigeria || Deluge | 3–4 milion[38] | 1648–1666 | Poland–Lithuania vs Swedish Empire and Russia | Eastern Europe || French Wars of Religion | 2–4 million[39] | 1562–1598 | French catholics vs Huguenots | France || Korean War | 2.5–3.5 million[40][22] | 1950–1953 | North Korea and allies vs. South Korea and allies | Korean Peninsula || Vietnam War | 1.1–3.4 million[41][42] | 1955–1975 | North Vietnam and allies vs. South Vietnam and allies | Indochina ||\n",
      "Source URL: https://en.wikipedia.org/wiki/List_of_wars_by_death_toll\n",
      "\n"
     ]
    }
   ],
   "source": [
    "import re\n",
    "import pickle\n",
    "from bs4 import BeautifulSoup\n",
    "import pandas as pd\n",
    "from transformers import AutoTokenizer\n",
    "import os\n",
    "from io import StringIO\n",
    "import logging\n",
    "from tqdm.notebook import tqdm\n",
    "\n",
    "os.environ[\"TOKENIZERS_PARALLELISM\"] = \"false\"\n",
    "\n",
    "model_path = '/Users/hissain/git/github/models/all-MiniLM-L6-v2'\n",
    "tokenizer = AutoTokenizer.from_pretrained(model_path)\n",
    "\n",
    "# Define maximum token length per chunk\n",
    "max_token_length = 480\n",
    "\n",
    "def get_text_content(element):\n",
    "    return ' '.join(element.stripped_strings)\n",
    "\n",
    "def chunk_text(text, max_token_length):\n",
    "    tokens = tokenizer.encode(text, add_special_tokens=False)\n",
    "    chunks = []\n",
    "    start = 0\n",
    "    while start < len(tokens):\n",
    "        end = min(start + max_token_length, len(tokens))\n",
    "        chunk = tokenizer.decode(tokens[start:end])\n",
    "        chunks.append(chunk)\n",
    "        start = end\n",
    "    return chunks\n",
    "\n",
    "def merge_small_chunks(chunks, max_token_length):\n",
    "    merged_chunks = []\n",
    "    temp_chunk = \"\"\n",
    "    \n",
    "    for chunk in chunks:\n",
    "        if len(tokenizer.encode(temp_chunk + \" \" + chunk)) <= max_token_length:\n",
    "            temp_chunk += \" \" + chunk\n",
    "        else:\n",
    "            while len(tokenizer.encode(temp_chunk)) > max_token_length:\n",
    "                split_point = max_token_length - 1  # Choose safe split point\n",
    "                merged_chunks.append(tokenizer.decode(tokenizer.encode(temp_chunk)[:split_point]))\n",
    "                temp_chunk = tokenizer.decode(tokenizer.encode(temp_chunk)[split_point:])\n",
    "                \n",
    "            merged_chunks.append(temp_chunk.strip())\n",
    "            temp_chunk = chunk\n",
    "    \n",
    "    if temp_chunk:\n",
    "        merged_chunks.append(temp_chunk.strip())\n",
    "    \n",
    "    return merged_chunks\n",
    "\n",
    "def chunk_table(df, max_token_length, header_info):\n",
    "    table_chunks = []\n",
    "    current_chunk = header_info + ' ||| '\n",
    "    \n",
    "    for _, row in df.iterrows():\n",
    "        row_text = ' | '.join([str(cell) for cell in row if pd.notna(cell)])\n",
    "        combined_text = current_chunk + row_text + ' || '\n",
    "        \n",
    "        if len(tokenizer.encode(combined_text)) <= max_token_length:\n",
    "            current_chunk += row_text + ' || '\n",
    "        else:\n",
    "            # Split the row if adding it would exceed max_token_length\n",
    "            row_chunks = chunk_text(row_text, max_token_length)\n",
    "            for sub_chunk in row_chunks:\n",
    "                if len(tokenizer.encode(current_chunk)) + len(tokenizer.encode(sub_chunk)) <= max_token_length:\n",
    "                    current_chunk += sub_chunk + ' || '\n",
    "                else:\n",
    "                    table_chunks.append(current_chunk.strip())\n",
    "                    current_chunk = header_info + ' ||| ' + sub_chunk + ' || '\n",
    "                    \n",
    "    if current_chunk:\n",
    "        table_chunks.append(current_chunk.strip())\n",
    "    \n",
    "    return table_chunks\n",
    "\n",
    "\n",
    "def scrape_and_chunk_page(content):\n",
    "\n",
    "    soup = BeautifulSoup(content[1], 'html.parser') # index-1 for html\n",
    "    \n",
    "    chunks = []\n",
    "    current_url = content[0] #index-0 for url\n",
    "    last_header = \"\"\n",
    "\n",
    "    elements = soup.find_all(['h1', 'h2', 'h3', 'h4', 'p', 'table'])\n",
    "    for element in elements:\n",
    "        if element.name in ['h1', 'h2', 'h3', 'h4']:\n",
    "            header_text = get_text_content(element)\n",
    "            last_header = header_text\n",
    "            header_chunks = chunk_text(header_text, max_token_length)\n",
    "            chunks.extend([(chunk, current_url) for chunk in header_chunks])\n",
    "            \n",
    "        elif element.name == 'p':\n",
    "            paragraph_text = get_text_content(element)\n",
    "            paragraph_chunks = chunk_text(paragraph_text, max_token_length)\n",
    "            chunks.extend([(chunk, current_url) for chunk in paragraph_chunks])\n",
    "            \n",
    "        elif element.name == 'table':\n",
    "            table_html = StringIO(str(element))\n",
    "            df = pd.read_html(table_html)[0]\n",
    "            \n",
    "            df.dropna(axis=0, how='all', inplace=True)\n",
    "            df.dropna(axis=1, how='all', inplace=True)\n",
    "            \n",
    "            df.columns = [str(col) for col in df.columns]\n",
    "            header_info = last_header + ' | ' + ' | '.join(df.columns) if not df.columns.empty else last_header\n",
    "            \n",
    "            table_chunks = chunk_table(df, max_token_length, header_info)\n",
    "            chunks.extend([(chunk, current_url) for chunk in table_chunks])\n",
    "\n",
    "    text_chunks = [chunk[0] for chunk in chunks]\n",
    "    final_chunks = merge_small_chunks(text_chunks, max_token_length)\n",
    "    \n",
    "    return [(chunk, current_url) for chunk in final_chunks]\n",
    "\n",
    "def scrape_and_chunk(html_contents):\n",
    "    chunks = []\n",
    "    for content in tqdm(html_contents, desc=\"Scraping pages\"):\n",
    "        chunks.extend(scrape_and_chunk_page(content))\n",
    "    return chunks\n",
    "\n",
    "with open(\"html_contents.pkl\", \"rb\") as f:\n",
    "    html_contents = pickle.load(f)\n",
    "\n",
    "print(f\"Loaded {len(html_contents)} URLs from pickle file\")\n",
    "scraped_chunks = scrape_and_chunk(html_contents)\n",
    "\n",
    "print(f\"Total Chunks: {len(scraped_chunks)}\")\n",
    "\n",
    "for chunk, url in scraped_chunks[:3]:\n",
    "    print(f\"Chunk: {chunk}\\nSource URL: {url}\\n\")"
   ]
  },
  {
   "cell_type": "code",
   "execution_count": 85,
   "id": "8f543279",
   "metadata": {},
   "outputs": [
    {
     "data": {
      "application/vnd.jupyter.widget-view+json": {
       "model_id": "b21cc3da35f4413a8b84c5e533682208",
       "version_major": 2,
       "version_minor": 0
      },
      "text/plain": [
       "Batches:   0%|          | 0/10 [00:00<?, ?it/s]"
      ]
     },
     "metadata": {},
     "output_type": "display_data"
    },
    {
     "name": "stdout",
     "output_type": "stream",
     "text": [
      "Stored 299 relevant chunks\n"
     ]
    }
   ],
   "source": [
    "import spacy\n",
    "from collections import Counter\n",
    "import re\n",
    "import numpy as np\n",
    "from qdrant_client import QdrantClient, models\n",
    "from tqdm.notebook import tqdm\n",
    "from sentence_transformers import SentenceTransformer\n",
    "from IPython.display import display, clear_output, Markdown\n",
    "import requests\n",
    "import json\n",
    "from requests.adapters import HTTPAdapter\n",
    "from requests.packages.urllib3.util.retry import Retry\n",
    "from rank_bm25 import BM25Okapi\n",
    "\n",
    "# Load SpaCy's English model for Named Entity Recognition\n",
    "nlp = spacy.load(\"en_core_web_sm\")\n",
    "\n",
    "session = requests.Session()\n",
    "retry = Retry(total=5, backoff_factor=1, status_forcelist=[429, 500, 502, 503, 504])\n",
    "adapter = HTTPAdapter(max_retries=retry)\n",
    "session.mount(\"http://\", adapter)\n",
    "session.headers.update({\"Connection\": \"keep-alive\", \"Content-Type\": \"application/json\"})\n",
    "\n",
    "qdrant_url = \"http://localhost:6333\"\n",
    "collection_name = \"wiki_collection\"\n",
    "ollama_url_gen = \"http://localhost:11434/api/generate\"\n",
    "ollama_model_name = \"llama3.2:latest\"\n",
    "\n",
    "client = QdrantClient(url=qdrant_url)\n",
    "embedding_model = SentenceTransformer(model_path)\n",
    "\n",
    "TOP_K = 12\n",
    "TOP_N = 4\n",
    "SYM_W = 0.8\n",
    "SYN_W = 0.2\n",
    "NE_BOOST_FACTOR = 2.5\n",
    "NE_FULL_BOOST_FACTOR = 2\n",
    "\n",
    "def get_embeddings(texts):\n",
    "    return embedding_model.encode(texts, batch_size=32, show_progress_bar=True)\n",
    "\n",
    "def create_collection(dimension):\n",
    "    client.delete_collection(collection_name=collection_name)\n",
    "    client.create_collection(\n",
    "        collection_name=collection_name,\n",
    "        vectors_config=models.VectorParams(size=dimension, distance=models.Distance.COSINE),\n",
    "    )\n",
    "\n",
    "def upsert_points_with_metadata(embeddings, chunks):\n",
    "    points = [\n",
    "        models.PointStruct(\n",
    "            id=i,\n",
    "            vector=embedding.tolist(),\n",
    "            payload={\"text\": chunk, \"url\": url}\n",
    "        ) for i, (embedding, (chunk, url)) in enumerate(zip(embeddings, chunks))\n",
    "    ]\n",
    "    client.upsert(collection_name=collection_name, points=points)\n",
    "\n",
    "def store_in_qdrant_with_metadata(chunks):\n",
    "    dimension = 384\n",
    "    create_collection(dimension)\n",
    "    chunk_texts = [chunk for chunk, _ in chunks]\n",
    "    embeddings = get_embeddings(chunk_texts)\n",
    "    upsert_points_with_metadata(embeddings, chunks)\n",
    "\n",
    "def search_points_with_metadata(query_text, k=TOP_K):\n",
    "    query_embedding = get_embeddings([query_text])[0]\n",
    "    search_result = client.search(\n",
    "        collection_name=collection_name,\n",
    "        query_vector=query_embedding.tolist(),\n",
    "        limit=k,\n",
    "        with_payload=True\n",
    "    )\n",
    "    return [{\"text\": hit.payload[\"text\"], \"url\": hit.payload[\"url\"], \"score\": hit.score} for hit in search_result]\n",
    "\n",
    "def init_bm25(corpus_texts):\n",
    "    tokenized_corpus = [text.split() for text in corpus_texts]\n",
    "    return BM25Okapi(tokenized_corpus)\n",
    "\n",
    "def calculate_bm25_scores(bm25, query_text):\n",
    "    tokenized_query = query_text.split()\n",
    "    return bm25.get_scores(tokenized_query)\n",
    "\n",
    "def extract_named_entities(text):\n",
    "    doc = nlp(text)\n",
    "    return [ent.text for ent in doc.ents]\n",
    "\n",
    "def boost_ne_scores(query_text, docs, bm25_scores, boost_factor=NE_BOOST_FACTOR, full_match_boost=NE_FULL_BOOST_FACTOR):\n",
    "    query_entities = extract_named_entities(query_text)\n",
    "    print(f\"Query Named Entities: {query_entities}\")\n",
    "    \n",
    "    boosted_scores = []\n",
    "    for idx, (doc, bm25_score) in enumerate(zip(docs, bm25_scores)):\n",
    "        doc_entities = extract_named_entities(doc[\"text\"])\n",
    "        matching_ne_count = sum(1 for ne in query_entities if ne in doc_entities)\n",
    "        full_match = all(ne in doc_entities for ne in query_entities)\n",
    "        ne_boost = 1 + (boost_factor * matching_ne_count)\n",
    "        if full_match:\n",
    "            ne_boost *= full_match_boost\n",
    "        boosted_scores.append(bm25_score * ne_boost)\n",
    "\n",
    "    print(f\"Top-4 Boosted scores: {boosted_scores[:4]}\")          \n",
    "    return boosted_scores\n",
    "\n",
    "def calculate_boosted_scores(query_text, retrieved_docs, bm25):\n",
    "    bm25_scores = calculate_bm25_scores(bm25, query_text)\n",
    "    return boost_ne_scores(query_text, retrieved_docs, bm25_scores)\n",
    "\n",
    "def get_top_n_chunks_by_combined_score(query_text, retrieved_docs, n=TOP_N, semantic_weight=SYM_W, keyword_weight=SYN_W):\n",
    "    \n",
    "    bm25 = init_bm25([doc[\"text\"] for doc in retrieved_docs])\n",
    "    boosted_keyword_scores = calculate_boosted_scores(query_text, retrieved_docs, bm25)\n",
    "        \n",
    "    scored_chunks = []\n",
    "    \n",
    "    for idx, doc in enumerate(retrieved_docs):\n",
    "        semantic_score = doc[\"score\"]\n",
    "        keyword_score = boosted_keyword_scores[idx]\n",
    "        combined_score = (semantic_weight * semantic_score) + (keyword_weight * keyword_score)\n",
    "        scored_chunks.append({\"text\": doc[\"text\"], \"url\": doc[\"url\"], \"combined_score\": combined_score})\n",
    "\n",
    "    scored_chunks.sort(key=lambda n: n[\"combined_score\"], reverse=True)\n",
    "    print(f\"Top-4 Combined scores: {[s['combined_score'] for s in scored_chunks[:4]]}\")\n",
    "    return scored_chunks[:n]\n",
    "\n",
    "def search_points_with_metadata(query_text, k=TOP_K, n=TOP_N, semantic_weight=SYM_W, keyword_weight=SYN_W):\n",
    "    query_embedding = get_embeddings([query_text])[0]\n",
    "    search_result = client.search(\n",
    "        collection_name=collection_name,\n",
    "        query_vector=query_embedding.tolist(),\n",
    "        limit=k,\n",
    "        with_payload=True\n",
    "    )\n",
    "    \n",
    "    retrieved_docs = [{\"text\": hit.payload[\"text\"], \"url\": hit.payload[\"url\"], \"score\": hit.score} for hit in search_result]\n",
    "    \n",
    "    return get_top_n_chunks_by_combined_score(query_text, retrieved_docs, n=n, semantic_weight=semantic_weight, keyword_weight=keyword_weight)\n",
    "\n",
    "def process_streamed_response(response, buffer_size=5):\n",
    "    response_text, buffer = \"\", \"\"\n",
    "    for chunk in response.iter_content(chunk_size=None):\n",
    "        try:\n",
    "            data = json.loads(chunk.decode('utf-8'))\n",
    "            content = data.get(\"response\", \"\")\n",
    "            buffer += content\n",
    "\n",
    "            if len(buffer) >= buffer_size:\n",
    "                response_text += buffer\n",
    "                clear_output(wait=True)\n",
    "                display(Markdown(response_text))\n",
    "                buffer = \"\"\n",
    "                \n",
    "        except json.JSONDecodeError:\n",
    "            continue\n",
    "            \n",
    "    response_text += buffer\n",
    "    clear_output(wait=True)\n",
    "    display(Markdown(response_text))\n",
    "    return response_text\n",
    "\n",
    "def inspect(query, k=TOP_K, n=TOP_N):\n",
    "    retrieved_docs = search_points_with_metadata(query, k=k, n=n)\n",
    "    combined_docs = \"\\n\\n\".join([f\"Source: {doc['url']}\\n\\n{doc['text']}\" for doc in retrieved_docs])\n",
    "    rag_prompt = f\"Documents:\\n\\n<context>\\n\\n{combined_docs}\\n\\n</context>\\n\\nQuestion: {query}\\n\\nAnswer:\\n\"\n",
    "    print(rag_prompt)\n",
    "\n",
    "def ask(query, k=TOP_K, n=TOP_N, verbose=False):\n",
    "    retrieved_docs = search_points_with_metadata(query, k=k, n=n)\n",
    "    combined_docs = \"\\n\\n\".join([f\"Source: {doc['url']}\\n\\n{doc['text']}\" for doc in retrieved_docs])\n",
    "    inst = (\"Instruction: If you do not find the answer within the following context, please respond,\"\n",
    "            \"'Answer not found in the context.' without speculation or general knowledge.\"\n",
    "            \"'Do not start with phrase like, 'according to the context', or anything similar.\")\n",
    "    rag_prompt = f\"{inst}\\n\\n<context>\\n\\n{combined_docs}\\n\\n</context>\\n\\nQuestion: {query}\\n\\nAnswer:\\n\"\n",
    "\n",
    "    if verbose:\n",
    "        print(rag_prompt)\n",
    "        \n",
    "    payload = {\"model\": ollama_model_name, \"prompt\": rag_prompt, \"stream\": True}\n",
    "    headers = {\"Content-Type\": \"application/json\"}\n",
    "\n",
    "    response = session.post(ollama_url_gen, headers=headers, data=json.dumps(payload), stream=True)\n",
    "    response_text = process_streamed_response(response) if response.status_code == 200 else \"Request failed\"\n",
    "    return response_text\n",
    "    \n",
    "try:\n",
    "    store_in_qdrant_with_metadata(scraped_chunks)\n",
    "    print(f'Stored {len(scraped_chunks)} relevant chunks')\n",
    "except Exception as e:\n",
    "    print(f\"Error storing in Qdrant: {e}\")"
   ]
  },
  {
   "cell_type": "code",
   "execution_count": 92,
   "id": "4e5ba643",
   "metadata": {},
   "outputs": [
    {
     "data": {
      "text/markdown": [
       "The Death range for Bangladesh Liberation War is given as '0.3–3 million'. The date is mentioned as '1971' and the combatants are India and Provisional Government of Bangladesh vs. Pakistan, with the location being the Indian subcontinent."
      ],
      "text/plain": [
       "<IPython.core.display.Markdown object>"
      ]
     },
     "metadata": {},
     "output_type": "display_data"
    }
   ],
   "source": [
    "_ = ask(\"When did Bangladesh Liberation War happen?\")"
   ]
  },
  {
   "cell_type": "code",
   "execution_count": 81,
   "id": "82154565",
   "metadata": {},
   "outputs": [
    {
     "data": {
      "text/markdown": [
       "0.3–3 million"
      ],
      "text/plain": [
       "<IPython.core.display.Markdown object>"
      ]
     },
     "metadata": {},
     "output_type": "display_data"
    }
   ],
   "source": [
    "ask(\"How many died in Bangladesh Liberation War?\", n=1)"
   ]
  },
  {
   "cell_type": "code",
   "execution_count": 58,
   "id": "3eb7e384",
   "metadata": {
    "scrolled": false
   },
   "outputs": [
    {
     "data": {
      "application/vnd.jupyter.widget-view+json": {
       "model_id": "50624ba5d0714fc08bf5843fc8b499b5",
       "version_major": 2,
       "version_minor": 0
      },
      "text/plain": [
       "Batches:   0%|          | 0/1 [00:00<?, ?it/s]"
      ]
     },
     "metadata": {},
     "output_type": "display_data"
    },
    {
     "name": "stdout",
     "output_type": "stream",
     "text": [
      "Query Named Entities: ['Federal War']\n",
      "Top-4 Boosted scores: [0.857034638234949, 0.8209168045065249, 0.0, 0.5382903116934045]\n",
      "Top-4 Combined scores: [0.8511307982715927, 0.5996745036469898, 0.558412536901305, 0.5325708909176011]\n",
      "Documents:\n",
      "\n",
      "<context>\n",
      "\n",
      "Source: https://en.wikipedia.org/wiki/List_of_wars_by_death_toll\n",
      "\n",
      "List | War | Death range | Date | Combatants | Location ||| irish nine year's war | 0. 13 million [ 219 ] | 1593 – 1603 | kingdom of england vs. irish rebels | ireland || Chaco War | 0.08–0.13 million[220][221][222] | 1932–1935 | Paraguay vs. Bolivia | Paraguay and Bolivia || Federal War | 0.1 million[223] | 1859–1863 | Federalists vs. Conservatives | Venezuela || Congo Crisis | 0.1 million[224] | 1960–1965 | Republic of the Congo, later Democratic Republic of the Congo, and allies vs. Free Republic of the Congo, South Kasai, Katanga, Kwilu rebels, Simba rebels, and allies | Republic of the Congo || Wars of Alexander the Great | 0.1 million[225][226][227] | 336 BCE–323 BCE | Macedonian Empire vs. Achaemenid Empire among others | Greece, Balkans, Anatolia, Persia, Middle East, Central Asia, and the Indian subcontinent || charts and graphs see also notes references further reading external links External links ||| External links ||| External links ||| External links ||| External links | 0 | 1 ||| Central | Allied Democratic Forces insurgency Anglophone Crisis Cabinda War Central African Republic Civil War Insurgency in Chad Insurgency in the Democratic Republic of the Congo Ituri conflict Western DR Congo clashes Kivu conflict M23 offensive Lord's Resistance Army insurgency || East | ADF insurgency Ethiopian civil conflict Afar–Somali clashes OLA insurgency Oromo conflict War in Amhara Ethnic violence in South Sudan Insurgency in Mozambique Somali Civil War Operation Atalanta || North | Insurgency in Egypt Insurgency in the Maghreb Insurgency in the Sahel Jihadist insurgency in Burkina Faso Jihadist insurgency in Niger Libyan Crisis Sinai insurgency Sudanese nomadic conflicts Ethnic violence in South Sudan War in Darfur Western Sahara conflict Western Saharan clashes || West | Communal conflicts in Nigeria Boko Haram insurgency Herder–farmer conflicts in Nigeria Nigerian bandit conflict Religious violence in Nigeria Conflict in the Niger Delta Insurgency in Southeastern Nigeria Mali War Azawad conflict Western Togoland Rebellion ||\n",
      "\n",
      "</context>\n",
      "\n",
      "Question: When was Federal War happened?\n",
      "\n",
      "Answer:\n",
      "\n"
     ]
    }
   ],
   "source": [
    "inspect(\"When was Federal War happened?\", n=1)"
   ]
  },
  {
   "cell_type": "code",
   "execution_count": 83,
   "id": "9d5b73c1",
   "metadata": {},
   "outputs": [
    {
     "data": {
      "text/markdown": [
       "Federal War | 1859–1863 ||| Venezuelan Federalists | Venezuelan Conservatives"
      ],
      "text/plain": [
       "<IPython.core.display.Markdown object>"
      ]
     },
     "metadata": {},
     "output_type": "display_data"
    }
   ],
   "source": [
    "ask(\"When was Federal War happened?\", n=1)"
   ]
  },
  {
   "cell_type": "code",
   "execution_count": 88,
   "id": "9d7782d1",
   "metadata": {},
   "outputs": [
    {
     "data": {
      "text/markdown": [
       "Quasi-War occurred from 1798 to 1800."
      ],
      "text/plain": [
       "<IPython.core.display.Markdown object>"
      ]
     },
     "metadata": {},
     "output_type": "display_data"
    }
   ],
   "source": [
    "_ = ask(\"When did Quasi-War happend?\", n=1)"
   ]
  },
  {
   "cell_type": "code",
   "execution_count": 89,
   "id": "13817562",
   "metadata": {},
   "outputs": [
    {
     "data": {
      "text/markdown": [
       "Second Congo War happened in the Democratic Republic of the Congo, Angola, Chad, Namibia, Zimbabwe, Uganda, Sudan (alleged), and other locations."
      ],
      "text/plain": [
       "<IPython.core.display.Markdown object>"
      ]
     },
     "metadata": {},
     "output_type": "display_data"
    }
   ],
   "source": [
    "_ = ask(\"Where did Second Congo War happend?\", n=1)"
   ]
  },
  {
   "cell_type": "code",
   "execution_count": 90,
   "id": "a653292e",
   "metadata": {},
   "outputs": [
    {
     "data": {
      "text/markdown": [
       "Mass killings and atrocities not explicitly classified as genocides, as well as genocides occurring outside of wartime."
      ],
      "text/plain": [
       "<IPython.core.display.Markdown object>"
      ]
     },
     "metadata": {},
     "output_type": "display_data"
    }
   ],
   "source": [
    "_ = ask(\"What types of killings are excluded in the list?\", n=1)"
   ]
  },
  {
   "cell_type": "code",
   "execution_count": 91,
   "id": "73227006",
   "metadata": {
    "scrolled": false
   },
   "outputs": [
    {
     "data": {
      "text/markdown": [
       "Answer not found in the context."
      ],
      "text/plain": [
       "<IPython.core.display.Markdown object>"
      ]
     },
     "metadata": {},
     "output_type": "display_data"
    }
   ],
   "source": [
    "_=ask(\"Georgian Ossetian conflict.\", n=2, k=12)"
   ]
  },
  {
   "cell_type": "code",
   "execution_count": 96,
   "id": "aa182603",
   "metadata": {},
   "outputs": [
    {
     "data": {
      "application/vnd.jupyter.widget-view+json": {
       "model_id": "aca2e608108645afb47521e801cc9bed",
       "version_major": 2,
       "version_minor": 0
      },
      "text/plain": [
       "Batches:   0%|          | 0/1 [00:00<?, ?it/s]"
      ]
     },
     "metadata": {},
     "output_type": "display_data"
    },
    {
     "name": "stdout",
     "output_type": "stream",
     "text": [
      "Query Named Entities: ['1945', '1949']\n",
      "Top-4 Boosted scores: [3.9684890878107963, 27.493660524251077, 2.254764419213216, 44.30506635747808]\n",
      "Top-4 Combined scores: [9.241499511495617, 6.8483903639804, 5.927411704850216, 2.6015681430318622]\n",
      "Documents:\n",
      "\n",
      "<context>\n",
      "\n",
      "Source: https://en.wikipedia.org/wiki/List_of_wars:_1945%E2%80%931989\n",
      "\n",
      "contents list of wars : 1945 – 1989 this is a list of wars that began between 1945 and 1989. other wars can be found in the historical lists of wars and the list of wars extended by diplomatic irregularity. major conflicts of this period include the chinese civil war in asia, the greek civil war in europe, the colombian civil war known as la violencia in south america, the vietnam war in southeast asia, the ethiopian civil war in africa, and the guatemalan civil war in north america. 1945 – 1949\n",
      "\n",
      "Source: https://en.wikipedia.org/wiki/List_of_wars:_1900%E2%80%931944\n",
      "\n",
      "1930–1944 | ('Start', 'Start') | ('Finish', 'Finish') | ('Name of Conflict', 'Name of Conflict') | ('Belligerents', 'Victorious party (if applicable)') | ('Belligerents', 'Defeated party (if applicable)') ||| 1943 | 1944 | jesselton revolt part of world war ii | empire of japan | kinabalu rebels || 1943 | 1949 | Ukrainian Insurgent Army insurgency | Soviet Union  People's Republic of Poland Polish Underground State Nazi Germany (1941–1944) | Ukrainian Insurgent Army || 1944 | 1945 | 1944–1945 Insurgency in Balochistan | United Kingdom  British India | Badinzai rebels || 1944 | 1946 | Anti-communist resistance in Poland (1944–1953) | People's Republic of Poland Soviet Union | Cursed soldiers || 1944 | 1947 | Afghan tribal revolts of 1944–1947 | Afghanistan  • Allied Nuristani and Shinwari tribesmen  British Empire  • India | Rebel tribes: Zadran (1944–1947) Safi (until 1946) Mangal (1945) || 1944 | 1948 | Jewish insurgency in Mandatory Palestine | Jewish Resistance Movement Haganah Irgun Lehi | British Army  Royal Navy  Royal Air Force  Palestine Police Force || 1944 | 1944 | Luluabourg and Jadotville Mutiny[100] | Belgian Congo | Force Publique Mutineers || 1944 | 1944 | Masisi-Lubutu revolt | Belgian Congo | Watchtower Movement || 1944 | 1944 | Palm Sunday Coup Part of World War II | El Salvador | Pro-Axis rebels || 1944 | 1945 | Lapland War Part of World War II | Finland | Nazi Germany || 1944 | 1949 | Ili Rebellion | Chinese Communist Party  Second East Turkestan Republic  Soviet Union  White Russian forces  Mongolian People's Republic | Republic of China  National Revolutionary Army || 1944 | 1960 | Goryani Insurgency | People's Republic of Bulgaria | Goryani || 1944 | 1956 | Guerrilla war in the Baltic states | Soviet Union | Forest Brothers || part of the kurdish separatism in iran supported by : mutawakkilite kingdom of yemen part of the warlord era part of the unification of saudi arabia fatherland's front\n",
      "\n",
      "Source: https://en.wikipedia.org/wiki/List_of_wars:_1945%E2%80%931989\n",
      "\n",
      "1945–1949 | ('Started', 'Started') | ('Ended', 'Ended') | ('Name of conflict', 'Name of conflict') | ('Belligerents', 'Victorious party (if applicable)') | ('Belligerents', 'Defeated party (if applicable)') ||| 1945 | 1949 | 1945 Khuzestan revolt[1] | Iran | Khuzestan rebels || 1945 | 1950 | Crusader insurgency | Yugoslavia | Crusaders || 1945 | 1949 | Chinese Civil War (second phase) | Chinese Communist Party  People's Republic of China (after 1949) Supported by:  Soviet Union | Republic of China Supported by:  United States || 1945 | 1945 | August Revolution | Việt Minh | Empire of Vietnam  Japan || 1945 | 1949 | Indonesian National Revolution | Indonesia  Japanese volunteers | Netherlands (from 1946)  United Kingdom (until 1946)  Japan (until 1946) || 1945 | Ongoing | Korean conflict | South Korea Supported by:  United States | North Korea Supported by:  China  Soviet Union || 1945 | 1946 | War in Vietnam (1945–46) | United Kingdom  France  Japan | Việt Minh || 1945 | 1946 | 1945 Hazara Rebellion | Hazara rebels | Afghanistan || 1945 | 1946 | Iran crisis of 1946 | IranSupported by: United States United Kingdom | Mahabad  Azerbaijan People's GovernmentSupported by: Soviet Union || 1946 | 1949 | Greek Civil War (third phase) | Kingdom of Greece Supported by:  United States (from 1946)  United Kingdom (until 1947) | Provisional Democratic Government  National Liberation Front Supported by:  Yugoslavia  Bulgaria  Albania  Soviet Union (until 1947) || 1946 | 1954 | Hukbalahap Rebellion (post-WWII) | PhilippinesSupported by: United States | Hukbalahap || 1946 | 1946 | Autumn Uprising of 1946 | United States Army Military Government in Korea | Peasant rebels || 1946 | 1946 | Corfu Channel incident | Albania | United Kingdom || 1946 | 1946 | Punnapra-Vayalar uprising | Travancore | Laborers in Punnapra and Vayalar  Communist Party of India ||\n",
      "\n",
      "Source: https://en.wikipedia.org/wiki/List_of_wars:_1900%E2%80%931944\n",
      "\n",
      "part of the intercommunal conflict in mandatory palestine supported by : supported by : soviet union ( 1937 – 1941 ; 1944 – 1945 ) united states ( 1941 – 1945 ) british empire ( 1942 – 1945 ) reorganized national government of china manchukuo mengjiang germany part of world war ii and the chechen – russian conflict supported by : germany ( 1942 ) french indochina part of world war ii british india transjordan nazi germany kingdom of italy italy united kingdom nazi germany kingdom of italy nazi germany chetniks part of the kurdish separatism in iran and world war ii part of the iraqi – kurdish conflict supported by : kurdish tribesmen ( 1945 ) uk part of world war ii notes references References |||\n",
      "\n",
      "</context>\n",
      "\n",
      "Question: Which war started in 1945 ended in 1949?\n",
      "\n",
      "Answer:\n",
      "\n"
     ]
    }
   ],
   "source": [
    "inspect(\"Which war started in 1945 ended in 1949?\")"
   ]
  },
  {
   "cell_type": "code",
   "execution_count": 97,
   "id": "7fe5332d",
   "metadata": {},
   "outputs": [
    {
     "data": {
      "text/markdown": [
       "Chinese Civil War (second phase)"
      ],
      "text/plain": [
       "<IPython.core.display.Markdown object>"
      ]
     },
     "metadata": {},
     "output_type": "display_data"
    }
   ],
   "source": [
    "_=ask(\"Which war started in 1945 ended in 1949?\")"
   ]
  }
 ],
 "metadata": {
  "kernelspec": {
   "display_name": "Python (myenv)",
   "language": "python",
   "name": "myenv"
  },
  "language_info": {
   "codemirror_mode": {
    "name": "ipython",
    "version": 3
   },
   "file_extension": ".py",
   "mimetype": "text/x-python",
   "name": "python",
   "nbconvert_exporter": "python",
   "pygments_lexer": "ipython3",
   "version": "3.11.5"
  }
 },
 "nbformat": 4,
 "nbformat_minor": 5
}
