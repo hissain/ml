{
 "cells": [
  {
   "cell_type": "markdown",
   "id": "0b51afab",
   "metadata": {},
   "source": [
    "## Using requests APIs"
   ]
  },
  {
   "cell_type": "code",
   "execution_count": 16,
   "id": "33de7398",
   "metadata": {},
   "outputs": [
    {
     "data": {
      "application/vnd.jupyter.widget-view+json": {
       "model_id": "69b18924352c4b0e83cd596e1a866afd",
       "version_major": 2,
       "version_minor": 0
      },
      "text/plain": [
       "Scraping HTML content:   0%|          | 0/9 [00:00<?, ?it/s]"
      ]
     },
     "metadata": {},
     "output_type": "display_data"
    },
    {
     "name": "stdout",
     "output_type": "stream",
     "text": [
      "Done scraping 9 URLs\n",
      "Loaded 9 URLs from pickle file\n"
     ]
    }
   ],
   "source": [
    "import requests\n",
    "from tqdm.notebook import tqdm\n",
    "import pickle\n",
    "\n",
    "def fetch_html_content(urls):\n",
    "    html_content_dict = []\n",
    "    for url in tqdm(urls, desc=\"Scraping HTML content\"):\n",
    "        try:\n",
    "            response = requests.get(url, timeout=10)\n",
    "            if response.status_code == 200:\n",
    "                html_content_dict.append((url, response.text))\n",
    "            else:\n",
    "                html_content_dict.append((url, None))\n",
    "        except requests.RequestException:\n",
    "            html_content_dict.append((url, None))\n",
    "    return html_content_dict\n",
    "\n",
    "URLs = [\n",
    "    \"https://en.wikipedia.org/wiki/List_of_wars_by_death_toll\",\n",
    "    \"https://en.wikipedia.org/wiki/List_of_wars:_1990%E2%80%932002\",\n",
    "    \"https://en.wikipedia.org/wiki/List_of_wars:_1945%E2%80%931989\",\n",
    "    \"https://en.wikipedia.org/wiki/List_of_wars:_1900%E2%80%931944\",\n",
    "    \"https://en.wikipedia.org/wiki/List_of_wars:_2003%E2%80%93present\",\n",
    "    \"https://en.wikipedia.org/wiki/List_of_wars:_1800%E2%80%931899\",\n",
    "    \"https://en.wikipedia.org/wiki/List_of_wars:_1500%E2%80%931799\",\n",
    "    \"https://en.wikipedia.org/wiki/List_of_wars:_1000%E2%80%931499\",\n",
    "    \"https://en.wikipedia.org/wiki/List_of_wars:_before_1000\",\n",
    "]\n",
    "\n",
    "html_contents = fetch_html_content(URLs)\n",
    "\n",
    "# Save dictionary to a pickle file\n",
    "with open(\"html_contents.pkl\", \"wb\") as f:\n",
    "    pickle.dump(html_contents, f)\n",
    "\n",
    "print(f\"Done scraping {len(html_content_dict)} URLs\")\n",
    "\n",
    "# Load dictionary from pickle file\n",
    "with open(\"html_contents.pkl\", \"rb\") as f:\n",
    "    loaded_html_contents = pickle.load(f)\n",
    "\n",
    "print(f\"Loaded {len(loaded_html_contents)} URLs from pickle file\")\n"
   ]
  },
  {
   "cell_type": "code",
   "execution_count": 19,
   "id": "9e6aefe6",
   "metadata": {},
   "outputs": [
    {
     "name": "stdout",
     "output_type": "stream",
     "text": [
      "https://en.wikipedia.org/wiki/List_of_wars_by_death_toll\n",
      "https://en.wikipedia.org/wiki/List_of_wars:_1990%E2%80%932002\n",
      "https://en.wikipedia.org/wiki/List_of_wars:_1945%E2%80%931989\n",
      "https://en.wikipedia.org/wiki/List_of_wars:_1900%E2%80%931944\n",
      "https://en.wikipedia.org/wiki/List_of_wars:_2003%E2%80%93present\n",
      "https://en.wikipedia.org/wiki/List_of_wars:_1800%E2%80%931899\n",
      "https://en.wikipedia.org/wiki/List_of_wars:_1500%E2%80%931799\n",
      "https://en.wikipedia.org/wiki/List_of_wars:_1000%E2%80%931499\n",
      "https://en.wikipedia.org/wiki/List_of_wars:_before_1000\n"
     ]
    }
   ],
   "source": [
    "print(\"\\n\".join([url for url, _ in loaded_html_contents]))"
   ]
  },
  {
   "cell_type": "markdown",
   "id": "34c94759",
   "metadata": {},
   "source": [
    "## Using Selenium chromedriver"
   ]
  },
  {
   "cell_type": "code",
   "execution_count": 22,
   "id": "4998d900",
   "metadata": {},
   "outputs": [
    {
     "data": {
      "application/vnd.jupyter.widget-view+json": {
       "model_id": "aca86a5996b442d2a151b2eda04f4a5f",
       "version_major": 2,
       "version_minor": 0
      },
      "text/plain": [
       "Scraping HTML content with Selenium:   0%|          | 0/9 [00:00<?, ?it/s]"
      ]
     },
     "metadata": {},
     "output_type": "display_data"
    },
    {
     "name": "stdout",
     "output_type": "stream",
     "text": [
      "Done scraping 9 URLs\n",
      "Loaded 9 URLs from pickle file\n"
     ]
    }
   ],
   "source": [
    "from selenium import webdriver\n",
    "from selenium.webdriver.chrome.service import Service\n",
    "from selenium.webdriver.chrome.options import Options\n",
    "from tqdm.notebook import tqdm\n",
    "import pickle\n",
    "import time\n",
    "\n",
    "def init_driver():\n",
    "    options = webdriver.ChromeOptions()\n",
    "    options.add_argument('--headless')\n",
    "    options.add_argument('--no-sandbox')\n",
    "    options.add_argument('--disable-dev-shm-usage')\n",
    "    service = Service()\n",
    "    return webdriver.Chrome(service=service, options=options)\n",
    "\n",
    "def fetch_html_content_with_selenium(urls):\n",
    "    html_content_list = []\n",
    "    driver = init_driver()\n",
    "    \n",
    "    for url in tqdm(urls, desc=\"Scraping HTML content with Selenium\"):\n",
    "        try:\n",
    "            driver.get(url)\n",
    "            time.sleep(1)  # Optional: wait for page to load fully\n",
    "            html_content = driver.page_source\n",
    "            html_content_list.append((url, html_content))\n",
    "        except Exception as e:\n",
    "            print(f\"Failed to retrieve {url}: {e}\")\n",
    "            html_content_list.append((url, None))\n",
    "    \n",
    "    driver.quit()\n",
    "    return html_content_list\n",
    "\n",
    "URLs = [\n",
    "    \"https://en.wikipedia.org/wiki/List_of_wars_by_death_toll\",\n",
    "    \"https://en.wikipedia.org/wiki/List_of_wars:_1990%E2%80%932002\",\n",
    "    \"https://en.wikipedia.org/wiki/List_of_wars:_1945%E2%80%931989\",\n",
    "    \"https://en.wikipedia.org/wiki/List_of_wars:_1900%E2%80%931944\",\n",
    "    \"https://en.wikipedia.org/wiki/List_of_wars:_2003%E2%80%93present\",\n",
    "    \"https://en.wikipedia.org/wiki/List_of_wars:_1800%E2%80%931899\",\n",
    "    \"https://en.wikipedia.org/wiki/List_of_wars:_1500%E2%80%931799\",\n",
    "    \"https://en.wikipedia.org/wiki/List_of_wars:_1000%E2%80%931499\",\n",
    "    \"https://en.wikipedia.org/wiki/List_of_wars:_before_1000\",\n",
    "]\n",
    "\n",
    "html_contents = fetch_html_content_with_selenium(URLs)\n",
    "\n",
    "with open(\"html_contents.pkl\", \"wb\") as f:\n",
    "    pickle.dump(html_contents, f)\n",
    "\n",
    "print(f\"Done scraping {len(html_contents)} URLs\")\n",
    "\n",
    "with open(\"html_contents.pkl\", \"rb\") as f:\n",
    "    loaded_html_contents = pickle.load(f)\n",
    "\n",
    "print(f\"Loaded {len(loaded_html_contents)} URLs from pickle file\")\n"
   ]
  },
  {
   "cell_type": "code",
   "execution_count": 23,
   "id": "7d913a73",
   "metadata": {},
   "outputs": [
    {
     "name": "stdout",
     "output_type": "stream",
     "text": [
      "https://en.wikipedia.org/wiki/List_of_wars_by_death_toll\n",
      "https://en.wikipedia.org/wiki/List_of_wars:_1990%E2%80%932002\n",
      "https://en.wikipedia.org/wiki/List_of_wars:_1945%E2%80%931989\n",
      "https://en.wikipedia.org/wiki/List_of_wars:_1900%E2%80%931944\n",
      "https://en.wikipedia.org/wiki/List_of_wars:_2003%E2%80%93present\n",
      "https://en.wikipedia.org/wiki/List_of_wars:_1800%E2%80%931899\n",
      "https://en.wikipedia.org/wiki/List_of_wars:_1500%E2%80%931799\n",
      "https://en.wikipedia.org/wiki/List_of_wars:_1000%E2%80%931499\n",
      "https://en.wikipedia.org/wiki/List_of_wars:_before_1000\n"
     ]
    }
   ],
   "source": [
    "print(\"\\n\".join([url for url, _ in loaded_html_contents]))"
   ]
  }
 ],
 "metadata": {
  "kernelspec": {
   "display_name": "Python (myenv)",
   "language": "python",
   "name": "myenv"
  },
  "language_info": {
   "codemirror_mode": {
    "name": "ipython",
    "version": 3
   },
   "file_extension": ".py",
   "mimetype": "text/x-python",
   "name": "python",
   "nbconvert_exporter": "python",
   "pygments_lexer": "ipython3",
   "version": "3.11.5"
  }
 },
 "nbformat": 4,
 "nbformat_minor": 5
}
