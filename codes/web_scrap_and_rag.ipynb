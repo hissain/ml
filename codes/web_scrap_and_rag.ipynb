{
 "cells": [
  {
   "cell_type": "code",
   "execution_count": 1,
   "id": "4a6f0bd8",
   "metadata": {},
   "outputs": [],
   "source": [
    "#!pip install farm-haystack[preprocessing] -q\n",
    "#!pip install farm-haystack[inference] -q\n",
    "#!pip install farm-haystack[elasticsearch] -q\n",
    "#!pip install nltk -q"
   ]
  },
  {
   "cell_type": "code",
   "execution_count": 107,
   "id": "95a41b0b",
   "metadata": {},
   "outputs": [
    {
     "name": "stdout",
     "output_type": "stream",
     "text": [
      "Total visitable link count: 57\n",
      "https://en.wikipedia.org/wiki/Bangladesh\n",
      "https://en.wikipedia.org/wiki/Bangladesh_(disambiguation)\n",
      "https://en.wikipedia.org/wiki/Bangladeshi_English\n",
      "https://en.wikipedia.org/wiki/Bangladeshis\n",
      "https://en.wikipedia.org/wiki/Bangladeshi_taka\n",
      "https://en.wikipedia.org/wiki/Bangladesh_Standard_Time\n",
      "https://en.wikipedia.org/wiki/Bangladesh_Liberation_War\n",
      "https://en.wikipedia.org/wiki/Bangladesh_Supreme_Court\n",
      "https://en.wikipedia.org/wiki/Bangladesh_Armed_Forces\n",
      "https://en.wikipedia.org/wiki/Bangladeshi_Declaration_of_Independence\n",
      "https://en.wikipedia.org/wiki/Bangladesh_Forces\n",
      "https://en.wikipedia.org/wiki/Bangladesh_famine_of_1974\n",
      "https://en.wikipedia.org/wiki/Bangladesh_Krishak_Sramik_Awami_League\n",
      "https://en.wikipedia.org/wiki/Bangladesh_Rifles_revolt\n",
      "https://en.wikipedia.org/wiki/Bangladeshi_art\n",
      "https://en.wikipedia.org/wiki/Bangladesh_Nationalist_Party\n",
      "https://en.wikipedia.org/wiki/Bangladesh_Environment_Conservation_Act\n",
      "https://en.wikipedia.org/wiki/Bangladesh_Civil_Service\n",
      "https://en.wikipedia.org/wiki/Bangladesh-China_relations\n",
      "https://en.wikipedia.org/wiki/Bangladeshis_in_the_Middle_East\n",
      "https://en.wikipedia.org/wiki/Bangladesh_UN_Peacekeeping_Force\n",
      "https://en.wikipedia.org/wiki/Bangladesh_Army\n",
      "https://en.wikipedia.org/wiki/Bangladesh_Navy\n",
      "https://en.wikipedia.org/wiki/Bangladesh_Air_Force\n",
      "https://en.wikipedia.org/wiki/Bangladesh_Environmental_Lawyers_Association\n",
      "https://en.wikipedia.org/wiki/Bangladesh_Hindu_Buddhist_Christian_Unity_Council\n",
      "https://en.wikipedia.org/wiki/Bangladesh_Bank_Building\n",
      "https://en.wikipedia.org/wiki/Bangladesh_Investment_Development_Authority\n",
      "https://en.wikipedia.org/wiki/Bangladesh_Economic_Zones_Authority\n",
      "https://en.wikipedia.org/wiki/Bangladesh_Export_Processing_Zone_Authority\n",
      "https://en.wikipedia.org/wiki/Bangladesh_textile_industry\n",
      "https://en.wikipedia.org/wiki/Bangladesh_Delta_Plan\n",
      "https://en.wikipedia.org/wiki/Bangladesh_Power_Development_Board\n",
      "https://en.wikipedia.org/wiki/Bangladesh_War_of_Independence\n",
      "https://en.wikipedia.org/wiki/Bangladesh_National_University\n",
      "https://en.wikipedia.org/wiki/Bangladesh_University_of_Engineering_and_Technology\n",
      "https://en.wikipedia.org/wiki/Bangladeshi_literature\n",
      "https://en.wikipedia.org/wiki/Bangladesh_National_Museum\n",
      "https://en.wikipedia.org/wiki/Bangladesh_Betar\n",
      "https://en.wikipedia.org/wiki/Bangladesh_Television\n",
      "https://en.wikipedia.org/wiki/Bangladeshi_cuisine\n",
      "https://en.wikipedia.org/wiki/Bangladesh_cricket_team\n",
      "https://en.wikipedia.org/wiki/Bangladesh_national_cricket_team\n",
      "https://en.wikipedia.org/wiki/Bangladesh_national_football_team\n",
      "https://en.wikipedia.org/wiki/Bangladesh_Bureau_of_Statistics\n",
      "https://en.wikipedia.org/wiki/Bangladesh_Election_Commission\n",
      "https://en.wikipedia.org/wiki/Bangladesh_Coast_Guard\n",
      "https://en.wikipedia.org/wiki/Bangladesh_Ansar\n",
      "https://en.wikipedia.org/wiki/Bangladeshi_intelligence_community\n",
      "https://en.wikipedia.org/wiki/Bangladesh_Police\n",
      "https://en.wikipedia.org/wiki/Bangladesh_Planning_Commission\n",
      "https://en.wikipedia.org/wiki/Bangladesh_Bank\n",
      "https://en.wikipedia.org/wiki/Bangladesh_Post_Office\n",
      "https://en.wikipedia.org/wiki/Bangladesh_Railway\n",
      "https://en.wikipedia.org/wiki/Bangladeshi_name\n",
      "https://en.wikipedia.org/wiki/Bangladeshi_society\n",
      "https://en.wikipedia.org/wiki/Bangladeshi_nationalism\n"
     ]
    }
   ],
   "source": [
    "import requests\n",
    "from bs4 import BeautifulSoup\n",
    "from urllib.parse import urljoin\n",
    "from tqdm.notebook import tqdm\n",
    "\n",
    "valid_links = []\n",
    "\n",
    "def get_visitable_links(base_url):\n",
    "    response = requests.get(base_url, verify=False)\n",
    "    if response.status_code != 200:\n",
    "        print(f\"Failed to retrieve {base_url}\")\n",
    "        return []\n",
    "    \n",
    "    soup = BeautifulSoup(response.text, 'html.parser')\n",
    "    links = []\n",
    "    \n",
    "    for a_tag in soup.find_all('a', href=True):\n",
    "        full_url = urljoin(base_url, a_tag['href'])\n",
    "        if '#' not in full_url and '%' not in full_url and full_url.startswith(base_url) and full_url not in links:\n",
    "            links.append(full_url)\n",
    "    \n",
    "    return links\n",
    "\n",
    "\n",
    "base_url = 'https://en.wikipedia.org/wiki/Bangladesh'\n",
    "valid_links = get_visitable_links(base_url)\n",
    "\n",
    "\n",
    "print(f'Total visitable link count: {len(valid_links)}')\n",
    "for link in valid_links:\n",
    "    print(link)\n"
   ]
  },
  {
   "cell_type": "code",
   "execution_count": 108,
   "id": "30202e36",
   "metadata": {},
   "outputs": [
    {
     "data": {
      "application/vnd.jupyter.widget-view+json": {
       "model_id": "a3270ad8eb0745228f1c74ab6d566a10",
       "version_major": 2,
       "version_minor": 0
      },
      "text/plain": [
       "  0%|          | 0/57 [00:00<?, ?it/s]"
      ]
     },
     "metadata": {},
     "output_type": "display_data"
    }
   ],
   "source": [
    "import requests\n",
    "from bs4 import BeautifulSoup\n",
    "from haystack.schema import Document\n",
    "from tqdm.notebook import tqdm\n",
    "\n",
    "documents = []\n",
    "\n",
    "for url in tqdm(valid_links):\n",
    "    try:\n",
    "        response = requests.get(url)\n",
    "        response.raise_for_status()  # Check for HTTP errors\n",
    "        soup = BeautifulSoup(response.text, 'html.parser')\n",
    "\n",
    "        paragraphs = soup.find_all('p')\n",
    "        content = '\\n'.join([para.get_text() for para in paragraphs])\n",
    "\n",
    "        doc = Document(content=content, meta={'url': url})\n",
    "        documents.append(doc)\n",
    "    except Exception as e:\n",
    "        print(f'Error processing {url}: {e}')"
   ]
  },
  {
   "cell_type": "code",
   "execution_count": 109,
   "id": "78f85087",
   "metadata": {},
   "outputs": [
    {
     "name": "stdout",
     "output_type": "stream",
     "text": [
      "Total no of documents: 57\n"
     ]
    }
   ],
   "source": [
    "print(f'Total no of documents: {len(documents)}')"
   ]
  },
  {
   "cell_type": "code",
   "execution_count": 111,
   "id": "ddaa9272",
   "metadata": {},
   "outputs": [
    {
     "name": "stderr",
     "output_type": "stream",
     "text": [
      "[nltk_data] Downloading package punkt_tab to\n",
      "[nltk_data]     /Users/hissain/nltk_data...\n",
      "[nltk_data]   Package punkt_tab is already up-to-date!\n",
      "Preprocessing:  14%|██████████▊                                                                  | 8/57 [00:00<00:01, 34.58docs/s]WARNING:haystack.nodes.preprocessor.preprocessor:We found one or more sentences whose split count is higher than the split length.\n",
      "Preprocessing: 100%|████████████████████████████████████████████████████████████████████████████| 57/57 [00:01<00:00, 33.95docs/s]\n",
      "Updating BM25 representation...: 100%|████████████████████████████████████████████████████| 729/729 [00:00<00:00, 13591.36 docs/s]\n"
     ]
    },
    {
     "name": "stdout",
     "output_type": "stream",
     "text": [
      "Number of documents after splitting: 729\n",
      "\n",
      "\n",
      "Bangladesh,[a] officially the People's Republic of Bangladesh,[b] is a country in South Asia. It is the eighth-most populous country in the world and among the most densely populated with a population of 170 million in an area of 148,460 square kilometres (57,320 sq mi). Bangladesh shares land borders with India to the north, west, and east, and Myanmar to the southeast. To the south, it has a coastline along the Bay of Bengal. To the north, it is separated from Bhutan and Nepal by the Siliguri Corridor, and from China by the mountainous Indian state of Sikkim. Dhaka, the capital and largest city, is the nation's political, financial, and cultural centre. Chittagong is the second-largest city and the busiest port. The official language is Bengali, with Bangladeshi English also used in government.\n",
      "\n",
      "Bangladesh is part of the historic and ethnolinguistic region of Bengal, which was divided during the Partition of British India in 1947 as the eastern enclave of the Dominion of Pakistan, from which it gained independence in 1971 after a bloody war.[17] The country has a Bengali Muslim majority. Ancient Bengal was known as Gangaridai and was a stronghold of pre-Islamic kingdoms. \n",
      "{'url': 'https://en.wikipedia.org/wiki/Bangladesh', '_split_id': 0, '_split_overlap': [{'doc_id': 'dbcb177eeb118fe777d7dedb629eca2e', 'range': (1061, 1193)}]}\n"
     ]
    }
   ],
   "source": [
    "from haystack.document_stores import InMemoryDocumentStore, ElasticsearchDocumentStore, FAISSDocumentStore\n",
    "from haystack.nodes import DensePassageRetriever, FARMReader, BM25Retriever\n",
    "from haystack.pipelines import ExtractiveQAPipeline\n",
    "from haystack.utils import print_answers\n",
    "from haystack.nodes import PreProcessor\n",
    "from tqdm.notebook import tqdm\n",
    "\n",
    "document_store = InMemoryDocumentStore(use_bm25=True)\n",
    "#document_store = ElasticsearchDocumentStore(host=\"localhost\", port=9200)\n",
    "\n",
    "preprocessor = PreProcessor(\n",
    "    split_by=\"word\",            # Can also be \"sentence\" if sentence-based splitting is preferred\n",
    "    split_length=200,           # Number of words per chunk\n",
    "    split_respect_sentence_boundary=True,  # Ensure splitting occurs at sentence boundaries\n",
    "    split_overlap=20            # Overlap between chunks to preserve context\n",
    ")\n",
    "\n",
    "processed_documents = preprocessor.process(documents)\n",
    "document_store.write_documents(processed_documents)\n",
    "print(f\"Number of documents after splitting: {document_store.get_document_count()}\")\n",
    "\n",
    "if len(document_store.get_all_documents()) > 0:\n",
    "    sample_chunk = document_store.get_all_documents()[0]\n",
    "    print(sample_chunk.content)\n",
    "    print(sample_chunk.meta)"
   ]
  },
  {
   "cell_type": "code",
   "execution_count": 112,
   "id": "ee3178d1-1568-4ef0-a32d-3064f562f667",
   "metadata": {},
   "outputs": [
    {
     "name": "stderr",
     "output_type": "stream",
     "text": [
      "/Users/hissain/myenv/lib/python3.11/site-packages/huggingface_hub/file_download.py:1142: FutureWarning: `resume_download` is deprecated and will be removed in version 1.0.0. Downloads always resume when possible. If you want to force a new download, use `force_download=True`.\n",
      "  warnings.warn(\n"
     ]
    }
   ],
   "source": [
    "reader = FARMReader(model_name_or_path=\"deepset/roberta-base-squad2\", use_gpu=False)\n",
    "retriever = BM25Retriever(document_store=document_store)\n",
    "pipeline = ExtractiveQAPipeline(reader=reader, retriever=retriever)"
   ]
  },
  {
   "cell_type": "code",
   "execution_count": 118,
   "id": "47b53f2a",
   "metadata": {},
   "outputs": [
    {
     "ename": "ImportError",
     "evalue": "cannot import name 'Seq2SeqGenerator' from 'haystack.nodes' (/Users/hissain/myenv/lib/python3.11/site-packages/haystack/nodes/__init__.py)",
     "output_type": "error",
     "traceback": [
      "\u001b[0;31m---------------------------------------------------------------------------\u001b[0m",
      "\u001b[0;31mImportError\u001b[0m                               Traceback (most recent call last)",
      "Cell \u001b[0;32mIn[118], line 2\u001b[0m\n\u001b[1;32m      1\u001b[0m \u001b[38;5;28;01mfrom\u001b[39;00m \u001b[38;5;21;01mhaystack\u001b[39;00m\u001b[38;5;21;01m.\u001b[39;00m\u001b[38;5;21;01mdocument_stores\u001b[39;00m \u001b[38;5;28;01mimport\u001b[39;00m FAISSDocumentStore\n\u001b[0;32m----> 2\u001b[0m \u001b[38;5;28;01mfrom\u001b[39;00m \u001b[38;5;21;01mhaystack\u001b[39;00m\u001b[38;5;21;01m.\u001b[39;00m\u001b[38;5;21;01mnodes\u001b[39;00m \u001b[38;5;28;01mimport\u001b[39;00m BM25Retriever, Seq2SeqGenerator\n\u001b[1;32m      3\u001b[0m \u001b[38;5;28;01mfrom\u001b[39;00m \u001b[38;5;21;01mhaystack\u001b[39;00m\u001b[38;5;21;01m.\u001b[39;00m\u001b[38;5;21;01mpipelines\u001b[39;00m \u001b[38;5;28;01mimport\u001b[39;00m GenerativeQAPipeline\n\u001b[1;32m      5\u001b[0m \u001b[38;5;66;03m# Initialize FAISS document store\u001b[39;00m\n",
      "\u001b[0;31mImportError\u001b[0m: cannot import name 'Seq2SeqGenerator' from 'haystack.nodes' (/Users/hissain/myenv/lib/python3.11/site-packages/haystack/nodes/__init__.py)"
     ]
    }
   ],
   "source": [
    "from haystack.document_stores import FAISSDocumentStore\n",
    "from haystack.nodes import BM25Retriever, Seq2SeqGenerator\n",
    "from haystack.pipelines import GenerativeQAPipeline\n",
    "\n",
    "# Initialize FAISS document store\n",
    "document_store = FAISSDocumentStore(faiss_index_factory_str=\"Flat\")\n",
    "\n",
    "# Initialize retriever\n",
    "retriever = BM25Retriever(document_store=document_store)\n",
    "\n",
    "# Initialize generator (using a Seq2Seq model like BART)\n",
    "generator = Seq2SeqGenerator(model_name_or_path=\"facebook/bart-large-cnn\")\n",
    "\n",
    "# Create a pipeline with retriever and generator\n",
    "pipeline = GenerativeQAPipeline(generator=generator, retriever=retriever)\n",
    "\n",
    "# Ask a question to the pipeline\n",
    "query = \"Is Bangladesh a secular country?\"\n",
    "result = pipeline.run(query=query, params={\"Retriever\": {\"top_k\": 5}})\n",
    "\n",
    "# Print the generated answers\n",
    "for answer in result['answers']:\n",
    "    print(answer.answer)\n"
   ]
  },
  {
   "cell_type": "code",
   "execution_count": 93,
   "id": "7190c576-e3c7-404c-ab12-897c2b53eae9",
   "metadata": {
    "scrolled": true
   },
   "outputs": [
    {
     "name": "stderr",
     "output_type": "stream",
     "text": [
      "Inferencing Samples: 100%|████████████████████████████████████████████████████████████████████| 1/1 [00:02<00:00,  2.97s/ Batches]"
     ]
    },
    {
     "name": "stdout",
     "output_type": "stream",
     "text": [
      "\n",
      "\n",
      "'Query: How is China Bangladesh relationship?'\n",
      "'Answers:'\n",
      "[   {   'answer': 'highly tilted in favour of Beijing',\n",
      "        'context': 'porting to China.[27]\\n'\n",
      "                   'Bangladesh-China bilateral trade is highly tilted in '\n",
      "                   \"favour of Beijing,[28][29][30]  and Bangladesh's bilateral \"\n",
      "                   'trade deficit wi'}]\n"
     ]
    },
    {
     "name": "stderr",
     "output_type": "stream",
     "text": [
      "\n"
     ]
    }
   ],
   "source": [
    "# Step 7: Ask a question to the RAG pipeline\n",
    "query = \"How is China Bangladesh relationship?\"\n",
    "\n",
    "# Get answers from the pipeline\n",
    "prediction = pipeline.run(\n",
    "    query=query,\n",
    "    params={\n",
    "        \"Retriever\": {\"top_k\": 10},  # Number of documents to retrieve\n",
    "        \"Reader\": {\"top_k\": 1}      # Number of answers to return\n",
    "    }\n",
    ")\n",
    "\n",
    "print('\\n')\n",
    "\n",
    "# Print the answers\n",
    "print_answers(prediction, details=\"minimum\")"
   ]
  },
  {
   "cell_type": "code",
   "execution_count": 106,
   "id": "8ee8de2f-a242-4ac9-9caa-dff2236ca1e1",
   "metadata": {},
   "outputs": [
    {
     "name": "stderr",
     "output_type": "stream",
     "text": [
      "Inferencing Samples: 100%|████████████████████████████████████████████████████████████████████| 1/1 [00:02<00:00,  2.80s/ Batches]"
     ]
    },
    {
     "name": "stdout",
     "output_type": "stream",
     "text": [
      "\n",
      "\n",
      "'Query: Tell me about Bangladesh?'\n",
      "'Answers:'\n",
      "[   <Answer {'answer': \"Bangladesh's flagship export-oriented ready-made garment industry\", 'type': 'extractive', 'score': 0.3153889775276184, 'context': \"n Bangladesh's formal economy was minimal. Bangladesh's flagship export-oriented ready-made garment industry, however, with female labor accounting fo\", 'offsets_in_document': [{'start': 723, 'end': 788}], 'offsets_in_context': [{'start': 43, 'end': 108}], 'document_ids': ['8859bc28fd21591b67d7df7cf70de8bc'], 'meta': {'url': 'https://en.wikipedia.org/wiki/Bangladesh_textile_industry', '_split_id': 20, '_split_overlap': [{'doc_id': '59a8281c4baa6e06eefc890ab2e83999', 'range': (0, 285)}, {'doc_id': 'f58d1e90a66185ecb7e843173691d3bf', 'range': (1048, 1240)}]}}>]\n"
     ]
    },
    {
     "name": "stderr",
     "output_type": "stream",
     "text": [
      "\n"
     ]
    }
   ],
   "source": [
    "# Step 7: Ask a question to the RAG pipeline\n",
    "query = \"Tell me about Bangladesh?\"\n",
    "\n",
    "# Get answers from the pipeline\n",
    "prediction = pipeline.run(\n",
    "    query=query,\n",
    "    params={\n",
    "        \"Retriever\": {\"top_k\": 10},  # Number of documents to retrieve\n",
    "        \"Reader\": {\"top_k\": 1}      # Number of answers to return\n",
    "    }\n",
    ")\n",
    "\n",
    "print('\\n')\n",
    "\n",
    "# Print the answers\n",
    "print_answers(prediction, details=\"all\")"
   ]
  }
 ],
 "metadata": {
  "kernelspec": {
   "display_name": "Python (myenv)",
   "language": "python",
   "name": "myenv"
  },
  "language_info": {
   "codemirror_mode": {
    "name": "ipython",
    "version": 3
   },
   "file_extension": ".py",
   "mimetype": "text/x-python",
   "name": "python",
   "nbconvert_exporter": "python",
   "pygments_lexer": "ipython3",
   "version": "3.11.5"
  }
 },
 "nbformat": 4,
 "nbformat_minor": 5
}
