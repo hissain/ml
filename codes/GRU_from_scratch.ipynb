{
  "nbformat": 4,
  "nbformat_minor": 0,
  "metadata": {
    "colab": {
      "provenance": [],
      "toc_visible": true,
      "include_colab_link": true
    },
    "kernelspec": {
      "name": "python3",
      "display_name": "Python 3"
    },
    "language_info": {
      "name": "python"
    }
  },
  "cells": [
    {
      "cell_type": "markdown",
      "metadata": {
        "id": "view-in-github",
        "colab_type": "text"
      },
      "source": [
        "<a href=\"https://colab.research.google.com/github/hissain/mlworks/blob/main/codes/GRU_from_scratch.ipynb\" target=\"_parent\"><img src=\"https://colab.research.google.com/assets/colab-badge.svg\" alt=\"Open In Colab\"/></a>"
      ]
    },
    {
      "cell_type": "code",
      "source": [
        "# import\n",
        "import torch\n",
        "import torch.nn as nn\n",
        "import math"
      ],
      "metadata": {
        "id": "Xa-r8LHHpWSj"
      },
      "execution_count": null,
      "outputs": []
    },
    {
      "cell_type": "code",
      "source": [
        "# Seed\n",
        "torch.manual_seed(0)"
      ],
      "metadata": {
        "colab": {
          "base_uri": "https://localhost:8080/"
        },
        "id": "6ktNrC6LqERA",
        "outputId": "cedee68c-6fa2-488f-b68e-0b8de73eab8d"
      },
      "execution_count": null,
      "outputs": [
        {
          "output_type": "execute_result",
          "data": {
            "text/plain": [
              "<torch._C.Generator at 0x7da1403a5ad0>"
            ]
          },
          "metadata": {},
          "execution_count": 4
        }
      ]
    },
    {
      "cell_type": "code",
      "source": [
        "class GRUCell(nn.Module):\n",
        "    def __init__(self, input_size, hidden_size):\n",
        "        super(GRUCell, self).__init__()\n",
        "        self.input_size = input_size\n",
        "        self.hidden_size = hidden_size\n",
        "\n",
        "        # Reset gate weights\n",
        "        self.W_xr = nn.Parameter(torch.Tensor(input_size, hidden_size))\n",
        "        self.W_hr = nn.Parameter(torch.Tensor(hidden_size, hidden_size))\n",
        "        self.b_r = nn.Parameter(torch.Tensor(hidden_size))\n",
        "\n",
        "        # Update gate weights\n",
        "        self.W_xz = nn.Parameter(torch.Tensor(input_size, hidden_size))\n",
        "        self.W_hz = nn.Parameter(torch.Tensor(hidden_size, hidden_size))\n",
        "        self.b_z = nn.Parameter(torch.Tensor(hidden_size))\n",
        "\n",
        "        # Candidate hidden state weights\n",
        "        self.W_xh = nn.Parameter(torch.Tensor(input_size, hidden_size))\n",
        "        self.W_hh = nn.Parameter(torch.Tensor(hidden_size, hidden_size))\n",
        "        self.b_h = nn.Parameter(torch.Tensor(hidden_size))\n",
        "\n",
        "        self.reset_parameters()\n",
        "\n",
        "    def reset_parameters(self):\n",
        "        stdv = 1.0 / math.sqrt(self.hidden_size)\n",
        "        for weight in self.parameters():\n",
        "            weight.data.uniform_(-stdv, stdv)\n",
        "\n",
        "    def forward(self, input, hidden_state=None):\n",
        "        \"\"\"\n",
        "        Performs a forward pass through the GRU cell.\n",
        "\n",
        "        Args:\n",
        "            input: A tensor of shape (batch_size, input_size) representing the input sequence.\n",
        "            hidden_state: A tensor of shape (batch_size, hidden_size) representing the initial hidden state (optional).\n",
        "\n",
        "        Returns:\n",
        "            hidden_state: A tensor of shape (batch_size, hidden_size) representing the hidden state.\n",
        "        \"\"\"\n",
        "        batch_size, _ = input.size()\n",
        "\n",
        "        if hidden_state is None:\n",
        "            hidden_state = torch.zeros(batch_size, self.hidden_size)\n",
        "\n",
        "        # Reset gate\n",
        "        reset_gate = torch.sigmoid(input @ self.W_xr + hidden_state @ self.W_hr + self.b_r)\n",
        "        # Update gate\n",
        "        update_gate = torch.sigmoid(input @ self.W_xz + hidden_state @ self.W_hz + self.b_z)\n",
        "        # Candidate activation\n",
        "        candidate_activation = torch.tanh(input @ self.W_xh + (reset_gate * hidden_state) @ self.W_hh + self.b_h)\n",
        "\n",
        "        # Compute new hidden state\n",
        "        hidden_state = update_gate * hidden_state + (1 - update_gate) * candidate_activation\n",
        "\n",
        "        return hidden_state\n"
      ],
      "metadata": {
        "id": "HRt-IF7RpeQo"
      },
      "execution_count": null,
      "outputs": []
    },
    {
      "cell_type": "code",
      "source": [
        "class GRU(nn.Module):\n",
        "    def __init__(self, input_size, hidden_size, output_size):\n",
        "        super(GRU, self).__init__()\n",
        "        self.input_size = input_size\n",
        "        self.hidden_size = hidden_size\n",
        "\n",
        "        self.gru_cell = GRUCell(input_size, hidden_size)\n",
        "        self.fc = torch.nn.Linear(hidden_size, output_size)\n",
        "\n",
        "    def forward(self, inputs):\n",
        "        \"\"\"\n",
        "        Performs a forward pass through the RNN model.\n",
        "\n",
        "        Args:\n",
        "            inputs: A tensor of shape (batch_size, seq_len, input_size) representing the input sequence.\n",
        "\n",
        "        Returns:\n",
        "            prediction: A tensor of shape (batch_size, output_size) representing the model output.\n",
        "        \"\"\"\n",
        "        hidden_state = None\n",
        "        cell_state = None\n",
        "        _, seq_len, _ = inputs.size()\n",
        "\n",
        "        for t in range(seq_len):\n",
        "            hidden_state = self.gru_cell(\n",
        "                inputs[:, t, :],\n",
        "                hidden_state\n",
        "            )\n",
        "\n",
        "        prediction = self.fc(hidden_state)\n",
        "\n",
        "        return prediction, hidden_state"
      ],
      "metadata": {
        "id": "T3xRT2AyrvfG"
      },
      "execution_count": null,
      "outputs": []
    },
    {
      "cell_type": "code",
      "execution_count": null,
      "metadata": {
        "id": "gxPiLA42pOnG",
        "colab": {
          "base_uri": "https://localhost:8080/"
        },
        "outputId": "3cc9ac7e-7bcf-49cb-d75d-fe45173473a8"
      },
      "outputs": [
        {
          "output_type": "stream",
          "name": "stdout",
          "text": [
            "Output shape: torch.Size([2, 10])\n",
            "Last hidden state shape: torch.Size([2, 20])\n"
          ]
        }
      ],
      "source": [
        "# Example usage:\n",
        "input_size = 10\n",
        "output_size = 10\n",
        "hidden_size = 20\n",
        "seq_length = 5\n",
        "batch_size = 2\n",
        "\n",
        "# Create GRU model\n",
        "gru = GRU(input_size, hidden_size, output_size)\n",
        "\n",
        "# Generate some random input data\n",
        "input_data = torch.randn(batch_size, seq_length, input_size)\n",
        "\n",
        "# Forward pass\n",
        "output, hidden_state_last = gru(input_data)\n",
        "print(\"Output shape:\", output.shape)\n",
        "print(\"Last hidden state shape:\", hidden_state_last.shape)\n"
      ]
    },
    {
      "cell_type": "code",
      "source": [],
      "metadata": {
        "id": "GvZ22F1Hu5fV"
      },
      "execution_count": null,
      "outputs": []
    }
  ]
}