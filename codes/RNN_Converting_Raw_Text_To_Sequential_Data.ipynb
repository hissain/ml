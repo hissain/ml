{
  "nbformat": 4,
  "nbformat_minor": 0,
  "metadata": {
    "colab": {
      "provenance": [],
      "include_colab_link": true
    },
    "kernelspec": {
      "name": "python3",
      "display_name": "Python 3"
    },
    "language_info": {
      "name": "python"
    }
  },
  "cells": [
    {
      "cell_type": "markdown",
      "metadata": {
        "id": "view-in-github",
        "colab_type": "text"
      },
      "source": [
        "<a href=\"https://colab.research.google.com/github/hissain/mlworks/blob/main/codes/RNN_Converting_Raw_Text_To_Sequential_Data.ipynb\" target=\"_parent\"><img src=\"https://colab.research.google.com/assets/colab-badge.svg\" alt=\"Open In Colab\"/></a>"
      ]
    },
    {
      "cell_type": "code",
      "source": [
        "%pip install torchtext torchdata portalocker>=2.0.0"
      ],
      "metadata": {
        "id": "wkESjowYgcQV"
      },
      "execution_count": null,
      "outputs": []
    },
    {
      "cell_type": "code",
      "execution_count": null,
      "metadata": {
        "id": "CTjHVAZekKyH"
      },
      "outputs": [],
      "source": [
        "# Importing Libraries\n",
        "import collections\n",
        "import random\n",
        "import re\n",
        "import torch\n",
        "from tabulate import tabulate"
      ]
    },
    {
      "cell_type": "code",
      "source": [
        "# Print dictionary in table\n",
        "def print_in_table(dictionary):\n",
        "    print(tabulate(\n",
        "        {\n",
        "            \"keys\": dictionary.keys(),\n",
        "            \"values\": dictionary.values()\n",
        "        },\n",
        "        headers=\"keys\",\n",
        "        tablefmt=\"outline\"\n",
        "    ))"
      ],
      "metadata": {
        "id": "tnL92orgcmxV"
      },
      "execution_count": null,
      "outputs": []
    },
    {
      "cell_type": "code",
      "source": [
        "# Taking a random paragraph\n",
        "text = \"We are living in an AI era . One day AI will take all the Human jobs .\""
      ],
      "metadata": {
        "id": "bSeQF82uVpfN"
      },
      "execution_count": null,
      "outputs": []
    },
    {
      "cell_type": "code",
      "source": [
        "# character level tokenization\n",
        "class CharTokenizer:\n",
        "    def __init__(self):\n",
        "        self.mapping = {\n",
        "            'a': 1,\n",
        "            'b': 2,\n",
        "            # ....\n",
        "        }\n",
        "\n",
        "    def encode(self, text):\n",
        "        chars = list(text)\n",
        "        return [ord(char) for char in chars]\n",
        "\n",
        "    def decode(self, tokens):\n",
        "        chars = [chr(token) for token in tokens]\n",
        "        return \"\".join(chars)\n",
        "\n"
      ],
      "metadata": {
        "id": "lfZTZJM0XR6r"
      },
      "execution_count": null,
      "outputs": []
    },
    {
      "cell_type": "code",
      "source": [
        "# Encoding text to token and retrieve the text again\n",
        "tokenizer = CharTokenizer()\n",
        "tokens = tokenizer.encode(text)\n",
        "print(tokens)\n",
        "decoded_text = tokenizer.decode(tokens)\n",
        "print(decoded_text)"
      ],
      "metadata": {
        "colab": {
          "base_uri": "https://localhost:8080/"
        },
        "id": "kWGmHMeDX8ir",
        "outputId": "e4c2444c-eb99-4990-9b70-32bb23cc0f44"
      },
      "execution_count": null,
      "outputs": [
        {
          "output_type": "stream",
          "name": "stdout",
          "text": [
            "[87, 101, 32, 97, 114, 101, 32, 108, 105, 118, 105, 110, 103, 32, 105, 110, 32, 97, 110, 32, 65, 73, 32, 101, 114, 97, 32, 46, 32, 79, 110, 101, 32, 100, 97, 121, 32, 65, 73, 32, 119, 105, 108, 108, 32, 116, 97, 107, 101, 32, 97, 108, 108, 32, 116, 104, 101, 32, 72, 117, 109, 97, 110, 32, 106, 111, 98, 115, 32, 46]\n",
            "We are living in an AI era . One day AI will take all the Human jobs .\n"
          ]
        }
      ]
    },
    {
      "cell_type": "code",
      "source": [
        "# word level tokenization\n",
        "class Tokenizer:\n",
        "    def __init__(self):\n",
        "        self.mapping = {}\n",
        "        self.reverse_mapping = {}\n",
        "\n",
        "    def encode(self, text):\n",
        "        words = text.split()\n",
        "        tokens = []\n",
        "        for word in words:\n",
        "            if word not in self.mapping:\n",
        "                mapped_int = len(self.mapping)\n",
        "                self.mapping[word] = mapped_int\n",
        "                self.reverse_mapping[mapped_int] = word\n",
        "            tokens.append(self.mapping[word])\n",
        "        return tokens\n",
        "\n",
        "    def decode(self, tokens):\n",
        "        words = [self.reverse_mapping[token] for token in tokens]\n",
        "        return \" \".join(words)\n"
      ],
      "metadata": {
        "id": "1gP3w3nEZcOS"
      },
      "execution_count": null,
      "outputs": []
    },
    {
      "cell_type": "code",
      "source": [
        "# Encoding text to token and retrieve the text again\n",
        "tokenizer = Tokenizer()\n",
        "tokens = tokenizer.encode(text)\n",
        "print(tokens)\n",
        "decoded_text = tokenizer.decode(tokens)\n",
        "print(decoded_text)"
      ],
      "metadata": {
        "colab": {
          "base_uri": "https://localhost:8080/"
        },
        "id": "I5vvR2o8bPJ7",
        "outputId": "18a5fbe2-3aed-4e05-8f7b-8d6abd99d5c9"
      },
      "execution_count": null,
      "outputs": [
        {
          "output_type": "stream",
          "name": "stdout",
          "text": [
            "[0, 1, 2, 3, 4, 5, 6, 7, 8, 9, 5, 10, 11, 12, 13, 14, 15, 7]\n",
            "We are living in an AI era . One day AI will take all the Human jobs .\n"
          ]
        }
      ]
    },
    {
      "cell_type": "code",
      "source": [
        "print_in_table(tokenizer.mapping)\n",
        "print()\n",
        "print_in_table(tokenizer.reverse_mapping)"
      ],
      "metadata": {
        "colab": {
          "base_uri": "https://localhost:8080/"
        },
        "id": "3r-aTtv_bqPm",
        "outputId": "49834d1d-84fa-4354-f3d7-2debca5eb863"
      },
      "execution_count": null,
      "outputs": [
        {
          "output_type": "stream",
          "name": "stdout",
          "text": [
            "+--------+----------+\n",
            "| keys   |   values |\n",
            "+========+==========+\n",
            "| We     |        0 |\n",
            "| are    |        1 |\n",
            "| living |        2 |\n",
            "| in     |        3 |\n",
            "| an     |        4 |\n",
            "| AI     |        5 |\n",
            "| era    |        6 |\n",
            "| .      |        7 |\n",
            "| One    |        8 |\n",
            "| day    |        9 |\n",
            "| will   |       10 |\n",
            "| take   |       11 |\n",
            "| all    |       12 |\n",
            "| the    |       13 |\n",
            "| Human  |       14 |\n",
            "| jobs   |       15 |\n",
            "+--------+----------+\n",
            "\n",
            "+--------+----------+\n",
            "|   keys | values   |\n",
            "+========+==========+\n",
            "|      0 | We       |\n",
            "|      1 | are      |\n",
            "|      2 | living   |\n",
            "|      3 | in       |\n",
            "|      4 | an       |\n",
            "|      5 | AI       |\n",
            "|      6 | era      |\n",
            "|      7 | .        |\n",
            "|      8 | One      |\n",
            "|      9 | day      |\n",
            "|     10 | will     |\n",
            "|     11 | take     |\n",
            "|     12 | all      |\n",
            "|     13 | the      |\n",
            "|     14 | Human    |\n",
            "|     15 | jobs     |\n",
            "+--------+----------+\n"
          ]
        }
      ]
    },
    {
      "cell_type": "code",
      "source": [
        "# Loading IMDB dataset\n",
        "# Source: http://ai.stanford.edu/~amaas/data/sentiment/\n",
        "from torchtext.datasets import IMDB\n",
        "train_iter = IMDB(split='train')"
      ],
      "metadata": {
        "id": "T6AxI1uSbwY7"
      },
      "execution_count": null,
      "outputs": []
    },
    {
      "cell_type": "code",
      "source": [
        "# Converting all to tokens\n",
        "for label, line in train_iter:\n",
        "    tokens += tokenizer.encode(line)"
      ],
      "metadata": {
        "id": "qlq1LOrtgKsQ"
      },
      "execution_count": null,
      "outputs": []
    },
    {
      "cell_type": "code",
      "source": [
        "len(tokenizer.mapping)"
      ],
      "metadata": {
        "colab": {
          "base_uri": "https://localhost:8080/"
        },
        "id": "BDybQvJJhQI7",
        "outputId": "11e1ed3c-f314-4bc9-d605-3739b3e85575"
      },
      "execution_count": null,
      "outputs": [
        {
          "output_type": "execute_result",
          "data": {
            "text/plain": [
              "280617"
            ]
          },
          "metadata": {},
          "execution_count": 15
        }
      ]
    },
    {
      "cell_type": "code",
      "source": [
        "# One hot representation using Pytorch\n",
        "import torch.nn.functional as F\n",
        "\n",
        "data = torch.arange(0, 5)\n",
        "print(data)\n",
        "print(F.one_hot(data))\n",
        "print(F.one_hot(data, num_classes=10))"
      ],
      "metadata": {
        "colab": {
          "base_uri": "https://localhost:8080/"
        },
        "id": "K7bccF7hmPt8",
        "outputId": "9285ed75-3add-440e-b178-bb6fd40944df"
      },
      "execution_count": null,
      "outputs": [
        {
          "output_type": "stream",
          "name": "stdout",
          "text": [
            "tensor([0, 1, 2, 3, 4])\n",
            "tensor([[1, 0, 0, 0, 0],\n",
            "        [0, 1, 0, 0, 0],\n",
            "        [0, 0, 1, 0, 0],\n",
            "        [0, 0, 0, 1, 0],\n",
            "        [0, 0, 0, 0, 1]])\n",
            "tensor([[1, 0, 0, 0, 0, 0, 0, 0, 0, 0],\n",
            "        [0, 1, 0, 0, 0, 0, 0, 0, 0, 0],\n",
            "        [0, 0, 1, 0, 0, 0, 0, 0, 0, 0],\n",
            "        [0, 0, 0, 1, 0, 0, 0, 0, 0, 0],\n",
            "        [0, 0, 0, 0, 1, 0, 0, 0, 0, 0]])\n"
          ]
        }
      ]
    },
    {
      "cell_type": "code",
      "source": [],
      "metadata": {
        "id": "a7L3p9b3mgXa"
      },
      "execution_count": null,
      "outputs": []
    }
  ]
}