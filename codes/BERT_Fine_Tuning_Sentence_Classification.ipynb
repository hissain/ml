{
  "nbformat": 4,
  "nbformat_minor": 0,
  "metadata": {
    "colab": {
      "provenance": [],
      "include_colab_link": true
    },
    "kernelspec": {
      "name": "python3",
      "display_name": "Python 3"
    },
    "accelerator": "GPU",
    "widgets": {
      "application/vnd.jupyter.widget-state+json": {
        "22de620723d6499caced288c23bb8930": {
          "model_module": "@jupyter-widgets/controls",
          "model_name": "HBoxModel",
          "model_module_version": "1.5.0",
          "state": {
            "_dom_classes": [],
            "_model_module": "@jupyter-widgets/controls",
            "_model_module_version": "1.5.0",
            "_model_name": "HBoxModel",
            "_view_count": null,
            "_view_module": "@jupyter-widgets/controls",
            "_view_module_version": "1.5.0",
            "_view_name": "HBoxView",
            "box_style": "",
            "children": [
              "IPY_MODEL_1bcb158812e24a56af47f771f03e25fc",
              "IPY_MODEL_7bf702aefd074726bb78da07b6703cff",
              "IPY_MODEL_f6d321305304405d95885df3720841ce"
            ],
            "layout": "IPY_MODEL_5a255dd8cc6d42f0bac838f22694bb7a"
          }
        },
        "1bcb158812e24a56af47f771f03e25fc": {
          "model_module": "@jupyter-widgets/controls",
          "model_name": "HTMLModel",
          "model_module_version": "1.5.0",
          "state": {
            "_dom_classes": [],
            "_model_module": "@jupyter-widgets/controls",
            "_model_module_version": "1.5.0",
            "_model_name": "HTMLModel",
            "_view_count": null,
            "_view_module": "@jupyter-widgets/controls",
            "_view_module_version": "1.5.0",
            "_view_name": "HTMLView",
            "description": "",
            "description_tooltip": null,
            "layout": "IPY_MODEL_c24ad55760b646efbd37a4b4090fce9d",
            "placeholder": "​",
            "style": "IPY_MODEL_d0a134d288e14c7098985bf398d6e493",
            "value": "tokenizer_config.json: 100%"
          }
        },
        "7bf702aefd074726bb78da07b6703cff": {
          "model_module": "@jupyter-widgets/controls",
          "model_name": "FloatProgressModel",
          "model_module_version": "1.5.0",
          "state": {
            "_dom_classes": [],
            "_model_module": "@jupyter-widgets/controls",
            "_model_module_version": "1.5.0",
            "_model_name": "FloatProgressModel",
            "_view_count": null,
            "_view_module": "@jupyter-widgets/controls",
            "_view_module_version": "1.5.0",
            "_view_name": "ProgressView",
            "bar_style": "success",
            "description": "",
            "description_tooltip": null,
            "layout": "IPY_MODEL_c9390ddcd5364b278f8800bebb35fa11",
            "max": 48,
            "min": 0,
            "orientation": "horizontal",
            "style": "IPY_MODEL_b85109d895fb435ab4b5de94dc90b234",
            "value": 48
          }
        },
        "f6d321305304405d95885df3720841ce": {
          "model_module": "@jupyter-widgets/controls",
          "model_name": "HTMLModel",
          "model_module_version": "1.5.0",
          "state": {
            "_dom_classes": [],
            "_model_module": "@jupyter-widgets/controls",
            "_model_module_version": "1.5.0",
            "_model_name": "HTMLModel",
            "_view_count": null,
            "_view_module": "@jupyter-widgets/controls",
            "_view_module_version": "1.5.0",
            "_view_name": "HTMLView",
            "description": "",
            "description_tooltip": null,
            "layout": "IPY_MODEL_f630890ecb2b4b6aa9d4c596948858fd",
            "placeholder": "​",
            "style": "IPY_MODEL_fba18fc7def745ccb5f07dd94e66c9da",
            "value": " 48.0/48.0 [00:00&lt;00:00, 2.09kB/s]"
          }
        },
        "5a255dd8cc6d42f0bac838f22694bb7a": {
          "model_module": "@jupyter-widgets/base",
          "model_name": "LayoutModel",
          "model_module_version": "1.2.0",
          "state": {
            "_model_module": "@jupyter-widgets/base",
            "_model_module_version": "1.2.0",
            "_model_name": "LayoutModel",
            "_view_count": null,
            "_view_module": "@jupyter-widgets/base",
            "_view_module_version": "1.2.0",
            "_view_name": "LayoutView",
            "align_content": null,
            "align_items": null,
            "align_self": null,
            "border": null,
            "bottom": null,
            "display": null,
            "flex": null,
            "flex_flow": null,
            "grid_area": null,
            "grid_auto_columns": null,
            "grid_auto_flow": null,
            "grid_auto_rows": null,
            "grid_column": null,
            "grid_gap": null,
            "grid_row": null,
            "grid_template_areas": null,
            "grid_template_columns": null,
            "grid_template_rows": null,
            "height": null,
            "justify_content": null,
            "justify_items": null,
            "left": null,
            "margin": null,
            "max_height": null,
            "max_width": null,
            "min_height": null,
            "min_width": null,
            "object_fit": null,
            "object_position": null,
            "order": null,
            "overflow": null,
            "overflow_x": null,
            "overflow_y": null,
            "padding": null,
            "right": null,
            "top": null,
            "visibility": null,
            "width": null
          }
        },
        "c24ad55760b646efbd37a4b4090fce9d": {
          "model_module": "@jupyter-widgets/base",
          "model_name": "LayoutModel",
          "model_module_version": "1.2.0",
          "state": {
            "_model_module": "@jupyter-widgets/base",
            "_model_module_version": "1.2.0",
            "_model_name": "LayoutModel",
            "_view_count": null,
            "_view_module": "@jupyter-widgets/base",
            "_view_module_version": "1.2.0",
            "_view_name": "LayoutView",
            "align_content": null,
            "align_items": null,
            "align_self": null,
            "border": null,
            "bottom": null,
            "display": null,
            "flex": null,
            "flex_flow": null,
            "grid_area": null,
            "grid_auto_columns": null,
            "grid_auto_flow": null,
            "grid_auto_rows": null,
            "grid_column": null,
            "grid_gap": null,
            "grid_row": null,
            "grid_template_areas": null,
            "grid_template_columns": null,
            "grid_template_rows": null,
            "height": null,
            "justify_content": null,
            "justify_items": null,
            "left": null,
            "margin": null,
            "max_height": null,
            "max_width": null,
            "min_height": null,
            "min_width": null,
            "object_fit": null,
            "object_position": null,
            "order": null,
            "overflow": null,
            "overflow_x": null,
            "overflow_y": null,
            "padding": null,
            "right": null,
            "top": null,
            "visibility": null,
            "width": null
          }
        },
        "d0a134d288e14c7098985bf398d6e493": {
          "model_module": "@jupyter-widgets/controls",
          "model_name": "DescriptionStyleModel",
          "model_module_version": "1.5.0",
          "state": {
            "_model_module": "@jupyter-widgets/controls",
            "_model_module_version": "1.5.0",
            "_model_name": "DescriptionStyleModel",
            "_view_count": null,
            "_view_module": "@jupyter-widgets/base",
            "_view_module_version": "1.2.0",
            "_view_name": "StyleView",
            "description_width": ""
          }
        },
        "c9390ddcd5364b278f8800bebb35fa11": {
          "model_module": "@jupyter-widgets/base",
          "model_name": "LayoutModel",
          "model_module_version": "1.2.0",
          "state": {
            "_model_module": "@jupyter-widgets/base",
            "_model_module_version": "1.2.0",
            "_model_name": "LayoutModel",
            "_view_count": null,
            "_view_module": "@jupyter-widgets/base",
            "_view_module_version": "1.2.0",
            "_view_name": "LayoutView",
            "align_content": null,
            "align_items": null,
            "align_self": null,
            "border": null,
            "bottom": null,
            "display": null,
            "flex": null,
            "flex_flow": null,
            "grid_area": null,
            "grid_auto_columns": null,
            "grid_auto_flow": null,
            "grid_auto_rows": null,
            "grid_column": null,
            "grid_gap": null,
            "grid_row": null,
            "grid_template_areas": null,
            "grid_template_columns": null,
            "grid_template_rows": null,
            "height": null,
            "justify_content": null,
            "justify_items": null,
            "left": null,
            "margin": null,
            "max_height": null,
            "max_width": null,
            "min_height": null,
            "min_width": null,
            "object_fit": null,
            "object_position": null,
            "order": null,
            "overflow": null,
            "overflow_x": null,
            "overflow_y": null,
            "padding": null,
            "right": null,
            "top": null,
            "visibility": null,
            "width": null
          }
        },
        "b85109d895fb435ab4b5de94dc90b234": {
          "model_module": "@jupyter-widgets/controls",
          "model_name": "ProgressStyleModel",
          "model_module_version": "1.5.0",
          "state": {
            "_model_module": "@jupyter-widgets/controls",
            "_model_module_version": "1.5.0",
            "_model_name": "ProgressStyleModel",
            "_view_count": null,
            "_view_module": "@jupyter-widgets/base",
            "_view_module_version": "1.2.0",
            "_view_name": "StyleView",
            "bar_color": null,
            "description_width": ""
          }
        },
        "f630890ecb2b4b6aa9d4c596948858fd": {
          "model_module": "@jupyter-widgets/base",
          "model_name": "LayoutModel",
          "model_module_version": "1.2.0",
          "state": {
            "_model_module": "@jupyter-widgets/base",
            "_model_module_version": "1.2.0",
            "_model_name": "LayoutModel",
            "_view_count": null,
            "_view_module": "@jupyter-widgets/base",
            "_view_module_version": "1.2.0",
            "_view_name": "LayoutView",
            "align_content": null,
            "align_items": null,
            "align_self": null,
            "border": null,
            "bottom": null,
            "display": null,
            "flex": null,
            "flex_flow": null,
            "grid_area": null,
            "grid_auto_columns": null,
            "grid_auto_flow": null,
            "grid_auto_rows": null,
            "grid_column": null,
            "grid_gap": null,
            "grid_row": null,
            "grid_template_areas": null,
            "grid_template_columns": null,
            "grid_template_rows": null,
            "height": null,
            "justify_content": null,
            "justify_items": null,
            "left": null,
            "margin": null,
            "max_height": null,
            "max_width": null,
            "min_height": null,
            "min_width": null,
            "object_fit": null,
            "object_position": null,
            "order": null,
            "overflow": null,
            "overflow_x": null,
            "overflow_y": null,
            "padding": null,
            "right": null,
            "top": null,
            "visibility": null,
            "width": null
          }
        },
        "fba18fc7def745ccb5f07dd94e66c9da": {
          "model_module": "@jupyter-widgets/controls",
          "model_name": "DescriptionStyleModel",
          "model_module_version": "1.5.0",
          "state": {
            "_model_module": "@jupyter-widgets/controls",
            "_model_module_version": "1.5.0",
            "_model_name": "DescriptionStyleModel",
            "_view_count": null,
            "_view_module": "@jupyter-widgets/base",
            "_view_module_version": "1.2.0",
            "_view_name": "StyleView",
            "description_width": ""
          }
        },
        "b8fb8293ffb9465aa868cdc8e854f779": {
          "model_module": "@jupyter-widgets/controls",
          "model_name": "HBoxModel",
          "model_module_version": "1.5.0",
          "state": {
            "_dom_classes": [],
            "_model_module": "@jupyter-widgets/controls",
            "_model_module_version": "1.5.0",
            "_model_name": "HBoxModel",
            "_view_count": null,
            "_view_module": "@jupyter-widgets/controls",
            "_view_module_version": "1.5.0",
            "_view_name": "HBoxView",
            "box_style": "",
            "children": [
              "IPY_MODEL_03185a15c8c24155983e1165f7d8a0b7",
              "IPY_MODEL_8335544448294ae3bbc4ec65a8e3e0cd",
              "IPY_MODEL_3e7e44ac80d6418bb2d8ed452b4283af"
            ],
            "layout": "IPY_MODEL_809b704f3c384d6bbe2a9167c8b4552c"
          }
        },
        "03185a15c8c24155983e1165f7d8a0b7": {
          "model_module": "@jupyter-widgets/controls",
          "model_name": "HTMLModel",
          "model_module_version": "1.5.0",
          "state": {
            "_dom_classes": [],
            "_model_module": "@jupyter-widgets/controls",
            "_model_module_version": "1.5.0",
            "_model_name": "HTMLModel",
            "_view_count": null,
            "_view_module": "@jupyter-widgets/controls",
            "_view_module_version": "1.5.0",
            "_view_name": "HTMLView",
            "description": "",
            "description_tooltip": null,
            "layout": "IPY_MODEL_71c457162aae4f81bfb50238f370053f",
            "placeholder": "​",
            "style": "IPY_MODEL_d0db1e233c3f41f0a23814e0cd4ba0a4",
            "value": "vocab.txt: 100%"
          }
        },
        "8335544448294ae3bbc4ec65a8e3e0cd": {
          "model_module": "@jupyter-widgets/controls",
          "model_name": "FloatProgressModel",
          "model_module_version": "1.5.0",
          "state": {
            "_dom_classes": [],
            "_model_module": "@jupyter-widgets/controls",
            "_model_module_version": "1.5.0",
            "_model_name": "FloatProgressModel",
            "_view_count": null,
            "_view_module": "@jupyter-widgets/controls",
            "_view_module_version": "1.5.0",
            "_view_name": "ProgressView",
            "bar_style": "success",
            "description": "",
            "description_tooltip": null,
            "layout": "IPY_MODEL_a88cea4a707942f49afaebef5d2bb224",
            "max": 231508,
            "min": 0,
            "orientation": "horizontal",
            "style": "IPY_MODEL_a346c2bfbefa4ef3a5dbad49b9a271cf",
            "value": 231508
          }
        },
        "3e7e44ac80d6418bb2d8ed452b4283af": {
          "model_module": "@jupyter-widgets/controls",
          "model_name": "HTMLModel",
          "model_module_version": "1.5.0",
          "state": {
            "_dom_classes": [],
            "_model_module": "@jupyter-widgets/controls",
            "_model_module_version": "1.5.0",
            "_model_name": "HTMLModel",
            "_view_count": null,
            "_view_module": "@jupyter-widgets/controls",
            "_view_module_version": "1.5.0",
            "_view_name": "HTMLView",
            "description": "",
            "description_tooltip": null,
            "layout": "IPY_MODEL_4947c75e7fcc4979b190ad2c0c29fb49",
            "placeholder": "​",
            "style": "IPY_MODEL_d7d6274a143a4b0797f18731cce909fb",
            "value": " 232k/232k [00:00&lt;00:00, 10.6MB/s]"
          }
        },
        "809b704f3c384d6bbe2a9167c8b4552c": {
          "model_module": "@jupyter-widgets/base",
          "model_name": "LayoutModel",
          "model_module_version": "1.2.0",
          "state": {
            "_model_module": "@jupyter-widgets/base",
            "_model_module_version": "1.2.0",
            "_model_name": "LayoutModel",
            "_view_count": null,
            "_view_module": "@jupyter-widgets/base",
            "_view_module_version": "1.2.0",
            "_view_name": "LayoutView",
            "align_content": null,
            "align_items": null,
            "align_self": null,
            "border": null,
            "bottom": null,
            "display": null,
            "flex": null,
            "flex_flow": null,
            "grid_area": null,
            "grid_auto_columns": null,
            "grid_auto_flow": null,
            "grid_auto_rows": null,
            "grid_column": null,
            "grid_gap": null,
            "grid_row": null,
            "grid_template_areas": null,
            "grid_template_columns": null,
            "grid_template_rows": null,
            "height": null,
            "justify_content": null,
            "justify_items": null,
            "left": null,
            "margin": null,
            "max_height": null,
            "max_width": null,
            "min_height": null,
            "min_width": null,
            "object_fit": null,
            "object_position": null,
            "order": null,
            "overflow": null,
            "overflow_x": null,
            "overflow_y": null,
            "padding": null,
            "right": null,
            "top": null,
            "visibility": null,
            "width": null
          }
        },
        "71c457162aae4f81bfb50238f370053f": {
          "model_module": "@jupyter-widgets/base",
          "model_name": "LayoutModel",
          "model_module_version": "1.2.0",
          "state": {
            "_model_module": "@jupyter-widgets/base",
            "_model_module_version": "1.2.0",
            "_model_name": "LayoutModel",
            "_view_count": null,
            "_view_module": "@jupyter-widgets/base",
            "_view_module_version": "1.2.0",
            "_view_name": "LayoutView",
            "align_content": null,
            "align_items": null,
            "align_self": null,
            "border": null,
            "bottom": null,
            "display": null,
            "flex": null,
            "flex_flow": null,
            "grid_area": null,
            "grid_auto_columns": null,
            "grid_auto_flow": null,
            "grid_auto_rows": null,
            "grid_column": null,
            "grid_gap": null,
            "grid_row": null,
            "grid_template_areas": null,
            "grid_template_columns": null,
            "grid_template_rows": null,
            "height": null,
            "justify_content": null,
            "justify_items": null,
            "left": null,
            "margin": null,
            "max_height": null,
            "max_width": null,
            "min_height": null,
            "min_width": null,
            "object_fit": null,
            "object_position": null,
            "order": null,
            "overflow": null,
            "overflow_x": null,
            "overflow_y": null,
            "padding": null,
            "right": null,
            "top": null,
            "visibility": null,
            "width": null
          }
        },
        "d0db1e233c3f41f0a23814e0cd4ba0a4": {
          "model_module": "@jupyter-widgets/controls",
          "model_name": "DescriptionStyleModel",
          "model_module_version": "1.5.0",
          "state": {
            "_model_module": "@jupyter-widgets/controls",
            "_model_module_version": "1.5.0",
            "_model_name": "DescriptionStyleModel",
            "_view_count": null,
            "_view_module": "@jupyter-widgets/base",
            "_view_module_version": "1.2.0",
            "_view_name": "StyleView",
            "description_width": ""
          }
        },
        "a88cea4a707942f49afaebef5d2bb224": {
          "model_module": "@jupyter-widgets/base",
          "model_name": "LayoutModel",
          "model_module_version": "1.2.0",
          "state": {
            "_model_module": "@jupyter-widgets/base",
            "_model_module_version": "1.2.0",
            "_model_name": "LayoutModel",
            "_view_count": null,
            "_view_module": "@jupyter-widgets/base",
            "_view_module_version": "1.2.0",
            "_view_name": "LayoutView",
            "align_content": null,
            "align_items": null,
            "align_self": null,
            "border": null,
            "bottom": null,
            "display": null,
            "flex": null,
            "flex_flow": null,
            "grid_area": null,
            "grid_auto_columns": null,
            "grid_auto_flow": null,
            "grid_auto_rows": null,
            "grid_column": null,
            "grid_gap": null,
            "grid_row": null,
            "grid_template_areas": null,
            "grid_template_columns": null,
            "grid_template_rows": null,
            "height": null,
            "justify_content": null,
            "justify_items": null,
            "left": null,
            "margin": null,
            "max_height": null,
            "max_width": null,
            "min_height": null,
            "min_width": null,
            "object_fit": null,
            "object_position": null,
            "order": null,
            "overflow": null,
            "overflow_x": null,
            "overflow_y": null,
            "padding": null,
            "right": null,
            "top": null,
            "visibility": null,
            "width": null
          }
        },
        "a346c2bfbefa4ef3a5dbad49b9a271cf": {
          "model_module": "@jupyter-widgets/controls",
          "model_name": "ProgressStyleModel",
          "model_module_version": "1.5.0",
          "state": {
            "_model_module": "@jupyter-widgets/controls",
            "_model_module_version": "1.5.0",
            "_model_name": "ProgressStyleModel",
            "_view_count": null,
            "_view_module": "@jupyter-widgets/base",
            "_view_module_version": "1.2.0",
            "_view_name": "StyleView",
            "bar_color": null,
            "description_width": ""
          }
        },
        "4947c75e7fcc4979b190ad2c0c29fb49": {
          "model_module": "@jupyter-widgets/base",
          "model_name": "LayoutModel",
          "model_module_version": "1.2.0",
          "state": {
            "_model_module": "@jupyter-widgets/base",
            "_model_module_version": "1.2.0",
            "_model_name": "LayoutModel",
            "_view_count": null,
            "_view_module": "@jupyter-widgets/base",
            "_view_module_version": "1.2.0",
            "_view_name": "LayoutView",
            "align_content": null,
            "align_items": null,
            "align_self": null,
            "border": null,
            "bottom": null,
            "display": null,
            "flex": null,
            "flex_flow": null,
            "grid_area": null,
            "grid_auto_columns": null,
            "grid_auto_flow": null,
            "grid_auto_rows": null,
            "grid_column": null,
            "grid_gap": null,
            "grid_row": null,
            "grid_template_areas": null,
            "grid_template_columns": null,
            "grid_template_rows": null,
            "height": null,
            "justify_content": null,
            "justify_items": null,
            "left": null,
            "margin": null,
            "max_height": null,
            "max_width": null,
            "min_height": null,
            "min_width": null,
            "object_fit": null,
            "object_position": null,
            "order": null,
            "overflow": null,
            "overflow_x": null,
            "overflow_y": null,
            "padding": null,
            "right": null,
            "top": null,
            "visibility": null,
            "width": null
          }
        },
        "d7d6274a143a4b0797f18731cce909fb": {
          "model_module": "@jupyter-widgets/controls",
          "model_name": "DescriptionStyleModel",
          "model_module_version": "1.5.0",
          "state": {
            "_model_module": "@jupyter-widgets/controls",
            "_model_module_version": "1.5.0",
            "_model_name": "DescriptionStyleModel",
            "_view_count": null,
            "_view_module": "@jupyter-widgets/base",
            "_view_module_version": "1.2.0",
            "_view_name": "StyleView",
            "description_width": ""
          }
        },
        "3d2dc9cb5ab845ab8a9ec2ba4632c26f": {
          "model_module": "@jupyter-widgets/controls",
          "model_name": "HBoxModel",
          "model_module_version": "1.5.0",
          "state": {
            "_dom_classes": [],
            "_model_module": "@jupyter-widgets/controls",
            "_model_module_version": "1.5.0",
            "_model_name": "HBoxModel",
            "_view_count": null,
            "_view_module": "@jupyter-widgets/controls",
            "_view_module_version": "1.5.0",
            "_view_name": "HBoxView",
            "box_style": "",
            "children": [
              "IPY_MODEL_2b58141fa2024526916423a02c418793",
              "IPY_MODEL_7fe94b1f4e864971a6c1faee825f4475",
              "IPY_MODEL_4b213d2e53d648908654fa8fc5d56045"
            ],
            "layout": "IPY_MODEL_61c2635b88f6408f9f0f05fb62111b77"
          }
        },
        "2b58141fa2024526916423a02c418793": {
          "model_module": "@jupyter-widgets/controls",
          "model_name": "HTMLModel",
          "model_module_version": "1.5.0",
          "state": {
            "_dom_classes": [],
            "_model_module": "@jupyter-widgets/controls",
            "_model_module_version": "1.5.0",
            "_model_name": "HTMLModel",
            "_view_count": null,
            "_view_module": "@jupyter-widgets/controls",
            "_view_module_version": "1.5.0",
            "_view_name": "HTMLView",
            "description": "",
            "description_tooltip": null,
            "layout": "IPY_MODEL_f4871428615c49519c8fddc414bfe42c",
            "placeholder": "​",
            "style": "IPY_MODEL_5f7869b6d8e44c3c918021ae6b990f51",
            "value": "tokenizer.json: 100%"
          }
        },
        "7fe94b1f4e864971a6c1faee825f4475": {
          "model_module": "@jupyter-widgets/controls",
          "model_name": "FloatProgressModel",
          "model_module_version": "1.5.0",
          "state": {
            "_dom_classes": [],
            "_model_module": "@jupyter-widgets/controls",
            "_model_module_version": "1.5.0",
            "_model_name": "FloatProgressModel",
            "_view_count": null,
            "_view_module": "@jupyter-widgets/controls",
            "_view_module_version": "1.5.0",
            "_view_name": "ProgressView",
            "bar_style": "success",
            "description": "",
            "description_tooltip": null,
            "layout": "IPY_MODEL_3d127327b57c4e8bb9ca1ce43f446216",
            "max": 466062,
            "min": 0,
            "orientation": "horizontal",
            "style": "IPY_MODEL_47a9e7ef21b2426388cfdc5539b5d2ab",
            "value": 466062
          }
        },
        "4b213d2e53d648908654fa8fc5d56045": {
          "model_module": "@jupyter-widgets/controls",
          "model_name": "HTMLModel",
          "model_module_version": "1.5.0",
          "state": {
            "_dom_classes": [],
            "_model_module": "@jupyter-widgets/controls",
            "_model_module_version": "1.5.0",
            "_model_name": "HTMLModel",
            "_view_count": null,
            "_view_module": "@jupyter-widgets/controls",
            "_view_module_version": "1.5.0",
            "_view_name": "HTMLView",
            "description": "",
            "description_tooltip": null,
            "layout": "IPY_MODEL_862c472e8e1b4c5795fb047c3fe16063",
            "placeholder": "​",
            "style": "IPY_MODEL_b41db2c1d6d044c3a26195e1fe3b5980",
            "value": " 466k/466k [00:00&lt;00:00, 700kB/s]"
          }
        },
        "61c2635b88f6408f9f0f05fb62111b77": {
          "model_module": "@jupyter-widgets/base",
          "model_name": "LayoutModel",
          "model_module_version": "1.2.0",
          "state": {
            "_model_module": "@jupyter-widgets/base",
            "_model_module_version": "1.2.0",
            "_model_name": "LayoutModel",
            "_view_count": null,
            "_view_module": "@jupyter-widgets/base",
            "_view_module_version": "1.2.0",
            "_view_name": "LayoutView",
            "align_content": null,
            "align_items": null,
            "align_self": null,
            "border": null,
            "bottom": null,
            "display": null,
            "flex": null,
            "flex_flow": null,
            "grid_area": null,
            "grid_auto_columns": null,
            "grid_auto_flow": null,
            "grid_auto_rows": null,
            "grid_column": null,
            "grid_gap": null,
            "grid_row": null,
            "grid_template_areas": null,
            "grid_template_columns": null,
            "grid_template_rows": null,
            "height": null,
            "justify_content": null,
            "justify_items": null,
            "left": null,
            "margin": null,
            "max_height": null,
            "max_width": null,
            "min_height": null,
            "min_width": null,
            "object_fit": null,
            "object_position": null,
            "order": null,
            "overflow": null,
            "overflow_x": null,
            "overflow_y": null,
            "padding": null,
            "right": null,
            "top": null,
            "visibility": null,
            "width": null
          }
        },
        "f4871428615c49519c8fddc414bfe42c": {
          "model_module": "@jupyter-widgets/base",
          "model_name": "LayoutModel",
          "model_module_version": "1.2.0",
          "state": {
            "_model_module": "@jupyter-widgets/base",
            "_model_module_version": "1.2.0",
            "_model_name": "LayoutModel",
            "_view_count": null,
            "_view_module": "@jupyter-widgets/base",
            "_view_module_version": "1.2.0",
            "_view_name": "LayoutView",
            "align_content": null,
            "align_items": null,
            "align_self": null,
            "border": null,
            "bottom": null,
            "display": null,
            "flex": null,
            "flex_flow": null,
            "grid_area": null,
            "grid_auto_columns": null,
            "grid_auto_flow": null,
            "grid_auto_rows": null,
            "grid_column": null,
            "grid_gap": null,
            "grid_row": null,
            "grid_template_areas": null,
            "grid_template_columns": null,
            "grid_template_rows": null,
            "height": null,
            "justify_content": null,
            "justify_items": null,
            "left": null,
            "margin": null,
            "max_height": null,
            "max_width": null,
            "min_height": null,
            "min_width": null,
            "object_fit": null,
            "object_position": null,
            "order": null,
            "overflow": null,
            "overflow_x": null,
            "overflow_y": null,
            "padding": null,
            "right": null,
            "top": null,
            "visibility": null,
            "width": null
          }
        },
        "5f7869b6d8e44c3c918021ae6b990f51": {
          "model_module": "@jupyter-widgets/controls",
          "model_name": "DescriptionStyleModel",
          "model_module_version": "1.5.0",
          "state": {
            "_model_module": "@jupyter-widgets/controls",
            "_model_module_version": "1.5.0",
            "_model_name": "DescriptionStyleModel",
            "_view_count": null,
            "_view_module": "@jupyter-widgets/base",
            "_view_module_version": "1.2.0",
            "_view_name": "StyleView",
            "description_width": ""
          }
        },
        "3d127327b57c4e8bb9ca1ce43f446216": {
          "model_module": "@jupyter-widgets/base",
          "model_name": "LayoutModel",
          "model_module_version": "1.2.0",
          "state": {
            "_model_module": "@jupyter-widgets/base",
            "_model_module_version": "1.2.0",
            "_model_name": "LayoutModel",
            "_view_count": null,
            "_view_module": "@jupyter-widgets/base",
            "_view_module_version": "1.2.0",
            "_view_name": "LayoutView",
            "align_content": null,
            "align_items": null,
            "align_self": null,
            "border": null,
            "bottom": null,
            "display": null,
            "flex": null,
            "flex_flow": null,
            "grid_area": null,
            "grid_auto_columns": null,
            "grid_auto_flow": null,
            "grid_auto_rows": null,
            "grid_column": null,
            "grid_gap": null,
            "grid_row": null,
            "grid_template_areas": null,
            "grid_template_columns": null,
            "grid_template_rows": null,
            "height": null,
            "justify_content": null,
            "justify_items": null,
            "left": null,
            "margin": null,
            "max_height": null,
            "max_width": null,
            "min_height": null,
            "min_width": null,
            "object_fit": null,
            "object_position": null,
            "order": null,
            "overflow": null,
            "overflow_x": null,
            "overflow_y": null,
            "padding": null,
            "right": null,
            "top": null,
            "visibility": null,
            "width": null
          }
        },
        "47a9e7ef21b2426388cfdc5539b5d2ab": {
          "model_module": "@jupyter-widgets/controls",
          "model_name": "ProgressStyleModel",
          "model_module_version": "1.5.0",
          "state": {
            "_model_module": "@jupyter-widgets/controls",
            "_model_module_version": "1.5.0",
            "_model_name": "ProgressStyleModel",
            "_view_count": null,
            "_view_module": "@jupyter-widgets/base",
            "_view_module_version": "1.2.0",
            "_view_name": "StyleView",
            "bar_color": null,
            "description_width": ""
          }
        },
        "862c472e8e1b4c5795fb047c3fe16063": {
          "model_module": "@jupyter-widgets/base",
          "model_name": "LayoutModel",
          "model_module_version": "1.2.0",
          "state": {
            "_model_module": "@jupyter-widgets/base",
            "_model_module_version": "1.2.0",
            "_model_name": "LayoutModel",
            "_view_count": null,
            "_view_module": "@jupyter-widgets/base",
            "_view_module_version": "1.2.0",
            "_view_name": "LayoutView",
            "align_content": null,
            "align_items": null,
            "align_self": null,
            "border": null,
            "bottom": null,
            "display": null,
            "flex": null,
            "flex_flow": null,
            "grid_area": null,
            "grid_auto_columns": null,
            "grid_auto_flow": null,
            "grid_auto_rows": null,
            "grid_column": null,
            "grid_gap": null,
            "grid_row": null,
            "grid_template_areas": null,
            "grid_template_columns": null,
            "grid_template_rows": null,
            "height": null,
            "justify_content": null,
            "justify_items": null,
            "left": null,
            "margin": null,
            "max_height": null,
            "max_width": null,
            "min_height": null,
            "min_width": null,
            "object_fit": null,
            "object_position": null,
            "order": null,
            "overflow": null,
            "overflow_x": null,
            "overflow_y": null,
            "padding": null,
            "right": null,
            "top": null,
            "visibility": null,
            "width": null
          }
        },
        "b41db2c1d6d044c3a26195e1fe3b5980": {
          "model_module": "@jupyter-widgets/controls",
          "model_name": "DescriptionStyleModel",
          "model_module_version": "1.5.0",
          "state": {
            "_model_module": "@jupyter-widgets/controls",
            "_model_module_version": "1.5.0",
            "_model_name": "DescriptionStyleModel",
            "_view_count": null,
            "_view_module": "@jupyter-widgets/base",
            "_view_module_version": "1.2.0",
            "_view_name": "StyleView",
            "description_width": ""
          }
        },
        "000ca33cd979424f81c0dddfa3fad116": {
          "model_module": "@jupyter-widgets/controls",
          "model_name": "HBoxModel",
          "model_module_version": "1.5.0",
          "state": {
            "_dom_classes": [],
            "_model_module": "@jupyter-widgets/controls",
            "_model_module_version": "1.5.0",
            "_model_name": "HBoxModel",
            "_view_count": null,
            "_view_module": "@jupyter-widgets/controls",
            "_view_module_version": "1.5.0",
            "_view_name": "HBoxView",
            "box_style": "",
            "children": [
              "IPY_MODEL_09ac66450ddd45b7860a1cbdfeccb424",
              "IPY_MODEL_52e8cfe3dd44424fbb2de2291c5ab272",
              "IPY_MODEL_100f13024ade48e39425d7d0bfa93e8b"
            ],
            "layout": "IPY_MODEL_66ac128bb5724bf3bca83ac35b74dbe7"
          }
        },
        "09ac66450ddd45b7860a1cbdfeccb424": {
          "model_module": "@jupyter-widgets/controls",
          "model_name": "HTMLModel",
          "model_module_version": "1.5.0",
          "state": {
            "_dom_classes": [],
            "_model_module": "@jupyter-widgets/controls",
            "_model_module_version": "1.5.0",
            "_model_name": "HTMLModel",
            "_view_count": null,
            "_view_module": "@jupyter-widgets/controls",
            "_view_module_version": "1.5.0",
            "_view_name": "HTMLView",
            "description": "",
            "description_tooltip": null,
            "layout": "IPY_MODEL_215883ee33d64d9199b3de81f5bb90a7",
            "placeholder": "​",
            "style": "IPY_MODEL_86e0f5c51c6c46f089f54b58708528bc",
            "value": "config.json: 100%"
          }
        },
        "52e8cfe3dd44424fbb2de2291c5ab272": {
          "model_module": "@jupyter-widgets/controls",
          "model_name": "FloatProgressModel",
          "model_module_version": "1.5.0",
          "state": {
            "_dom_classes": [],
            "_model_module": "@jupyter-widgets/controls",
            "_model_module_version": "1.5.0",
            "_model_name": "FloatProgressModel",
            "_view_count": null,
            "_view_module": "@jupyter-widgets/controls",
            "_view_module_version": "1.5.0",
            "_view_name": "ProgressView",
            "bar_style": "success",
            "description": "",
            "description_tooltip": null,
            "layout": "IPY_MODEL_1a1e770675594d6c917c5478bdbaf9c7",
            "max": 570,
            "min": 0,
            "orientation": "horizontal",
            "style": "IPY_MODEL_db2c38c1804d4862bc69cef6b45794a7",
            "value": 570
          }
        },
        "100f13024ade48e39425d7d0bfa93e8b": {
          "model_module": "@jupyter-widgets/controls",
          "model_name": "HTMLModel",
          "model_module_version": "1.5.0",
          "state": {
            "_dom_classes": [],
            "_model_module": "@jupyter-widgets/controls",
            "_model_module_version": "1.5.0",
            "_model_name": "HTMLModel",
            "_view_count": null,
            "_view_module": "@jupyter-widgets/controls",
            "_view_module_version": "1.5.0",
            "_view_name": "HTMLView",
            "description": "",
            "description_tooltip": null,
            "layout": "IPY_MODEL_c8082f0979094b618006415fd56127cd",
            "placeholder": "​",
            "style": "IPY_MODEL_dd263d8bd92441e9b24aa9a1802e6b8d",
            "value": " 570/570 [00:00&lt;00:00, 12.1kB/s]"
          }
        },
        "66ac128bb5724bf3bca83ac35b74dbe7": {
          "model_module": "@jupyter-widgets/base",
          "model_name": "LayoutModel",
          "model_module_version": "1.2.0",
          "state": {
            "_model_module": "@jupyter-widgets/base",
            "_model_module_version": "1.2.0",
            "_model_name": "LayoutModel",
            "_view_count": null,
            "_view_module": "@jupyter-widgets/base",
            "_view_module_version": "1.2.0",
            "_view_name": "LayoutView",
            "align_content": null,
            "align_items": null,
            "align_self": null,
            "border": null,
            "bottom": null,
            "display": null,
            "flex": null,
            "flex_flow": null,
            "grid_area": null,
            "grid_auto_columns": null,
            "grid_auto_flow": null,
            "grid_auto_rows": null,
            "grid_column": null,
            "grid_gap": null,
            "grid_row": null,
            "grid_template_areas": null,
            "grid_template_columns": null,
            "grid_template_rows": null,
            "height": null,
            "justify_content": null,
            "justify_items": null,
            "left": null,
            "margin": null,
            "max_height": null,
            "max_width": null,
            "min_height": null,
            "min_width": null,
            "object_fit": null,
            "object_position": null,
            "order": null,
            "overflow": null,
            "overflow_x": null,
            "overflow_y": null,
            "padding": null,
            "right": null,
            "top": null,
            "visibility": null,
            "width": null
          }
        },
        "215883ee33d64d9199b3de81f5bb90a7": {
          "model_module": "@jupyter-widgets/base",
          "model_name": "LayoutModel",
          "model_module_version": "1.2.0",
          "state": {
            "_model_module": "@jupyter-widgets/base",
            "_model_module_version": "1.2.0",
            "_model_name": "LayoutModel",
            "_view_count": null,
            "_view_module": "@jupyter-widgets/base",
            "_view_module_version": "1.2.0",
            "_view_name": "LayoutView",
            "align_content": null,
            "align_items": null,
            "align_self": null,
            "border": null,
            "bottom": null,
            "display": null,
            "flex": null,
            "flex_flow": null,
            "grid_area": null,
            "grid_auto_columns": null,
            "grid_auto_flow": null,
            "grid_auto_rows": null,
            "grid_column": null,
            "grid_gap": null,
            "grid_row": null,
            "grid_template_areas": null,
            "grid_template_columns": null,
            "grid_template_rows": null,
            "height": null,
            "justify_content": null,
            "justify_items": null,
            "left": null,
            "margin": null,
            "max_height": null,
            "max_width": null,
            "min_height": null,
            "min_width": null,
            "object_fit": null,
            "object_position": null,
            "order": null,
            "overflow": null,
            "overflow_x": null,
            "overflow_y": null,
            "padding": null,
            "right": null,
            "top": null,
            "visibility": null,
            "width": null
          }
        },
        "86e0f5c51c6c46f089f54b58708528bc": {
          "model_module": "@jupyter-widgets/controls",
          "model_name": "DescriptionStyleModel",
          "model_module_version": "1.5.0",
          "state": {
            "_model_module": "@jupyter-widgets/controls",
            "_model_module_version": "1.5.0",
            "_model_name": "DescriptionStyleModel",
            "_view_count": null,
            "_view_module": "@jupyter-widgets/base",
            "_view_module_version": "1.2.0",
            "_view_name": "StyleView",
            "description_width": ""
          }
        },
        "1a1e770675594d6c917c5478bdbaf9c7": {
          "model_module": "@jupyter-widgets/base",
          "model_name": "LayoutModel",
          "model_module_version": "1.2.0",
          "state": {
            "_model_module": "@jupyter-widgets/base",
            "_model_module_version": "1.2.0",
            "_model_name": "LayoutModel",
            "_view_count": null,
            "_view_module": "@jupyter-widgets/base",
            "_view_module_version": "1.2.0",
            "_view_name": "LayoutView",
            "align_content": null,
            "align_items": null,
            "align_self": null,
            "border": null,
            "bottom": null,
            "display": null,
            "flex": null,
            "flex_flow": null,
            "grid_area": null,
            "grid_auto_columns": null,
            "grid_auto_flow": null,
            "grid_auto_rows": null,
            "grid_column": null,
            "grid_gap": null,
            "grid_row": null,
            "grid_template_areas": null,
            "grid_template_columns": null,
            "grid_template_rows": null,
            "height": null,
            "justify_content": null,
            "justify_items": null,
            "left": null,
            "margin": null,
            "max_height": null,
            "max_width": null,
            "min_height": null,
            "min_width": null,
            "object_fit": null,
            "object_position": null,
            "order": null,
            "overflow": null,
            "overflow_x": null,
            "overflow_y": null,
            "padding": null,
            "right": null,
            "top": null,
            "visibility": null,
            "width": null
          }
        },
        "db2c38c1804d4862bc69cef6b45794a7": {
          "model_module": "@jupyter-widgets/controls",
          "model_name": "ProgressStyleModel",
          "model_module_version": "1.5.0",
          "state": {
            "_model_module": "@jupyter-widgets/controls",
            "_model_module_version": "1.5.0",
            "_model_name": "ProgressStyleModel",
            "_view_count": null,
            "_view_module": "@jupyter-widgets/base",
            "_view_module_version": "1.2.0",
            "_view_name": "StyleView",
            "bar_color": null,
            "description_width": ""
          }
        },
        "c8082f0979094b618006415fd56127cd": {
          "model_module": "@jupyter-widgets/base",
          "model_name": "LayoutModel",
          "model_module_version": "1.2.0",
          "state": {
            "_model_module": "@jupyter-widgets/base",
            "_model_module_version": "1.2.0",
            "_model_name": "LayoutModel",
            "_view_count": null,
            "_view_module": "@jupyter-widgets/base",
            "_view_module_version": "1.2.0",
            "_view_name": "LayoutView",
            "align_content": null,
            "align_items": null,
            "align_self": null,
            "border": null,
            "bottom": null,
            "display": null,
            "flex": null,
            "flex_flow": null,
            "grid_area": null,
            "grid_auto_columns": null,
            "grid_auto_flow": null,
            "grid_auto_rows": null,
            "grid_column": null,
            "grid_gap": null,
            "grid_row": null,
            "grid_template_areas": null,
            "grid_template_columns": null,
            "grid_template_rows": null,
            "height": null,
            "justify_content": null,
            "justify_items": null,
            "left": null,
            "margin": null,
            "max_height": null,
            "max_width": null,
            "min_height": null,
            "min_width": null,
            "object_fit": null,
            "object_position": null,
            "order": null,
            "overflow": null,
            "overflow_x": null,
            "overflow_y": null,
            "padding": null,
            "right": null,
            "top": null,
            "visibility": null,
            "width": null
          }
        },
        "dd263d8bd92441e9b24aa9a1802e6b8d": {
          "model_module": "@jupyter-widgets/controls",
          "model_name": "DescriptionStyleModel",
          "model_module_version": "1.5.0",
          "state": {
            "_model_module": "@jupyter-widgets/controls",
            "_model_module_version": "1.5.0",
            "_model_name": "DescriptionStyleModel",
            "_view_count": null,
            "_view_module": "@jupyter-widgets/base",
            "_view_module_version": "1.2.0",
            "_view_name": "StyleView",
            "description_width": ""
          }
        },
        "673d83db402f456584e654c60030d803": {
          "model_module": "@jupyter-widgets/controls",
          "model_name": "HBoxModel",
          "model_module_version": "1.5.0",
          "state": {
            "_dom_classes": [],
            "_model_module": "@jupyter-widgets/controls",
            "_model_module_version": "1.5.0",
            "_model_name": "HBoxModel",
            "_view_count": null,
            "_view_module": "@jupyter-widgets/controls",
            "_view_module_version": "1.5.0",
            "_view_name": "HBoxView",
            "box_style": "",
            "children": [
              "IPY_MODEL_fc9fd64640f0411b9069f2f35f9d2d9b",
              "IPY_MODEL_4867c51dce0d4c2db4af8df118867391",
              "IPY_MODEL_5c478af80ed84e1caa1d19cbbbba4163"
            ],
            "layout": "IPY_MODEL_311cfa4422e04b89859f812529d8da39"
          }
        },
        "fc9fd64640f0411b9069f2f35f9d2d9b": {
          "model_module": "@jupyter-widgets/controls",
          "model_name": "HTMLModel",
          "model_module_version": "1.5.0",
          "state": {
            "_dom_classes": [],
            "_model_module": "@jupyter-widgets/controls",
            "_model_module_version": "1.5.0",
            "_model_name": "HTMLModel",
            "_view_count": null,
            "_view_module": "@jupyter-widgets/controls",
            "_view_module_version": "1.5.0",
            "_view_name": "HTMLView",
            "description": "",
            "description_tooltip": null,
            "layout": "IPY_MODEL_cefcaa36afee49fe9bd9729deb459b4c",
            "placeholder": "​",
            "style": "IPY_MODEL_75903aefb47548fab6154e890abcc32b",
            "value": "model.safetensors: 100%"
          }
        },
        "4867c51dce0d4c2db4af8df118867391": {
          "model_module": "@jupyter-widgets/controls",
          "model_name": "FloatProgressModel",
          "model_module_version": "1.5.0",
          "state": {
            "_dom_classes": [],
            "_model_module": "@jupyter-widgets/controls",
            "_model_module_version": "1.5.0",
            "_model_name": "FloatProgressModel",
            "_view_count": null,
            "_view_module": "@jupyter-widgets/controls",
            "_view_module_version": "1.5.0",
            "_view_name": "ProgressView",
            "bar_style": "success",
            "description": "",
            "description_tooltip": null,
            "layout": "IPY_MODEL_a69f464ca8624f08a1e59996c1175e31",
            "max": 440449768,
            "min": 0,
            "orientation": "horizontal",
            "style": "IPY_MODEL_2e74e3d36a77492f9b0c5b0a11ce7a5d",
            "value": 440449768
          }
        },
        "5c478af80ed84e1caa1d19cbbbba4163": {
          "model_module": "@jupyter-widgets/controls",
          "model_name": "HTMLModel",
          "model_module_version": "1.5.0",
          "state": {
            "_dom_classes": [],
            "_model_module": "@jupyter-widgets/controls",
            "_model_module_version": "1.5.0",
            "_model_name": "HTMLModel",
            "_view_count": null,
            "_view_module": "@jupyter-widgets/controls",
            "_view_module_version": "1.5.0",
            "_view_name": "HTMLView",
            "description": "",
            "description_tooltip": null,
            "layout": "IPY_MODEL_ab4dcdcfcf8e494faf052ee5155843ed",
            "placeholder": "​",
            "style": "IPY_MODEL_5136b18183f3431cb5904802db23af4c",
            "value": " 440M/440M [00:01&lt;00:00, 256MB/s]"
          }
        },
        "311cfa4422e04b89859f812529d8da39": {
          "model_module": "@jupyter-widgets/base",
          "model_name": "LayoutModel",
          "model_module_version": "1.2.0",
          "state": {
            "_model_module": "@jupyter-widgets/base",
            "_model_module_version": "1.2.0",
            "_model_name": "LayoutModel",
            "_view_count": null,
            "_view_module": "@jupyter-widgets/base",
            "_view_module_version": "1.2.0",
            "_view_name": "LayoutView",
            "align_content": null,
            "align_items": null,
            "align_self": null,
            "border": null,
            "bottom": null,
            "display": null,
            "flex": null,
            "flex_flow": null,
            "grid_area": null,
            "grid_auto_columns": null,
            "grid_auto_flow": null,
            "grid_auto_rows": null,
            "grid_column": null,
            "grid_gap": null,
            "grid_row": null,
            "grid_template_areas": null,
            "grid_template_columns": null,
            "grid_template_rows": null,
            "height": null,
            "justify_content": null,
            "justify_items": null,
            "left": null,
            "margin": null,
            "max_height": null,
            "max_width": null,
            "min_height": null,
            "min_width": null,
            "object_fit": null,
            "object_position": null,
            "order": null,
            "overflow": null,
            "overflow_x": null,
            "overflow_y": null,
            "padding": null,
            "right": null,
            "top": null,
            "visibility": null,
            "width": null
          }
        },
        "cefcaa36afee49fe9bd9729deb459b4c": {
          "model_module": "@jupyter-widgets/base",
          "model_name": "LayoutModel",
          "model_module_version": "1.2.0",
          "state": {
            "_model_module": "@jupyter-widgets/base",
            "_model_module_version": "1.2.0",
            "_model_name": "LayoutModel",
            "_view_count": null,
            "_view_module": "@jupyter-widgets/base",
            "_view_module_version": "1.2.0",
            "_view_name": "LayoutView",
            "align_content": null,
            "align_items": null,
            "align_self": null,
            "border": null,
            "bottom": null,
            "display": null,
            "flex": null,
            "flex_flow": null,
            "grid_area": null,
            "grid_auto_columns": null,
            "grid_auto_flow": null,
            "grid_auto_rows": null,
            "grid_column": null,
            "grid_gap": null,
            "grid_row": null,
            "grid_template_areas": null,
            "grid_template_columns": null,
            "grid_template_rows": null,
            "height": null,
            "justify_content": null,
            "justify_items": null,
            "left": null,
            "margin": null,
            "max_height": null,
            "max_width": null,
            "min_height": null,
            "min_width": null,
            "object_fit": null,
            "object_position": null,
            "order": null,
            "overflow": null,
            "overflow_x": null,
            "overflow_y": null,
            "padding": null,
            "right": null,
            "top": null,
            "visibility": null,
            "width": null
          }
        },
        "75903aefb47548fab6154e890abcc32b": {
          "model_module": "@jupyter-widgets/controls",
          "model_name": "DescriptionStyleModel",
          "model_module_version": "1.5.0",
          "state": {
            "_model_module": "@jupyter-widgets/controls",
            "_model_module_version": "1.5.0",
            "_model_name": "DescriptionStyleModel",
            "_view_count": null,
            "_view_module": "@jupyter-widgets/base",
            "_view_module_version": "1.2.0",
            "_view_name": "StyleView",
            "description_width": ""
          }
        },
        "a69f464ca8624f08a1e59996c1175e31": {
          "model_module": "@jupyter-widgets/base",
          "model_name": "LayoutModel",
          "model_module_version": "1.2.0",
          "state": {
            "_model_module": "@jupyter-widgets/base",
            "_model_module_version": "1.2.0",
            "_model_name": "LayoutModel",
            "_view_count": null,
            "_view_module": "@jupyter-widgets/base",
            "_view_module_version": "1.2.0",
            "_view_name": "LayoutView",
            "align_content": null,
            "align_items": null,
            "align_self": null,
            "border": null,
            "bottom": null,
            "display": null,
            "flex": null,
            "flex_flow": null,
            "grid_area": null,
            "grid_auto_columns": null,
            "grid_auto_flow": null,
            "grid_auto_rows": null,
            "grid_column": null,
            "grid_gap": null,
            "grid_row": null,
            "grid_template_areas": null,
            "grid_template_columns": null,
            "grid_template_rows": null,
            "height": null,
            "justify_content": null,
            "justify_items": null,
            "left": null,
            "margin": null,
            "max_height": null,
            "max_width": null,
            "min_height": null,
            "min_width": null,
            "object_fit": null,
            "object_position": null,
            "order": null,
            "overflow": null,
            "overflow_x": null,
            "overflow_y": null,
            "padding": null,
            "right": null,
            "top": null,
            "visibility": null,
            "width": null
          }
        },
        "2e74e3d36a77492f9b0c5b0a11ce7a5d": {
          "model_module": "@jupyter-widgets/controls",
          "model_name": "ProgressStyleModel",
          "model_module_version": "1.5.0",
          "state": {
            "_model_module": "@jupyter-widgets/controls",
            "_model_module_version": "1.5.0",
            "_model_name": "ProgressStyleModel",
            "_view_count": null,
            "_view_module": "@jupyter-widgets/base",
            "_view_module_version": "1.2.0",
            "_view_name": "StyleView",
            "bar_color": null,
            "description_width": ""
          }
        },
        "ab4dcdcfcf8e494faf052ee5155843ed": {
          "model_module": "@jupyter-widgets/base",
          "model_name": "LayoutModel",
          "model_module_version": "1.2.0",
          "state": {
            "_model_module": "@jupyter-widgets/base",
            "_model_module_version": "1.2.0",
            "_model_name": "LayoutModel",
            "_view_count": null,
            "_view_module": "@jupyter-widgets/base",
            "_view_module_version": "1.2.0",
            "_view_name": "LayoutView",
            "align_content": null,
            "align_items": null,
            "align_self": null,
            "border": null,
            "bottom": null,
            "display": null,
            "flex": null,
            "flex_flow": null,
            "grid_area": null,
            "grid_auto_columns": null,
            "grid_auto_flow": null,
            "grid_auto_rows": null,
            "grid_column": null,
            "grid_gap": null,
            "grid_row": null,
            "grid_template_areas": null,
            "grid_template_columns": null,
            "grid_template_rows": null,
            "height": null,
            "justify_content": null,
            "justify_items": null,
            "left": null,
            "margin": null,
            "max_height": null,
            "max_width": null,
            "min_height": null,
            "min_width": null,
            "object_fit": null,
            "object_position": null,
            "order": null,
            "overflow": null,
            "overflow_x": null,
            "overflow_y": null,
            "padding": null,
            "right": null,
            "top": null,
            "visibility": null,
            "width": null
          }
        },
        "5136b18183f3431cb5904802db23af4c": {
          "model_module": "@jupyter-widgets/controls",
          "model_name": "DescriptionStyleModel",
          "model_module_version": "1.5.0",
          "state": {
            "_model_module": "@jupyter-widgets/controls",
            "_model_module_version": "1.5.0",
            "_model_name": "DescriptionStyleModel",
            "_view_count": null,
            "_view_module": "@jupyter-widgets/base",
            "_view_module_version": "1.2.0",
            "_view_name": "StyleView",
            "description_width": ""
          }
        }
      }
    }
  },
  "cells": [
    {
      "cell_type": "markdown",
      "metadata": {
        "id": "view-in-github",
        "colab_type": "text"
      },
      "source": [
        "<a href=\"https://colab.research.google.com/github/hissain/mlworks/blob/main/codes/BERT_Fine_Tuning_Sentence_Classification.ipynb\" target=\"_parent\"><img src=\"https://colab.research.google.com/assets/colab-badge.svg\" alt=\"Open In Colab\"/></a>"
      ]
    },
    {
      "cell_type": "markdown",
      "metadata": {
        "id": "EKOTlwcmxmej"
      },
      "source": [
        "# BERT Fine-Tuning Tutorial with PyTorch\n",
        "\n",
        "By Chris McCormick and Nick Ryan"
      ]
    },
    {
      "cell_type": "markdown",
      "metadata": {
        "id": "ADkUGTqixRWo"
      },
      "source": [
        "# Introduction"
      ]
    },
    {
      "cell_type": "markdown",
      "metadata": {
        "id": "L9vxxTBsuL24"
      },
      "source": [
        "\n",
        "## History\n",
        "\n",
        "2018 was a breakthrough year in NLP. Transfer learning, particularly models like Allen AI's ELMO, OpenAI's Open-GPT, and Google's BERT allowed researchers to smash multiple benchmarks with minimal task-specific fine-tuning and provided the rest of the NLP community with pretrained models that could easily (with less data and less compute time) be fine-tuned and implemented to produce state of the art results. Unfortunately, for many starting out in NLP and even for some experienced practicioners, the theory and practical application of these powerful models is still not well understood.\n"
      ]
    },
    {
      "cell_type": "markdown",
      "metadata": {
        "id": "qCgvR9INuP5q"
      },
      "source": [
        "\n",
        "## What is BERT?\n",
        "\n",
        "BERT (Bidirectional Encoder Representations from Transformers), released in late 2018, is the model we will use in this tutorial to provide readers with a better understanding of and practical guidance for using transfer learning models in NLP. BERT is a method of pretraining language representations that was used to create models that NLP practicioners can then download and use for free. You can either use these models to extract high quality language features from your text data, or you can fine-tune these models on a specific task (classification, entity recognition, question answering, etc.) with your own data to produce state of the art predictions.\n",
        "\n",
        "This post will explain how you can modify and fine-tune BERT to create a powerful NLP model that quickly gives you state of the art results.\n"
      ]
    },
    {
      "cell_type": "markdown",
      "metadata": {
        "id": "DaVGdtOkuXUZ"
      },
      "source": [
        "\n",
        "## Advantages of Fine-Tuning\n"
      ]
    },
    {
      "cell_type": "markdown",
      "metadata": {
        "id": "5llwu8GBuqMb"
      },
      "source": [
        "\n",
        "In this tutorial, we will use BERT to train a text classifier. Specifically, we will take the pre-trained BERT model, add an untrained layer of neurons on the end, and train the new model for our classification task. Why do this rather than train a train a specific deep learning model (a CNN, BiLSTM, etc.) that is well suited for the specific NLP task you need?\n",
        "\n",
        "1. **Quicker Development**\n",
        "\n",
        "    * First, the pre-trained BERT model weights already encode a lot of information about our language. As a result, it takes much less time to train our fine-tuned model - it is as if we have already trained the bottom layers of our network extensively and only need to gently tune them while using their output as features for our classification task. In fact, the authors recommend only 2-4 epochs of training for fine-tuning BERT on a specific NLP task (compared to the hundreds of GPU hours needed to train the original BERT model or a LSTM from scratch!).\n",
        "\n",
        "2. **Less Data**\n",
        "\n",
        "    * In addition and perhaps just as important, because of the pre-trained weights this method allows us to fine-tune our task on a much smaller dataset than would be required in a model that is built from scratch. A major drawback of NLP models built from scratch is that we often need a prohibitively large dataset in order to train our network to reasonable accuracy, meaning a lot of time and energy had to be put into dataset creation. By fine-tuning BERT, we are now able to get away with training a model to good performance on a much smaller amount of training data.\n",
        "\n",
        "3. **Better Results**\n",
        "\n",
        "    * Finally, this simple fine-tuning procedure (typically adding one fully-connected layer on top of BERT and training for a few epochs) was shown to achieve state of the art results with minimal task-specific adjustments for a wide variety of tasks: classification, language inference, semantic similarity, question answering, etc. Rather than implementing custom and sometimes-obscure architetures shown to work well on a specific task, simply fine-tuning BERT is shown to be a better (or at least equal) alternative.\n"
      ]
    },
    {
      "cell_type": "markdown",
      "metadata": {
        "id": "ZEynC5F4u7Nb"
      },
      "source": [
        "\n",
        "### A Shift in NLP\n",
        "\n",
        "This shift to transfer learning parallels the same shift that took place in computer vision a few years ago. Creating a good deep learning network for computer vision tasks can take millions of parameters and be very expensive to train. Researchers discovered that deep networks learn hierarchical feature representations (simple features like edges at the lowest layers with gradually more complex features at higher layers). Rather than training a new network from scratch each time, the lower layers of a trained network with generalized image features could be copied and transfered for use in another network with a different task. It soon became common practice to download a pre-trained deep network and quickly retrain it for the new task or add additional layers on top - vastly preferable to the expensive process of training a network from scratch. For many, the introduction of deep pre-trained language models in 2018 (ELMO, BERT, ULMFIT, Open-GPT, etc.) signals the same shift to transfer learning in NLP that computer vision saw.\n",
        "\n",
        "Let's get started!"
      ]
    },
    {
      "cell_type": "markdown",
      "metadata": {
        "id": "RX_ZDhicpHkV"
      },
      "source": [
        "# 1. Setup"
      ]
    },
    {
      "cell_type": "markdown",
      "metadata": {
        "id": "nSU7yERLP_66"
      },
      "source": [
        "## 1.1. Using Colab GPU for Training\n"
      ]
    },
    {
      "cell_type": "code",
      "metadata": {
        "id": "oYsV4H8fCpZ-",
        "colab": {
          "base_uri": "https://localhost:8080/"
        },
        "outputId": "4508e13a-d656-4da3-e8fa-a0ced9ba4faa"
      },
      "source": [
        "import torch\n",
        "\n",
        "# If there's a GPU available...\n",
        "if torch.cuda.is_available():\n",
        "\n",
        "    # Tell PyTorch to use the GPU.\n",
        "    device = torch.device(\"cuda\")\n",
        "\n",
        "    print('There are %d GPU(s) available.' % torch.cuda.device_count())\n",
        "\n",
        "    print('We will use the GPU:', torch.cuda.get_device_name(0))\n",
        "\n",
        "# If not...\n",
        "else:\n",
        "    print('No GPU available, using the CPU instead.')\n",
        "    device = torch.device(\"cpu\")"
      ],
      "execution_count": null,
      "outputs": [
        {
          "output_type": "stream",
          "name": "stdout",
          "text": [
            "There are 1 GPU(s) available.\n",
            "We will use the GPU: Tesla T4\n"
          ]
        }
      ]
    },
    {
      "cell_type": "markdown",
      "metadata": {
        "id": "2ElsnSNUridI"
      },
      "source": [
        "## 1.2. Installing the Hugging Face Library\n"
      ]
    },
    {
      "cell_type": "markdown",
      "metadata": {
        "id": "G_N2UDLevYWn"
      },
      "source": [
        "\n",
        "Next, let's install the [transformers](https://github.com/huggingface/transformers) package from Hugging Face which will give us a pytorch interface for working with BERT. (This library contains interfaces for other pretrained language models like OpenAI's GPT and GPT-2.) We've selected the pytorch interface because it strikes a nice balance between the high-level APIs (which are easy to use but don't provide insight into how things work) and tensorflow code (which contains lots of details but often sidetracks us into lessons about tensorflow, when the purpose here is BERT!).\n",
        "\n",
        "At the moment, the Hugging Face library seems to be the most widely accepted and powerful pytorch interface for working with BERT. In addition to supporting a variety of different pre-trained transformer models, the library also includes pre-built modifications of these models suited to your specific task. For example, in this tutorial we will use `BertForSequenceClassification`.\n",
        "\n",
        "The library also includes task-specific classes for token classification, question answering, next sentence prediciton, etc. Using these pre-built classes simplifies the process of modifying BERT for your purposes.\n"
      ]
    },
    {
      "cell_type": "code",
      "metadata": {
        "id": "0NmMdkZO8R6q",
        "colab": {
          "base_uri": "https://localhost:8080/"
        },
        "outputId": "33a87bad-fdd9-4947-fed5-b296399b2b28"
      },
      "source": [
        "!pip install transformers"
      ],
      "execution_count": null,
      "outputs": [
        {
          "output_type": "stream",
          "name": "stdout",
          "text": [
            "Requirement already satisfied: transformers in /usr/local/lib/python3.10/dist-packages (4.41.2)\n",
            "Requirement already satisfied: filelock in /usr/local/lib/python3.10/dist-packages (from transformers) (3.14.0)\n",
            "Requirement already satisfied: huggingface-hub<1.0,>=0.23.0 in /usr/local/lib/python3.10/dist-packages (from transformers) (0.23.2)\n",
            "Requirement already satisfied: numpy>=1.17 in /usr/local/lib/python3.10/dist-packages (from transformers) (1.25.2)\n",
            "Requirement already satisfied: packaging>=20.0 in /usr/local/lib/python3.10/dist-packages (from transformers) (24.0)\n",
            "Requirement already satisfied: pyyaml>=5.1 in /usr/local/lib/python3.10/dist-packages (from transformers) (6.0.1)\n",
            "Requirement already satisfied: regex!=2019.12.17 in /usr/local/lib/python3.10/dist-packages (from transformers) (2024.5.15)\n",
            "Requirement already satisfied: requests in /usr/local/lib/python3.10/dist-packages (from transformers) (2.31.0)\n",
            "Requirement already satisfied: tokenizers<0.20,>=0.19 in /usr/local/lib/python3.10/dist-packages (from transformers) (0.19.1)\n",
            "Requirement already satisfied: safetensors>=0.4.1 in /usr/local/lib/python3.10/dist-packages (from transformers) (0.4.3)\n",
            "Requirement already satisfied: tqdm>=4.27 in /usr/local/lib/python3.10/dist-packages (from transformers) (4.66.4)\n",
            "Requirement already satisfied: fsspec>=2023.5.0 in /usr/local/lib/python3.10/dist-packages (from huggingface-hub<1.0,>=0.23.0->transformers) (2023.6.0)\n",
            "Requirement already satisfied: typing-extensions>=3.7.4.3 in /usr/local/lib/python3.10/dist-packages (from huggingface-hub<1.0,>=0.23.0->transformers) (4.12.1)\n",
            "Requirement already satisfied: charset-normalizer<4,>=2 in /usr/local/lib/python3.10/dist-packages (from requests->transformers) (3.3.2)\n",
            "Requirement already satisfied: idna<4,>=2.5 in /usr/local/lib/python3.10/dist-packages (from requests->transformers) (3.7)\n",
            "Requirement already satisfied: urllib3<3,>=1.21.1 in /usr/local/lib/python3.10/dist-packages (from requests->transformers) (2.0.7)\n",
            "Requirement already satisfied: certifi>=2017.4.17 in /usr/local/lib/python3.10/dist-packages (from requests->transformers) (2024.6.2)\n"
          ]
        }
      ]
    },
    {
      "cell_type": "markdown",
      "metadata": {
        "id": "lxddqmruamSj"
      },
      "source": [
        "The code in this notebook is actually a simplified version of the [run_glue.py](https://github.com/huggingface/transformers/blob/master/examples/run_glue.py) example script from huggingface.\n",
        "\n",
        "`run_glue.py` is a helpful utility which allows you to pick which GLUE benchmark task you want to run on, and which pre-trained model you want to use (you can see the list of possible models [here](https://github.com/huggingface/transformers/blob/e6cff60b4cbc1158fbd6e4a1c3afda8dc224f566/examples/run_glue.py#L69)). It also supports using either the CPU, a single GPU, or multiple GPUs. It even supports using 16-bit precision if you want further speed up.\n",
        "\n",
        "Unfortunately, all of this configurability comes at the cost of *readability*. In this Notebook, we've simplified the code greatly and added plenty of comments to make it clear what's going on."
      ]
    },
    {
      "cell_type": "markdown",
      "metadata": {
        "id": "guw6ZNtaswKc"
      },
      "source": [
        "# 2. Loading CoLA Dataset\n"
      ]
    },
    {
      "cell_type": "markdown",
      "metadata": {
        "id": "_9ZKxKc04Btk"
      },
      "source": [
        "We'll use [The Corpus of Linguistic Acceptability (CoLA)](https://nyu-mll.github.io/CoLA/) dataset for single sentence classification. It's a set of sentences labeled as grammatically correct or incorrect. It was first published in May of 2018, and is one of the tests included in the \"GLUE Benchmark\" on which models like BERT are competing.\n"
      ]
    },
    {
      "cell_type": "markdown",
      "metadata": {
        "id": "4JrUHXms16cn"
      },
      "source": [
        "## 2.1. Download & Extract"
      ]
    },
    {
      "cell_type": "markdown",
      "metadata": {
        "id": "3ZNVW6xd0T0X"
      },
      "source": [
        "We'll use the `wget` package to download the dataset to the Colab instance's file system."
      ]
    },
    {
      "cell_type": "code",
      "metadata": {
        "id": "5m6AnuFv0QXQ",
        "colab": {
          "base_uri": "https://localhost:8080/"
        },
        "outputId": "b86a2826-a731-480c-dd2c-16c784aa881f"
      },
      "source": [
        "!pip install wget"
      ],
      "execution_count": null,
      "outputs": [
        {
          "output_type": "stream",
          "name": "stdout",
          "text": [
            "Collecting wget\n",
            "  Downloading wget-3.2.zip (10 kB)\n",
            "  Preparing metadata (setup.py) ... \u001b[?25l\u001b[?25hdone\n",
            "Building wheels for collected packages: wget\n",
            "  Building wheel for wget (setup.py) ... \u001b[?25l\u001b[?25hdone\n",
            "  Created wheel for wget: filename=wget-3.2-py3-none-any.whl size=9656 sha256=ce067429b466313e3617d63c9c194d33ffef9359b8c9b63f934e00d65b3c5c0c\n",
            "  Stored in directory: /root/.cache/pip/wheels/8b/f1/7f/5c94f0a7a505ca1c81cd1d9208ae2064675d97582078e6c769\n",
            "Successfully built wget\n",
            "Installing collected packages: wget\n",
            "Successfully installed wget-3.2\n"
          ]
        }
      ]
    },
    {
      "cell_type": "markdown",
      "metadata": {
        "id": "08pO03Ff1BjI"
      },
      "source": [
        "The dataset is hosted on GitHub in this repo: https://nyu-mll.github.io/CoLA/"
      ]
    },
    {
      "cell_type": "code",
      "metadata": {
        "id": "pMtmPMkBzrvs",
        "colab": {
          "base_uri": "https://localhost:8080/"
        },
        "outputId": "2227ebf0-85be-4f9a-9256-421011df1d30"
      },
      "source": [
        "import wget\n",
        "import os\n",
        "\n",
        "print('Downloading dataset...')\n",
        "\n",
        "# The URL for the dataset zip file.\n",
        "url = 'https://nyu-mll.github.io/CoLA/cola_public_1.1.zip'\n",
        "\n",
        "# Download the file (if we haven't already)\n",
        "if not os.path.exists('./cola_public_1.1.zip'):\n",
        "    wget.download(url, './cola_public_1.1.zip')"
      ],
      "execution_count": null,
      "outputs": [
        {
          "output_type": "stream",
          "name": "stdout",
          "text": [
            "Downloading dataset...\n"
          ]
        }
      ]
    },
    {
      "cell_type": "markdown",
      "metadata": {
        "id": "_mKctx-ll2FB"
      },
      "source": [
        "Unzip the dataset to the file system. You can browse the file system of the Colab instance in the sidebar on the left."
      ]
    },
    {
      "cell_type": "code",
      "metadata": {
        "id": "0Yv-tNv20dnH",
        "colab": {
          "base_uri": "https://localhost:8080/"
        },
        "outputId": "b5b167d4-d963-427b-f82f-a07de1f4c965"
      },
      "source": [
        "# Unzip the dataset (if we haven't already)\n",
        "if not os.path.exists('./cola_public/'):\n",
        "    !unzip cola_public_1.1.zip"
      ],
      "execution_count": null,
      "outputs": [
        {
          "output_type": "stream",
          "name": "stdout",
          "text": [
            "Archive:  cola_public_1.1.zip\n",
            "   creating: cola_public/\n",
            "  inflating: cola_public/README      \n",
            "   creating: cola_public/tokenized/\n",
            "  inflating: cola_public/tokenized/in_domain_dev.tsv  \n",
            "  inflating: cola_public/tokenized/in_domain_train.tsv  \n",
            "  inflating: cola_public/tokenized/out_of_domain_dev.tsv  \n",
            "   creating: cola_public/raw/\n",
            "  inflating: cola_public/raw/in_domain_dev.tsv  \n",
            "  inflating: cola_public/raw/in_domain_train.tsv  \n",
            "  inflating: cola_public/raw/out_of_domain_dev.tsv  \n"
          ]
        }
      ]
    },
    {
      "cell_type": "markdown",
      "metadata": {
        "id": "oQUy9Tat2EF_"
      },
      "source": [
        "## 2.2. Parse"
      ]
    },
    {
      "cell_type": "markdown",
      "metadata": {
        "id": "xeyVCXT31EZQ"
      },
      "source": [
        "We can see from the file names that both `tokenized` and `raw` versions of the data are available.\n",
        "\n",
        "We can't use the pre-tokenized version because, in order to apply the pre-trained BERT, we *must* use the tokenizer provided by the model. This is because (1) the model has a specific, fixed vocabulary and (2) the BERT tokenizer has a particular way of handling out-of-vocabulary words."
      ]
    },
    {
      "cell_type": "markdown",
      "metadata": {
        "id": "MYWzeGSY2xh3"
      },
      "source": [
        "We'll use pandas to parse the \"in-domain\" training set and look at a few of its properties and data points."
      ]
    },
    {
      "cell_type": "code",
      "metadata": {
        "id": "_UkeC7SG2krJ",
        "colab": {
          "base_uri": "https://localhost:8080/",
          "height": 399
        },
        "outputId": "6cfdd453-a9e5-40c3-f030-6e9e32dc363a"
      },
      "source": [
        "import pandas as pd\n",
        "\n",
        "# Load the dataset into a pandas dataframe.\n",
        "df = pd.read_csv(\"./cola_public/raw/in_domain_train.tsv\", delimiter='\\t', header=None, names=['sentence_source', 'label', 'label_notes', 'sentence'])\n",
        "\n",
        "# Report the number of sentences.\n",
        "print('Number of training sentences: {:,}\\n'.format(df.shape[0]))\n",
        "\n",
        "# Display 10 random rows from the data.\n",
        "df.sample(10)"
      ],
      "execution_count": null,
      "outputs": [
        {
          "output_type": "stream",
          "name": "stdout",
          "text": [
            "Number of training sentences: 8,551\n",
            "\n"
          ]
        },
        {
          "output_type": "execute_result",
          "data": {
            "text/plain": [
              "     sentence_source  label label_notes  \\\n",
              "3083            l-93      1         NaN   \n",
              "6929            m_02      1         NaN   \n",
              "2765            l-93      1         NaN   \n",
              "6091            c_13      1         NaN   \n",
              "384             bc01      1         NaN   \n",
              "2957            l-93      0           *   \n",
              "8191            ad03      1         NaN   \n",
              "5823            c_13      1         NaN   \n",
              "308             cj99      0          ??   \n",
              "4557            ks08      1         NaN   \n",
              "\n",
              "                                               sentence  \n",
              "3083                     Ellen said something to Helen.  \n",
              "6929  The garden is certain to be planted with roses...  \n",
              "2765          Michelle kept the papers behind the desk.  \n",
              "6091           Martha often thinks Kim hates phonology.  \n",
              "384   John sells books, Mary buys records and Bill V...  \n",
              "2957                           He turned from a prince.  \n",
              "8191        There seemed to be three men in the garden.  \n",
              "5823                    The building's roof is leaking.  \n",
              "308   This is the problem that you'll beat the compe...  \n",
              "4557         It has rained every day for the last week.  "
            ],
            "text/html": [
              "\n",
              "  <div id=\"df-d98e8678-0dbc-4d44-9cf8-c28e6d5b980e\" class=\"colab-df-container\">\n",
              "    <div>\n",
              "<style scoped>\n",
              "    .dataframe tbody tr th:only-of-type {\n",
              "        vertical-align: middle;\n",
              "    }\n",
              "\n",
              "    .dataframe tbody tr th {\n",
              "        vertical-align: top;\n",
              "    }\n",
              "\n",
              "    .dataframe thead th {\n",
              "        text-align: right;\n",
              "    }\n",
              "</style>\n",
              "<table border=\"1\" class=\"dataframe\">\n",
              "  <thead>\n",
              "    <tr style=\"text-align: right;\">\n",
              "      <th></th>\n",
              "      <th>sentence_source</th>\n",
              "      <th>label</th>\n",
              "      <th>label_notes</th>\n",
              "      <th>sentence</th>\n",
              "    </tr>\n",
              "  </thead>\n",
              "  <tbody>\n",
              "    <tr>\n",
              "      <th>3083</th>\n",
              "      <td>l-93</td>\n",
              "      <td>1</td>\n",
              "      <td>NaN</td>\n",
              "      <td>Ellen said something to Helen.</td>\n",
              "    </tr>\n",
              "    <tr>\n",
              "      <th>6929</th>\n",
              "      <td>m_02</td>\n",
              "      <td>1</td>\n",
              "      <td>NaN</td>\n",
              "      <td>The garden is certain to be planted with roses...</td>\n",
              "    </tr>\n",
              "    <tr>\n",
              "      <th>2765</th>\n",
              "      <td>l-93</td>\n",
              "      <td>1</td>\n",
              "      <td>NaN</td>\n",
              "      <td>Michelle kept the papers behind the desk.</td>\n",
              "    </tr>\n",
              "    <tr>\n",
              "      <th>6091</th>\n",
              "      <td>c_13</td>\n",
              "      <td>1</td>\n",
              "      <td>NaN</td>\n",
              "      <td>Martha often thinks Kim hates phonology.</td>\n",
              "    </tr>\n",
              "    <tr>\n",
              "      <th>384</th>\n",
              "      <td>bc01</td>\n",
              "      <td>1</td>\n",
              "      <td>NaN</td>\n",
              "      <td>John sells books, Mary buys records and Bill V...</td>\n",
              "    </tr>\n",
              "    <tr>\n",
              "      <th>2957</th>\n",
              "      <td>l-93</td>\n",
              "      <td>0</td>\n",
              "      <td>*</td>\n",
              "      <td>He turned from a prince.</td>\n",
              "    </tr>\n",
              "    <tr>\n",
              "      <th>8191</th>\n",
              "      <td>ad03</td>\n",
              "      <td>1</td>\n",
              "      <td>NaN</td>\n",
              "      <td>There seemed to be three men in the garden.</td>\n",
              "    </tr>\n",
              "    <tr>\n",
              "      <th>5823</th>\n",
              "      <td>c_13</td>\n",
              "      <td>1</td>\n",
              "      <td>NaN</td>\n",
              "      <td>The building's roof is leaking.</td>\n",
              "    </tr>\n",
              "    <tr>\n",
              "      <th>308</th>\n",
              "      <td>cj99</td>\n",
              "      <td>0</td>\n",
              "      <td>??</td>\n",
              "      <td>This is the problem that you'll beat the compe...</td>\n",
              "    </tr>\n",
              "    <tr>\n",
              "      <th>4557</th>\n",
              "      <td>ks08</td>\n",
              "      <td>1</td>\n",
              "      <td>NaN</td>\n",
              "      <td>It has rained every day for the last week.</td>\n",
              "    </tr>\n",
              "  </tbody>\n",
              "</table>\n",
              "</div>\n",
              "    <div class=\"colab-df-buttons\">\n",
              "\n",
              "  <div class=\"colab-df-container\">\n",
              "    <button class=\"colab-df-convert\" onclick=\"convertToInteractive('df-d98e8678-0dbc-4d44-9cf8-c28e6d5b980e')\"\n",
              "            title=\"Convert this dataframe to an interactive table.\"\n",
              "            style=\"display:none;\">\n",
              "\n",
              "  <svg xmlns=\"http://www.w3.org/2000/svg\" height=\"24px\" viewBox=\"0 -960 960 960\">\n",
              "    <path d=\"M120-120v-720h720v720H120Zm60-500h600v-160H180v160Zm220 220h160v-160H400v160Zm0 220h160v-160H400v160ZM180-400h160v-160H180v160Zm440 0h160v-160H620v160ZM180-180h160v-160H180v160Zm440 0h160v-160H620v160Z\"/>\n",
              "  </svg>\n",
              "    </button>\n",
              "\n",
              "  <style>\n",
              "    .colab-df-container {\n",
              "      display:flex;\n",
              "      gap: 12px;\n",
              "    }\n",
              "\n",
              "    .colab-df-convert {\n",
              "      background-color: #E8F0FE;\n",
              "      border: none;\n",
              "      border-radius: 50%;\n",
              "      cursor: pointer;\n",
              "      display: none;\n",
              "      fill: #1967D2;\n",
              "      height: 32px;\n",
              "      padding: 0 0 0 0;\n",
              "      width: 32px;\n",
              "    }\n",
              "\n",
              "    .colab-df-convert:hover {\n",
              "      background-color: #E2EBFA;\n",
              "      box-shadow: 0px 1px 2px rgba(60, 64, 67, 0.3), 0px 1px 3px 1px rgba(60, 64, 67, 0.15);\n",
              "      fill: #174EA6;\n",
              "    }\n",
              "\n",
              "    .colab-df-buttons div {\n",
              "      margin-bottom: 4px;\n",
              "    }\n",
              "\n",
              "    [theme=dark] .colab-df-convert {\n",
              "      background-color: #3B4455;\n",
              "      fill: #D2E3FC;\n",
              "    }\n",
              "\n",
              "    [theme=dark] .colab-df-convert:hover {\n",
              "      background-color: #434B5C;\n",
              "      box-shadow: 0px 1px 3px 1px rgba(0, 0, 0, 0.15);\n",
              "      filter: drop-shadow(0px 1px 2px rgba(0, 0, 0, 0.3));\n",
              "      fill: #FFFFFF;\n",
              "    }\n",
              "  </style>\n",
              "\n",
              "    <script>\n",
              "      const buttonEl =\n",
              "        document.querySelector('#df-d98e8678-0dbc-4d44-9cf8-c28e6d5b980e button.colab-df-convert');\n",
              "      buttonEl.style.display =\n",
              "        google.colab.kernel.accessAllowed ? 'block' : 'none';\n",
              "\n",
              "      async function convertToInteractive(key) {\n",
              "        const element = document.querySelector('#df-d98e8678-0dbc-4d44-9cf8-c28e6d5b980e');\n",
              "        const dataTable =\n",
              "          await google.colab.kernel.invokeFunction('convertToInteractive',\n",
              "                                                    [key], {});\n",
              "        if (!dataTable) return;\n",
              "\n",
              "        const docLinkHtml = 'Like what you see? Visit the ' +\n",
              "          '<a target=\"_blank\" href=https://colab.research.google.com/notebooks/data_table.ipynb>data table notebook</a>'\n",
              "          + ' to learn more about interactive tables.';\n",
              "        element.innerHTML = '';\n",
              "        dataTable['output_type'] = 'display_data';\n",
              "        await google.colab.output.renderOutput(dataTable, element);\n",
              "        const docLink = document.createElement('div');\n",
              "        docLink.innerHTML = docLinkHtml;\n",
              "        element.appendChild(docLink);\n",
              "      }\n",
              "    </script>\n",
              "  </div>\n",
              "\n",
              "\n",
              "<div id=\"df-3bbca019-f838-4e69-95e9-9f2fc4a7366a\">\n",
              "  <button class=\"colab-df-quickchart\" onclick=\"quickchart('df-3bbca019-f838-4e69-95e9-9f2fc4a7366a')\"\n",
              "            title=\"Suggest charts\"\n",
              "            style=\"display:none;\">\n",
              "\n",
              "<svg xmlns=\"http://www.w3.org/2000/svg\" height=\"24px\"viewBox=\"0 0 24 24\"\n",
              "     width=\"24px\">\n",
              "    <g>\n",
              "        <path d=\"M19 3H5c-1.1 0-2 .9-2 2v14c0 1.1.9 2 2 2h14c1.1 0 2-.9 2-2V5c0-1.1-.9-2-2-2zM9 17H7v-7h2v7zm4 0h-2V7h2v10zm4 0h-2v-4h2v4z\"/>\n",
              "    </g>\n",
              "</svg>\n",
              "  </button>\n",
              "\n",
              "<style>\n",
              "  .colab-df-quickchart {\n",
              "      --bg-color: #E8F0FE;\n",
              "      --fill-color: #1967D2;\n",
              "      --hover-bg-color: #E2EBFA;\n",
              "      --hover-fill-color: #174EA6;\n",
              "      --disabled-fill-color: #AAA;\n",
              "      --disabled-bg-color: #DDD;\n",
              "  }\n",
              "\n",
              "  [theme=dark] .colab-df-quickchart {\n",
              "      --bg-color: #3B4455;\n",
              "      --fill-color: #D2E3FC;\n",
              "      --hover-bg-color: #434B5C;\n",
              "      --hover-fill-color: #FFFFFF;\n",
              "      --disabled-bg-color: #3B4455;\n",
              "      --disabled-fill-color: #666;\n",
              "  }\n",
              "\n",
              "  .colab-df-quickchart {\n",
              "    background-color: var(--bg-color);\n",
              "    border: none;\n",
              "    border-radius: 50%;\n",
              "    cursor: pointer;\n",
              "    display: none;\n",
              "    fill: var(--fill-color);\n",
              "    height: 32px;\n",
              "    padding: 0;\n",
              "    width: 32px;\n",
              "  }\n",
              "\n",
              "  .colab-df-quickchart:hover {\n",
              "    background-color: var(--hover-bg-color);\n",
              "    box-shadow: 0 1px 2px rgba(60, 64, 67, 0.3), 0 1px 3px 1px rgba(60, 64, 67, 0.15);\n",
              "    fill: var(--button-hover-fill-color);\n",
              "  }\n",
              "\n",
              "  .colab-df-quickchart-complete:disabled,\n",
              "  .colab-df-quickchart-complete:disabled:hover {\n",
              "    background-color: var(--disabled-bg-color);\n",
              "    fill: var(--disabled-fill-color);\n",
              "    box-shadow: none;\n",
              "  }\n",
              "\n",
              "  .colab-df-spinner {\n",
              "    border: 2px solid var(--fill-color);\n",
              "    border-color: transparent;\n",
              "    border-bottom-color: var(--fill-color);\n",
              "    animation:\n",
              "      spin 1s steps(1) infinite;\n",
              "  }\n",
              "\n",
              "  @keyframes spin {\n",
              "    0% {\n",
              "      border-color: transparent;\n",
              "      border-bottom-color: var(--fill-color);\n",
              "      border-left-color: var(--fill-color);\n",
              "    }\n",
              "    20% {\n",
              "      border-color: transparent;\n",
              "      border-left-color: var(--fill-color);\n",
              "      border-top-color: var(--fill-color);\n",
              "    }\n",
              "    30% {\n",
              "      border-color: transparent;\n",
              "      border-left-color: var(--fill-color);\n",
              "      border-top-color: var(--fill-color);\n",
              "      border-right-color: var(--fill-color);\n",
              "    }\n",
              "    40% {\n",
              "      border-color: transparent;\n",
              "      border-right-color: var(--fill-color);\n",
              "      border-top-color: var(--fill-color);\n",
              "    }\n",
              "    60% {\n",
              "      border-color: transparent;\n",
              "      border-right-color: var(--fill-color);\n",
              "    }\n",
              "    80% {\n",
              "      border-color: transparent;\n",
              "      border-right-color: var(--fill-color);\n",
              "      border-bottom-color: var(--fill-color);\n",
              "    }\n",
              "    90% {\n",
              "      border-color: transparent;\n",
              "      border-bottom-color: var(--fill-color);\n",
              "    }\n",
              "  }\n",
              "</style>\n",
              "\n",
              "  <script>\n",
              "    async function quickchart(key) {\n",
              "      const quickchartButtonEl =\n",
              "        document.querySelector('#' + key + ' button');\n",
              "      quickchartButtonEl.disabled = true;  // To prevent multiple clicks.\n",
              "      quickchartButtonEl.classList.add('colab-df-spinner');\n",
              "      try {\n",
              "        const charts = await google.colab.kernel.invokeFunction(\n",
              "            'suggestCharts', [key], {});\n",
              "      } catch (error) {\n",
              "        console.error('Error during call to suggestCharts:', error);\n",
              "      }\n",
              "      quickchartButtonEl.classList.remove('colab-df-spinner');\n",
              "      quickchartButtonEl.classList.add('colab-df-quickchart-complete');\n",
              "    }\n",
              "    (() => {\n",
              "      let quickchartButtonEl =\n",
              "        document.querySelector('#df-3bbca019-f838-4e69-95e9-9f2fc4a7366a button');\n",
              "      quickchartButtonEl.style.display =\n",
              "        google.colab.kernel.accessAllowed ? 'block' : 'none';\n",
              "    })();\n",
              "  </script>\n",
              "</div>\n",
              "\n",
              "    </div>\n",
              "  </div>\n"
            ],
            "application/vnd.google.colaboratory.intrinsic+json": {
              "type": "dataframe",
              "summary": "{\n  \"name\": \"df\",\n  \"rows\": 10,\n  \"fields\": [\n    {\n      \"column\": \"sentence_source\",\n      \"properties\": {\n        \"dtype\": \"string\",\n        \"num_unique_values\": 7,\n        \"samples\": [\n          \"l-93\",\n          \"m_02\",\n          \"cj99\"\n        ],\n        \"semantic_type\": \"\",\n        \"description\": \"\"\n      }\n    },\n    {\n      \"column\": \"label\",\n      \"properties\": {\n        \"dtype\": \"number\",\n        \"std\": 0,\n        \"min\": 0,\n        \"max\": 1,\n        \"num_unique_values\": 2,\n        \"samples\": [\n          0,\n          1\n        ],\n        \"semantic_type\": \"\",\n        \"description\": \"\"\n      }\n    },\n    {\n      \"column\": \"label_notes\",\n      \"properties\": {\n        \"dtype\": \"category\",\n        \"num_unique_values\": 2,\n        \"samples\": [\n          \"??\",\n          \"*\"\n        ],\n        \"semantic_type\": \"\",\n        \"description\": \"\"\n      }\n    },\n    {\n      \"column\": \"sentence\",\n      \"properties\": {\n        \"dtype\": \"string\",\n        \"num_unique_values\": 10,\n        \"samples\": [\n          \"This is the problem that you'll beat the competition more easily, the sooner you solve.\",\n          \"The garden is certain to be planted with roses by the gardener.\"\n        ],\n        \"semantic_type\": \"\",\n        \"description\": \"\"\n      }\n    }\n  ]\n}"
            }
          },
          "metadata": {},
          "execution_count": 6
        }
      ]
    },
    {
      "cell_type": "markdown",
      "metadata": {
        "id": "kfWzpPi92UAH"
      },
      "source": [
        "The two properties we actually care about are the the `sentence` and its `label`, which is referred to as the \"acceptibility judgment\" (0=unacceptable, 1=acceptable)."
      ]
    },
    {
      "cell_type": "markdown",
      "metadata": {
        "id": "H_LpQfzCn9_o"
      },
      "source": [
        "Here are five sentences which are labeled as not grammatically acceptible. Note how much more difficult this task is than something like sentiment analysis!"
      ]
    },
    {
      "cell_type": "code",
      "metadata": {
        "id": "blqIvQaQncdJ",
        "colab": {
          "base_uri": "https://localhost:8080/",
          "height": 206
        },
        "outputId": "6a391ee5-cb6d-4c9f-c27d-fded674333a9"
      },
      "source": [
        "df.loc[df.label == 0].sample(5)[['sentence', 'label']]"
      ],
      "execution_count": null,
      "outputs": [
        {
          "output_type": "execute_result",
          "data": {
            "text/plain": [
              "                                          sentence  label\n",
              "6549        The talkative and a bully man entered.      0\n",
              "4628  Stephen is believed to be easy to annoy Ben.      0\n",
              "3597                     The umpire called off it.      0\n",
              "3793                John gave Tom a book a record.      0\n",
              "2500    The silversmith pounded on the metal flat.      0"
            ],
            "text/html": [
              "\n",
              "  <div id=\"df-c102074a-2228-442b-b996-727a50dbb21b\" class=\"colab-df-container\">\n",
              "    <div>\n",
              "<style scoped>\n",
              "    .dataframe tbody tr th:only-of-type {\n",
              "        vertical-align: middle;\n",
              "    }\n",
              "\n",
              "    .dataframe tbody tr th {\n",
              "        vertical-align: top;\n",
              "    }\n",
              "\n",
              "    .dataframe thead th {\n",
              "        text-align: right;\n",
              "    }\n",
              "</style>\n",
              "<table border=\"1\" class=\"dataframe\">\n",
              "  <thead>\n",
              "    <tr style=\"text-align: right;\">\n",
              "      <th></th>\n",
              "      <th>sentence</th>\n",
              "      <th>label</th>\n",
              "    </tr>\n",
              "  </thead>\n",
              "  <tbody>\n",
              "    <tr>\n",
              "      <th>6549</th>\n",
              "      <td>The talkative and a bully man entered.</td>\n",
              "      <td>0</td>\n",
              "    </tr>\n",
              "    <tr>\n",
              "      <th>4628</th>\n",
              "      <td>Stephen is believed to be easy to annoy Ben.</td>\n",
              "      <td>0</td>\n",
              "    </tr>\n",
              "    <tr>\n",
              "      <th>3597</th>\n",
              "      <td>The umpire called off it.</td>\n",
              "      <td>0</td>\n",
              "    </tr>\n",
              "    <tr>\n",
              "      <th>3793</th>\n",
              "      <td>John gave Tom a book a record.</td>\n",
              "      <td>0</td>\n",
              "    </tr>\n",
              "    <tr>\n",
              "      <th>2500</th>\n",
              "      <td>The silversmith pounded on the metal flat.</td>\n",
              "      <td>0</td>\n",
              "    </tr>\n",
              "  </tbody>\n",
              "</table>\n",
              "</div>\n",
              "    <div class=\"colab-df-buttons\">\n",
              "\n",
              "  <div class=\"colab-df-container\">\n",
              "    <button class=\"colab-df-convert\" onclick=\"convertToInteractive('df-c102074a-2228-442b-b996-727a50dbb21b')\"\n",
              "            title=\"Convert this dataframe to an interactive table.\"\n",
              "            style=\"display:none;\">\n",
              "\n",
              "  <svg xmlns=\"http://www.w3.org/2000/svg\" height=\"24px\" viewBox=\"0 -960 960 960\">\n",
              "    <path d=\"M120-120v-720h720v720H120Zm60-500h600v-160H180v160Zm220 220h160v-160H400v160Zm0 220h160v-160H400v160ZM180-400h160v-160H180v160Zm440 0h160v-160H620v160ZM180-180h160v-160H180v160Zm440 0h160v-160H620v160Z\"/>\n",
              "  </svg>\n",
              "    </button>\n",
              "\n",
              "  <style>\n",
              "    .colab-df-container {\n",
              "      display:flex;\n",
              "      gap: 12px;\n",
              "    }\n",
              "\n",
              "    .colab-df-convert {\n",
              "      background-color: #E8F0FE;\n",
              "      border: none;\n",
              "      border-radius: 50%;\n",
              "      cursor: pointer;\n",
              "      display: none;\n",
              "      fill: #1967D2;\n",
              "      height: 32px;\n",
              "      padding: 0 0 0 0;\n",
              "      width: 32px;\n",
              "    }\n",
              "\n",
              "    .colab-df-convert:hover {\n",
              "      background-color: #E2EBFA;\n",
              "      box-shadow: 0px 1px 2px rgba(60, 64, 67, 0.3), 0px 1px 3px 1px rgba(60, 64, 67, 0.15);\n",
              "      fill: #174EA6;\n",
              "    }\n",
              "\n",
              "    .colab-df-buttons div {\n",
              "      margin-bottom: 4px;\n",
              "    }\n",
              "\n",
              "    [theme=dark] .colab-df-convert {\n",
              "      background-color: #3B4455;\n",
              "      fill: #D2E3FC;\n",
              "    }\n",
              "\n",
              "    [theme=dark] .colab-df-convert:hover {\n",
              "      background-color: #434B5C;\n",
              "      box-shadow: 0px 1px 3px 1px rgba(0, 0, 0, 0.15);\n",
              "      filter: drop-shadow(0px 1px 2px rgba(0, 0, 0, 0.3));\n",
              "      fill: #FFFFFF;\n",
              "    }\n",
              "  </style>\n",
              "\n",
              "    <script>\n",
              "      const buttonEl =\n",
              "        document.querySelector('#df-c102074a-2228-442b-b996-727a50dbb21b button.colab-df-convert');\n",
              "      buttonEl.style.display =\n",
              "        google.colab.kernel.accessAllowed ? 'block' : 'none';\n",
              "\n",
              "      async function convertToInteractive(key) {\n",
              "        const element = document.querySelector('#df-c102074a-2228-442b-b996-727a50dbb21b');\n",
              "        const dataTable =\n",
              "          await google.colab.kernel.invokeFunction('convertToInteractive',\n",
              "                                                    [key], {});\n",
              "        if (!dataTable) return;\n",
              "\n",
              "        const docLinkHtml = 'Like what you see? Visit the ' +\n",
              "          '<a target=\"_blank\" href=https://colab.research.google.com/notebooks/data_table.ipynb>data table notebook</a>'\n",
              "          + ' to learn more about interactive tables.';\n",
              "        element.innerHTML = '';\n",
              "        dataTable['output_type'] = 'display_data';\n",
              "        await google.colab.output.renderOutput(dataTable, element);\n",
              "        const docLink = document.createElement('div');\n",
              "        docLink.innerHTML = docLinkHtml;\n",
              "        element.appendChild(docLink);\n",
              "      }\n",
              "    </script>\n",
              "  </div>\n",
              "\n",
              "\n",
              "<div id=\"df-9754aaa9-9d68-42b5-b450-e0c12f13f899\">\n",
              "  <button class=\"colab-df-quickchart\" onclick=\"quickchart('df-9754aaa9-9d68-42b5-b450-e0c12f13f899')\"\n",
              "            title=\"Suggest charts\"\n",
              "            style=\"display:none;\">\n",
              "\n",
              "<svg xmlns=\"http://www.w3.org/2000/svg\" height=\"24px\"viewBox=\"0 0 24 24\"\n",
              "     width=\"24px\">\n",
              "    <g>\n",
              "        <path d=\"M19 3H5c-1.1 0-2 .9-2 2v14c0 1.1.9 2 2 2h14c1.1 0 2-.9 2-2V5c0-1.1-.9-2-2-2zM9 17H7v-7h2v7zm4 0h-2V7h2v10zm4 0h-2v-4h2v4z\"/>\n",
              "    </g>\n",
              "</svg>\n",
              "  </button>\n",
              "\n",
              "<style>\n",
              "  .colab-df-quickchart {\n",
              "      --bg-color: #E8F0FE;\n",
              "      --fill-color: #1967D2;\n",
              "      --hover-bg-color: #E2EBFA;\n",
              "      --hover-fill-color: #174EA6;\n",
              "      --disabled-fill-color: #AAA;\n",
              "      --disabled-bg-color: #DDD;\n",
              "  }\n",
              "\n",
              "  [theme=dark] .colab-df-quickchart {\n",
              "      --bg-color: #3B4455;\n",
              "      --fill-color: #D2E3FC;\n",
              "      --hover-bg-color: #434B5C;\n",
              "      --hover-fill-color: #FFFFFF;\n",
              "      --disabled-bg-color: #3B4455;\n",
              "      --disabled-fill-color: #666;\n",
              "  }\n",
              "\n",
              "  .colab-df-quickchart {\n",
              "    background-color: var(--bg-color);\n",
              "    border: none;\n",
              "    border-radius: 50%;\n",
              "    cursor: pointer;\n",
              "    display: none;\n",
              "    fill: var(--fill-color);\n",
              "    height: 32px;\n",
              "    padding: 0;\n",
              "    width: 32px;\n",
              "  }\n",
              "\n",
              "  .colab-df-quickchart:hover {\n",
              "    background-color: var(--hover-bg-color);\n",
              "    box-shadow: 0 1px 2px rgba(60, 64, 67, 0.3), 0 1px 3px 1px rgba(60, 64, 67, 0.15);\n",
              "    fill: var(--button-hover-fill-color);\n",
              "  }\n",
              "\n",
              "  .colab-df-quickchart-complete:disabled,\n",
              "  .colab-df-quickchart-complete:disabled:hover {\n",
              "    background-color: var(--disabled-bg-color);\n",
              "    fill: var(--disabled-fill-color);\n",
              "    box-shadow: none;\n",
              "  }\n",
              "\n",
              "  .colab-df-spinner {\n",
              "    border: 2px solid var(--fill-color);\n",
              "    border-color: transparent;\n",
              "    border-bottom-color: var(--fill-color);\n",
              "    animation:\n",
              "      spin 1s steps(1) infinite;\n",
              "  }\n",
              "\n",
              "  @keyframes spin {\n",
              "    0% {\n",
              "      border-color: transparent;\n",
              "      border-bottom-color: var(--fill-color);\n",
              "      border-left-color: var(--fill-color);\n",
              "    }\n",
              "    20% {\n",
              "      border-color: transparent;\n",
              "      border-left-color: var(--fill-color);\n",
              "      border-top-color: var(--fill-color);\n",
              "    }\n",
              "    30% {\n",
              "      border-color: transparent;\n",
              "      border-left-color: var(--fill-color);\n",
              "      border-top-color: var(--fill-color);\n",
              "      border-right-color: var(--fill-color);\n",
              "    }\n",
              "    40% {\n",
              "      border-color: transparent;\n",
              "      border-right-color: var(--fill-color);\n",
              "      border-top-color: var(--fill-color);\n",
              "    }\n",
              "    60% {\n",
              "      border-color: transparent;\n",
              "      border-right-color: var(--fill-color);\n",
              "    }\n",
              "    80% {\n",
              "      border-color: transparent;\n",
              "      border-right-color: var(--fill-color);\n",
              "      border-bottom-color: var(--fill-color);\n",
              "    }\n",
              "    90% {\n",
              "      border-color: transparent;\n",
              "      border-bottom-color: var(--fill-color);\n",
              "    }\n",
              "  }\n",
              "</style>\n",
              "\n",
              "  <script>\n",
              "    async function quickchart(key) {\n",
              "      const quickchartButtonEl =\n",
              "        document.querySelector('#' + key + ' button');\n",
              "      quickchartButtonEl.disabled = true;  // To prevent multiple clicks.\n",
              "      quickchartButtonEl.classList.add('colab-df-spinner');\n",
              "      try {\n",
              "        const charts = await google.colab.kernel.invokeFunction(\n",
              "            'suggestCharts', [key], {});\n",
              "      } catch (error) {\n",
              "        console.error('Error during call to suggestCharts:', error);\n",
              "      }\n",
              "      quickchartButtonEl.classList.remove('colab-df-spinner');\n",
              "      quickchartButtonEl.classList.add('colab-df-quickchart-complete');\n",
              "    }\n",
              "    (() => {\n",
              "      let quickchartButtonEl =\n",
              "        document.querySelector('#df-9754aaa9-9d68-42b5-b450-e0c12f13f899 button');\n",
              "      quickchartButtonEl.style.display =\n",
              "        google.colab.kernel.accessAllowed ? 'block' : 'none';\n",
              "    })();\n",
              "  </script>\n",
              "</div>\n",
              "\n",
              "    </div>\n",
              "  </div>\n"
            ],
            "application/vnd.google.colaboratory.intrinsic+json": {
              "type": "dataframe",
              "summary": "{\n  \"name\": \"df\",\n  \"rows\": 5,\n  \"fields\": [\n    {\n      \"column\": \"sentence\",\n      \"properties\": {\n        \"dtype\": \"string\",\n        \"num_unique_values\": 5,\n        \"samples\": [\n          \"Stephen is believed to be easy to annoy Ben.\",\n          \"The silversmith pounded on the metal flat.\",\n          \"The umpire called off it.\"\n        ],\n        \"semantic_type\": \"\",\n        \"description\": \"\"\n      }\n    },\n    {\n      \"column\": \"label\",\n      \"properties\": {\n        \"dtype\": \"number\",\n        \"std\": 0,\n        \"min\": 0,\n        \"max\": 0,\n        \"num_unique_values\": 1,\n        \"samples\": [\n          0\n        ],\n        \"semantic_type\": \"\",\n        \"description\": \"\"\n      }\n    }\n  ]\n}"
            }
          },
          "metadata": {},
          "execution_count": 7
        }
      ]
    },
    {
      "cell_type": "markdown",
      "metadata": {
        "id": "4SMZ5T5Imhlx"
      },
      "source": [
        "\n",
        "\n",
        "Let's extract the sentences and labels of our training set as numpy ndarrays."
      ]
    },
    {
      "cell_type": "code",
      "metadata": {
        "id": "GuE5BqICAne2"
      },
      "source": [
        "# Get the lists of sentences and their labels.\n",
        "sentences = df.sentence.values\n",
        "labels = df.label.values"
      ],
      "execution_count": null,
      "outputs": []
    },
    {
      "cell_type": "markdown",
      "metadata": {
        "id": "ex5O1eV-Pfct"
      },
      "source": [
        "# 3. Tokenization & Input Formatting\n",
        "\n",
        "In this section, we'll transform our dataset into the format that BERT can be trained on."
      ]
    },
    {
      "cell_type": "markdown",
      "metadata": {
        "id": "-8kEDRvShcU5"
      },
      "source": [
        "## 3.1. BERT Tokenizer"
      ]
    },
    {
      "cell_type": "markdown",
      "metadata": {
        "id": "bWOPOyWghJp2"
      },
      "source": [
        "\n",
        "To feed our text to BERT, it must be split into tokens, and then these tokens must be mapped to their index in the tokenizer vocabulary.\n",
        "\n",
        "The tokenization must be performed by the tokenizer included with BERT--the below cell will download this for us. We'll be using the \"uncased\" version here.\n"
      ]
    },
    {
      "cell_type": "code",
      "metadata": {
        "id": "Z474sSC6oe7A",
        "colab": {
          "base_uri": "https://localhost:8080/",
          "height": 329,
          "referenced_widgets": [
            "22de620723d6499caced288c23bb8930",
            "1bcb158812e24a56af47f771f03e25fc",
            "7bf702aefd074726bb78da07b6703cff",
            "f6d321305304405d95885df3720841ce",
            "5a255dd8cc6d42f0bac838f22694bb7a",
            "c24ad55760b646efbd37a4b4090fce9d",
            "d0a134d288e14c7098985bf398d6e493",
            "c9390ddcd5364b278f8800bebb35fa11",
            "b85109d895fb435ab4b5de94dc90b234",
            "f630890ecb2b4b6aa9d4c596948858fd",
            "fba18fc7def745ccb5f07dd94e66c9da",
            "b8fb8293ffb9465aa868cdc8e854f779",
            "03185a15c8c24155983e1165f7d8a0b7",
            "8335544448294ae3bbc4ec65a8e3e0cd",
            "3e7e44ac80d6418bb2d8ed452b4283af",
            "809b704f3c384d6bbe2a9167c8b4552c",
            "71c457162aae4f81bfb50238f370053f",
            "d0db1e233c3f41f0a23814e0cd4ba0a4",
            "a88cea4a707942f49afaebef5d2bb224",
            "a346c2bfbefa4ef3a5dbad49b9a271cf",
            "4947c75e7fcc4979b190ad2c0c29fb49",
            "d7d6274a143a4b0797f18731cce909fb",
            "3d2dc9cb5ab845ab8a9ec2ba4632c26f",
            "2b58141fa2024526916423a02c418793",
            "7fe94b1f4e864971a6c1faee825f4475",
            "4b213d2e53d648908654fa8fc5d56045",
            "61c2635b88f6408f9f0f05fb62111b77",
            "f4871428615c49519c8fddc414bfe42c",
            "5f7869b6d8e44c3c918021ae6b990f51",
            "3d127327b57c4e8bb9ca1ce43f446216",
            "47a9e7ef21b2426388cfdc5539b5d2ab",
            "862c472e8e1b4c5795fb047c3fe16063",
            "b41db2c1d6d044c3a26195e1fe3b5980",
            "000ca33cd979424f81c0dddfa3fad116",
            "09ac66450ddd45b7860a1cbdfeccb424",
            "52e8cfe3dd44424fbb2de2291c5ab272",
            "100f13024ade48e39425d7d0bfa93e8b",
            "66ac128bb5724bf3bca83ac35b74dbe7",
            "215883ee33d64d9199b3de81f5bb90a7",
            "86e0f5c51c6c46f089f54b58708528bc",
            "1a1e770675594d6c917c5478bdbaf9c7",
            "db2c38c1804d4862bc69cef6b45794a7",
            "c8082f0979094b618006415fd56127cd",
            "dd263d8bd92441e9b24aa9a1802e6b8d"
          ]
        },
        "outputId": "ac8bb86b-d4aa-4380-d5a6-39a244329ae8"
      },
      "source": [
        "from transformers import BertTokenizer\n",
        "\n",
        "# Load the BERT tokenizer.\n",
        "print('Loading BERT tokenizer...')\n",
        "tokenizer = BertTokenizer.from_pretrained('bert-base-uncased', do_lower_case=True)"
      ],
      "execution_count": null,
      "outputs": [
        {
          "output_type": "stream",
          "name": "stdout",
          "text": [
            "Loading BERT tokenizer...\n"
          ]
        },
        {
          "output_type": "stream",
          "name": "stderr",
          "text": [
            "/usr/local/lib/python3.10/dist-packages/huggingface_hub/utils/_token.py:89: UserWarning: \n",
            "The secret `HF_TOKEN` does not exist in your Colab secrets.\n",
            "To authenticate with the Hugging Face Hub, create a token in your settings tab (https://huggingface.co/settings/tokens), set it as secret in your Google Colab and restart your session.\n",
            "You will be able to reuse this secret in all of your notebooks.\n",
            "Please note that authentication is recommended but still optional to access public models or datasets.\n",
            "  warnings.warn(\n"
          ]
        },
        {
          "output_type": "display_data",
          "data": {
            "text/plain": [
              "tokenizer_config.json:   0%|          | 0.00/48.0 [00:00<?, ?B/s]"
            ],
            "application/vnd.jupyter.widget-view+json": {
              "version_major": 2,
              "version_minor": 0,
              "model_id": "22de620723d6499caced288c23bb8930"
            }
          },
          "metadata": {}
        },
        {
          "output_type": "display_data",
          "data": {
            "text/plain": [
              "vocab.txt:   0%|          | 0.00/232k [00:00<?, ?B/s]"
            ],
            "application/vnd.jupyter.widget-view+json": {
              "version_major": 2,
              "version_minor": 0,
              "model_id": "b8fb8293ffb9465aa868cdc8e854f779"
            }
          },
          "metadata": {}
        },
        {
          "output_type": "display_data",
          "data": {
            "text/plain": [
              "tokenizer.json:   0%|          | 0.00/466k [00:00<?, ?B/s]"
            ],
            "application/vnd.jupyter.widget-view+json": {
              "version_major": 2,
              "version_minor": 0,
              "model_id": "3d2dc9cb5ab845ab8a9ec2ba4632c26f"
            }
          },
          "metadata": {}
        },
        {
          "output_type": "stream",
          "name": "stderr",
          "text": [
            "/usr/local/lib/python3.10/dist-packages/huggingface_hub/file_download.py:1132: FutureWarning: `resume_download` is deprecated and will be removed in version 1.0.0. Downloads always resume when possible. If you want to force a new download, use `force_download=True`.\n",
            "  warnings.warn(\n"
          ]
        },
        {
          "output_type": "display_data",
          "data": {
            "text/plain": [
              "config.json:   0%|          | 0.00/570 [00:00<?, ?B/s]"
            ],
            "application/vnd.jupyter.widget-view+json": {
              "version_major": 2,
              "version_minor": 0,
              "model_id": "000ca33cd979424f81c0dddfa3fad116"
            }
          },
          "metadata": {}
        }
      ]
    },
    {
      "cell_type": "markdown",
      "metadata": {
        "id": "dFzmtleW6KmJ"
      },
      "source": [
        "Let's apply the tokenizer to one sentence just to see the output.\n"
      ]
    },
    {
      "cell_type": "code",
      "metadata": {
        "id": "dLIbudgfh6F0",
        "colab": {
          "base_uri": "https://localhost:8080/"
        },
        "outputId": "7f1d4d00-74e7-46b5-b9da-d05c7b1a0245"
      },
      "source": [
        "# Print the original sentence.\n",
        "print(' Original: ', sentences[0])\n",
        "\n",
        "# Print the sentence split into tokens.\n",
        "print('Tokenized: ', tokenizer.tokenize(sentences[0]))\n",
        "\n",
        "# Print the sentence mapped to token ids.\n",
        "print('Token IDs: ', tokenizer.convert_tokens_to_ids(tokenizer.tokenize(sentences[0])))"
      ],
      "execution_count": null,
      "outputs": [
        {
          "output_type": "stream",
          "name": "stdout",
          "text": [
            " Original:  Our friends won't buy this analysis, let alone the next one we propose.\n",
            "Tokenized:  ['our', 'friends', 'won', \"'\", 't', 'buy', 'this', 'analysis', ',', 'let', 'alone', 'the', 'next', 'one', 'we', 'propose', '.']\n",
            "Token IDs:  [2256, 2814, 2180, 1005, 1056, 4965, 2023, 4106, 1010, 2292, 2894, 1996, 2279, 2028, 2057, 16599, 1012]\n"
          ]
        }
      ]
    },
    {
      "cell_type": "markdown",
      "metadata": {
        "id": "WeNIc4auFUdF"
      },
      "source": [
        "When we actually convert all of our sentences, we'll use the `tokenize.encode` function to handle both steps, rather than calling `tokenize` and `convert_tokens_to_ids` separately.\n",
        "\n",
        "Before we can do that, though, we need to talk about some of BERT's formatting requirements."
      ]
    },
    {
      "cell_type": "markdown",
      "metadata": {
        "id": "viKGCCh8izww"
      },
      "source": [
        "## 3.2. Required Formatting"
      ]
    },
    {
      "cell_type": "markdown",
      "metadata": {
        "id": "yDcqNlvVhL5W"
      },
      "source": [
        "The above code left out a few required formatting steps that we'll look at here.\n",
        "\n",
        "We are required to:\n",
        "1. Add special tokens to the start and end of each sentence.\n",
        "2. Pad & truncate all sentences to a single constant length.\n",
        "3. Explicitly differentiate real tokens from padding tokens with the \"attention mask\".\n",
        "\n"
      ]
    },
    {
      "cell_type": "markdown",
      "metadata": {
        "id": "V6mceWWOjZnw"
      },
      "source": [
        "### Special Tokens\n"
      ]
    },
    {
      "cell_type": "markdown",
      "metadata": {
        "id": "Ykk0P9JiKtVe"
      },
      "source": [
        "\n",
        "**`[SEP]`**\n",
        "\n",
        "At the end of every sentence, we need to append the special `[SEP]` token.\n",
        "\n",
        "This token is an artifact of two-sentence tasks, where BERT is given two separate sentences and asked to determine something (e.g., can the answer to the question in sentence A be found in sentence B?).\n",
        "\n",
        "I am not certain yet why the token is still required when we have only single-sentence input, but it is!\n"
      ]
    },
    {
      "cell_type": "markdown",
      "metadata": {
        "id": "86C9objaKu8f"
      },
      "source": [
        "**`[CLS]`**\n",
        "\n",
        "For classification tasks, we must prepend the special `[CLS]` token to the beginning of every sentence.\n",
        "\n",
        "This token has special significance. BERT consists of 12 Transformer layers. Each transformer takes in a list of token embeddings, and produces the same number of embeddings on the output (but with the feature values changed, of course!).\n",
        "\n",
        "![Illustration of CLS token purpose](https://drive.google.com/uc?export=view&id=1ck4mvGkznVJfW3hv6GUqcdGepVTOx7HE)\n",
        "\n",
        "On the output of the final (12th) transformer, *only the first embedding (corresponding to the [CLS] token) is used by the classifier*.\n",
        "\n",
        ">  \"The first token of every sequence is always a special classification token (`[CLS]`). The final hidden state\n",
        "corresponding to this token is used as the aggregate sequence representation for classification\n",
        "tasks.\" (from the [BERT paper](https://arxiv.org/pdf/1810.04805.pdf))\n",
        "\n",
        "You might think to try some pooling strategy over the final embeddings, but this isn't necessary. Because BERT is trained to only use this [CLS] token for classification, we know that the model has been motivated to encode everything it needs for the classification step into that single 768-value embedding vector. It's already done the pooling for us!\n",
        "\n"
      ]
    },
    {
      "cell_type": "markdown",
      "metadata": {
        "id": "u51v0kFxeteu"
      },
      "source": [
        "### Sentence Length & Attention Mask\n",
        "\n"
      ]
    },
    {
      "cell_type": "markdown",
      "metadata": {
        "id": "qPNuwqZVK3T6"
      },
      "source": [
        "The sentences in our dataset obviously have varying lengths, so how does BERT handle this?\n",
        "\n",
        "BERT has two constraints:\n",
        "1. All sentences must be padded or truncated to a single, fixed length.\n",
        "2. The maximum sentence length is 512 tokens.\n",
        "\n",
        "Padding is done with a special `[PAD]` token, which is at index 0 in the BERT vocabulary. The below illustration demonstrates padding out to a \"MAX_LEN\" of 8 tokens.\n",
        "\n",
        "<img src=\"https://drive.google.com/uc?export=view&id=1cb5xeqLu_5vPOgs3eRnail2Y00Fl2pCo\" width=\"600\">\n",
        "\n",
        "The \"Attention Mask\" is simply an array of 1s and 0s indicating which tokens are padding and which aren't (seems kind of redundant, doesn't it?!). This mask tells the \"Self-Attention\" mechanism in BERT not to incorporate these PAD tokens into its interpretation of the sentence.\n",
        "\n",
        "The maximum length does impact training and evaluation speed, however.\n",
        "For example, with a Tesla K80:\n",
        "\n",
        "`MAX_LEN = 128  -->  Training epochs take ~5:28 each`\n",
        "\n",
        "`MAX_LEN = 64   -->  Training epochs take ~2:57 each`\n",
        "\n",
        "\n",
        "\n",
        "\n",
        "\n"
      ]
    },
    {
      "cell_type": "markdown",
      "metadata": {
        "id": "l6w8elb-58GJ"
      },
      "source": [
        "## 3.3. Tokenize Dataset"
      ]
    },
    {
      "cell_type": "markdown",
      "metadata": {
        "id": "U28qy4P-NwQ9"
      },
      "source": [
        "The transformers library provides a helpful `encode` function which will handle most of the parsing and data prep steps for us.\n",
        "\n",
        "Before we are ready to encode our text, though, we need to decide on a **maximum sentence length** for padding / truncating to.\n",
        "\n",
        "The below cell will perform one tokenization pass of the dataset in order to measure the maximum sentence length."
      ]
    },
    {
      "cell_type": "code",
      "metadata": {
        "id": "cKsH2sU0OCQA",
        "colab": {
          "base_uri": "https://localhost:8080/"
        },
        "outputId": "fd311259-76ea-41f7-f90b-d1d0f3cefdfa"
      },
      "source": [
        "max_len = 0\n",
        "\n",
        "# For every sentence...\n",
        "for sent in sentences:\n",
        "\n",
        "    # Tokenize the text and add `[CLS]` and `[SEP]` tokens.\n",
        "    input_ids = tokenizer.encode(sent, add_special_tokens=True)\n",
        "\n",
        "    # Update the maximum sentence length.\n",
        "    max_len = max(max_len, len(input_ids))\n",
        "\n",
        "print('Max sentence length: ', max_len)"
      ],
      "execution_count": null,
      "outputs": [
        {
          "output_type": "stream",
          "name": "stdout",
          "text": [
            "Max sentence length:  47\n"
          ]
        }
      ]
    },
    {
      "cell_type": "markdown",
      "metadata": {
        "id": "1M296yz577fV"
      },
      "source": [
        "Just in case there are some longer test sentences, I'll set the maximum length to 64.\n"
      ]
    },
    {
      "cell_type": "markdown",
      "metadata": {
        "id": "tIWAoWL2RK1p"
      },
      "source": [
        "Now we're ready to perform the real tokenization.\n",
        "\n",
        "The `tokenizer.encode_plus` function combines multiple steps for us:\n",
        "\n",
        "1. Split the sentence into tokens.\n",
        "2. Add the special `[CLS]` and `[SEP]` tokens.\n",
        "3. Map the tokens to their IDs.\n",
        "4. Pad or truncate all sentences to the same length.\n",
        "5. Create the attention masks which explicitly differentiate real tokens from `[PAD]` tokens.\n",
        "\n",
        "The first four features are in `tokenizer.encode`, but I'm using `tokenizer.encode_plus` to get the fifth item (attention masks). Documentation is [here](https://huggingface.co/transformers/main_classes/tokenizer.html?highlight=encode_plus#transformers.PreTrainedTokenizer.encode_plus).\n"
      ]
    },
    {
      "cell_type": "code",
      "metadata": {
        "id": "2bBdb3pt8LuQ",
        "colab": {
          "base_uri": "https://localhost:8080/"
        },
        "outputId": "74b8bf39-900c-4246-d363-c57553de2508"
      },
      "source": [
        "# Tokenize all of the sentences and map the tokens to thier word IDs.\n",
        "input_ids = []\n",
        "attention_masks = []\n",
        "\n",
        "# For every sentence...\n",
        "for sent in sentences:\n",
        "    # `encode_plus` will:\n",
        "    #   (1) Tokenize the sentence.\n",
        "    #   (2) Prepend the `[CLS]` token to the start.\n",
        "    #   (3) Append the `[SEP]` token to the end.\n",
        "    #   (4) Map tokens to their IDs.\n",
        "    #   (5) Pad or truncate the sentence to `max_length`\n",
        "    #   (6) Create attention masks for [PAD] tokens.\n",
        "    encoded_dict = tokenizer.encode_plus(\n",
        "                        sent,                      # Sentence to encode.\n",
        "                        add_special_tokens = True, # Add '[CLS]' and '[SEP]'\n",
        "                        max_length = 64,           # Pad & truncate all sentences.\n",
        "                        pad_to_max_length = True,\n",
        "                        return_attention_mask = True,   # Construct attn. masks.\n",
        "                        return_tensors = 'pt',     # Return pytorch tensors.\n",
        "                   )\n",
        "\n",
        "    # Add the encoded sentence to the list.\n",
        "    input_ids.append(encoded_dict['input_ids'])\n",
        "\n",
        "    # And its attention mask (simply differentiates padding from non-padding).\n",
        "    attention_masks.append(encoded_dict['attention_mask'])\n",
        "\n",
        "# Convert the lists into tensors.\n",
        "input_ids = torch.cat(input_ids, dim=0)\n",
        "attention_masks = torch.cat(attention_masks, dim=0)\n",
        "labels = torch.tensor(labels)\n",
        "\n",
        "# Print sentence 0, now as a list of IDs.\n",
        "print('Original: ', sentences[0])\n",
        "print('Token IDs:', input_ids[0])"
      ],
      "execution_count": null,
      "outputs": [
        {
          "output_type": "stream",
          "name": "stderr",
          "text": [
            "Truncation was not explicitly activated but `max_length` is provided a specific value, please use `truncation=True` to explicitly truncate examples to max length. Defaulting to 'longest_first' truncation strategy. If you encode pairs of sequences (GLUE-style) with the tokenizer you can select this strategy more precisely by providing a specific strategy to `truncation`.\n",
            "/usr/local/lib/python3.10/dist-packages/transformers/tokenization_utils_base.py:2699: FutureWarning: The `pad_to_max_length` argument is deprecated and will be removed in a future version, use `padding=True` or `padding='longest'` to pad to the longest sequence in the batch, or use `padding='max_length'` to pad to a max length. In this case, you can give a specific length with `max_length` (e.g. `max_length=45`) or leave max_length to None to pad to the maximal input size of the model (e.g. 512 for Bert).\n",
            "  warnings.warn(\n"
          ]
        },
        {
          "output_type": "stream",
          "name": "stdout",
          "text": [
            "Original:  Our friends won't buy this analysis, let alone the next one we propose.\n",
            "Token IDs: tensor([  101,  2256,  2814,  2180,  1005,  1056,  4965,  2023,  4106,  1010,\n",
            "         2292,  2894,  1996,  2279,  2028,  2057, 16599,  1012,   102,     0,\n",
            "            0,     0,     0,     0,     0,     0,     0,     0,     0,     0,\n",
            "            0,     0,     0,     0,     0,     0,     0,     0,     0,     0,\n",
            "            0,     0,     0,     0,     0,     0,     0,     0,     0,     0,\n",
            "            0,     0,     0,     0,     0,     0,     0,     0,     0,     0,\n",
            "            0,     0,     0,     0])\n"
          ]
        }
      ]
    },
    {
      "cell_type": "markdown",
      "metadata": {
        "id": "aRp4O7D295d_"
      },
      "source": [
        "## 3.4. Training & Validation Split\n"
      ]
    },
    {
      "cell_type": "markdown",
      "metadata": {
        "id": "qu0ao7p8rb06"
      },
      "source": [
        "Divide up our training set to use 90% for training and 10% for validation."
      ]
    },
    {
      "cell_type": "code",
      "metadata": {
        "id": "GEgLpFVlo1Z-",
        "colab": {
          "base_uri": "https://localhost:8080/"
        },
        "outputId": "a53e457a-1479-469f-9933-f2317f2d1dfc"
      },
      "source": [
        "from torch.utils.data import TensorDataset, random_split\n",
        "\n",
        "# Combine the training inputs into a TensorDataset.\n",
        "dataset = TensorDataset(input_ids, attention_masks, labels)\n",
        "\n",
        "# Create a 90-10 train-validation split.\n",
        "\n",
        "# Calculate the number of samples to include in each set.\n",
        "train_size = int(0.9 * len(dataset))\n",
        "val_size = len(dataset) - train_size\n",
        "\n",
        "# Divide the dataset by randomly selecting samples.\n",
        "train_dataset, val_dataset = random_split(dataset, [train_size, val_size])\n",
        "\n",
        "print('{:>5,} training samples'.format(train_size))\n",
        "print('{:>5,} validation samples'.format(val_size))"
      ],
      "execution_count": null,
      "outputs": [
        {
          "output_type": "stream",
          "name": "stdout",
          "text": [
            "7,695 training samples\n",
            "  856 validation samples\n"
          ]
        }
      ]
    },
    {
      "cell_type": "markdown",
      "metadata": {
        "id": "dD9i6Z2pG-sN"
      },
      "source": [
        "We'll also create an iterator for our dataset using the torch DataLoader class. This helps save on memory during training because, unlike a for loop, with an iterator the entire dataset does not need to be loaded into memory."
      ]
    },
    {
      "cell_type": "code",
      "metadata": {
        "id": "XGUqOCtgqGhP"
      },
      "source": [
        "from torch.utils.data import DataLoader, RandomSampler, SequentialSampler\n",
        "\n",
        "# The DataLoader needs to know our batch size for training, so we specify it\n",
        "# here. For fine-tuning BERT on a specific task, the authors recommend a batch\n",
        "# size of 16 or 32.\n",
        "batch_size = 32\n",
        "\n",
        "# Create the DataLoaders for our training and validation sets.\n",
        "# We'll take training samples in random order.\n",
        "train_dataloader = DataLoader(\n",
        "            train_dataset,  # The training samples.\n",
        "            sampler = RandomSampler(train_dataset), # Select batches randomly\n",
        "            batch_size = batch_size # Trains with this batch size.\n",
        "        )\n",
        "\n",
        "# For validation the order doesn't matter, so we'll just read them sequentially.\n",
        "validation_dataloader = DataLoader(\n",
        "            val_dataset, # The validation samples.\n",
        "            sampler = SequentialSampler(val_dataset), # Pull out batches sequentially.\n",
        "            batch_size = batch_size # Evaluate with this batch size.\n",
        "        )"
      ],
      "execution_count": null,
      "outputs": []
    },
    {
      "cell_type": "markdown",
      "metadata": {
        "id": "8bwa6Rts-02-"
      },
      "source": [
        "# 4. Train Our Classification Model"
      ]
    },
    {
      "cell_type": "markdown",
      "metadata": {
        "id": "3xYQ3iLO08SX"
      },
      "source": [
        "Now that our input data is properly formatted, it's time to fine tune the BERT model."
      ]
    },
    {
      "cell_type": "markdown",
      "metadata": {
        "id": "D6TKgyUzPIQc"
      },
      "source": [
        "## 4.1. BertForSequenceClassification"
      ]
    },
    {
      "cell_type": "markdown",
      "metadata": {
        "id": "1sjzRT1V0zwm"
      },
      "source": [
        "For this task, we first want to modify the pre-trained BERT model to give outputs for classification, and then we want to continue training the model on our dataset until that the entire model, end-to-end, is well-suited for our task.\n",
        "\n",
        "Thankfully, the huggingface pytorch implementation includes a set of interfaces designed for a variety of NLP tasks. Though these interfaces are all built on top of a trained BERT model, each has different top layers and output types designed to accomodate their specific NLP task.  \n",
        "\n",
        "Here is the current list of classes provided for fine-tuning:\n",
        "* BertModel\n",
        "* BertForPreTraining\n",
        "* BertForMaskedLM\n",
        "* BertForNextSentencePrediction\n",
        "* **BertForSequenceClassification** - The one we'll use.\n",
        "* BertForTokenClassification\n",
        "* BertForQuestionAnswering\n",
        "\n",
        "The documentation for these can be found under [here](https://huggingface.co/transformers/v2.2.0/model_doc/bert.html)."
      ]
    },
    {
      "cell_type": "markdown",
      "metadata": {
        "id": "BXYitPoE-cjH"
      },
      "source": [
        "\n",
        "\n",
        "We'll be using [BertForSequenceClassification](https://huggingface.co/transformers/v2.2.0/model_doc/bert.html#bertforsequenceclassification). This is the normal BERT model with an added single linear layer on top for classification that we will use as a sentence classifier. As we feed input data, the entire pre-trained BERT model and the additional untrained classification layer is trained on our specific task.\n"
      ]
    },
    {
      "cell_type": "markdown",
      "metadata": {
        "id": "WnQW9E-bBCRt"
      },
      "source": [
        "OK, let's load BERT! There are a few different pre-trained BERT models available. \"bert-base-uncased\" means the version that has only lowercase letters (\"uncased\") and is the smaller version of the two (\"base\" vs \"large\").\n",
        "\n",
        "The documentation for `from_pretrained` can be found [here](https://huggingface.co/transformers/v2.2.0/main_classes/model.html#transformers.PreTrainedModel.from_pretrained), with the additional parameters defined [here](https://huggingface.co/transformers/v2.2.0/main_classes/configuration.html#transformers.PretrainedConfig)."
      ]
    },
    {
      "cell_type": "code",
      "metadata": {
        "id": "gFsCTp_mporB",
        "colab": {
          "base_uri": "https://localhost:8080/",
          "height": 928,
          "referenced_widgets": [
            "673d83db402f456584e654c60030d803",
            "fc9fd64640f0411b9069f2f35f9d2d9b",
            "4867c51dce0d4c2db4af8df118867391",
            "5c478af80ed84e1caa1d19cbbbba4163",
            "311cfa4422e04b89859f812529d8da39",
            "cefcaa36afee49fe9bd9729deb459b4c",
            "75903aefb47548fab6154e890abcc32b",
            "a69f464ca8624f08a1e59996c1175e31",
            "2e74e3d36a77492f9b0c5b0a11ce7a5d",
            "ab4dcdcfcf8e494faf052ee5155843ed",
            "5136b18183f3431cb5904802db23af4c"
          ]
        },
        "outputId": "3f917f38-8f69-417d-aab9-63a2dd507327"
      },
      "source": [
        "from transformers import BertForSequenceClassification, AdamW, BertConfig\n",
        "\n",
        "# Load BertForSequenceClassification, the pretrained BERT model with a single\n",
        "# linear classification layer on top.\n",
        "model = BertForSequenceClassification.from_pretrained(\n",
        "    \"bert-base-uncased\", # Use the 12-layer BERT model, with an uncased vocab.\n",
        "    num_labels = 2, # The number of output labels--2 for binary classification.\n",
        "                    # You can increase this for multi-class tasks.\n",
        "    output_attentions = False, # Whether the model returns attentions weights.\n",
        "    output_hidden_states = False, # Whether the model returns all hidden-states.\n",
        ")\n",
        "\n",
        "# Tell pytorch to run this model on the GPU.\n",
        "model.cuda()"
      ],
      "execution_count": null,
      "outputs": [
        {
          "output_type": "display_data",
          "data": {
            "text/plain": [
              "model.safetensors:   0%|          | 0.00/440M [00:00<?, ?B/s]"
            ],
            "application/vnd.jupyter.widget-view+json": {
              "version_major": 2,
              "version_minor": 0,
              "model_id": "673d83db402f456584e654c60030d803"
            }
          },
          "metadata": {}
        },
        {
          "output_type": "stream",
          "name": "stderr",
          "text": [
            "Some weights of BertForSequenceClassification were not initialized from the model checkpoint at bert-base-uncased and are newly initialized: ['classifier.bias', 'classifier.weight']\n",
            "You should probably TRAIN this model on a down-stream task to be able to use it for predictions and inference.\n"
          ]
        },
        {
          "output_type": "execute_result",
          "data": {
            "text/plain": [
              "BertForSequenceClassification(\n",
              "  (bert): BertModel(\n",
              "    (embeddings): BertEmbeddings(\n",
              "      (word_embeddings): Embedding(30522, 768, padding_idx=0)\n",
              "      (position_embeddings): Embedding(512, 768)\n",
              "      (token_type_embeddings): Embedding(2, 768)\n",
              "      (LayerNorm): LayerNorm((768,), eps=1e-12, elementwise_affine=True)\n",
              "      (dropout): Dropout(p=0.1, inplace=False)\n",
              "    )\n",
              "    (encoder): BertEncoder(\n",
              "      (layer): ModuleList(\n",
              "        (0-11): 12 x BertLayer(\n",
              "          (attention): BertAttention(\n",
              "            (self): BertSdpaSelfAttention(\n",
              "              (query): Linear(in_features=768, out_features=768, bias=True)\n",
              "              (key): Linear(in_features=768, out_features=768, bias=True)\n",
              "              (value): Linear(in_features=768, out_features=768, bias=True)\n",
              "              (dropout): Dropout(p=0.1, inplace=False)\n",
              "            )\n",
              "            (output): BertSelfOutput(\n",
              "              (dense): Linear(in_features=768, out_features=768, bias=True)\n",
              "              (LayerNorm): LayerNorm((768,), eps=1e-12, elementwise_affine=True)\n",
              "              (dropout): Dropout(p=0.1, inplace=False)\n",
              "            )\n",
              "          )\n",
              "          (intermediate): BertIntermediate(\n",
              "            (dense): Linear(in_features=768, out_features=3072, bias=True)\n",
              "            (intermediate_act_fn): GELUActivation()\n",
              "          )\n",
              "          (output): BertOutput(\n",
              "            (dense): Linear(in_features=3072, out_features=768, bias=True)\n",
              "            (LayerNorm): LayerNorm((768,), eps=1e-12, elementwise_affine=True)\n",
              "            (dropout): Dropout(p=0.1, inplace=False)\n",
              "          )\n",
              "        )\n",
              "      )\n",
              "    )\n",
              "    (pooler): BertPooler(\n",
              "      (dense): Linear(in_features=768, out_features=768, bias=True)\n",
              "      (activation): Tanh()\n",
              "    )\n",
              "  )\n",
              "  (dropout): Dropout(p=0.1, inplace=False)\n",
              "  (classifier): Linear(in_features=768, out_features=2, bias=True)\n",
              ")"
            ]
          },
          "metadata": {},
          "execution_count": 15
        }
      ]
    },
    {
      "cell_type": "markdown",
      "metadata": {
        "id": "e0Jv6c7-HHDW"
      },
      "source": [
        "Just for curiosity's sake, we can browse all of the model's parameters by name here.\n",
        "\n",
        "In the below cell, I've printed out the names and dimensions of the weights for:\n",
        "\n",
        "1. The embedding layer.\n",
        "2. The first of the twelve transformers.\n",
        "3. The output layer.\n",
        "\n",
        "\n"
      ]
    },
    {
      "cell_type": "code",
      "metadata": {
        "id": "8PIiVlDYCtSq",
        "colab": {
          "base_uri": "https://localhost:8080/"
        },
        "outputId": "9a9b3847-4bcf-4c45-d91e-b5f00be688a1"
      },
      "source": [
        "# Get all of the model's parameters as a list of tuples.\n",
        "params = list(model.named_parameters())\n",
        "\n",
        "print('The BERT model has {:} different named parameters.\\n'.format(len(params)))\n",
        "\n",
        "print('==== Embedding Layer ====\\n')\n",
        "\n",
        "for p in params[0:5]:\n",
        "    print(\"{:<55} {:>12}\".format(p[0], str(tuple(p[1].size()))))\n",
        "\n",
        "print('\\n==== First Transformer ====\\n')\n",
        "\n",
        "for p in params[5:21]:\n",
        "    print(\"{:<55} {:>12}\".format(p[0], str(tuple(p[1].size()))))\n",
        "\n",
        "print('\\n==== Output Layer ====\\n')\n",
        "\n",
        "for p in params[-4:]:\n",
        "    print(\"{:<55} {:>12}\".format(p[0], str(tuple(p[1].size()))))"
      ],
      "execution_count": null,
      "outputs": [
        {
          "output_type": "stream",
          "name": "stdout",
          "text": [
            "The BERT model has 201 different named parameters.\n",
            "\n",
            "==== Embedding Layer ====\n",
            "\n",
            "bert.embeddings.word_embeddings.weight                  (30522, 768)\n",
            "bert.embeddings.position_embeddings.weight                (512, 768)\n",
            "bert.embeddings.token_type_embeddings.weight                (2, 768)\n",
            "bert.embeddings.LayerNorm.weight                              (768,)\n",
            "bert.embeddings.LayerNorm.bias                                (768,)\n",
            "\n",
            "==== First Transformer ====\n",
            "\n",
            "bert.encoder.layer.0.attention.self.query.weight          (768, 768)\n",
            "bert.encoder.layer.0.attention.self.query.bias                (768,)\n",
            "bert.encoder.layer.0.attention.self.key.weight            (768, 768)\n",
            "bert.encoder.layer.0.attention.self.key.bias                  (768,)\n",
            "bert.encoder.layer.0.attention.self.value.weight          (768, 768)\n",
            "bert.encoder.layer.0.attention.self.value.bias                (768,)\n",
            "bert.encoder.layer.0.attention.output.dense.weight        (768, 768)\n",
            "bert.encoder.layer.0.attention.output.dense.bias              (768,)\n",
            "bert.encoder.layer.0.attention.output.LayerNorm.weight        (768,)\n",
            "bert.encoder.layer.0.attention.output.LayerNorm.bias          (768,)\n",
            "bert.encoder.layer.0.intermediate.dense.weight           (3072, 768)\n",
            "bert.encoder.layer.0.intermediate.dense.bias                 (3072,)\n",
            "bert.encoder.layer.0.output.dense.weight                 (768, 3072)\n",
            "bert.encoder.layer.0.output.dense.bias                        (768,)\n",
            "bert.encoder.layer.0.output.LayerNorm.weight                  (768,)\n",
            "bert.encoder.layer.0.output.LayerNorm.bias                    (768,)\n",
            "\n",
            "==== Output Layer ====\n",
            "\n",
            "bert.pooler.dense.weight                                  (768, 768)\n",
            "bert.pooler.dense.bias                                        (768,)\n",
            "classifier.weight                                           (2, 768)\n",
            "classifier.bias                                                 (2,)\n"
          ]
        }
      ]
    },
    {
      "cell_type": "markdown",
      "metadata": {
        "id": "qRWT-D4U_Pvx"
      },
      "source": [
        "## 4.2. Optimizer & Learning Rate Scheduler"
      ]
    },
    {
      "cell_type": "markdown",
      "metadata": {
        "id": "8o-VEBobKwHk"
      },
      "source": [
        "Now that we have our model loaded we need to grab the training hyperparameters from within the stored model.\n",
        "\n",
        "For the purposes of fine-tuning, the authors recommend choosing from the following values (from Appendix A.3 of the [BERT paper](https://arxiv.org/pdf/1810.04805.pdf)):\n",
        "\n",
        ">- **Batch size:** 16, 32  \n",
        "- **Learning rate (Adam):** 5e-5, 3e-5, 2e-5  \n",
        "- **Number of epochs:** 2, 3, 4\n",
        "\n",
        "We chose:\n",
        "* Batch size: 32 (set when creating our DataLoaders)\n",
        "* Learning rate: 2e-5\n",
        "* Epochs: 4 (we'll see that this is probably too many...)\n",
        "\n",
        "The epsilon parameter `eps = 1e-8` is \"a very small number to prevent any division by zero in the implementation\" (from [here](https://machinelearningmastery.com/adam-optimization-algorithm-for-deep-learning/)).\n",
        "\n",
        "You can find the creation of the AdamW optimizer in `run_glue.py` [here](https://github.com/huggingface/transformers/blob/5bfcd0485ece086ebcbed2d008813037968a9e58/examples/run_glue.py#L109)."
      ]
    },
    {
      "cell_type": "code",
      "metadata": {
        "id": "GLs72DuMODJO",
        "colab": {
          "base_uri": "https://localhost:8080/"
        },
        "outputId": "a716f10c-5a2b-4982-f08f-ae4fb277a370"
      },
      "source": [
        "# Note: AdamW is a class from the huggingface library (as opposed to pytorch)\n",
        "# I believe the 'W' stands for 'Weight Decay fix\"\n",
        "optimizer = AdamW(model.parameters(),\n",
        "                  lr = 2e-5, # args.learning_rate - default is 5e-5, our notebook had 2e-5\n",
        "                  eps = 1e-8 # args.adam_epsilon  - default is 1e-8.\n",
        "                )\n"
      ],
      "execution_count": null,
      "outputs": [
        {
          "output_type": "stream",
          "name": "stderr",
          "text": [
            "/usr/local/lib/python3.10/dist-packages/transformers/optimization.py:588: FutureWarning: This implementation of AdamW is deprecated and will be removed in a future version. Use the PyTorch implementation torch.optim.AdamW instead, or set `no_deprecation_warning=True` to disable this warning\n",
            "  warnings.warn(\n"
          ]
        }
      ]
    },
    {
      "cell_type": "code",
      "metadata": {
        "id": "-p0upAhhRiIx"
      },
      "source": [
        "from transformers import get_linear_schedule_with_warmup\n",
        "\n",
        "# Number of training epochs. The BERT authors recommend between 2 and 4.\n",
        "# We chose to run for 4, but we'll see later that this may be over-fitting the\n",
        "# training data.\n",
        "epochs = 4\n",
        "\n",
        "# Total number of training steps is [number of batches] x [number of epochs].\n",
        "# (Note that this is not the same as the number of training samples).\n",
        "total_steps = len(train_dataloader) * epochs\n",
        "\n",
        "# Create the learning rate scheduler.\n",
        "scheduler = get_linear_schedule_with_warmup(optimizer,\n",
        "                                            num_warmup_steps = 0, # Default value in run_glue.py\n",
        "                                            num_training_steps = total_steps)"
      ],
      "execution_count": null,
      "outputs": []
    },
    {
      "cell_type": "markdown",
      "metadata": {
        "id": "RqfmWwUR_Sox"
      },
      "source": [
        "## 4.3. Training Loop"
      ]
    },
    {
      "cell_type": "markdown",
      "metadata": {
        "id": "_QXZhFb4LnV5"
      },
      "source": [
        "Below is our training loop. There's a lot going on, but fundamentally for each pass in our loop we have a trianing phase and a validation phase.\n",
        "\n",
        "> *Thank you to [Stas Bekman](https://ca.linkedin.com/in/stasbekman) for contributing the insights and code for using validation loss to detect over-fitting!*\n",
        "\n",
        "**Training:**\n",
        "- Unpack our data inputs and labels\n",
        "- Load data onto the GPU for acceleration\n",
        "- Clear out the gradients calculated in the previous pass.\n",
        "    - In pytorch the gradients accumulate by default (useful for things like RNNs) unless you explicitly clear them out.\n",
        "- Forward pass (feed input data through the network)\n",
        "- Backward pass (backpropagation)\n",
        "- Tell the network to update parameters with optimizer.step()\n",
        "- Track variables for monitoring progress\n",
        "\n",
        "**Evalution:**\n",
        "- Unpack our data inputs and labels\n",
        "- Load data onto the GPU for acceleration\n",
        "- Forward pass (feed input data through the network)\n",
        "- Compute loss on our validation data and track variables for monitoring progress\n",
        "\n",
        "Pytorch hides all of the detailed calculations from us, but we've commented the code to point out which of the above steps are happening on each line.\n",
        "\n",
        "> *PyTorch also has some [beginner tutorials](https://pytorch.org/tutorials/beginner/blitz/cifar10_tutorial.html#sphx-glr-beginner-blitz-cifar10-tutorial-py) which you may also find helpful.*"
      ]
    },
    {
      "cell_type": "markdown",
      "metadata": {
        "id": "pE5B99H5H2-W"
      },
      "source": [
        "Define a helper function for calculating accuracy."
      ]
    },
    {
      "cell_type": "code",
      "metadata": {
        "id": "9cQNvaZ9bnyy"
      },
      "source": [
        "import numpy as np\n",
        "\n",
        "# Function to calculate the accuracy of our predictions vs labels\n",
        "def flat_accuracy(preds, labels):\n",
        "    pred_flat = np.argmax(preds, axis=1).flatten()\n",
        "    labels_flat = labels.flatten()\n",
        "    return np.sum(pred_flat == labels_flat) / len(labels_flat)"
      ],
      "execution_count": null,
      "outputs": []
    },
    {
      "cell_type": "markdown",
      "metadata": {
        "id": "KNhRtWPXH9C3"
      },
      "source": [
        "Helper function for formatting elapsed times as `hh:mm:ss`\n"
      ]
    },
    {
      "cell_type": "code",
      "metadata": {
        "id": "gpt6tR83keZD"
      },
      "source": [
        "import time\n",
        "import datetime\n",
        "\n",
        "def format_time(elapsed):\n",
        "    '''\n",
        "    Takes a time in seconds and returns a string hh:mm:ss\n",
        "    '''\n",
        "    # Round to the nearest second.\n",
        "    elapsed_rounded = int(round((elapsed)))\n",
        "\n",
        "    # Format as hh:mm:ss\n",
        "    return str(datetime.timedelta(seconds=elapsed_rounded))\n"
      ],
      "execution_count": null,
      "outputs": []
    },
    {
      "cell_type": "markdown",
      "metadata": {
        "id": "cfNIhN19te3N"
      },
      "source": [
        "We're ready to kick off the training!"
      ]
    },
    {
      "cell_type": "code",
      "metadata": {
        "id": "6J-FYdx6nFE_",
        "colab": {
          "base_uri": "https://localhost:8080/"
        },
        "outputId": "721ec9c5-8ab8-4bbd-ab8e-4a2042ac5d3e"
      },
      "source": [
        "import random\n",
        "import numpy as np\n",
        "\n",
        "# This training code is based on the `run_glue.py` script here:\n",
        "# https://github.com/huggingface/transformers/blob/5bfcd0485ece086ebcbed2d008813037968a9e58/examples/run_glue.py#L128\n",
        "\n",
        "# Set the seed value all over the place to make this reproducible.\n",
        "seed_val = 42\n",
        "\n",
        "random.seed(seed_val)\n",
        "np.random.seed(seed_val)\n",
        "torch.manual_seed(seed_val)\n",
        "torch.cuda.manual_seed_all(seed_val)\n",
        "\n",
        "# We'll store a number of quantities such as training and validation loss,\n",
        "# validation accuracy, and timings.\n",
        "training_stats = []\n",
        "\n",
        "# Measure the total training time for the whole run.\n",
        "total_t0 = time.time()\n",
        "\n",
        "# For each epoch...\n",
        "for epoch_i in range(0, epochs):\n",
        "\n",
        "    # ========================================\n",
        "    #               Training\n",
        "    # ========================================\n",
        "\n",
        "    # Perform one full pass over the training set.\n",
        "\n",
        "    print(\"\")\n",
        "    print('======== Epoch {:} / {:} ========'.format(epoch_i + 1, epochs))\n",
        "    print('Training...')\n",
        "\n",
        "    # Measure how long the training epoch takes.\n",
        "    t0 = time.time()\n",
        "\n",
        "    # Reset the total loss for this epoch.\n",
        "    total_train_loss = 0\n",
        "\n",
        "    # Put the model into training mode. Don't be mislead--the call to\n",
        "    # `train` just changes the *mode*, it doesn't *perform* the training.\n",
        "    # `dropout` and `batchnorm` layers behave differently during training\n",
        "    # vs. test (source: https://stackoverflow.com/questions/51433378/what-does-model-train-do-in-pytorch)\n",
        "    model.train()\n",
        "\n",
        "    # For each batch of training data...\n",
        "    for step, batch in enumerate(train_dataloader):\n",
        "\n",
        "        # Progress update every 40 batches.\n",
        "        if step % 40 == 0 and not step == 0:\n",
        "            # Calculate elapsed time in minutes.\n",
        "            elapsed = format_time(time.time() - t0)\n",
        "\n",
        "            # Report progress.\n",
        "            print('  Batch {:>5,}  of  {:>5,}.    Elapsed: {:}.'.format(step, len(train_dataloader), elapsed))\n",
        "\n",
        "        # Unpack this training batch from our dataloader.\n",
        "        #\n",
        "        # As we unpack the batch, we'll also copy each tensor to the GPU using the\n",
        "        # `to` method.\n",
        "        #\n",
        "        # `batch` contains three pytorch tensors:\n",
        "        #   [0]: input ids\n",
        "        #   [1]: attention masks\n",
        "        #   [2]: labels\n",
        "        b_input_ids = batch[0].to(device)\n",
        "        b_input_mask = batch[1].to(device)\n",
        "        b_labels = batch[2].to(device)\n",
        "\n",
        "        # Always clear any previously calculated gradients before performing a\n",
        "        # backward pass. PyTorch doesn't do this automatically because\n",
        "        # accumulating the gradients is \"convenient while training RNNs\".\n",
        "        # (source: https://stackoverflow.com/questions/48001598/why-do-we-need-to-call-zero-grad-in-pytorch)\n",
        "        model.zero_grad()\n",
        "\n",
        "        # Perform a forward pass (evaluate the model on this training batch).\n",
        "        # In PyTorch, calling `model` will in turn call the model's `forward`\n",
        "        # function and pass down the arguments. The `forward` function is\n",
        "        # documented here:\n",
        "        # https://huggingface.co/transformers/model_doc/bert.html#bertforsequenceclassification\n",
        "        # The results are returned in a results object, documented here:\n",
        "        # https://huggingface.co/transformers/main_classes/output.html#transformers.modeling_outputs.SequenceClassifierOutput\n",
        "        # Specifically, we'll get the loss (because we provided labels) and the\n",
        "        # \"logits\"--the model outputs prior to activation.\n",
        "        result = model(b_input_ids,\n",
        "                       token_type_ids=None,\n",
        "                       attention_mask=b_input_mask,\n",
        "                       labels=b_labels,\n",
        "                       return_dict=True)\n",
        "\n",
        "        loss = result.loss\n",
        "        logits = result.logits\n",
        "\n",
        "        # Accumulate the training loss over all of the batches so that we can\n",
        "        # calculate the average loss at the end. `loss` is a Tensor containing a\n",
        "        # single value; the `.item()` function just returns the Python value\n",
        "        # from the tensor.\n",
        "        total_train_loss += loss.item()\n",
        "\n",
        "        # Perform a backward pass to calculate the gradients.\n",
        "        loss.backward()\n",
        "\n",
        "        # Clip the norm of the gradients to 1.0.\n",
        "        # This is to help prevent the \"exploding gradients\" problem.\n",
        "        torch.nn.utils.clip_grad_norm_(model.parameters(), 1.0)\n",
        "\n",
        "        # Update parameters and take a step using the computed gradient.\n",
        "        # The optimizer dictates the \"update rule\"--how the parameters are\n",
        "        # modified based on their gradients, the learning rate, etc.\n",
        "        optimizer.step()\n",
        "\n",
        "        # Update the learning rate.\n",
        "        scheduler.step()\n",
        "\n",
        "    # Calculate the average loss over all of the batches.\n",
        "    avg_train_loss = total_train_loss / len(train_dataloader)\n",
        "\n",
        "    # Measure how long this epoch took.\n",
        "    training_time = format_time(time.time() - t0)\n",
        "\n",
        "    print(\"\")\n",
        "    print(\"  Average training loss: {0:.2f}\".format(avg_train_loss))\n",
        "    print(\"  Training epcoh took: {:}\".format(training_time))\n",
        "\n",
        "    # ========================================\n",
        "    #               Validation\n",
        "    # ========================================\n",
        "    # After the completion of each training epoch, measure our performance on\n",
        "    # our validation set.\n",
        "\n",
        "    print(\"\")\n",
        "    print(\"Running Validation...\")\n",
        "\n",
        "    t0 = time.time()\n",
        "\n",
        "    # Put the model in evaluation mode--the dropout layers behave differently\n",
        "    # during evaluation.\n",
        "    model.eval()\n",
        "\n",
        "    # Tracking variables\n",
        "    total_eval_accuracy = 0\n",
        "    total_eval_loss = 0\n",
        "    nb_eval_steps = 0\n",
        "\n",
        "    # Evaluate data for one epoch\n",
        "    for batch in validation_dataloader:\n",
        "\n",
        "        # Unpack this training batch from our dataloader.\n",
        "        #\n",
        "        # As we unpack the batch, we'll also copy each tensor to the GPU using\n",
        "        # the `to` method.\n",
        "        #\n",
        "        # `batch` contains three pytorch tensors:\n",
        "        #   [0]: input ids\n",
        "        #   [1]: attention masks\n",
        "        #   [2]: labels\n",
        "        b_input_ids = batch[0].to(device)\n",
        "        b_input_mask = batch[1].to(device)\n",
        "        b_labels = batch[2].to(device)\n",
        "\n",
        "        # Tell pytorch not to bother with constructing the compute graph during\n",
        "        # the forward pass, since this is only needed for backprop (training).\n",
        "        with torch.no_grad():\n",
        "\n",
        "            # Forward pass, calculate logit predictions.\n",
        "            # token_type_ids is the same as the \"segment ids\", which\n",
        "            # differentiates sentence 1 and 2 in 2-sentence tasks.\n",
        "            result = model(b_input_ids,\n",
        "                           token_type_ids=None,\n",
        "                           attention_mask=b_input_mask,\n",
        "                           labels=b_labels,\n",
        "                           return_dict=True)\n",
        "\n",
        "        # Get the loss and \"logits\" output by the model. The \"logits\" are the\n",
        "        # output values prior to applying an activation function like the\n",
        "        # softmax.\n",
        "        loss = result.loss\n",
        "        logits = result.logits\n",
        "\n",
        "        # Accumulate the validation loss.\n",
        "        total_eval_loss += loss.item()\n",
        "\n",
        "        # Move logits and labels to CPU\n",
        "        logits = logits.detach().cpu().numpy()\n",
        "        label_ids = b_labels.to('cpu').numpy()\n",
        "\n",
        "        # Calculate the accuracy for this batch of test sentences, and\n",
        "        # accumulate it over all batches.\n",
        "        total_eval_accuracy += flat_accuracy(logits, label_ids)\n",
        "\n",
        "\n",
        "    # Report the final accuracy for this validation run.\n",
        "    avg_val_accuracy = total_eval_accuracy / len(validation_dataloader)\n",
        "    print(\"  Accuracy: {0:.2f}\".format(avg_val_accuracy))\n",
        "\n",
        "    # Calculate the average loss over all of the batches.\n",
        "    avg_val_loss = total_eval_loss / len(validation_dataloader)\n",
        "\n",
        "    # Measure how long the validation run took.\n",
        "    validation_time = format_time(time.time() - t0)\n",
        "\n",
        "    print(\"  Validation Loss: {0:.2f}\".format(avg_val_loss))\n",
        "    print(\"  Validation took: {:}\".format(validation_time))\n",
        "\n",
        "    # Record all statistics from this epoch.\n",
        "    training_stats.append(\n",
        "        {\n",
        "            'epoch': epoch_i + 1,\n",
        "            'Training Loss': avg_train_loss,\n",
        "            'Valid. Loss': avg_val_loss,\n",
        "            'Valid. Accur.': avg_val_accuracy,\n",
        "            'Training Time': training_time,\n",
        "            'Validation Time': validation_time\n",
        "        }\n",
        "    )\n",
        "\n",
        "print(\"\")\n",
        "print(\"Training complete!\")\n",
        "\n",
        "print(\"Total training took {:} (h:mm:ss)\".format(format_time(time.time()-total_t0)))"
      ],
      "execution_count": null,
      "outputs": [
        {
          "output_type": "stream",
          "name": "stdout",
          "text": [
            "\n",
            "======== Epoch 1 / 4 ========\n",
            "Training...\n",
            "  Batch    40  of    241.    Elapsed: 0:00:13.\n",
            "  Batch    80  of    241.    Elapsed: 0:00:26.\n",
            "  Batch   120  of    241.    Elapsed: 0:00:38.\n",
            "  Batch   160  of    241.    Elapsed: 0:00:51.\n",
            "  Batch   200  of    241.    Elapsed: 0:01:04.\n",
            "  Batch   240  of    241.    Elapsed: 0:01:18.\n",
            "\n",
            "  Average training loss: 0.50\n",
            "  Training epcoh took: 0:01:18\n",
            "\n",
            "Running Validation...\n",
            "  Accuracy: 0.81\n",
            "  Validation Loss: 0.43\n",
            "  Validation took: 0:00:03\n",
            "\n",
            "======== Epoch 2 / 4 ========\n",
            "Training...\n",
            "  Batch    40  of    241.    Elapsed: 0:00:14.\n",
            "  Batch    80  of    241.    Elapsed: 0:00:27.\n",
            "  Batch   120  of    241.    Elapsed: 0:00:41.\n",
            "  Batch   160  of    241.    Elapsed: 0:00:54.\n",
            "  Batch   200  of    241.    Elapsed: 0:01:08.\n",
            "  Batch   240  of    241.    Elapsed: 0:01:21.\n",
            "\n",
            "  Average training loss: 0.30\n",
            "  Training epcoh took: 0:01:21\n",
            "\n",
            "Running Validation...\n",
            "  Accuracy: 0.83\n",
            "  Validation Loss: 0.43\n",
            "  Validation took: 0:00:03\n",
            "\n",
            "======== Epoch 3 / 4 ========\n",
            "Training...\n",
            "  Batch    40  of    241.    Elapsed: 0:00:13.\n",
            "  Batch    80  of    241.    Elapsed: 0:00:27.\n",
            "  Batch   120  of    241.    Elapsed: 0:00:40.\n",
            "  Batch   160  of    241.    Elapsed: 0:00:54.\n",
            "  Batch   200  of    241.    Elapsed: 0:01:07.\n",
            "  Batch   240  of    241.    Elapsed: 0:01:21.\n",
            "\n",
            "  Average training loss: 0.19\n",
            "  Training epcoh took: 0:01:21\n",
            "\n",
            "Running Validation...\n",
            "  Accuracy: 0.84\n",
            "  Validation Loss: 0.46\n",
            "  Validation took: 0:00:03\n",
            "\n",
            "======== Epoch 4 / 4 ========\n",
            "Training...\n",
            "  Batch    40  of    241.    Elapsed: 0:00:13.\n",
            "  Batch    80  of    241.    Elapsed: 0:00:27.\n",
            "  Batch   120  of    241.    Elapsed: 0:00:40.\n",
            "  Batch   160  of    241.    Elapsed: 0:00:54.\n",
            "  Batch   200  of    241.    Elapsed: 0:01:07.\n",
            "  Batch   240  of    241.    Elapsed: 0:01:21.\n",
            "\n",
            "  Average training loss: 0.13\n",
            "  Training epcoh took: 0:01:21\n",
            "\n",
            "Running Validation...\n",
            "  Accuracy: 0.84\n",
            "  Validation Loss: 0.55\n",
            "  Validation took: 0:00:03\n",
            "\n",
            "Training complete!\n",
            "Total training took 0:05:34 (h:mm:ss)\n"
          ]
        }
      ]
    },
    {
      "cell_type": "markdown",
      "metadata": {
        "id": "VQTvJ1vRP7u4"
      },
      "source": [
        "Let's view the summary of the training process."
      ]
    },
    {
      "cell_type": "code",
      "metadata": {
        "id": "6O_NbXFGMukX",
        "colab": {
          "base_uri": "https://localhost:8080/",
          "height": 206
        },
        "outputId": "26ff6f31-eb52-4d31-aaf1-53640e5eb75a"
      },
      "source": [
        "import pandas as pd\n",
        "\n",
        "# Display floats with two decimal places.\n",
        "\n",
        "# Create a DataFrame from our training statistics.\n",
        "df_stats = pd.DataFrame(data=training_stats)\n",
        "\n",
        "# Use the 'epoch' as the row index.\n",
        "df_stats = df_stats.set_index('epoch')\n",
        "\n",
        "# A hack to force the column headers to wrap.\n",
        "#df = df.style.set_table_styles([dict(selector=\"th\",props=[('max-width', '70px')])])\n",
        "\n",
        "# Display the table.\n",
        "df_stats"
      ],
      "execution_count": null,
      "outputs": [
        {
          "output_type": "execute_result",
          "data": {
            "text/plain": [
              "       Training Loss  Valid. Loss  Valid. Accur. Training Time Validation Time\n",
              "epoch                                                                         \n",
              "1           0.507103     0.438669       0.812114       0:01:25         0:00:03\n",
              "2           0.315746     0.444006       0.831019       0:01:25         0:00:03\n",
              "3           0.204271     0.497381       0.842593       0:01:26         0:00:03\n",
              "4           0.139326     0.569208       0.843750       0:01:26         0:00:03"
            ],
            "text/html": [
              "\n",
              "  <div id=\"df-52831e82-c768-4e47-9b02-01eff2105913\" class=\"colab-df-container\">\n",
              "    <div>\n",
              "<style scoped>\n",
              "    .dataframe tbody tr th:only-of-type {\n",
              "        vertical-align: middle;\n",
              "    }\n",
              "\n",
              "    .dataframe tbody tr th {\n",
              "        vertical-align: top;\n",
              "    }\n",
              "\n",
              "    .dataframe thead th {\n",
              "        text-align: right;\n",
              "    }\n",
              "</style>\n",
              "<table border=\"1\" class=\"dataframe\">\n",
              "  <thead>\n",
              "    <tr style=\"text-align: right;\">\n",
              "      <th></th>\n",
              "      <th>Training Loss</th>\n",
              "      <th>Valid. Loss</th>\n",
              "      <th>Valid. Accur.</th>\n",
              "      <th>Training Time</th>\n",
              "      <th>Validation Time</th>\n",
              "    </tr>\n",
              "    <tr>\n",
              "      <th>epoch</th>\n",
              "      <th></th>\n",
              "      <th></th>\n",
              "      <th></th>\n",
              "      <th></th>\n",
              "      <th></th>\n",
              "    </tr>\n",
              "  </thead>\n",
              "  <tbody>\n",
              "    <tr>\n",
              "      <th>1</th>\n",
              "      <td>0.507103</td>\n",
              "      <td>0.438669</td>\n",
              "      <td>0.812114</td>\n",
              "      <td>0:01:25</td>\n",
              "      <td>0:00:03</td>\n",
              "    </tr>\n",
              "    <tr>\n",
              "      <th>2</th>\n",
              "      <td>0.315746</td>\n",
              "      <td>0.444006</td>\n",
              "      <td>0.831019</td>\n",
              "      <td>0:01:25</td>\n",
              "      <td>0:00:03</td>\n",
              "    </tr>\n",
              "    <tr>\n",
              "      <th>3</th>\n",
              "      <td>0.204271</td>\n",
              "      <td>0.497381</td>\n",
              "      <td>0.842593</td>\n",
              "      <td>0:01:26</td>\n",
              "      <td>0:00:03</td>\n",
              "    </tr>\n",
              "    <tr>\n",
              "      <th>4</th>\n",
              "      <td>0.139326</td>\n",
              "      <td>0.569208</td>\n",
              "      <td>0.843750</td>\n",
              "      <td>0:01:26</td>\n",
              "      <td>0:00:03</td>\n",
              "    </tr>\n",
              "  </tbody>\n",
              "</table>\n",
              "</div>\n",
              "    <div class=\"colab-df-buttons\">\n",
              "\n",
              "  <div class=\"colab-df-container\">\n",
              "    <button class=\"colab-df-convert\" onclick=\"convertToInteractive('df-52831e82-c768-4e47-9b02-01eff2105913')\"\n",
              "            title=\"Convert this dataframe to an interactive table.\"\n",
              "            style=\"display:none;\">\n",
              "\n",
              "  <svg xmlns=\"http://www.w3.org/2000/svg\" height=\"24px\" viewBox=\"0 -960 960 960\">\n",
              "    <path d=\"M120-120v-720h720v720H120Zm60-500h600v-160H180v160Zm220 220h160v-160H400v160Zm0 220h160v-160H400v160ZM180-400h160v-160H180v160Zm440 0h160v-160H620v160ZM180-180h160v-160H180v160Zm440 0h160v-160H620v160Z\"/>\n",
              "  </svg>\n",
              "    </button>\n",
              "\n",
              "  <style>\n",
              "    .colab-df-container {\n",
              "      display:flex;\n",
              "      gap: 12px;\n",
              "    }\n",
              "\n",
              "    .colab-df-convert {\n",
              "      background-color: #E8F0FE;\n",
              "      border: none;\n",
              "      border-radius: 50%;\n",
              "      cursor: pointer;\n",
              "      display: none;\n",
              "      fill: #1967D2;\n",
              "      height: 32px;\n",
              "      padding: 0 0 0 0;\n",
              "      width: 32px;\n",
              "    }\n",
              "\n",
              "    .colab-df-convert:hover {\n",
              "      background-color: #E2EBFA;\n",
              "      box-shadow: 0px 1px 2px rgba(60, 64, 67, 0.3), 0px 1px 3px 1px rgba(60, 64, 67, 0.15);\n",
              "      fill: #174EA6;\n",
              "    }\n",
              "\n",
              "    .colab-df-buttons div {\n",
              "      margin-bottom: 4px;\n",
              "    }\n",
              "\n",
              "    [theme=dark] .colab-df-convert {\n",
              "      background-color: #3B4455;\n",
              "      fill: #D2E3FC;\n",
              "    }\n",
              "\n",
              "    [theme=dark] .colab-df-convert:hover {\n",
              "      background-color: #434B5C;\n",
              "      box-shadow: 0px 1px 3px 1px rgba(0, 0, 0, 0.15);\n",
              "      filter: drop-shadow(0px 1px 2px rgba(0, 0, 0, 0.3));\n",
              "      fill: #FFFFFF;\n",
              "    }\n",
              "  </style>\n",
              "\n",
              "    <script>\n",
              "      const buttonEl =\n",
              "        document.querySelector('#df-52831e82-c768-4e47-9b02-01eff2105913 button.colab-df-convert');\n",
              "      buttonEl.style.display =\n",
              "        google.colab.kernel.accessAllowed ? 'block' : 'none';\n",
              "\n",
              "      async function convertToInteractive(key) {\n",
              "        const element = document.querySelector('#df-52831e82-c768-4e47-9b02-01eff2105913');\n",
              "        const dataTable =\n",
              "          await google.colab.kernel.invokeFunction('convertToInteractive',\n",
              "                                                    [key], {});\n",
              "        if (!dataTable) return;\n",
              "\n",
              "        const docLinkHtml = 'Like what you see? Visit the ' +\n",
              "          '<a target=\"_blank\" href=https://colab.research.google.com/notebooks/data_table.ipynb>data table notebook</a>'\n",
              "          + ' to learn more about interactive tables.';\n",
              "        element.innerHTML = '';\n",
              "        dataTable['output_type'] = 'display_data';\n",
              "        await google.colab.output.renderOutput(dataTable, element);\n",
              "        const docLink = document.createElement('div');\n",
              "        docLink.innerHTML = docLinkHtml;\n",
              "        element.appendChild(docLink);\n",
              "      }\n",
              "    </script>\n",
              "  </div>\n",
              "\n",
              "\n",
              "<div id=\"df-cf9c1eb6-8eb6-41b2-b6a1-35db7bf8be00\">\n",
              "  <button class=\"colab-df-quickchart\" onclick=\"quickchart('df-cf9c1eb6-8eb6-41b2-b6a1-35db7bf8be00')\"\n",
              "            title=\"Suggest charts\"\n",
              "            style=\"display:none;\">\n",
              "\n",
              "<svg xmlns=\"http://www.w3.org/2000/svg\" height=\"24px\"viewBox=\"0 0 24 24\"\n",
              "     width=\"24px\">\n",
              "    <g>\n",
              "        <path d=\"M19 3H5c-1.1 0-2 .9-2 2v14c0 1.1.9 2 2 2h14c1.1 0 2-.9 2-2V5c0-1.1-.9-2-2-2zM9 17H7v-7h2v7zm4 0h-2V7h2v10zm4 0h-2v-4h2v4z\"/>\n",
              "    </g>\n",
              "</svg>\n",
              "  </button>\n",
              "\n",
              "<style>\n",
              "  .colab-df-quickchart {\n",
              "      --bg-color: #E8F0FE;\n",
              "      --fill-color: #1967D2;\n",
              "      --hover-bg-color: #E2EBFA;\n",
              "      --hover-fill-color: #174EA6;\n",
              "      --disabled-fill-color: #AAA;\n",
              "      --disabled-bg-color: #DDD;\n",
              "  }\n",
              "\n",
              "  [theme=dark] .colab-df-quickchart {\n",
              "      --bg-color: #3B4455;\n",
              "      --fill-color: #D2E3FC;\n",
              "      --hover-bg-color: #434B5C;\n",
              "      --hover-fill-color: #FFFFFF;\n",
              "      --disabled-bg-color: #3B4455;\n",
              "      --disabled-fill-color: #666;\n",
              "  }\n",
              "\n",
              "  .colab-df-quickchart {\n",
              "    background-color: var(--bg-color);\n",
              "    border: none;\n",
              "    border-radius: 50%;\n",
              "    cursor: pointer;\n",
              "    display: none;\n",
              "    fill: var(--fill-color);\n",
              "    height: 32px;\n",
              "    padding: 0;\n",
              "    width: 32px;\n",
              "  }\n",
              "\n",
              "  .colab-df-quickchart:hover {\n",
              "    background-color: var(--hover-bg-color);\n",
              "    box-shadow: 0 1px 2px rgba(60, 64, 67, 0.3), 0 1px 3px 1px rgba(60, 64, 67, 0.15);\n",
              "    fill: var(--button-hover-fill-color);\n",
              "  }\n",
              "\n",
              "  .colab-df-quickchart-complete:disabled,\n",
              "  .colab-df-quickchart-complete:disabled:hover {\n",
              "    background-color: var(--disabled-bg-color);\n",
              "    fill: var(--disabled-fill-color);\n",
              "    box-shadow: none;\n",
              "  }\n",
              "\n",
              "  .colab-df-spinner {\n",
              "    border: 2px solid var(--fill-color);\n",
              "    border-color: transparent;\n",
              "    border-bottom-color: var(--fill-color);\n",
              "    animation:\n",
              "      spin 1s steps(1) infinite;\n",
              "  }\n",
              "\n",
              "  @keyframes spin {\n",
              "    0% {\n",
              "      border-color: transparent;\n",
              "      border-bottom-color: var(--fill-color);\n",
              "      border-left-color: var(--fill-color);\n",
              "    }\n",
              "    20% {\n",
              "      border-color: transparent;\n",
              "      border-left-color: var(--fill-color);\n",
              "      border-top-color: var(--fill-color);\n",
              "    }\n",
              "    30% {\n",
              "      border-color: transparent;\n",
              "      border-left-color: var(--fill-color);\n",
              "      border-top-color: var(--fill-color);\n",
              "      border-right-color: var(--fill-color);\n",
              "    }\n",
              "    40% {\n",
              "      border-color: transparent;\n",
              "      border-right-color: var(--fill-color);\n",
              "      border-top-color: var(--fill-color);\n",
              "    }\n",
              "    60% {\n",
              "      border-color: transparent;\n",
              "      border-right-color: var(--fill-color);\n",
              "    }\n",
              "    80% {\n",
              "      border-color: transparent;\n",
              "      border-right-color: var(--fill-color);\n",
              "      border-bottom-color: var(--fill-color);\n",
              "    }\n",
              "    90% {\n",
              "      border-color: transparent;\n",
              "      border-bottom-color: var(--fill-color);\n",
              "    }\n",
              "  }\n",
              "</style>\n",
              "\n",
              "  <script>\n",
              "    async function quickchart(key) {\n",
              "      const quickchartButtonEl =\n",
              "        document.querySelector('#' + key + ' button');\n",
              "      quickchartButtonEl.disabled = true;  // To prevent multiple clicks.\n",
              "      quickchartButtonEl.classList.add('colab-df-spinner');\n",
              "      try {\n",
              "        const charts = await google.colab.kernel.invokeFunction(\n",
              "            'suggestCharts', [key], {});\n",
              "      } catch (error) {\n",
              "        console.error('Error during call to suggestCharts:', error);\n",
              "      }\n",
              "      quickchartButtonEl.classList.remove('colab-df-spinner');\n",
              "      quickchartButtonEl.classList.add('colab-df-quickchart-complete');\n",
              "    }\n",
              "    (() => {\n",
              "      let quickchartButtonEl =\n",
              "        document.querySelector('#df-cf9c1eb6-8eb6-41b2-b6a1-35db7bf8be00 button');\n",
              "      quickchartButtonEl.style.display =\n",
              "        google.colab.kernel.accessAllowed ? 'block' : 'none';\n",
              "    })();\n",
              "  </script>\n",
              "</div>\n",
              "\n",
              "  <div id=\"id_b5530ab7-d8df-4667-a988-4f40f4fc1011\">\n",
              "    <style>\n",
              "      .colab-df-generate {\n",
              "        background-color: #E8F0FE;\n",
              "        border: none;\n",
              "        border-radius: 50%;\n",
              "        cursor: pointer;\n",
              "        display: none;\n",
              "        fill: #1967D2;\n",
              "        height: 32px;\n",
              "        padding: 0 0 0 0;\n",
              "        width: 32px;\n",
              "      }\n",
              "\n",
              "      .colab-df-generate:hover {\n",
              "        background-color: #E2EBFA;\n",
              "        box-shadow: 0px 1px 2px rgba(60, 64, 67, 0.3), 0px 1px 3px 1px rgba(60, 64, 67, 0.15);\n",
              "        fill: #174EA6;\n",
              "      }\n",
              "\n",
              "      [theme=dark] .colab-df-generate {\n",
              "        background-color: #3B4455;\n",
              "        fill: #D2E3FC;\n",
              "      }\n",
              "\n",
              "      [theme=dark] .colab-df-generate:hover {\n",
              "        background-color: #434B5C;\n",
              "        box-shadow: 0px 1px 3px 1px rgba(0, 0, 0, 0.15);\n",
              "        filter: drop-shadow(0px 1px 2px rgba(0, 0, 0, 0.3));\n",
              "        fill: #FFFFFF;\n",
              "      }\n",
              "    </style>\n",
              "    <button class=\"colab-df-generate\" onclick=\"generateWithVariable('df_stats')\"\n",
              "            title=\"Generate code using this dataframe.\"\n",
              "            style=\"display:none;\">\n",
              "\n",
              "  <svg xmlns=\"http://www.w3.org/2000/svg\" height=\"24px\"viewBox=\"0 0 24 24\"\n",
              "       width=\"24px\">\n",
              "    <path d=\"M7,19H8.4L18.45,9,17,7.55,7,17.6ZM5,21V16.75L18.45,3.32a2,2,0,0,1,2.83,0l1.4,1.43a1.91,1.91,0,0,1,.58,1.4,1.91,1.91,0,0,1-.58,1.4L9.25,21ZM18.45,9,17,7.55Zm-12,3A5.31,5.31,0,0,0,4.9,8.1,5.31,5.31,0,0,0,1,6.5,5.31,5.31,0,0,0,4.9,4.9,5.31,5.31,0,0,0,6.5,1,5.31,5.31,0,0,0,8.1,4.9,5.31,5.31,0,0,0,12,6.5,5.46,5.46,0,0,0,6.5,12Z\"/>\n",
              "  </svg>\n",
              "    </button>\n",
              "    <script>\n",
              "      (() => {\n",
              "      const buttonEl =\n",
              "        document.querySelector('#id_b5530ab7-d8df-4667-a988-4f40f4fc1011 button.colab-df-generate');\n",
              "      buttonEl.style.display =\n",
              "        google.colab.kernel.accessAllowed ? 'block' : 'none';\n",
              "\n",
              "      buttonEl.onclick = () => {\n",
              "        google.colab.notebook.generateWithVariable('df_stats');\n",
              "      }\n",
              "      })();\n",
              "    </script>\n",
              "  </div>\n",
              "\n",
              "    </div>\n",
              "  </div>\n"
            ],
            "application/vnd.google.colaboratory.intrinsic+json": {
              "type": "dataframe",
              "variable_name": "df_stats",
              "summary": "{\n  \"name\": \"df_stats\",\n  \"rows\": 4,\n  \"fields\": [\n    {\n      \"column\": \"epoch\",\n      \"properties\": {\n        \"dtype\": \"number\",\n        \"std\": 1,\n        \"min\": 1,\n        \"max\": 4,\n        \"num_unique_values\": 4,\n        \"samples\": [\n          2,\n          4,\n          1\n        ],\n        \"semantic_type\": \"\",\n        \"description\": \"\"\n      }\n    },\n    {\n      \"column\": \"Training Loss\",\n      \"properties\": {\n        \"dtype\": \"number\",\n        \"std\": 0.16107811755451237,\n        \"min\": 0.13932578373870413,\n        \"max\": 0.5071032768834182,\n        \"num_unique_values\": 4,\n        \"samples\": [\n          0.31574603995594247,\n          0.13932578373870413,\n          0.5071032768834182\n        ],\n        \"semantic_type\": \"\",\n        \"description\": \"\"\n      }\n    },\n    {\n      \"column\": \"Valid. Loss\",\n      \"properties\": {\n        \"dtype\": \"number\",\n        \"std\": 0.06069009737388139,\n        \"min\": 0.4386690794317811,\n        \"max\": 0.5692077102484526,\n        \"num_unique_values\": 4,\n        \"samples\": [\n          0.44400560083212676,\n          0.5692077102484526,\n          0.4386690794317811\n        ],\n        \"semantic_type\": \"\",\n        \"description\": \"\"\n      }\n    },\n    {\n      \"column\": \"Valid. Accur.\",\n      \"properties\": {\n        \"dtype\": \"number\",\n        \"std\": 0.014675714970378298,\n        \"min\": 0.8121141975308641,\n        \"max\": 0.84375,\n        \"num_unique_values\": 4,\n        \"samples\": [\n          0.8310185185185185,\n          0.84375,\n          0.8121141975308641\n        ],\n        \"semantic_type\": \"\",\n        \"description\": \"\"\n      }\n    },\n    {\n      \"column\": \"Training Time\",\n      \"properties\": {\n        \"dtype\": \"object\",\n        \"num_unique_values\": 2,\n        \"samples\": [\n          \"0:01:26\",\n          \"0:01:25\"\n        ],\n        \"semantic_type\": \"\",\n        \"description\": \"\"\n      }\n    },\n    {\n      \"column\": \"Validation Time\",\n      \"properties\": {\n        \"dtype\": \"object\",\n        \"num_unique_values\": 1,\n        \"samples\": [\n          \"0:00:03\"\n        ],\n        \"semantic_type\": \"\",\n        \"description\": \"\"\n      }\n    }\n  ]\n}"
            }
          },
          "metadata": {},
          "execution_count": 26
        }
      ]
    },
    {
      "cell_type": "markdown",
      "metadata": {
        "id": "1-G03mmwH3aI"
      },
      "source": [
        "Notice that, while the the training loss is going down with each epoch, the validation loss is increasing! This suggests that we are training our model too long, and it's over-fitting on the training data.\n",
        "\n",
        "(For reference, we are using 7,695 training samples and 856 validation samples).\n",
        "\n",
        "Validation Loss is a more precise measure than accuracy, because with accuracy we don't care about the exact output value, but just which side of a threshold it falls on.\n",
        "\n",
        "If we are predicting the correct answer, but with less confidence, then validation loss will catch this, while accuracy will not."
      ]
    },
    {
      "cell_type": "code",
      "metadata": {
        "id": "68xreA9JAmG5",
        "colab": {
          "base_uri": "https://localhost:8080/",
          "height": 575
        },
        "outputId": "96702f47-9774-4242-b8be-feead40a3585"
      },
      "source": [
        "import matplotlib.pyplot as plt\n",
        "# --% matplotlib inline\n",
        "\n",
        "import seaborn as sns\n",
        "\n",
        "# Use plot styling from seaborn.\n",
        "sns.set(style='darkgrid')\n",
        "\n",
        "# Increase the plot size and font size.\n",
        "sns.set(font_scale=1.5)\n",
        "plt.rcParams[\"figure.figsize\"] = (12,6)\n",
        "\n",
        "# Plot the learning curve.\n",
        "plt.plot(df_stats['Training Loss'], 'b-o', label=\"Training\")\n",
        "plt.plot(df_stats['Valid. Loss'], 'g-o', label=\"Validation\")\n",
        "\n",
        "# Label the plot.\n",
        "plt.title(\"Training & Validation Loss\")\n",
        "plt.xlabel(\"Epoch\")\n",
        "plt.ylabel(\"Loss\")\n",
        "plt.legend()\n",
        "plt.xticks([1, 2, 3, 4])\n",
        "\n",
        "plt.show()"
      ],
      "execution_count": null,
      "outputs": [
        {
          "output_type": "display_data",
          "data": {
            "text/plain": [
              "<Figure size 1200x600 with 1 Axes>"
            ],
            "image/png": "[encoded data removed]"
          },
          "metadata": {}
        }
      ]
    },
    {
      "cell_type": "markdown",
      "metadata": {
        "id": "mkyubuJSOzg3"
      },
      "source": [
        "# 5. Performance On Test Set"
      ]
    },
    {
      "cell_type": "markdown",
      "metadata": {
        "id": "DosV94BYIYxg"
      },
      "source": [
        "Now we'll load the holdout dataset and prepare inputs just as we did with the training set. Then we'll evaluate predictions using [Matthew's correlation coefficient](https://scikit-learn.org/stable/modules/generated/sklearn.metrics.matthews_corrcoef.html) because this is the metric used by the wider NLP community to evaluate performance on CoLA. With this metric, +1 is the best score, and -1 is the worst score. This way, we can see how well we perform against the state of the art models for this specific task."
      ]
    },
    {
      "cell_type": "markdown",
      "metadata": {
        "id": "Tg42jJqqM68F"
      },
      "source": [
        "### 5.1. Data Preparation\n"
      ]
    },
    {
      "cell_type": "markdown",
      "metadata": {
        "id": "xWe0_JW21MyV"
      },
      "source": [
        "\n",
        "We'll need to apply all of the same steps that we did for the training data to prepare our test data set."
      ]
    },
    {
      "cell_type": "code",
      "metadata": {
        "id": "mAN0LZBOOPVh",
        "colab": {
          "base_uri": "https://localhost:8080/"
        },
        "outputId": "bc383bd3-8762-4dd8-96c1-640243a24ebd"
      },
      "source": [
        "import pandas as pd\n",
        "\n",
        "# Load the dataset into a pandas dataframe.\n",
        "df = pd.read_csv(\"./cola_public/raw/out_of_domain_dev.tsv\", delimiter='\\t', header=None, names=['sentence_source', 'label', 'label_notes', 'sentence'])\n",
        "\n",
        "# Report the number of sentences.\n",
        "print('Number of test sentences: {:,}\\n'.format(df.shape[0]))\n",
        "\n",
        "# Create sentence and label lists\n",
        "sentences = df.sentence.values\n",
        "labels = df.label.values\n",
        "\n",
        "# Tokenize all of the sentences and map the tokens to thier word IDs.\n",
        "input_ids = []\n",
        "attention_masks = []\n",
        "\n",
        "# For every sentence...\n",
        "for sent in sentences:\n",
        "    # `encode_plus` will:\n",
        "    #   (1) Tokenize the sentence.\n",
        "    #   (2) Prepend the `[CLS]` token to the start.\n",
        "    #   (3) Append the `[SEP]` token to the end.\n",
        "    #   (4) Map tokens to their IDs.\n",
        "    #   (5) Pad or truncate the sentence to `max_length`\n",
        "    #   (6) Create attention masks for [PAD] tokens.\n",
        "    encoded_dict = tokenizer.encode_plus(\n",
        "                        sent,                      # Sentence to encode.\n",
        "                        add_special_tokens = True, # Add '[CLS]' and '[SEP]'\n",
        "                        max_length = 64,           # Pad & truncate all sentences.\n",
        "                        pad_to_max_length = True,\n",
        "                        return_attention_mask = True,   # Construct attn. masks.\n",
        "                        return_tensors = 'pt',     # Return pytorch tensors.\n",
        "                   )\n",
        "\n",
        "    # Add the encoded sentence to the list.\n",
        "    input_ids.append(encoded_dict['input_ids'])\n",
        "\n",
        "    # And its attention mask (simply differentiates padding from non-padding).\n",
        "    attention_masks.append(encoded_dict['attention_mask'])\n",
        "\n",
        "# Convert the lists into tensors.\n",
        "input_ids = torch.cat(input_ids, dim=0)\n",
        "attention_masks = torch.cat(attention_masks, dim=0)\n",
        "labels = torch.tensor(labels)\n",
        "\n",
        "# Set the batch size.\n",
        "batch_size = 32\n",
        "\n",
        "# Create the DataLoader.\n",
        "prediction_data = TensorDataset(input_ids, attention_masks, labels)\n",
        "prediction_sampler = SequentialSampler(prediction_data)\n",
        "prediction_dataloader = DataLoader(prediction_data, sampler=prediction_sampler, batch_size=batch_size)"
      ],
      "execution_count": null,
      "outputs": [
        {
          "output_type": "stream",
          "name": "stdout",
          "text": [
            "Number of test sentences: 516\n",
            "\n"
          ]
        },
        {
          "output_type": "stream",
          "name": "stderr",
          "text": [
            "/usr/local/lib/python3.10/dist-packages/transformers/tokenization_utils_base.py:2699: FutureWarning: The `pad_to_max_length` argument is deprecated and will be removed in a future version, use `padding=True` or `padding='longest'` to pad to the longest sequence in the batch, or use `padding='max_length'` to pad to a max length. In this case, you can give a specific length with `max_length` (e.g. `max_length=45`) or leave max_length to None to pad to the maximal input size of the model (e.g. 512 for Bert).\n",
            "  warnings.warn(\n"
          ]
        }
      ]
    },
    {
      "cell_type": "markdown",
      "metadata": {
        "id": "16lctEOyNFik"
      },
      "source": [
        "## 5.2. Evaluate on Test Set\n"
      ]
    },
    {
      "cell_type": "markdown",
      "metadata": {
        "id": "rhR99IISNMg9"
      },
      "source": [
        "\n",
        "With the test set prepared, we can apply our fine-tuned model to generate predictions on the test set."
      ]
    },
    {
      "cell_type": "code",
      "metadata": {
        "id": "Hba10sXR7Xi6",
        "colab": {
          "base_uri": "https://localhost:8080/"
        },
        "outputId": "14178331-0049-48ca-f24e-4e89fe70d56a"
      },
      "source": [
        "# Prediction on test set\n",
        "\n",
        "print('Predicting labels for {:,} test sentences...'.format(len(input_ids)))\n",
        "\n",
        "# Put model in evaluation mode\n",
        "model.eval()\n",
        "\n",
        "# Tracking variables\n",
        "predictions , true_labels = [], []\n",
        "\n",
        "# Predict\n",
        "for batch in prediction_dataloader:\n",
        "  # Add batch to GPU\n",
        "  batch = tuple(t.to(device) for t in batch)\n",
        "\n",
        "  # Unpack the inputs from our dataloader\n",
        "  b_input_ids, b_input_mask, b_labels = batch\n",
        "\n",
        "  # Telling the model not to compute or store gradients, saving memory and\n",
        "  # speeding up prediction\n",
        "  with torch.no_grad():\n",
        "      # Forward pass, calculate logit predictions.\n",
        "      result = model(b_input_ids,\n",
        "                     token_type_ids=None,\n",
        "                     attention_mask=b_input_mask,\n",
        "                     return_dict=True)\n",
        "\n",
        "  logits = result.logits\n",
        "\n",
        "  # Move logits and labels to CPU\n",
        "  logits = logits.detach().cpu().numpy()\n",
        "  label_ids = b_labels.to('cpu').numpy()\n",
        "\n",
        "  # Store predictions and true labels\n",
        "  predictions.append(logits)\n",
        "  true_labels.append(label_ids)\n",
        "\n",
        "print('    DONE.')"
      ],
      "execution_count": null,
      "outputs": [
        {
          "output_type": "stream",
          "name": "stdout",
          "text": [
            "Predicting labels for 516 test sentences...\n",
            "    DONE.\n"
          ]
        }
      ]
    },
    {
      "cell_type": "markdown",
      "metadata": {
        "id": "-5jscIM8R4Gv"
      },
      "source": [
        "Accuracy on the CoLA benchmark is measured using the \"[Matthews correlation coefficient](https://scikit-learn.org/stable/modules/generated/sklearn.metrics.matthews_corrcoef.html)\" (MCC).\n",
        "\n",
        "We use MCC here because the classes are imbalanced:\n"
      ]
    },
    {
      "cell_type": "code",
      "metadata": {
        "id": "hWcy0X1hirdx",
        "colab": {
          "base_uri": "https://localhost:8080/"
        },
        "outputId": "fdf20425-9c87-4ef1-d44d-f1d38e518378"
      },
      "source": [
        "print('Positive samples: %d of %d (%.2f%%)' % (df.label.sum(), len(df.label), (df.label.sum() / len(df.label) * 100.0)))"
      ],
      "execution_count": null,
      "outputs": [
        {
          "output_type": "stream",
          "name": "stdout",
          "text": [
            "Positive samples: 354 of 516 (68.60%)\n"
          ]
        }
      ]
    },
    {
      "cell_type": "code",
      "metadata": {
        "id": "cRaZQ4XC7kLs",
        "colab": {
          "base_uri": "https://localhost:8080/"
        },
        "outputId": "3773f291-cdbd-43d1-b2ee-488f7ad439cf"
      },
      "source": [
        "from sklearn.metrics import matthews_corrcoef\n",
        "\n",
        "matthews_set = []\n",
        "\n",
        "# Evaluate each test batch using Matthew's correlation coefficient\n",
        "print('Calculating Matthews Corr. Coef. for each batch...')\n",
        "\n",
        "# For each input batch...\n",
        "for i in range(len(true_labels)):\n",
        "\n",
        "  # The predictions for this batch are a 2-column ndarray (one column for \"0\"\n",
        "  # and one column for \"1\"). Pick the label with the highest value and turn this\n",
        "  # in to a list of 0s and 1s.\n",
        "  pred_labels_i = np.argmax(predictions[i], axis=1).flatten()\n",
        "\n",
        "  # Calculate and store the coef for this batch.\n",
        "  matthews = matthews_corrcoef(true_labels[i], pred_labels_i)\n",
        "  matthews_set.append(matthews)"
      ],
      "execution_count": null,
      "outputs": [
        {
          "output_type": "stream",
          "name": "stdout",
          "text": [
            "Calculating Matthews Corr. Coef. for each batch...\n"
          ]
        }
      ]
    },
    {
      "cell_type": "markdown",
      "metadata": {
        "id": "IUM0UA1qJaVB"
      },
      "source": [
        "The final score will be based on the entire test set, but let's take a look at the scores on the individual batches to get a sense of the variability in the metric between batches.\n",
        "\n",
        "Each batch has 32 sentences in it, except the last batch which has only (516 % 32) = 4 test sentences in it.\n"
      ]
    },
    {
      "cell_type": "code",
      "metadata": {
        "id": "pyfY1tqxU0t9",
        "colab": {
          "base_uri": "https://localhost:8080/",
          "height": 655
        },
        "outputId": "ac6a132f-40af-4147-d007-6a1a33a313e2"
      },
      "source": [
        "# Create a barplot showing the MCC score for each batch of test samples.\n",
        "ax = sns.barplot(x=list(range(len(matthews_set))), y=matthews_set, ci=None)\n",
        "\n",
        "plt.title('MCC Score per Batch')\n",
        "plt.ylabel('MCC Score (-1 to +1)')\n",
        "plt.xlabel('Batch #')\n",
        "\n",
        "plt.show()"
      ],
      "execution_count": null,
      "outputs": [
        {
          "output_type": "stream",
          "name": "stderr",
          "text": [
            "<ipython-input-32-a1af80ea924d>:2: FutureWarning: \n",
            "\n",
            "The `ci` parameter is deprecated. Use `errorbar=None` for the same effect.\n",
            "\n",
            "  ax = sns.barplot(x=list(range(len(matthews_set))), y=matthews_set, ci=None)\n"
          ]
        },
        {
          "output_type": "display_data",
          "data": {
            "text/plain": [
              "<Figure size 1200x600 with 1 Axes>"
            ],
            "image/png": "[encoded data removed]"
          },
          "metadata": {}
        }
      ]
    },
    {
      "cell_type": "markdown",
      "metadata": {
        "id": "1YrjAPX2V-l4"
      },
      "source": [
        "Now we'll combine the results for all of the batches and calculate our final MCC score."
      ]
    },
    {
      "cell_type": "code",
      "metadata": {
        "id": "oCYZa1lQ8Jn8",
        "colab": {
          "base_uri": "https://localhost:8080/"
        },
        "outputId": "2d85cccc-50dd-45e4-a5a0-1f3b24b5e7d3"
      },
      "source": [
        "# Combine the results across all batches.\n",
        "flat_predictions = np.concatenate(predictions, axis=0)\n",
        "\n",
        "# For each sample, pick the label (0 or 1) with the higher score.\n",
        "flat_predictions = np.argmax(flat_predictions, axis=1).flatten()\n",
        "\n",
        "# Combine the correct labels for each batch into a single list.\n",
        "flat_true_labels = np.concatenate(true_labels, axis=0)\n",
        "\n",
        "# Calculate the MCC\n",
        "mcc = matthews_corrcoef(flat_true_labels, flat_predictions)\n",
        "\n",
        "print('Total MCC: %.3f' % mcc)"
      ],
      "execution_count": null,
      "outputs": [
        {
          "output_type": "stream",
          "name": "stdout",
          "text": [
            "Total MCC: 0.487\n"
          ]
        }
      ]
    },
    {
      "cell_type": "markdown",
      "metadata": {
        "id": "jXx0jPc4HUfZ"
      },
      "source": [
        "Cool! In about half an hour and without doing any hyperparameter tuning (adjusting the learning rate, epochs, batch size, ADAM properties, etc.) we are able to get a good score.\n",
        "\n",
        "\n",
        "The library documents the expected accuracy for this benchmark [here](https://huggingface.co/transformers/examples.html#glue) as `49.23`.\n",
        "\n",
        "You can also look at the official leaderboard [here](https://gluebenchmark.com/leaderboard/submission/zlssuBTm5XRs0aSKbFYGVIVdvbj1/-LhijX9VVmvJcvzKymxy).\n",
        "\n",
        "Note that (due to the small dataset size?) the accuracy can vary significantly between runs.\n"
      ]
    },
    {
      "cell_type": "markdown",
      "metadata": {
        "id": "YUmsUOIv8EUO"
      },
      "source": [
        "# Appendix\n"
      ]
    },
    {
      "cell_type": "markdown",
      "metadata": {
        "id": "q2079Qyn8Mt8"
      },
      "source": [
        "## A1. Saving & Loading Fine-Tuned Model\n",
        "\n",
        "This first cell (taken from `run_glue.py` [here](https://github.com/huggingface/transformers/blob/35ff345fc9df9e777b27903f11fa213e4052595b/examples/run_glue.py#L495)) writes the model and tokenizer out to disk."
      ]
    },
    {
      "cell_type": "code",
      "metadata": {
        "id": "6ulTWaOr8QNY",
        "colab": {
          "base_uri": "https://localhost:8080/"
        },
        "outputId": "1b73b37b-2598-4992-d6d7-0649f410b5c0"
      },
      "source": [
        "import os\n",
        "\n",
        "# Saving best-practices: if you use defaults names for the model, you can reload it using from_pretrained()\n",
        "\n",
        "output_dir = './model_save/'\n",
        "\n",
        "# Create output directory if needed\n",
        "if not os.path.exists(output_dir):\n",
        "    os.makedirs(output_dir)\n",
        "\n",
        "print(\"Saving model to %s\" % output_dir)\n",
        "\n",
        "# Save a trained model, configuration and tokenizer using `save_pretrained()`.\n",
        "# They can then be reloaded using `from_pretrained()`\n",
        "model_to_save = model.module if hasattr(model, 'module') else model  # Take care of distributed/parallel training\n",
        "model_to_save.save_pretrained(output_dir)\n",
        "tokenizer.save_pretrained(output_dir)\n",
        "\n",
        "# Good practice: save your training arguments together with the trained model\n",
        "# torch.save(args, os.path.join(output_dir, 'training_args.bin'))\n"
      ],
      "execution_count": null,
      "outputs": [
        {
          "output_type": "stream",
          "text": [
            "Saving model to ./model_save/\n"
          ],
          "name": "stdout"
        },
        {
          "output_type": "execute_result",
          "data": {
            "text/plain": [
              "('./model_save/tokenizer_config.json',\n",
              " './model_save/special_tokens_map.json',\n",
              " './model_save/vocab.txt',\n",
              " './model_save/added_tokens.json')"
            ]
          },
          "metadata": {
            "tags": []
          },
          "execution_count": 31
        }
      ]
    },
    {
      "cell_type": "markdown",
      "metadata": {
        "id": "Z-tjHkR7lc1I"
      },
      "source": [
        "Let's check out the file sizes, out of curiosity."
      ]
    },
    {
      "cell_type": "code",
      "metadata": {
        "id": "mqMzI3VTCZo5",
        "colab": {
          "base_uri": "https://localhost:8080/"
        },
        "outputId": "96104fe5-67d0-4310-d778-58da5194c2e1"
      },
      "source": [
        "!ls -l --block-size=K ./model_save/"
      ],
      "execution_count": null,
      "outputs": [
        {
          "output_type": "stream",
          "text": [
            "total 428000K\n",
            "-rw-r--r-- 1 root root      1K Feb  2 17:10 config.json\n",
            "-rw-r--r-- 1 root root 427757K Feb  2 17:10 pytorch_model.bin\n",
            "-rw-r--r-- 1 root root      1K Feb  2 17:10 special_tokens_map.json\n",
            "-rw-r--r-- 1 root root      1K Feb  2 17:10 tokenizer_config.json\n",
            "-rw-r--r-- 1 root root    227K Feb  2 17:10 vocab.txt\n"
          ],
          "name": "stdout"
        }
      ]
    },
    {
      "cell_type": "markdown",
      "metadata": {
        "id": "fr_bt2rFlgDn"
      },
      "source": [
        "The largest file is the model weights, at around 418 megabytes."
      ]
    },
    {
      "cell_type": "code",
      "metadata": {
        "id": "-WUFUIQ8Cu8D",
        "colab": {
          "base_uri": "https://localhost:8080/"
        },
        "outputId": "b0c9b6c6-5fb8-4d61-d28a-be4324be5a5b"
      },
      "source": [
        "!ls -l --block-size=M ./model_save/pytorch_model.bin"
      ],
      "execution_count": null,
      "outputs": [
        {
          "output_type": "stream",
          "text": [
            "-rw-r--r-- 1 root root 418M Feb  2 17:10 ./model_save/pytorch_model.bin\n"
          ],
          "name": "stdout"
        }
      ]
    },
    {
      "cell_type": "markdown",
      "metadata": {
        "id": "dzGKvOFAll_e"
      },
      "source": [
        "To save your model across Colab Notebook sessions, download it to your local machine, or ideally copy it to your Google Drive."
      ]
    },
    {
      "cell_type": "code",
      "metadata": {
        "id": "Trr-A-POC18_"
      },
      "source": [
        "# Mount Google Drive to this Notebook instance.\n",
        "from google.colab import drive\n",
        "drive.mount('/content/drive')"
      ],
      "execution_count": null,
      "outputs": []
    },
    {
      "cell_type": "code",
      "metadata": {
        "id": "NxlZsafTC-V5"
      },
      "source": [
        "# Copy the model files to a directory in your Google Drive.\n",
        "!cp -r ./model_save/ \"./drive/Shared drives/ChrisMcCormick.AI/Blog Posts/BERT Fine-Tuning/\""
      ],
      "execution_count": null,
      "outputs": []
    },
    {
      "cell_type": "markdown",
      "metadata": {
        "id": "W0vstijw85SZ"
      },
      "source": [
        "The following functions will load the model back from disk."
      ]
    },
    {
      "cell_type": "code",
      "metadata": {
        "id": "nskPzUM084zL"
      },
      "source": [
        "# Load a trained model and vocabulary that you have fine-tuned\n",
        "model = model_class.from_pretrained(output_dir)\n",
        "tokenizer = tokenizer_class.from_pretrained(output_dir)\n",
        "\n",
        "# Copy the model to the GPU.\n",
        "model.to(device)"
      ],
      "execution_count": null,
      "outputs": []
    },
    {
      "cell_type": "markdown",
      "metadata": {
        "id": "NIWouvDrGVAi"
      },
      "source": [
        "## A.2. Weight Decay\n",
        "\n"
      ]
    },
    {
      "cell_type": "markdown",
      "metadata": {
        "id": "f123ZAlF1OyW"
      },
      "source": [
        "The huggingface example includes the following code block for enabling weight decay, but the default decay rate is \"0.0\", so I moved this to the appendix.\n",
        "\n",
        "This block essentially tells the optimizer to not apply weight decay to the bias terms (e.g., $ b $ in the equation $ y = Wx + b $ ). Weight decay is a form of regularization--after calculating the gradients, we multiply them by, e.g., 0.99."
      ]
    },
    {
      "cell_type": "code",
      "metadata": {
        "id": "QxSMw0FrptiL"
      },
      "source": [
        "# This code is taken from:\n",
        "# https://github.com/huggingface/transformers/blob/5bfcd0485ece086ebcbed2d008813037968a9e58/examples/run_glue.py#L102\n",
        "\n",
        "# Don't apply weight decay to any parameters whose names include these tokens.\n",
        "# (Here, the BERT doesn't have `gamma` or `beta` parameters, only `bias` terms)\n",
        "no_decay = ['bias', 'LayerNorm.weight']\n",
        "\n",
        "# Separate the `weight` parameters from the `bias` parameters.\n",
        "# - For the `weight` parameters, this specifies a 'weight_decay_rate' of 0.01.\n",
        "# - For the `bias` parameters, the 'weight_decay_rate' is 0.0.\n",
        "optimizer_grouped_parameters = [\n",
        "    # Filter for all parameters which *don't* include 'bias', 'gamma', 'beta'.\n",
        "    {'params': [p for n, p in param_optimizer if not any(nd in n for nd in no_decay)],\n",
        "     'weight_decay_rate': 0.1},\n",
        "\n",
        "    # Filter for parameters which *do* include those.\n",
        "    {'params': [p for n, p in param_optimizer if any(nd in n for nd in no_decay)],\n",
        "     'weight_decay_rate': 0.0}\n",
        "]\n",
        "\n",
        "# Note - `optimizer_grouped_parameters` only includes the parameter values, not\n",
        "# the names."
      ],
      "execution_count": null,
      "outputs": []
    },
    {
      "cell_type": "markdown",
      "source": [
        "![image.png](data:image/png;base64,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)"
      ],
      "metadata": {
        "id": "qRBmnyS3eIss"
      }
    }
  ]
}