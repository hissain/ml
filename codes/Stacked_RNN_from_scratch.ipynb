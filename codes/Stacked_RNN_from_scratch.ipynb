{
  "nbformat": 4,
  "nbformat_minor": 0,
  "metadata": {
    "colab": {
      "provenance": [],
      "toc_visible": true,
      "include_colab_link": true
    },
    "kernelspec": {
      "name": "python3",
      "display_name": "Python 3"
    },
    "language_info": {
      "name": "python"
    }
  },
  "cells": [
    {
      "cell_type": "markdown",
      "metadata": {
        "id": "view-in-github",
        "colab_type": "text"
      },
      "source": [
        "<a href=\"https://colab.research.google.com/github/hissain/mlworks/blob/main/codes/Stacked_RNN_from_scratch.ipynb\" target=\"_parent\"><img src=\"https://colab.research.google.com/assets/colab-badge.svg\" alt=\"Open In Colab\"/></a>"
      ]
    },
    {
      "cell_type": "code",
      "source": [
        "# import\n",
        "import torch\n",
        "import torch.nn as nn\n",
        "import math"
      ],
      "metadata": {
        "id": "Xa-r8LHHpWSj"
      },
      "execution_count": null,
      "outputs": []
    },
    {
      "cell_type": "code",
      "source": [
        "# Seed\n",
        "torch.manual_seed(0)"
      ],
      "metadata": {
        "colab": {
          "base_uri": "https://localhost:8080/"
        },
        "id": "6ktNrC6LqERA",
        "outputId": "1b21559a-7589-4223-924b-f7987ab0dfd8"
      },
      "execution_count": null,
      "outputs": [
        {
          "output_type": "execute_result",
          "data": {
            "text/plain": [
              "<torch._C.Generator at 0x795bec181af0>"
            ]
          },
          "metadata": {},
          "execution_count": 8
        }
      ]
    },
    {
      "cell_type": "code",
      "source": [
        "class RNNLayer(torch.nn.Module):\n",
        "    def __init__(self, input_size, hidden_size):\n",
        "        super(RNNLayer, self).__init__()\n",
        "        self.input_size = input_size\n",
        "        self.hidden_size = hidden_size\n",
        "\n",
        "        # Weight matrices for input and hidden layer connections\n",
        "        self.W_xh = torch.nn.Parameter(torch.randn(input_size, hidden_size))\n",
        "        self.W_hh = torch.nn.Parameter(torch.randn(hidden_size, hidden_size))\n",
        "        # Bias term for hidden layer\n",
        "        self.b_h = torch.nn.Parameter(torch.zeros(hidden_size))\n",
        "\n",
        "    def forward(self, input_data, hidden_state=None):\n",
        "        \"\"\"\n",
        "        Performs a forward pass through the RNN layer.\n",
        "\n",
        "        Args:\n",
        "            input_data: A tensor of shape (batch_size, input_size) representing the input sequence.\n",
        "            hidden_state: A tensor of shape (batch_size, hidden_size) representing the initial hidden state (optional).\n",
        "\n",
        "        Returns:\n",
        "            output: A tensor of shape (batch_size, hidden_size) representing the hidden state at each time step.\n",
        "            hidden_state: A tensor of shape (batch_size, hidden_size) representing the hidden state.\n",
        "        \"\"\"\n",
        "        batch_size, _ = input_data.size()\n",
        "\n",
        "        # Initialize hidden state if not provided\n",
        "        if hidden_state is None:\n",
        "            hidden_state = torch.zeros(batch_size, self.hidden_size)\n",
        "\n",
        "        # Calculate current hidden state\n",
        "        hidden_state = torch.tanh(\n",
        "            # (batch_size, input_size) x (input_size, hidden_size)\n",
        "            # = (batch_size, hidden_size)\n",
        "            torch.mm(input_data, self.W_xh) + \\\n",
        "            # (batch_size, hidden_size) x (hidden_size, hidden_size)\n",
        "            # = (batch_size, hidden_size)\n",
        "            torch.mm(hidden_state, self.W_hh) + \\\n",
        "            # hidden_size\n",
        "            self.b_h\n",
        "        )\n",
        "\n",
        "        return hidden_state"
      ],
      "metadata": {
        "id": "HRt-IF7RpeQo"
      },
      "execution_count": null,
      "outputs": []
    },
    {
      "cell_type": "code",
      "source": [
        "class StackedRNN(nn.Module):\n",
        "    def __init__(self, input_size, hidden_size, output_size, num_layers):\n",
        "        super(StackedRNN, self).__init__()\n",
        "        self.input_size = input_size\n",
        "        self.hidden_size = hidden_size\n",
        "        self.num_layers = num_layers\n",
        "        self.output_size = output_size\n",
        "\n",
        "        self.layers = nn.ModuleList([RNNLayer(input_size, hidden_size) for _ in range(num_layers)])\n",
        "        self.fc = torch.nn.Linear(hidden_size, output_size)\n",
        "\n",
        "    def forward(self, inputs, hidden_states=None):\n",
        "        \"\"\"\n",
        "        Performs a forward pass through the stacked RNN model.\n",
        "\n",
        "        Args:\n",
        "            inputs: A tensor of shape (batch_size, seq_len, input_size) representing the input sequence.\n",
        "            hidden_states: A list of tensors of shape (batch_size, hidden_size) representing the initial hidden states for each layer (optional).\n",
        "\n",
        "        Returns:\n",
        "            prediction: A tensor of shape (batch_size, output_size) representing the model output.\n",
        "        \"\"\"\n",
        "        if hidden_states is None:\n",
        "            hidden_states = [None] * self.num_layers\n",
        "\n",
        "        _, seq_len, _ = inputs.size()\n",
        "\n",
        "        for t in range(seq_len):\n",
        "            input_data = inputs[:, t, :]\n",
        "            for layer_idx in range(self.num_layers):\n",
        "                hidden_states[layer_idx] = self.layers[layer_idx](input_data, hidden_states[layer_idx])\n",
        "                input_data = hidden_states[layer_idx]\n",
        "\n",
        "        prediction = self.fc(hidden_states[-1])\n",
        "\n",
        "        return prediction, torch.stack(hidden_states)"
      ],
      "metadata": {
        "id": "jXwfen4RyIbG"
      },
      "execution_count": null,
      "outputs": []
    },
    {
      "cell_type": "code",
      "execution_count": null,
      "metadata": {
        "id": "gxPiLA42pOnG",
        "colab": {
          "base_uri": "https://localhost:8080/"
        },
        "outputId": "5f583216-8616-4c4d-bdc8-75ba1df78a39"
      },
      "outputs": [
        {
          "output_type": "stream",
          "name": "stdout",
          "text": [
            "Output shape: torch.Size([2, 10])\n",
            "Last hidden state shape: torch.Size([15, 2, 20])\n"
          ]
        }
      ],
      "source": [
        "# Example usage:\n",
        "\n",
        "input_size = 10\n",
        "output_size = 10\n",
        "\n",
        "# it is matched with input size.\n",
        "hidden_size = 10\n",
        "# HW: implement StackedRNN that supports different input size and hidden size.\n",
        "\n",
        "seq_length = 5\n",
        "batch_size = 2\n",
        "num_layers = 15\n",
        "\n",
        "# Create LSTM model\n",
        "rnn = StackedRNN(input_size, hidden_size, output_size, num_layers)\n",
        "\n",
        "# Generate some random input data\n",
        "inputs = torch.randn(batch_size, seq_length, input_size)\n",
        "\n",
        "# Forward pass\n",
        "output, hidden_states_last = rnn(inputs)\n",
        "print(\"Output shape:\", output.shape)\n",
        "print(\"Last hidden state shape:\", hidden_states_last.shape)\n"
      ]
    },
    {
      "cell_type": "code",
      "source": [],
      "metadata": {
        "id": "GvZ22F1Hu5fV"
      },
      "execution_count": null,
      "outputs": []
    }
  ]
}