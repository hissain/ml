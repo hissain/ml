{
  "nbformat": 4,
  "nbformat_minor": 0,
  "metadata": {
    "colab": {
      "provenance": []
    },
    "kernelspec": {
      "name": "python3",
      "display_name": "Python 3"
    },
    "language_info": {
      "name": "python"
    }
  },
  "cells": [
    {
      "cell_type": "code",
      "execution_count": 1,
      "metadata": {
        "colab": {
          "base_uri": "https://localhost:8080/"
        },
        "id": "-Pu5on5jo01R",
        "outputId": "04a3e4c8-d003-4a00-fc06-b2c81553d63f"
      },
      "outputs": [
        {
          "output_type": "stream",
          "name": "stdout",
          "text": [
            "Mean Squared Error (MSE): 2900.193628493482\n",
            "R-squared (R^2) Score: 0.4526027629719195\n",
            "Root Mean Squared Error (RMSE): 53.85344583676593\n"
          ]
        }
      ],
      "source": [
        "import numpy as np\n",
        "from sklearn.datasets import load_diabetes\n",
        "from sklearn.model_selection import train_test_split\n",
        "from sklearn.linear_model import LinearRegression\n",
        "from sklearn.metrics import mean_squared_error, r2_score\n",
        "\n",
        "# Load the diabetes dataset\n",
        "diabetes = load_diabetes()\n",
        "X = diabetes.data\n",
        "y = diabetes.target\n",
        "\n",
        "# Split the data into training and testing sets\n",
        "X_train, X_test, y_train, y_test = train_test_split(X, y, test_size=0.2, random_state=42)\n",
        "\n",
        "# Initialize and train a regressor (Linear Regression in this case)\n",
        "regressor = LinearRegression()\n",
        "regressor.fit(X_train, y_train)\n",
        "\n",
        "# Predict the target variable for the test set\n",
        "y_pred = regressor.predict(X_test)\n",
        "\n",
        "# Calculate the mean squared error (MSE) to evaluate the model's accuracy\n",
        "mse = mean_squared_error(y_test, y_pred)\n",
        "print(\"Mean Squared Error (MSE):\", mse)\n",
        "\n",
        "r2 = r2_score(y_test, y_pred)\n",
        "print(\"R-squared (R^2) Score:\", r2)\n",
        "\n",
        "rmse = np.sqrt(mse)\n",
        "print(\"Root Mean Squared Error (RMSE):\", rmse)"
      ]
    },
    {
      "cell_type": "code",
      "source": [
        "from sklearn.linear_model import Ridge\n",
        "\n",
        "# Initialize and train a Ridge regressor\n",
        "regressor = Ridge()\n",
        "regressor.fit(X_train, y_train)\n",
        "\n",
        "# Predict the target variable for the test set\n",
        "y_pred = regressor.predict(X_test)\n",
        "\n",
        "# Calculate the mean squared error (MSE) to evaluate the model's accuracy\n",
        "mse = mean_squared_error(y_test, y_pred)\n",
        "print(\"Mean Squared Error (MSE):\", mse)\n",
        "\n",
        "r2 = r2_score(y_test, y_pred)\n",
        "print(\"R-squared (R^2) Score:\", r2)\n",
        "\n",
        "rmse = np.sqrt(mse)\n",
        "print(\"Root Mean Squared Error (RMSE):\", rmse)"
      ],
      "metadata": {
        "colab": {
          "base_uri": "https://localhost:8080/"
        },
        "id": "Ks8cfnLvquZj",
        "outputId": "be02933e-8845-47d8-e44c-f984b434f1e7"
      },
      "execution_count": 2,
      "outputs": [
        {
          "output_type": "stream",
          "name": "stdout",
          "text": [
            "Mean Squared Error (MSE): 3077.41593882723\n",
            "R-squared (R^2) Score: 0.41915292635986545\n",
            "Root Mean Squared Error (RMSE): 55.47446204180109\n"
          ]
        }
      ]
    },
    {
      "cell_type": "code",
      "source": [
        "from sklearn.ensemble import RandomForestRegressor\n",
        "\n",
        "# Initialize and train a Random Forest regressor\n",
        "regressor = RandomForestRegressor()\n",
        "regressor.fit(X_train, y_train)\n",
        "\n",
        "# Predict the target variable for the test set\n",
        "y_pred = regressor.predict(X_test)\n",
        "\n",
        "# Calculate the mean squared error (MSE) to evaluate the model's accuracy\n",
        "mse = mean_squared_error(y_test, y_pred)\n",
        "print(\"Mean Squared Error (MSE):\", mse)\n",
        "\n",
        "r2 = r2_score(y_test, y_pred)\n",
        "print(\"R-squared (R^2) Score:\", r2)\n",
        "\n",
        "rmse = np.sqrt(mse)\n",
        "print(\"Root Mean Squared Error (RMSE):\", rmse)\n"
      ],
      "metadata": {
        "colab": {
          "base_uri": "https://localhost:8080/"
        },
        "id": "2JpgpcKnrFL3",
        "outputId": "45977ce7-d518-49aa-9639-d027d7426228"
      },
      "execution_count": 3,
      "outputs": [
        {
          "output_type": "stream",
          "name": "stdout",
          "text": [
            "Mean Squared Error (MSE): 3098.828764044944\n",
            "R-squared (R^2) Score: 0.41511136125676906\n",
            "Root Mean Squared Error (RMSE): 55.667124625266425\n"
          ]
        }
      ]
    },
    {
      "cell_type": "code",
      "source": [
        "from sklearn.svm import SVR\n",
        "\n",
        "# Initialize and train a SVR regressor\n",
        "regressor = SVR()\n",
        "regressor.fit(X_train, y_train)\n",
        "\n",
        "# Predict the target variable for the test set\n",
        "y_pred = regressor.predict(X_test)\n",
        "\n",
        "# Calculate the mean squared error (MSE) to evaluate the model's accuracy\n",
        "mse = mean_squared_error(y_test, y_pred)\n",
        "print(\"Mean Squared Error (MSE):\", mse)\n",
        "\n",
        "r2 = r2_score(y_test, y_pred)\n",
        "print(\"R-squared (R^2) Score:\", r2)\n",
        "\n",
        "rmse = np.sqrt(mse)\n",
        "print(\"Root Mean Squared Error (RMSE):\", rmse)\n"
      ],
      "metadata": {
        "colab": {
          "base_uri": "https://localhost:8080/"
        },
        "id": "GAxdUIKGrWz1",
        "outputId": "c48d63fe-acb0-43ea-e028-c66f13b6f97b"
      },
      "execution_count": 4,
      "outputs": [
        {
          "output_type": "stream",
          "name": "stdout",
          "text": [
            "Mean Squared Error (MSE): 4333.285954518086\n",
            "R-squared (R^2) Score: 0.18211365770500287\n",
            "Root Mean Squared Error (RMSE): 65.82769899151941\n"
          ]
        }
      ]
    },
    {
      "cell_type": "code",
      "source": [
        "from sklearn.ensemble import GradientBoostingRegressor\n",
        "\n",
        "# Initialize and train a Gradient Boosting regressor\n",
        "regressor = GradientBoostingRegressor()\n",
        "regressor.fit(X_train, y_train)\n",
        "\n",
        "# Predict the target variable for the test set\n",
        "y_pred = regressor.predict(X_test)\n",
        "\n",
        "# Calculate the mean squared error (MSE) to evaluate the model's accuracy\n",
        "mse = mean_squared_error(y_test, y_pred)\n",
        "print(\"Mean Squared Error (MSE):\", mse)\n",
        "\n",
        "r2 = r2_score(y_test, y_pred)\n",
        "print(\"R-squared (R^2) Score:\", r2)\n",
        "\n",
        "rmse = np.sqrt(mse)\n",
        "print(\"Root Mean Squared Error (RMSE):\", rmse)\n"
      ],
      "metadata": {
        "colab": {
          "base_uri": "https://localhost:8080/"
        },
        "id": "09uI3HsordpS",
        "outputId": "0f642ed2-eba0-4b28-c6fd-c650e172d066"
      },
      "execution_count": 5,
      "outputs": [
        {
          "output_type": "stream",
          "name": "stdout",
          "text": [
            "Mean Squared Error (MSE): 2921.149062499879\n",
            "R-squared (R^2) Score: 0.4486475282030654\n",
            "Root Mean Squared Error (RMSE): 54.0476554764393\n"
          ]
        }
      ]
    },
    {
      "cell_type": "code",
      "source": [
        "from sklearn.linear_model import Lasso\n",
        "\n",
        "# Initialize and train a Lasso regressor\n",
        "regressor = Lasso()\n",
        "regressor.fit(X_train, y_train)\n",
        "\n",
        "# Predict the target variable for the test set\n",
        "y_pred = regressor.predict(X_test)\n",
        "\n",
        "# Calculate the mean squared error (MSE) to evaluate the model's accuracy\n",
        "mse = mean_squared_error(y_test, y_pred)\n",
        "print(\"Mean Squared Error (MSE):\", mse)\n",
        "\n",
        "r2 = r2_score(y_test, y_pred)\n",
        "print(\"R-squared (R^2) Score:\", r2)\n",
        "\n",
        "rmse = np.sqrt(mse)\n",
        "print(\"Root Mean Squared Error (RMSE):\", rmse)\n"
      ],
      "metadata": {
        "colab": {
          "base_uri": "https://localhost:8080/"
        },
        "id": "rvUXwYkYrvAE",
        "outputId": "1f77873b-e5be-46f3-c382-f546ea8cfb20"
      },
      "execution_count": 6,
      "outputs": [
        {
          "output_type": "stream",
          "name": "stdout",
          "text": [
            "Mean Squared Error (MSE): 3403.5757216070733\n",
            "R-squared (R^2) Score: 0.3575918767219115\n",
            "Root Mean Squared Error (RMSE): 58.340172450954185\n"
          ]
        }
      ]
    },
    {
      "cell_type": "code",
      "source": [
        "from sklearn.linear_model import BayesianRidge\n",
        "\n",
        "# Initialize and train a Bayesian Ridge regressor\n",
        "regressor = BayesianRidge()\n",
        "regressor.fit(X_train, y_train)\n",
        "\n",
        "# Predict the target variable for the test set\n",
        "y_pred = regressor.predict(X_test)\n",
        "\n",
        "# Calculate the mean squared error (MSE) to evaluate the model's accuracy\n",
        "mse = mean_squared_error(y_test, y_pred)\n",
        "print(\"Mean Squared Error (MSE):\", mse)\n",
        "\n",
        "r2 = r2_score(y_test, y_pred)\n",
        "print(\"R-squared (R^2) Score:\", r2)\n",
        "\n",
        "rmse = np.sqrt(mse)\n",
        "print(\"Root Mean Squared Error (RMSE):\", rmse)\n"
      ],
      "metadata": {
        "colab": {
          "base_uri": "https://localhost:8080/"
        },
        "id": "Rv0iyKaurzYa",
        "outputId": "4e3ed4df-8c06-46c4-e39d-d3b3726b2cb4"
      },
      "execution_count": 7,
      "outputs": [
        {
          "output_type": "stream",
          "name": "stdout",
          "text": [
            "Mean Squared Error (MSE): 2871.762109554599\n",
            "R-squared (R^2) Score: 0.4579690718827283\n",
            "Root Mean Squared Error (RMSE): 53.588824483791385\n"
          ]
        }
      ]
    },
    {
      "cell_type": "code",
      "source": [
        "from sklearn.tree import DecisionTreeRegressor\n",
        "\n",
        "# Initialize and train a Decision Tree regressor\n",
        "regressor = DecisionTreeRegressor()\n",
        "regressor.fit(X_train, y_train)\n",
        "\n",
        "# Predict the target variable for the test set\n",
        "y_pred = regressor.predict(X_test)\n",
        "\n",
        "# Calculate the mean squared error (MSE) to evaluate the model's accuracy\n",
        "mse = mean_squared_error(y_test, y_pred)\n",
        "print(\"Mean Squared Error (MSE):\", mse)\n",
        "\n",
        "r2 = r2_score(y_test, y_pred)\n",
        "print(\"R-squared (R^2) Score:\", r2)\n",
        "\n",
        "rmse = np.sqrt(mse)\n",
        "print(\"Root Mean Squared Error (RMSE):\", rmse)\n"
      ],
      "metadata": {
        "colab": {
          "base_uri": "https://localhost:8080/"
        },
        "id": "lzTl2qevsIPz",
        "outputId": "11f8f437-3c3b-4bd0-b0e5-bb4aeab4b411"
      },
      "execution_count": 8,
      "outputs": [
        {
          "output_type": "stream",
          "name": "stdout",
          "text": [
            "Mean Squared Error (MSE): 4773.5842696629215\n",
            "R-squared (R^2) Score: 0.0990095232739513\n",
            "Root Mean Squared Error (RMSE): 69.09113018081932\n"
          ]
        }
      ]
    },
    {
      "cell_type": "code",
      "source": [
        "from sklearn.neighbors import KNeighborsRegressor\n",
        "\n",
        "# Initialize and train a KNN regressor\n",
        "regressor = KNeighborsRegressor()\n",
        "regressor.fit(X_train, y_train)\n",
        "\n",
        "# Predict the target variable for the test set\n",
        "y_pred = regressor.predict(X_test)\n",
        "\n",
        "# Calculate the mean squared error (MSE) to evaluate the model's accuracy\n",
        "mse = mean_squared_error(y_test, y_pred)\n",
        "print(\"Mean Squared Error (MSE):\", mse)\n",
        "\n",
        "r2 = r2_score(y_test, y_pred)\n",
        "print(\"R-squared (R^2) Score:\", r2)\n",
        "\n",
        "rmse = np.sqrt(mse)\n",
        "print(\"Root Mean Squared Error (RMSE):\", rmse)\n"
      ],
      "metadata": {
        "colab": {
          "base_uri": "https://localhost:8080/"
        },
        "id": "fM9csGH9sWyS",
        "outputId": "669a097f-50e4-4c0e-c182-3bfe29d0da24"
      },
      "execution_count": 9,
      "outputs": [
        {
          "output_type": "stream",
          "name": "stdout",
          "text": [
            "Mean Squared Error (MSE): 3019.075505617978\n",
            "R-squared (R^2) Score: 0.43016439526042805\n",
            "Root Mean Squared Error (RMSE): 54.946114563433675\n"
          ]
        }
      ]
    },
    {
      "cell_type": "code",
      "source": [
        "from sklearn.linear_model import ElasticNet\n",
        "\n",
        "# Initialize and train an ElasticNet regressor\n",
        "regressor = ElasticNet()\n",
        "regressor.fit(X_train, y_train)\n",
        "\n",
        "# Predict the target variable for the test set\n",
        "y_pred = regressor.predict(X_test)\n",
        "\n",
        "# Calculate the mean squared error (MSE) to evaluate the model's accuracy\n",
        "mse = mean_squared_error(y_test, y_pred)\n",
        "print(\"Mean Squared Error (MSE):\", mse)\n",
        "\n",
        "r2 = r2_score(y_test, y_pred)\n",
        "print(\"R-squared (R^2) Score:\", r2)\n",
        "\n",
        "rmse = np.sqrt(mse)\n",
        "print(\"Root Mean Squared Error (RMSE):\", rmse)"
      ],
      "metadata": {
        "colab": {
          "base_uri": "https://localhost:8080/"
        },
        "id": "qeAQQT0JsiR6",
        "outputId": "5a0d08d7-84fc-484e-ab96-6defcece532f"
      },
      "execution_count": 10,
      "outputs": [
        {
          "output_type": "stream",
          "name": "stdout",
          "text": [
            "Mean Squared Error (MSE): 5311.21282167187\n",
            "R-squared (R^2) Score: -0.0024652131111431164\n",
            "Root Mean Squared Error (RMSE): 72.87806818015876\n"
          ]
        }
      ]
    },
    {
      "cell_type": "code",
      "source": [
        "from sklearn.ensemble import AdaBoostRegressor\n",
        "\n",
        "# Initialize and train an AdaBoost regressor\n",
        "regressor = AdaBoostRegressor()\n",
        "regressor.fit(X_train, y_train)\n",
        "\n",
        "# Predict the target variable for the test set\n",
        "y_pred = regressor.predict(X_test)\n",
        "\n",
        "# Calculate the mean squared error (MSE) to evaluate the model's accuracy\n",
        "mse = mean_squared_error(y_test, y_pred)\n",
        "print(\"Mean Squared Error (MSE):\", mse)\n",
        "\n",
        "r2 = r2_score(y_test, y_pred)\n",
        "print(\"R-squared (R^2) Score:\", r2)\n",
        "\n",
        "rmse = np.sqrt(mse)\n",
        "print(\"Root Mean Squared Error (RMSE):\", rmse)\n"
      ],
      "metadata": {
        "colab": {
          "base_uri": "https://localhost:8080/"
        },
        "id": "yxWhPSyUsqfQ",
        "outputId": "8df7d71a-40ab-44d6-f4c9-387ad0e5ce7b"
      },
      "execution_count": 11,
      "outputs": [
        {
          "output_type": "stream",
          "name": "stdout",
          "text": [
            "Mean Squared Error (MSE): 2959.484523284445\n",
            "R-squared (R^2) Score: 0.44141189913764667\n",
            "Root Mean Squared Error (RMSE): 54.401144503442616\n"
          ]
        }
      ]
    },
    {
      "cell_type": "code",
      "source": [
        "from sklearn.linear_model import HuberRegressor\n",
        "\n",
        "# Initialize and train a HuberRegressor\n",
        "regressor = HuberRegressor()\n",
        "regressor.fit(X_train, y_train)\n",
        "\n",
        "# Predict the target variable for the test set\n",
        "y_pred = regressor.predict(X_test)\n",
        "\n",
        "# Calculate the mean squared error (MSE) to evaluate the model's accuracy\n",
        "mse = mean_squared_error(y_test, y_pred)\n",
        "print(\"Mean Squared Error (MSE):\", mse)\n",
        "\n",
        "r2 = r2_score(y_test, y_pred)\n",
        "print(\"R-squared (R^2) Score:\", r2)\n",
        "\n",
        "rmse = np.sqrt(mse)\n",
        "print(\"Root Mean Squared Error (RMSE):\", rmse)\n"
      ],
      "metadata": {
        "colab": {
          "base_uri": "https://localhost:8080/"
        },
        "id": "IlBY9o0Fs3cU",
        "outputId": "df878dff-a743-43c6-829e-1eb120a123ed"
      },
      "execution_count": 12,
      "outputs": [
        {
          "output_type": "stream",
          "name": "stdout",
          "text": [
            "Mean Squared Error (MSE): 2924.118549510558\n",
            "R-squared (R^2) Score: 0.44808705218206235\n",
            "Root Mean Squared Error (RMSE): 54.07511950528226\n"
          ]
        },
        {
          "output_type": "stream",
          "name": "stderr",
          "text": [
            "/usr/local/lib/python3.10/dist-packages/sklearn/linear_model/_huber.py:342: ConvergenceWarning: lbfgs failed to converge (status=1):\n",
            "STOP: TOTAL NO. of ITERATIONS REACHED LIMIT.\n",
            "\n",
            "Increase the number of iterations (max_iter) or scale the data as shown in:\n",
            "    https://scikit-learn.org/stable/modules/preprocessing.html\n",
            "  self.n_iter_ = _check_optimize_result(\"lbfgs\", opt_res, self.max_iter)\n"
          ]
        }
      ]
    },
    {
      "cell_type": "code",
      "source": [
        "from sklearn.linear_model import PassiveAggressiveRegressor\n",
        "\n",
        "# Initialize and train a PassiveAggressiveRegressor\n",
        "regressor = PassiveAggressiveRegressor()\n",
        "regressor.fit(X_train, y_train)\n",
        "\n",
        "# Predict the target variable for the test set\n",
        "y_pred = regressor.predict(X_test)\n",
        "\n",
        "# Calculate the mean squared error (MSE) to evaluate the model's accuracy\n",
        "mse = mean_squared_error(y_test, y_pred)\n",
        "print(\"Mean Squared Error (MSE):\", mse)\n",
        "\n",
        "r2 = r2_score(y_test, y_pred)\n",
        "print(\"R-squared (R^2) Score:\", r2)\n",
        "\n",
        "rmse = np.sqrt(mse)\n",
        "print(\"Root Mean Squared Error (RMSE):\", rmse)\n"
      ],
      "metadata": {
        "colab": {
          "base_uri": "https://localhost:8080/"
        },
        "id": "EyZC_LmStELZ",
        "outputId": "dd41b891-e66a-44a5-a0a5-44b00ba365e4"
      },
      "execution_count": 13,
      "outputs": [
        {
          "output_type": "stream",
          "name": "stdout",
          "text": [
            "Mean Squared Error (MSE): 2902.091438082855\n",
            "R-squared (R^2) Score: 0.45224456077623776\n",
            "Root Mean Squared Error (RMSE): 53.87106308662244\n"
          ]
        }
      ]
    },
    {
      "cell_type": "code",
      "source": [
        "from sklearn.gaussian_process import GaussianProcessRegressor\n",
        "from sklearn.gaussian_process.kernels import RBF\n",
        "\n",
        "# Initialize and train a Gaussian Process regressor\n",
        "kernel = RBF(length_scale=1.0)\n",
        "regressor = GaussianProcessRegressor(kernel=kernel)\n",
        "regressor.fit(X_train, y_train)\n",
        "\n",
        "# Predict the target variable for the test set\n",
        "y_pred = regressor.predict(X_test)\n",
        "\n",
        "# Calculate the mean squared error (MSE) to evaluate the model's accuracy\n",
        "mse = mean_squared_error(y_test, y_pred)\n",
        "print(\"Mean Squared Error (MSE):\", mse)\n",
        "\n",
        "r2 = r2_score(y_test, y_pred)\n",
        "print(\"R-squared (R^2) Score:\", r2)\n",
        "\n",
        "rmse = np.sqrt(mse)\n",
        "print(\"Root Mean Squared Error (RMSE):\", rmse)\n"
      ],
      "metadata": {
        "colab": {
          "base_uri": "https://localhost:8080/"
        },
        "id": "_GrFEtOatQ3X",
        "outputId": "eacb0214-ae34-48a8-c991-e56298353c71"
      },
      "execution_count": 14,
      "outputs": [
        {
          "output_type": "stream",
          "name": "stdout",
          "text": [
            "Mean Squared Error (MSE): 26548.584269662922\n",
            "R-squared (R^2) Score: -4.010914282909338\n",
            "Root Mean Squared Error (RMSE): 162.93736302537525\n"
          ]
        },
        {
          "output_type": "stream",
          "name": "stderr",
          "text": [
            "/usr/local/lib/python3.10/dist-packages/sklearn/gaussian_process/kernels.py:420: ConvergenceWarning: The optimal value found for dimension 0 of parameter length_scale is close to the specified lower bound 1e-05. Decreasing the bound and calling fit again may find a better value.\n",
            "  warnings.warn(\n"
          ]
        }
      ]
    },
    {
      "cell_type": "code",
      "source": [
        "from sklearn.svm import SVR\n",
        "\n",
        "# Initialize and train a Support Vector Machine (SVM) regressor\n",
        "regressor = SVR()\n",
        "regressor.fit(X_train, y_train)\n",
        "\n",
        "# Predict the target variable for the test set\n",
        "y_pred = regressor.predict(X_test)\n",
        "\n",
        "# Calculate the mean squared error (MSE) to evaluate the model's accuracy\n",
        "mse = mean_squared_error(y_test, y_pred)\n",
        "print(\"Mean Squared Error (MSE):\", mse)\n",
        "\n",
        "r2 = r2_score(y_test, y_pred)\n",
        "print(\"R-squared (R^2) Score:\", r2)\n",
        "\n",
        "rmse = np.sqrt(mse)\n",
        "print(\"Root Mean Squared Error (RMSE):\", rmse)\n"
      ],
      "metadata": {
        "colab": {
          "base_uri": "https://localhost:8080/"
        },
        "id": "RZngGPhKtXgo",
        "outputId": "29d35be3-702c-426f-807a-6c8eaeaae99e"
      },
      "execution_count": 15,
      "outputs": [
        {
          "output_type": "stream",
          "name": "stdout",
          "text": [
            "Mean Squared Error (MSE): 4333.285954518086\n",
            "R-squared (R^2) Score: 0.18211365770500287\n",
            "Root Mean Squared Error (RMSE): 65.82769899151941\n"
          ]
        }
      ]
    },
    {
      "cell_type": "code",
      "source": [
        "from sklearn.neural_network import MLPRegressor\n",
        "\n",
        "# Initialize and train a Multi-layer Perceptron (MLP) regressor\n",
        "regressor = MLPRegressor()\n",
        "regressor.fit(X_train, y_train)\n",
        "\n",
        "# Predict the target variable for the test set\n",
        "y_pred = regressor.predict(X_test)\n",
        "\n",
        "# Calculate the mean squared error (MSE) to evaluate the model's accuracy\n",
        "mse = mean_squared_error(y_test, y_pred)\n",
        "print(\"Mean Squared Error (MSE):\", mse)\n",
        "\n",
        "r2 = r2_score(y_test, y_pred)\n",
        "print(\"R-squared (R^2) Score:\", r2)\n",
        "\n",
        "rmse = np.sqrt(mse)\n",
        "print(\"Root Mean Squared Error (RMSE):\", rmse)\n"
      ],
      "metadata": {
        "colab": {
          "base_uri": "https://localhost:8080/"
        },
        "id": "xrF7Wi-9tjtO",
        "outputId": "cdd8d8a1-b11a-4a4f-82d1-5bfe585014f7"
      },
      "execution_count": 16,
      "outputs": [
        {
          "output_type": "stream",
          "name": "stdout",
          "text": [
            "Mean Squared Error (MSE): 23287.997873248663\n",
            "R-squared (R^2) Score: -3.3954946892128817\n",
            "Root Mean Squared Error (RMSE): 152.60405588728193\n"
          ]
        },
        {
          "output_type": "stream",
          "name": "stderr",
          "text": [
            "/usr/local/lib/python3.10/dist-packages/sklearn/neural_network/_multilayer_perceptron.py:686: ConvergenceWarning: Stochastic Optimizer: Maximum iterations (200) reached and the optimization hasn't converged yet.\n",
            "  warnings.warn(\n"
          ]
        }
      ]
    },
    {
      "cell_type": "code",
      "source": [
        "from sklearn.ensemble import GradientBoostingRegressor\n",
        "\n",
        "# Initialize and train a Gradient Boosting regressor\n",
        "regressor = GradientBoostingRegressor()\n",
        "regressor.fit(X_train, y_train)\n",
        "\n",
        "# Predict the target variable for the test set\n",
        "y_pred = regressor.predict(X_test)\n",
        "\n",
        "# Calculate the mean squared error (MSE) to evaluate the model's accuracy\n",
        "mse = mean_squared_error(y_test, y_pred)\n",
        "print(\"Mean Squared Error (MSE):\", mse)\n",
        "\n",
        "r2 = r2_score(y_test, y_pred)\n",
        "print(\"R-squared (R^2) Score:\", r2)\n",
        "\n",
        "rmse = np.sqrt(mse)\n",
        "print(\"Root Mean Squared Error (RMSE):\", rmse)\n"
      ],
      "metadata": {
        "colab": {
          "base_uri": "https://localhost:8080/"
        },
        "id": "hecToTd3truI",
        "outputId": "2dfc2c2c-4ede-460d-dfe1-bc1336065013"
      },
      "execution_count": 17,
      "outputs": [
        {
          "output_type": "stream",
          "name": "stdout",
          "text": [
            "Mean Squared Error (MSE): 2906.2791476953034\n",
            "R-squared (R^2) Score: 0.45145415125019484\n",
            "Root Mean Squared Error (RMSE): 53.90991696984242\n"
          ]
        }
      ]
    },
    {
      "cell_type": "code",
      "source": [
        "from sklearn.ensemble import BaggingRegressor\n",
        "from sklearn.tree import DecisionTreeRegressor\n",
        "\n",
        "# Initialize and train a Bagging Regressor with DecisionTreeRegressor as base estimator\n",
        "base_regressor = DecisionTreeRegressor()\n",
        "regressor = BaggingRegressor(base_regressor, n_estimators=10, random_state=42)\n",
        "regressor.fit(X_train, y_train)\n",
        "\n",
        "# Predict the target variable for the test set\n",
        "y_pred = regressor.predict(X_test)\n",
        "\n",
        "# Calculate the mean squared error (MSE) to evaluate the model's accuracy\n",
        "mse = mean_squared_error(y_test, y_pred)\n",
        "print(\"Mean Squared Error (MSE):\", mse)\n",
        "\n",
        "r2 = r2_score(y_test, y_pred)\n",
        "print(\"R-squared (R^2) Score:\", r2)\n",
        "\n",
        "rmse = np.sqrt(mse)\n",
        "print(\"Root Mean Squared Error (RMSE):\", rmse)\n"
      ],
      "metadata": {
        "colab": {
          "base_uri": "https://localhost:8080/"
        },
        "id": "0oM9LDBPt21y",
        "outputId": "1cc6255b-58da-4d88-a67f-f240c0199bd8"
      },
      "execution_count": 18,
      "outputs": [
        {
          "output_type": "stream",
          "name": "stdout",
          "text": [
            "Mean Squared Error (MSE): 3256.961797752809\n",
            "R-squared (R^2) Score: 0.3852645314161288\n",
            "Root Mean Squared Error (RMSE): 57.06979759691468\n"
          ]
        }
      ]
    },
    {
      "cell_type": "code",
      "source": [
        "from sklearn.ensemble import RandomForestRegressor\n",
        "from sklearn.ensemble import GradientBoostingRegressor\n",
        "from sklearn.ensemble import VotingRegressor\n",
        "\n",
        "# Initialize and train individual regressors\n",
        "regressor1 = RandomForestRegressor(random_state=42)\n",
        "regressor2 = GradientBoostingRegressor(random_state=42)\n",
        "\n",
        "# Initialize and train a Voting Regressor with Random Forest and Gradient Boosting as estimators\n",
        "estimators = [('rf', regressor1), ('gb', regressor2)]\n",
        "regressor = VotingRegressor(estimators)\n",
        "regressor.fit(X_train, y_train)\n",
        "\n",
        "# Predict the target variable for the test set\n",
        "y_pred = regressor.predict(X_test)\n",
        "\n",
        "# Calculate the mean squared error (MSE) to evaluate the model's accuracy\n",
        "mse = mean_squared_error(y_test, y_pred)\n",
        "print(\"Mean Squared Error (MSE):\", mse)\n",
        "\n",
        "r2 = r2_score(y_test, y_pred)\n",
        "print(\"R-squared (R^2) Score:\", r2)\n",
        "\n",
        "rmse = np.sqrt(mse)\n",
        "print(\"Root Mean Squared Error (RMSE):\", rmse)"
      ],
      "metadata": {
        "colab": {
          "base_uri": "https://localhost:8080/"
        },
        "id": "twogKTAKt7iH",
        "outputId": "ab9192d4-c856-47a1-a32d-f1c6deada573"
      },
      "execution_count": 19,
      "outputs": [
        {
          "output_type": "stream",
          "name": "stdout",
          "text": [
            "Mean Squared Error (MSE): 2846.6999433370243\n",
            "R-squared (R^2) Score: 0.46269943209270004\n",
            "Root Mean Squared Error (RMSE): 53.354474445326744\n"
          ]
        }
      ]
    },
    {
      "cell_type": "code",
      "source": [
        "from sklearn.linear_model import SGDRegressor\n",
        "\n",
        "# Initialize and train a SGD Regressor\n",
        "regressor = SGDRegressor(max_iter=1000, tol=1e-3, random_state=42)\n",
        "regressor.fit(X_train, y_train)\n",
        "\n",
        "# Predict the target variable for the test set\n",
        "y_pred = regressor.predict(X_test)\n",
        "\n",
        "# Calculate the mean squared error (MSE) to evaluate the model's accuracy\n",
        "mse = mean_squared_error(y_test, y_pred)\n",
        "print(\"Mean Squared Error (MSE):\", mse)\n",
        "\n",
        "r2 = r2_score(y_test, y_pred)\n",
        "print(\"R-squared (R^2) Score:\", r2)\n",
        "\n",
        "rmse = np.sqrt(mse)\n",
        "print(\"Root Mean Squared Error (RMSE):\", rmse)\n"
      ],
      "metadata": {
        "colab": {
          "base_uri": "https://localhost:8080/"
        },
        "id": "cA9pL7F5uNc8",
        "outputId": "492b2c76-7e0f-492a-c09d-5b8547867637"
      },
      "execution_count": 20,
      "outputs": [
        {
          "output_type": "stream",
          "name": "stdout",
          "text": [
            "Mean Squared Error (MSE): 3111.880568911598\n",
            "R-squared (R^2) Score: 0.4126478974893697\n",
            "Root Mean Squared Error (RMSE): 55.78423226066303\n"
          ]
        },
        {
          "output_type": "stream",
          "name": "stderr",
          "text": [
            "/usr/local/lib/python3.10/dist-packages/sklearn/linear_model/_stochastic_gradient.py:1548: ConvergenceWarning: Maximum number of iteration reached before convergence. Consider increasing max_iter to improve the fit.\n",
            "  warnings.warn(\n"
          ]
        }
      ]
    },
    {
      "cell_type": "code",
      "source": [
        "from sklearn.ensemble import ExtraTreesRegressor\n",
        "\n",
        "# Initialize and train an Extra Trees Regressor\n",
        "regressor = ExtraTreesRegressor(n_estimators=100, random_state=42)\n",
        "regressor.fit(X_train, y_train)\n",
        "\n",
        "# Predict the target variable for the test set\n",
        "y_pred = regressor.predict(X_test)\n",
        "\n",
        "# Calculate the mean squared error (MSE) to evaluate the model's accuracy\n",
        "mse = mean_squared_error(y_test, y_pred)\n",
        "print(\"Mean Squared Error (MSE):\", mse)\n",
        "\n",
        "r2 = r2_score(y_test, y_pred)\n",
        "print(\"R-squared (R^2) Score:\", r2)\n",
        "\n",
        "rmse = np.sqrt(mse)\n",
        "print(\"Root Mean Squared Error (RMSE):\", rmse)\n"
      ],
      "metadata": {
        "colab": {
          "base_uri": "https://localhost:8080/"
        },
        "id": "insRtgXouWTK",
        "outputId": "ae7f7cbc-de4b-4ddf-cbf0-4caf1f7352a7"
      },
      "execution_count": 21,
      "outputs": [
        {
          "output_type": "stream",
          "name": "stdout",
          "text": [
            "Mean Squared Error (MSE): 2816.200873033708\n",
            "R-squared (R^2) Score: 0.46845598112168085\n",
            "Root Mean Squared Error (RMSE): 53.06788928376281\n"
          ]
        }
      ]
    },
    {
      "cell_type": "code",
      "source": [
        "from sklearn.linear_model import RidgeCV\n",
        "\n",
        "# Initialize and train a RidgeCV regressor\n",
        "regressor = RidgeCV()\n",
        "regressor.fit(X_train, y_train)\n",
        "\n",
        "# Predict the target variable for the test set\n",
        "y_pred = regressor.predict(X_test)\n",
        "\n",
        "# Calculate the mean squared error (MSE) to evaluate the model's accuracy\n",
        "mse = mean_squared_error(y_test, y_pred)\n",
        "print(\"Mean Squared Error (MSE):\", mse)\n",
        "\n",
        "r2 = r2_score(y_test, y_pred)\n",
        "print(\"R-squared (R^2) Score:\", r2)\n",
        "\n",
        "rmse = np.sqrt(mse)\n",
        "print(\"Root Mean Squared Error (RMSE):\", rmse)\n"
      ],
      "metadata": {
        "colab": {
          "base_uri": "https://localhost:8080/"
        },
        "id": "aQjzgUu9uik3",
        "outputId": "d038e3f4-da34-4736-ee5e-67b59426ae25"
      },
      "execution_count": 22,
      "outputs": [
        {
          "output_type": "stream",
          "name": "stdout",
          "text": [
            "Mean Squared Error (MSE): 2856.486887670653\n",
            "R-squared (R^2) Score: 0.46085219464119276\n",
            "Root Mean Squared Error (RMSE): 53.44611199769963\n"
          ]
        }
      ]
    },
    {
      "cell_type": "code",
      "source": [
        "from lightgbm import LGBMRegressor\n",
        "\n",
        "# Initialize and train a LGBMRegressor\n",
        "regressor = LGBMRegressor()\n",
        "regressor.fit(X_train, y_train)\n",
        "\n",
        "# Predict the target variable for the test set\n",
        "y_pred = regressor.predict(X_test)\n",
        "\n",
        "# Calculate the mean squared error (MSE) to evaluate the model's accuracy\n",
        "mse = mean_squared_error(y_test, y_pred)\n",
        "print(\"Mean Squared Error (MSE):\", mse)\n",
        "\n",
        "r2 = r2_score(y_test, y_pred)\n",
        "print(\"R-squared (R^2) Score:\", r2)\n",
        "\n",
        "rmse = np.sqrt(mse)\n",
        "print(\"Root Mean Squared Error (RMSE):\", rmse)"
      ],
      "metadata": {
        "colab": {
          "base_uri": "https://localhost:8080/"
        },
        "id": "KyQl-hKiumsZ",
        "outputId": "2d4b2fd6-9432-4666-c2d0-c23f9ebeaee0"
      },
      "execution_count": 23,
      "outputs": [
        {
          "output_type": "stream",
          "name": "stdout",
          "text": [
            "[LightGBM] [Info] Auto-choosing col-wise multi-threading, the overhead of testing was 0.000129 seconds.\n",
            "You can set `force_col_wise=true` to remove the overhead.\n",
            "[LightGBM] [Info] Total Bins 595\n",
            "[LightGBM] [Info] Number of data points in the train set: 353, number of used features: 10\n",
            "[LightGBM] [Info] Start training from score 153.736544\n",
            "[LightGBM] [Warning] No further splits with positive gain, best gain: -inf\n",
            "[LightGBM] [Warning] No further splits with positive gain, best gain: -inf\n",
            "[LightGBM] [Warning] No further splits with positive gain, best gain: -inf\n",
            "[LightGBM] [Warning] No further splits with positive gain, best gain: -inf\n",
            "[LightGBM] [Warning] No further splits with positive gain, best gain: -inf\n",
            "[LightGBM] [Warning] No further splits with positive gain, best gain: -inf\n",
            "[LightGBM] [Warning] No further splits with positive gain, best gain: -inf\n",
            "[LightGBM] [Warning] No further splits with positive gain, best gain: -inf\n",
            "[LightGBM] [Warning] No further splits with positive gain, best gain: -inf\n",
            "[LightGBM] [Warning] No further splits with positive gain, best gain: -inf\n",
            "[LightGBM] [Warning] No further splits with positive gain, best gain: -inf\n",
            "[LightGBM] [Warning] No further splits with positive gain, best gain: -inf\n",
            "[LightGBM] [Warning] No further splits with positive gain, best gain: -inf\n",
            "[LightGBM] [Warning] No further splits with positive gain, best gain: -inf\n",
            "[LightGBM] [Warning] No further splits with positive gain, best gain: -inf\n",
            "[LightGBM] [Warning] No further splits with positive gain, best gain: -inf\n",
            "[LightGBM] [Warning] No further splits with positive gain, best gain: -inf\n",
            "[LightGBM] [Warning] No further splits with positive gain, best gain: -inf\n",
            "[LightGBM] [Warning] No further splits with positive gain, best gain: -inf\n",
            "[LightGBM] [Warning] No further splits with positive gain, best gain: -inf\n",
            "[LightGBM] [Warning] No further splits with positive gain, best gain: -inf\n",
            "[LightGBM] [Warning] No further splits with positive gain, best gain: -inf\n",
            "[LightGBM] [Warning] No further splits with positive gain, best gain: -inf\n",
            "[LightGBM] [Warning] No further splits with positive gain, best gain: -inf\n",
            "[LightGBM] [Warning] No further splits with positive gain, best gain: -inf\n",
            "[LightGBM] [Warning] No further splits with positive gain, best gain: -inf\n",
            "[LightGBM] [Warning] No further splits with positive gain, best gain: -inf\n",
            "[LightGBM] [Warning] No further splits with positive gain, best gain: -inf\n",
            "[LightGBM] [Warning] No further splits with positive gain, best gain: -inf\n",
            "[LightGBM] [Warning] No further splits with positive gain, best gain: -inf\n",
            "[LightGBM] [Warning] No further splits with positive gain, best gain: -inf\n",
            "[LightGBM] [Warning] No further splits with positive gain, best gain: -inf\n",
            "[LightGBM] [Warning] No further splits with positive gain, best gain: -inf\n",
            "[LightGBM] [Warning] No further splits with positive gain, best gain: -inf\n",
            "[LightGBM] [Warning] No further splits with positive gain, best gain: -inf\n",
            "[LightGBM] [Warning] No further splits with positive gain, best gain: -inf\n",
            "[LightGBM] [Warning] No further splits with positive gain, best gain: -inf\n",
            "[LightGBM] [Warning] No further splits with positive gain, best gain: -inf\n",
            "[LightGBM] [Warning] No further splits with positive gain, best gain: -inf\n",
            "[LightGBM] [Warning] No further splits with positive gain, best gain: -inf\n",
            "[LightGBM] [Warning] No further splits with positive gain, best gain: -inf\n",
            "[LightGBM] [Warning] No further splits with positive gain, best gain: -inf\n",
            "[LightGBM] [Warning] No further splits with positive gain, best gain: -inf\n",
            "[LightGBM] [Warning] No further splits with positive gain, best gain: -inf\n",
            "[LightGBM] [Warning] No further splits with positive gain, best gain: -inf\n",
            "[LightGBM] [Warning] No further splits with positive gain, best gain: -inf\n",
            "[LightGBM] [Warning] No further splits with positive gain, best gain: -inf\n",
            "[LightGBM] [Warning] No further splits with positive gain, best gain: -inf\n",
            "[LightGBM] [Warning] No further splits with positive gain, best gain: -inf\n",
            "[LightGBM] [Warning] No further splits with positive gain, best gain: -inf\n",
            "[LightGBM] [Warning] No further splits with positive gain, best gain: -inf\n",
            "[LightGBM] [Warning] No further splits with positive gain, best gain: -inf\n",
            "[LightGBM] [Warning] No further splits with positive gain, best gain: -inf\n",
            "[LightGBM] [Warning] No further splits with positive gain, best gain: -inf\n",
            "[LightGBM] [Warning] No further splits with positive gain, best gain: -inf\n",
            "[LightGBM] [Warning] No further splits with positive gain, best gain: -inf\n",
            "[LightGBM] [Warning] No further splits with positive gain, best gain: -inf\n",
            "[LightGBM] [Warning] No further splits with positive gain, best gain: -inf\n",
            "[LightGBM] [Warning] No further splits with positive gain, best gain: -inf\n",
            "[LightGBM] [Warning] No further splits with positive gain, best gain: -inf\n",
            "[LightGBM] [Warning] No further splits with positive gain, best gain: -inf\n",
            "[LightGBM] [Warning] No further splits with positive gain, best gain: -inf\n",
            "[LightGBM] [Warning] No further splits with positive gain, best gain: -inf\n",
            "[LightGBM] [Warning] No further splits with positive gain, best gain: -inf\n",
            "[LightGBM] [Warning] No further splits with positive gain, best gain: -inf\n",
            "[LightGBM] [Warning] No further splits with positive gain, best gain: -inf\n",
            "[LightGBM] [Warning] No further splits with positive gain, best gain: -inf\n",
            "[LightGBM] [Warning] No further splits with positive gain, best gain: -inf\n",
            "[LightGBM] [Warning] No further splits with positive gain, best gain: -inf\n",
            "[LightGBM] [Warning] No further splits with positive gain, best gain: -inf\n",
            "[LightGBM] [Warning] No further splits with positive gain, best gain: -inf\n",
            "[LightGBM] [Warning] No further splits with positive gain, best gain: -inf\n",
            "[LightGBM] [Warning] No further splits with positive gain, best gain: -inf\n",
            "[LightGBM] [Warning] No further splits with positive gain, best gain: -inf\n",
            "[LightGBM] [Warning] No further splits with positive gain, best gain: -inf\n",
            "[LightGBM] [Warning] No further splits with positive gain, best gain: -inf\n",
            "[LightGBM] [Warning] No further splits with positive gain, best gain: -inf\n",
            "[LightGBM] [Warning] No further splits with positive gain, best gain: -inf\n",
            "[LightGBM] [Warning] No further splits with positive gain, best gain: -inf\n",
            "[LightGBM] [Warning] No further splits with positive gain, best gain: -inf\n",
            "[LightGBM] [Warning] No further splits with positive gain, best gain: -inf\n",
            "[LightGBM] [Warning] No further splits with positive gain, best gain: -inf\n",
            "[LightGBM] [Warning] No further splits with positive gain, best gain: -inf\n",
            "[LightGBM] [Warning] No further splits with positive gain, best gain: -inf\n",
            "[LightGBM] [Warning] No further splits with positive gain, best gain: -inf\n",
            "[LightGBM] [Warning] No further splits with positive gain, best gain: -inf\n",
            "[LightGBM] [Warning] No further splits with positive gain, best gain: -inf\n",
            "[LightGBM] [Warning] No further splits with positive gain, best gain: -inf\n",
            "[LightGBM] [Warning] No further splits with positive gain, best gain: -inf\n",
            "[LightGBM] [Warning] No further splits with positive gain, best gain: -inf\n",
            "[LightGBM] [Warning] No further splits with positive gain, best gain: -inf\n",
            "[LightGBM] [Warning] No further splits with positive gain, best gain: -inf\n",
            "[LightGBM] [Warning] No further splits with positive gain, best gain: -inf\n",
            "[LightGBM] [Warning] No further splits with positive gain, best gain: -inf\n",
            "[LightGBM] [Warning] No further splits with positive gain, best gain: -inf\n",
            "[LightGBM] [Warning] No further splits with positive gain, best gain: -inf\n",
            "[LightGBM] [Warning] No further splits with positive gain, best gain: -inf\n",
            "[LightGBM] [Warning] No further splits with positive gain, best gain: -inf\n",
            "[LightGBM] [Warning] No further splits with positive gain, best gain: -inf\n",
            "[LightGBM] [Warning] No further splits with positive gain, best gain: -inf\n",
            "Mean Squared Error (MSE): 3203.0860673543248\n",
            "R-squared (R^2) Score: 0.39543330969122614\n",
            "Root Mean Squared Error (RMSE): 56.59581316099562\n"
          ]
        }
      ]
    },
    {
      "cell_type": "code",
      "source": [
        "from sklearn.linear_model import BayesianRidge\n",
        "\n",
        "# Initialize and train a BayesianRidge regressor\n",
        "regressor = BayesianRidge()\n",
        "regressor.fit(X_train, y_train)\n",
        "\n",
        "# Predict the target variable for the test set\n",
        "y_pred = regressor.predict(X_test)\n",
        "\n",
        "# Calculate the mean squared error (MSE) to evaluate the model's accuracy\n",
        "mse = mean_squared_error(y_test, y_pred)\n",
        "print(\"Mean Squared Error (MSE):\", mse)\n",
        "\n",
        "r2 = r2_score(y_test, y_pred)\n",
        "print(\"R-squared (R^2) Score:\", r2)\n",
        "\n",
        "rmse = np.sqrt(mse)\n",
        "print(\"Root Mean Squared Error (RMSE):\", rmse)\n"
      ],
      "metadata": {
        "colab": {
          "base_uri": "https://localhost:8080/"
        },
        "id": "iv7h3hYrw2gq",
        "outputId": "9a8b71e9-d1f9-428c-c170-3b8668beadf4"
      },
      "execution_count": 24,
      "outputs": [
        {
          "output_type": "stream",
          "name": "stdout",
          "text": [
            "Mean Squared Error (MSE): 2871.762109554599\n",
            "R-squared (R^2) Score: 0.4579690718827283\n",
            "Root Mean Squared Error (RMSE): 53.588824483791385\n"
          ]
        }
      ]
    },
    {
      "cell_type": "code",
      "source": [
        "from xgboost import XGBRegressor\n",
        "\n",
        "# Initialize and train an XGBRegressor\n",
        "regressor = XGBRegressor()\n",
        "regressor.fit(X_train, y_train)\n",
        "\n",
        "# Predict the target variable for the test set\n",
        "y_pred = regressor.predict(X_test)\n",
        "\n",
        "# Calculate the mean squared error (MSE) to evaluate the model's accuracy\n",
        "mse = mean_squared_error(y_test, y_pred)\n",
        "print(\"Mean Squared Error (MSE):\", mse)\n",
        "\n",
        "r2 = r2_score(y_test, y_pred)\n",
        "print(\"R-squared (R^2) Score:\", r2)\n",
        "\n",
        "rmse = np.sqrt(mse)\n",
        "print(\"Root Mean Squared Error (RMSE):\", rmse)\n"
      ],
      "metadata": {
        "colab": {
          "base_uri": "https://localhost:8080/"
        },
        "id": "hy9tVV3IxAuI",
        "outputId": "9a564f3f-55ea-4e69-cb57-bd9cf2ad5ee8"
      },
      "execution_count": 25,
      "outputs": [
        {
          "output_type": "stream",
          "name": "stdout",
          "text": [
            "Mean Squared Error (MSE): 3351.001637862091\n",
            "R-squared (R^2) Score: 0.3675149756138415\n",
            "Root Mean Squared Error (RMSE): 57.88783670048563\n"
          ]
        }
      ]
    }
  ]
}