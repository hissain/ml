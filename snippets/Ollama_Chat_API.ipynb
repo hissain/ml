{
 "cells": [
  {
   "cell_type": "markdown",
   "id": "62d703cd",
   "metadata": {},
   "source": [
    "## Installing and running ollama server\n",
    "\n",
    "#### Have a look into their github repository: https://github.com/ollama/ollama"
   ]
  },
  {
   "cell_type": "code",
   "execution_count": 7,
   "id": "0742a467",
   "metadata": {},
   "outputs": [],
   "source": [
    "import aiohttp\n",
    "import json\n",
    "import asyncio\n",
    "from IPython.display import display, Markdown, clear_output\n",
    "\n",
    "ollama_url_chat = \"http://localhost:11434/api/chat\"\n",
    "ollama_model_name = \"llama3.2:latest\"\n",
    "\n",
    "chat_history = []\n",
    "    \n",
    "async def chat(prompt, stream=True):\n",
    "    global chat_history\n",
    "    in_code_block = False\n",
    "    \n",
    "    chat_history.append({\"role\": \"user\", \"content\": prompt})\n",
    "    payload = {\"model\": ollama_model_name, \"messages\": chat_history, \"stream\": stream}\n",
    "    headers = {\"Content-Type\": \"application/json\"}\n",
    "\n",
    "    response_text = \"\"\n",
    "    buffer = \"\"\n",
    "\n",
    "    async with aiohttp.ClientSession() as session:\n",
    "        async with session.post(ollama_url_chat, headers=headers, data=json.dumps(payload)) as response:\n",
    "            if stream:\n",
    "                async for chunk in response.content.iter_any():\n",
    "                    try:\n",
    "                        data = json.loads(chunk.decode('utf-8'))\n",
    "                        content = data.get(\"message\", {}).get(\"content\", \"\")\n",
    "                        buffer += content\n",
    "\n",
    "                        if len(buffer) > 10:\n",
    "                            response_text += buffer\n",
    "                            clear_output(wait=True)\n",
    "                            display(Markdown(response_text))\n",
    "                            buffer = \"\"\n",
    "                            \n",
    "                    except json.JSONDecodeError:\n",
    "                        continue\n",
    "\n",
    "                response_text += buffer\n",
    "                clear_output(wait=True)\n",
    "                display(Markdown(response_text))\n",
    "            else:\n",
    "                response_text = await response.text()\n",
    "                display(Markdown(response_text))\n",
    "\n",
    "    chat_history.append({\"role\": \"assistant\", \"content\": response_text})\n",
    "\n",
    "    return response_text"
   ]
  },
  {
   "cell_type": "code",
   "execution_count": 22,
   "id": "fad4ac9d",
   "metadata": {
    "scrolled": false
   },
   "outputs": [
    {
     "data": {
      "text/markdown": [
       "**Facebook: A Social Media Giant**\n",
       "\n",
       "Facebook is a social media platform that allows users to connect with friends, family, and interests, share content, and join communities. It was launched in 2004 by Mark Zuckerberg, along with his college roommates and fellow Harvard University students Eduardo Saverin, Andrew McCollum, Dustin Moskovitz, and Chris Hughes.\n",
       "\n",
       "**Key Features:**\n",
       "\n",
       "1.  **User Profiles:** Users create profiles to showcase their information, such as name, profile picture, interests, and work.\n",
       "2.  **News Feed:** A constantly updating stream of news and updates from friends, family, and pages users follow.\n",
       "3.  **Messaging:** Private messaging for direct communication with individuals or groups.\n",
       "4.  **Groups:** Users can join groups based on shared interests, hobbies, or affiliations.\n",
       "5.  **Events:** Users can create and attend events, such as birthday parties, concerts, or sports games.\n",
       "\n",
       "**Impact:**\n",
       "\n",
       "1.  **Social Networking:** Facebook revolutionized the way people connect with others online, creating a vast network of friends and acquaintances.\n",
       "2.  **Online Communities:** Facebook has enabled users to join groups and forums related to various interests, fostering communities around shared passions.\n",
       "3.  **Advertising:** Facebook's advertising platform allows businesses to target specific audiences, making it an essential tool for marketing and promotions.\n",
       "\n",
       "**Statistics:**\n",
       "\n",
       "1.  **2.7 billion monthly active users**\n",
       "2.  **700 million daily active users**\n",
       "3.  **30% of online adults in the United States use Facebook**\n",
       "\n",
       "Facebook has become a fundamental part of modern life, with its presence felt across various aspects of society."
      ],
      "text/plain": [
       "<IPython.core.display.Markdown object>"
      ]
     },
     "metadata": {},
     "output_type": "display_data"
    }
   ],
   "source": [
    "_ = await chat(\"What is Facebook?\")"
   ]
  },
  {
   "cell_type": "code",
   "execution_count": 21,
   "id": "fb806b7f",
   "metadata": {},
   "outputs": [
    {
     "data": {
      "text/markdown": [
       "The original \"Hello, World!\" program was written by Brian Kernighan in 1974 as part of his book \"A Tutorial Introduction to the Language B\" for Bell Labs.\n",
       "\n",
       "Brian Kernighan's vision was to create a simple programming exercise that would allow beginners to get started with programming and to see the output of their first program. The idea behind it was to write a program that simply printed out the words \"Hello, World!\" in order to demonstrate the basic concept of running code.\n",
       "\n",
       "Kernighan wanted his students to be able to run this simple program on various platforms, including Unix, CP/M, and others, which helped to popularize the \"Hello, World!\" phrase as a way to signal that a programmer had successfully compiled and executed their first program."
      ],
      "text/plain": [
       "<IPython.core.display.Markdown object>"
      ]
     },
     "metadata": {},
     "output_type": "display_data"
    }
   ],
   "source": [
    "_ = await chat(\"What is it's vision?\")"
   ]
  },
  {
   "cell_type": "code",
   "execution_count": 19,
   "id": "90940a8f",
   "metadata": {},
   "outputs": [
    {
     "data": {
      "text/markdown": [
       "# Smallest \"Hello, World!\" Program in C\n",
       "\n",
       "Here's the smallest possible \"Hello, World!\" program in C:\n",
       "\n",
       "```c\n",
       "#include <stdio.h>\n",
       "\n",
       "int main() {\n",
       "    printf(\"Hello, World!\\n\");\n",
       "}\n",
       "```\n",
       "\n",
       "This code includes only 3 lines:\n",
       "\n",
       "1.  The `#include <stdio.h>` directive to include the standard input/output library.\n",
       "2.  The `main()` function declaration, which is the entry point for any C program.\n",
       "3.  A single line of code within the `main()` function that prints \"Hello, World!\" to the console using `printf()`."
      ],
      "text/plain": [
       "<IPython.core.display.Markdown object>"
      ]
     },
     "metadata": {},
     "output_type": "display_data"
    }
   ],
   "source": [
    "_ = await chat(\"Generate smallest hello world in C.\")"
   ]
  },
  {
   "cell_type": "code",
   "execution_count": 20,
   "id": "dc0d6e9d",
   "metadata": {},
   "outputs": [
    {
     "data": {
      "text/markdown": [
       "# Smallest \"Hello, World!\" Program in Python\n",
       "\n",
       "Here's the smallest possible \"Hello, World!\" program in Python:\n",
       "\n",
       "```python\n",
       "print(\"Hello, World!\")\n",
       "```\n",
       "\n",
       "This code only contains one line of code and uses the built-in `print()` function to output the string \"Hello, World!\"."
      ],
      "text/plain": [
       "<IPython.core.display.Markdown object>"
      ]
     },
     "metadata": {},
     "output_type": "display_data"
    }
   ],
   "source": [
    "_ = await chat(\"What about in Python?\")"
   ]
  }
 ],
 "metadata": {
  "kernelspec": {
   "display_name": "Python 3 (ipykernel)",
   "language": "python",
   "name": "python3"
  },
  "language_info": {
   "codemirror_mode": {
    "name": "ipython",
    "version": 3
   },
   "file_extension": ".py",
   "mimetype": "text/x-python",
   "name": "python",
   "nbconvert_exporter": "python",
   "pygments_lexer": "ipython3",
   "version": "3.11.5"
  }
 },
 "nbformat": 4,
 "nbformat_minor": 5
}
