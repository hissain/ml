{
  "nbformat": 4,
  "nbformat_minor": 0,
  "metadata": {
    "colab": {
      "provenance": []
    },
    "kernelspec": {
      "name": "python3",
      "display_name": "Python 3"
    },
    "language_info": {
      "name": "python"
    }
  },
  "cells": [
    {
      "cell_type": "markdown",
      "source": [
        "## Import Packages"
      ],
      "metadata": {
        "id": "KTIRL-mHdEg8"
      }
    },
    {
      "cell_type": "code",
      "source": [
        "# Data Processing\n",
        "import pandas as pd\n",
        "import numpy as np\n",
        "\n",
        "# Modelling\n",
        "from sklearn.ensemble import RandomForestClassifier\n",
        "from sklearn.metrics import accuracy_score, confusion_matrix, ConfusionMatrixDisplay\n",
        "from sklearn.model_selection import RandomizedSearchCV, train_test_split\n",
        "from scipy.stats import randint\n",
        "\n",
        "# Tree Visualisation\n",
        "from sklearn.tree import export_graphviz\n",
        "from IPython.display import Image\n",
        "import graphviz"
      ],
      "metadata": {
        "id": "yQakWj4IdlUY"
      },
      "execution_count": 300,
      "outputs": []
    },
    {
      "cell_type": "markdown",
      "source": [
        "## Generate Synthetic Data for Random Forests Classification"
      ],
      "metadata": {
        "id": "ibzpBR4UdK3a"
      }
    },
    {
      "cell_type": "code",
      "source": [
        "def assign_grade(mark):\n",
        "    if mark >= 900: return 'A'\n",
        "    elif mark >= 800: return 'B'\n",
        "    elif mark >= 500: return 'C'\n",
        "    elif mark >= 200: return 'D'\n",
        "    else: return 'F'\n",
        "\n",
        "def assign_merit(row):\n",
        "  marks = row['marks']\n",
        "  age = row['age']\n",
        "  return marks * (100 - age)\n",
        ""
      ],
      "metadata": {
        "id": "tNtG8Sq4UN0O"
      },
      "execution_count": 301,
      "outputs": []
    },
    {
      "cell_type": "code",
      "source": [
        "ROW_SZ = 1000\n",
        "\n",
        "data = pd.DataFrame()\n",
        "\n",
        "data['age'] = np.random.randint(1, 100, size=ROW_SZ)\n",
        "data['marks'] = np.random.randint(1, 1000, size=ROW_SZ)\n",
        "data['grade'] = data.marks.apply(assign_grade)\n",
        "data['merit'] = data.apply(assign_merit, axis = 1)\n",
        "\n",
        "data"
      ],
      "metadata": {
        "colab": {
          "base_uri": "https://localhost:8080/",
          "height": 424
        },
        "id": "akr8CyEseyKB",
        "outputId": "38875289-e1d9-4c50-9e95-5a7436fd0a3d"
      },
      "execution_count": 302,
      "outputs": [
        {
          "output_type": "execute_result",
          "data": {
            "text/plain": [
              "     age  marks grade  merit\n",
              "0     10    182     F  16380\n",
              "1     28     48     F   3456\n",
              "2     72    178     F   4984\n",
              "3     20    438     D  35040\n",
              "4     93    246     D   1722\n",
              "..   ...    ...   ...    ...\n",
              "995   89    805     B   8855\n",
              "996   47    576     C  30528\n",
              "997   21    680     C  53720\n",
              "998   10    543     C  48870\n",
              "999   11     48     F   4272\n",
              "\n",
              "[1000 rows x 4 columns]"
            ],
            "text/html": [
              "\n",
              "  <div id=\"df-b797077b-731e-42a0-abbb-25cd8ea9442b\" class=\"colab-df-container\">\n",
              "    <div>\n",
              "<style scoped>\n",
              "    .dataframe tbody tr th:only-of-type {\n",
              "        vertical-align: middle;\n",
              "    }\n",
              "\n",
              "    .dataframe tbody tr th {\n",
              "        vertical-align: top;\n",
              "    }\n",
              "\n",
              "    .dataframe thead th {\n",
              "        text-align: right;\n",
              "    }\n",
              "</style>\n",
              "<table border=\"1\" class=\"dataframe\">\n",
              "  <thead>\n",
              "    <tr style=\"text-align: right;\">\n",
              "      <th></th>\n",
              "      <th>age</th>\n",
              "      <th>marks</th>\n",
              "      <th>grade</th>\n",
              "      <th>merit</th>\n",
              "    </tr>\n",
              "  </thead>\n",
              "  <tbody>\n",
              "    <tr>\n",
              "      <th>0</th>\n",
              "      <td>10</td>\n",
              "      <td>182</td>\n",
              "      <td>F</td>\n",
              "      <td>16380</td>\n",
              "    </tr>\n",
              "    <tr>\n",
              "      <th>1</th>\n",
              "      <td>28</td>\n",
              "      <td>48</td>\n",
              "      <td>F</td>\n",
              "      <td>3456</td>\n",
              "    </tr>\n",
              "    <tr>\n",
              "      <th>2</th>\n",
              "      <td>72</td>\n",
              "      <td>178</td>\n",
              "      <td>F</td>\n",
              "      <td>4984</td>\n",
              "    </tr>\n",
              "    <tr>\n",
              "      <th>3</th>\n",
              "      <td>20</td>\n",
              "      <td>438</td>\n",
              "      <td>D</td>\n",
              "      <td>35040</td>\n",
              "    </tr>\n",
              "    <tr>\n",
              "      <th>4</th>\n",
              "      <td>93</td>\n",
              "      <td>246</td>\n",
              "      <td>D</td>\n",
              "      <td>1722</td>\n",
              "    </tr>\n",
              "    <tr>\n",
              "      <th>...</th>\n",
              "      <td>...</td>\n",
              "      <td>...</td>\n",
              "      <td>...</td>\n",
              "      <td>...</td>\n",
              "    </tr>\n",
              "    <tr>\n",
              "      <th>995</th>\n",
              "      <td>89</td>\n",
              "      <td>805</td>\n",
              "      <td>B</td>\n",
              "      <td>8855</td>\n",
              "    </tr>\n",
              "    <tr>\n",
              "      <th>996</th>\n",
              "      <td>47</td>\n",
              "      <td>576</td>\n",
              "      <td>C</td>\n",
              "      <td>30528</td>\n",
              "    </tr>\n",
              "    <tr>\n",
              "      <th>997</th>\n",
              "      <td>21</td>\n",
              "      <td>680</td>\n",
              "      <td>C</td>\n",
              "      <td>53720</td>\n",
              "    </tr>\n",
              "    <tr>\n",
              "      <th>998</th>\n",
              "      <td>10</td>\n",
              "      <td>543</td>\n",
              "      <td>C</td>\n",
              "      <td>48870</td>\n",
              "    </tr>\n",
              "    <tr>\n",
              "      <th>999</th>\n",
              "      <td>11</td>\n",
              "      <td>48</td>\n",
              "      <td>F</td>\n",
              "      <td>4272</td>\n",
              "    </tr>\n",
              "  </tbody>\n",
              "</table>\n",
              "<p>1000 rows × 4 columns</p>\n",
              "</div>\n",
              "    <div class=\"colab-df-buttons\">\n",
              "\n",
              "  <div class=\"colab-df-container\">\n",
              "    <button class=\"colab-df-convert\" onclick=\"convertToInteractive('df-b797077b-731e-42a0-abbb-25cd8ea9442b')\"\n",
              "            title=\"Convert this dataframe to an interactive table.\"\n",
              "            style=\"display:none;\">\n",
              "\n",
              "  <svg xmlns=\"http://www.w3.org/2000/svg\" height=\"24px\" viewBox=\"0 -960 960 960\">\n",
              "    <path d=\"M120-120v-720h720v720H120Zm60-500h600v-160H180v160Zm220 220h160v-160H400v160Zm0 220h160v-160H400v160ZM180-400h160v-160H180v160Zm440 0h160v-160H620v160ZM180-180h160v-160H180v160Zm440 0h160v-160H620v160Z\"/>\n",
              "  </svg>\n",
              "    </button>\n",
              "\n",
              "  <style>\n",
              "    .colab-df-container {\n",
              "      display:flex;\n",
              "      gap: 12px;\n",
              "    }\n",
              "\n",
              "    .colab-df-convert {\n",
              "      background-color: #E8F0FE;\n",
              "      border: none;\n",
              "      border-radius: 50%;\n",
              "      cursor: pointer;\n",
              "      display: none;\n",
              "      fill: #1967D2;\n",
              "      height: 32px;\n",
              "      padding: 0 0 0 0;\n",
              "      width: 32px;\n",
              "    }\n",
              "\n",
              "    .colab-df-convert:hover {\n",
              "      background-color: #E2EBFA;\n",
              "      box-shadow: 0px 1px 2px rgba(60, 64, 67, 0.3), 0px 1px 3px 1px rgba(60, 64, 67, 0.15);\n",
              "      fill: #174EA6;\n",
              "    }\n",
              "\n",
              "    .colab-df-buttons div {\n",
              "      margin-bottom: 4px;\n",
              "    }\n",
              "\n",
              "    [theme=dark] .colab-df-convert {\n",
              "      background-color: #3B4455;\n",
              "      fill: #D2E3FC;\n",
              "    }\n",
              "\n",
              "    [theme=dark] .colab-df-convert:hover {\n",
              "      background-color: #434B5C;\n",
              "      box-shadow: 0px 1px 3px 1px rgba(0, 0, 0, 0.15);\n",
              "      filter: drop-shadow(0px 1px 2px rgba(0, 0, 0, 0.3));\n",
              "      fill: #FFFFFF;\n",
              "    }\n",
              "  </style>\n",
              "\n",
              "    <script>\n",
              "      const buttonEl =\n",
              "        document.querySelector('#df-b797077b-731e-42a0-abbb-25cd8ea9442b button.colab-df-convert');\n",
              "      buttonEl.style.display =\n",
              "        google.colab.kernel.accessAllowed ? 'block' : 'none';\n",
              "\n",
              "      async function convertToInteractive(key) {\n",
              "        const element = document.querySelector('#df-b797077b-731e-42a0-abbb-25cd8ea9442b');\n",
              "        const dataTable =\n",
              "          await google.colab.kernel.invokeFunction('convertToInteractive',\n",
              "                                                    [key], {});\n",
              "        if (!dataTable) return;\n",
              "\n",
              "        const docLinkHtml = 'Like what you see? Visit the ' +\n",
              "          '<a target=\"_blank\" href=https://colab.research.google.com/notebooks/data_table.ipynb>data table notebook</a>'\n",
              "          + ' to learn more about interactive tables.';\n",
              "        element.innerHTML = '';\n",
              "        dataTable['output_type'] = 'display_data';\n",
              "        await google.colab.output.renderOutput(dataTable, element);\n",
              "        const docLink = document.createElement('div');\n",
              "        docLink.innerHTML = docLinkHtml;\n",
              "        element.appendChild(docLink);\n",
              "      }\n",
              "    </script>\n",
              "  </div>\n",
              "\n",
              "\n",
              "<div id=\"df-fdcd58b7-fd16-4bb6-96c3-7212d0c3a6f2\">\n",
              "  <button class=\"colab-df-quickchart\" onclick=\"quickchart('df-fdcd58b7-fd16-4bb6-96c3-7212d0c3a6f2')\"\n",
              "            title=\"Suggest charts\"\n",
              "            style=\"display:none;\">\n",
              "\n",
              "<svg xmlns=\"http://www.w3.org/2000/svg\" height=\"24px\"viewBox=\"0 0 24 24\"\n",
              "     width=\"24px\">\n",
              "    <g>\n",
              "        <path d=\"M19 3H5c-1.1 0-2 .9-2 2v14c0 1.1.9 2 2 2h14c1.1 0 2-.9 2-2V5c0-1.1-.9-2-2-2zM9 17H7v-7h2v7zm4 0h-2V7h2v10zm4 0h-2v-4h2v4z\"/>\n",
              "    </g>\n",
              "</svg>\n",
              "  </button>\n",
              "\n",
              "<style>\n",
              "  .colab-df-quickchart {\n",
              "      --bg-color: #E8F0FE;\n",
              "      --fill-color: #1967D2;\n",
              "      --hover-bg-color: #E2EBFA;\n",
              "      --hover-fill-color: #174EA6;\n",
              "      --disabled-fill-color: #AAA;\n",
              "      --disabled-bg-color: #DDD;\n",
              "  }\n",
              "\n",
              "  [theme=dark] .colab-df-quickchart {\n",
              "      --bg-color: #3B4455;\n",
              "      --fill-color: #D2E3FC;\n",
              "      --hover-bg-color: #434B5C;\n",
              "      --hover-fill-color: #FFFFFF;\n",
              "      --disabled-bg-color: #3B4455;\n",
              "      --disabled-fill-color: #666;\n",
              "  }\n",
              "\n",
              "  .colab-df-quickchart {\n",
              "    background-color: var(--bg-color);\n",
              "    border: none;\n",
              "    border-radius: 50%;\n",
              "    cursor: pointer;\n",
              "    display: none;\n",
              "    fill: var(--fill-color);\n",
              "    height: 32px;\n",
              "    padding: 0;\n",
              "    width: 32px;\n",
              "  }\n",
              "\n",
              "  .colab-df-quickchart:hover {\n",
              "    background-color: var(--hover-bg-color);\n",
              "    box-shadow: 0 1px 2px rgba(60, 64, 67, 0.3), 0 1px 3px 1px rgba(60, 64, 67, 0.15);\n",
              "    fill: var(--button-hover-fill-color);\n",
              "  }\n",
              "\n",
              "  .colab-df-quickchart-complete:disabled,\n",
              "  .colab-df-quickchart-complete:disabled:hover {\n",
              "    background-color: var(--disabled-bg-color);\n",
              "    fill: var(--disabled-fill-color);\n",
              "    box-shadow: none;\n",
              "  }\n",
              "\n",
              "  .colab-df-spinner {\n",
              "    border: 2px solid var(--fill-color);\n",
              "    border-color: transparent;\n",
              "    border-bottom-color: var(--fill-color);\n",
              "    animation:\n",
              "      spin 1s steps(1) infinite;\n",
              "  }\n",
              "\n",
              "  @keyframes spin {\n",
              "    0% {\n",
              "      border-color: transparent;\n",
              "      border-bottom-color: var(--fill-color);\n",
              "      border-left-color: var(--fill-color);\n",
              "    }\n",
              "    20% {\n",
              "      border-color: transparent;\n",
              "      border-left-color: var(--fill-color);\n",
              "      border-top-color: var(--fill-color);\n",
              "    }\n",
              "    30% {\n",
              "      border-color: transparent;\n",
              "      border-left-color: var(--fill-color);\n",
              "      border-top-color: var(--fill-color);\n",
              "      border-right-color: var(--fill-color);\n",
              "    }\n",
              "    40% {\n",
              "      border-color: transparent;\n",
              "      border-right-color: var(--fill-color);\n",
              "      border-top-color: var(--fill-color);\n",
              "    }\n",
              "    60% {\n",
              "      border-color: transparent;\n",
              "      border-right-color: var(--fill-color);\n",
              "    }\n",
              "    80% {\n",
              "      border-color: transparent;\n",
              "      border-right-color: var(--fill-color);\n",
              "      border-bottom-color: var(--fill-color);\n",
              "    }\n",
              "    90% {\n",
              "      border-color: transparent;\n",
              "      border-bottom-color: var(--fill-color);\n",
              "    }\n",
              "  }\n",
              "</style>\n",
              "\n",
              "  <script>\n",
              "    async function quickchart(key) {\n",
              "      const quickchartButtonEl =\n",
              "        document.querySelector('#' + key + ' button');\n",
              "      quickchartButtonEl.disabled = true;  // To prevent multiple clicks.\n",
              "      quickchartButtonEl.classList.add('colab-df-spinner');\n",
              "      try {\n",
              "        const charts = await google.colab.kernel.invokeFunction(\n",
              "            'suggestCharts', [key], {});\n",
              "      } catch (error) {\n",
              "        console.error('Error during call to suggestCharts:', error);\n",
              "      }\n",
              "      quickchartButtonEl.classList.remove('colab-df-spinner');\n",
              "      quickchartButtonEl.classList.add('colab-df-quickchart-complete');\n",
              "    }\n",
              "    (() => {\n",
              "      let quickchartButtonEl =\n",
              "        document.querySelector('#df-fdcd58b7-fd16-4bb6-96c3-7212d0c3a6f2 button');\n",
              "      quickchartButtonEl.style.display =\n",
              "        google.colab.kernel.accessAllowed ? 'block' : 'none';\n",
              "    })();\n",
              "  </script>\n",
              "</div>\n",
              "\n",
              "  <div id=\"id_e32302e9-e0e5-4dfa-a3bf-e1a601c3fb57\">\n",
              "    <style>\n",
              "      .colab-df-generate {\n",
              "        background-color: #E8F0FE;\n",
              "        border: none;\n",
              "        border-radius: 50%;\n",
              "        cursor: pointer;\n",
              "        display: none;\n",
              "        fill: #1967D2;\n",
              "        height: 32px;\n",
              "        padding: 0 0 0 0;\n",
              "        width: 32px;\n",
              "      }\n",
              "\n",
              "      .colab-df-generate:hover {\n",
              "        background-color: #E2EBFA;\n",
              "        box-shadow: 0px 1px 2px rgba(60, 64, 67, 0.3), 0px 1px 3px 1px rgba(60, 64, 67, 0.15);\n",
              "        fill: #174EA6;\n",
              "      }\n",
              "\n",
              "      [theme=dark] .colab-df-generate {\n",
              "        background-color: #3B4455;\n",
              "        fill: #D2E3FC;\n",
              "      }\n",
              "\n",
              "      [theme=dark] .colab-df-generate:hover {\n",
              "        background-color: #434B5C;\n",
              "        box-shadow: 0px 1px 3px 1px rgba(0, 0, 0, 0.15);\n",
              "        filter: drop-shadow(0px 1px 2px rgba(0, 0, 0, 0.3));\n",
              "        fill: #FFFFFF;\n",
              "      }\n",
              "    </style>\n",
              "    <button class=\"colab-df-generate\" onclick=\"generateWithVariable('data')\"\n",
              "            title=\"Generate code using this dataframe.\"\n",
              "            style=\"display:none;\">\n",
              "\n",
              "  <svg xmlns=\"http://www.w3.org/2000/svg\" height=\"24px\"viewBox=\"0 0 24 24\"\n",
              "       width=\"24px\">\n",
              "    <path d=\"M7,19H8.4L18.45,9,17,7.55,7,17.6ZM5,21V16.75L18.45,3.32a2,2,0,0,1,2.83,0l1.4,1.43a1.91,1.91,0,0,1,.58,1.4,1.91,1.91,0,0,1-.58,1.4L9.25,21ZM18.45,9,17,7.55Zm-12,3A5.31,5.31,0,0,0,4.9,8.1,5.31,5.31,0,0,0,1,6.5,5.31,5.31,0,0,0,4.9,4.9,5.31,5.31,0,0,0,6.5,1,5.31,5.31,0,0,0,8.1,4.9,5.31,5.31,0,0,0,12,6.5,5.46,5.46,0,0,0,6.5,12Z\"/>\n",
              "  </svg>\n",
              "    </button>\n",
              "    <script>\n",
              "      (() => {\n",
              "      const buttonEl =\n",
              "        document.querySelector('#id_e32302e9-e0e5-4dfa-a3bf-e1a601c3fb57 button.colab-df-generate');\n",
              "      buttonEl.style.display =\n",
              "        google.colab.kernel.accessAllowed ? 'block' : 'none';\n",
              "\n",
              "      buttonEl.onclick = () => {\n",
              "        google.colab.notebook.generateWithVariable('data');\n",
              "      }\n",
              "      })();\n",
              "    </script>\n",
              "  </div>\n",
              "\n",
              "    </div>\n",
              "  </div>\n"
            ],
            "application/vnd.google.colaboratory.intrinsic+json": {
              "type": "dataframe",
              "variable_name": "data",
              "summary": "{\n  \"name\": \"data\",\n  \"rows\": 1000,\n  \"fields\": [\n    {\n      \"column\": \"age\",\n      \"properties\": {\n        \"dtype\": \"number\",\n        \"std\": 28,\n        \"min\": 1,\n        \"max\": 99,\n        \"num_unique_values\": 99,\n        \"samples\": [\n          45,\n          39,\n          73\n        ],\n        \"semantic_type\": \"\",\n        \"description\": \"\"\n      }\n    },\n    {\n      \"column\": \"marks\",\n      \"properties\": {\n        \"dtype\": \"number\",\n        \"std\": 282,\n        \"min\": 2,\n        \"max\": 999,\n        \"num_unique_values\": 620,\n        \"samples\": [\n          476,\n          237,\n          673\n        ],\n        \"semantic_type\": \"\",\n        \"description\": \"\"\n      }\n    },\n    {\n      \"column\": \"grade\",\n      \"properties\": {\n        \"dtype\": \"category\",\n        \"num_unique_values\": 5,\n        \"samples\": [\n          \"D\",\n          \"A\",\n          \"C\"\n        ],\n        \"semantic_type\": \"\",\n        \"description\": \"\"\n      }\n    },\n    {\n      \"column\": \"merit\",\n      \"properties\": {\n        \"dtype\": \"number\",\n        \"std\": 21299,\n        \"min\": 55,\n        \"max\": 90846,\n        \"num_unique_values\": 974,\n        \"samples\": [\n          70950,\n          15447,\n          31944\n        ],\n        \"semantic_type\": \"\",\n        \"description\": \"\"\n      }\n    }\n  ]\n}"
            }
          },
          "metadata": {},
          "execution_count": 302
        }
      ]
    },
    {
      "cell_type": "markdown",
      "source": [
        "## Split the Data"
      ],
      "metadata": {
        "id": "0W4oFRxodPyC"
      }
    },
    {
      "cell_type": "markdown",
      "source": [
        "\n",
        "The code below splits the data into separate variables for the features and target, then splits into training and test data."
      ],
      "metadata": {
        "id": "aH5mJvAyAmjP"
      }
    },
    {
      "cell_type": "code",
      "source": [
        "# Split the data into features (X) and target (y)\n",
        "X = data.drop('grade', axis=1)\n",
        "y = data['grade']\n",
        "\n",
        "# Split the data into training and test sets\n",
        "X_train, X_test, y_train, y_test = train_test_split(X, y, test_size=0.2)"
      ],
      "metadata": {
        "id": "XfZ0Tgg8AsOX"
      },
      "execution_count": 303,
      "outputs": []
    },
    {
      "cell_type": "markdown",
      "source": [
        "## Fit and Evaluate the Model"
      ],
      "metadata": {
        "id": "KfYOvEDVdTEh"
      }
    },
    {
      "cell_type": "markdown",
      "source": [
        "We first create an instance of the Random Forest model, with the default parameters. We then fit this to our training data. We pass both the features and the target variable, so the model can learn."
      ],
      "metadata": {
        "id": "-koNP1maA9pc"
      }
    },
    {
      "cell_type": "code",
      "source": [
        "rf = RandomForestClassifier(n_estimators=300)\n",
        "rf.fit(X_train, y_train)"
      ],
      "metadata": {
        "id": "21O7UE-sBAEJ",
        "colab": {
          "base_uri": "https://localhost:8080/",
          "height": 75
        },
        "outputId": "978fd30a-ce21-4892-daa5-a6872332d23a"
      },
      "execution_count": 304,
      "outputs": [
        {
          "output_type": "execute_result",
          "data": {
            "text/plain": [
              "RandomForestClassifier(n_estimators=300)"
            ],
            "text/html": [
              "<style>#sk-container-id-26 {color: black;background-color: white;}#sk-container-id-26 pre{padding: 0;}#sk-container-id-26 div.sk-toggleable {background-color: white;}#sk-container-id-26 label.sk-toggleable__label {cursor: pointer;display: block;width: 100%;margin-bottom: 0;padding: 0.3em;box-sizing: border-box;text-align: center;}#sk-container-id-26 label.sk-toggleable__label-arrow:before {content: \"▸\";float: left;margin-right: 0.25em;color: #696969;}#sk-container-id-26 label.sk-toggleable__label-arrow:hover:before {color: black;}#sk-container-id-26 div.sk-estimator:hover label.sk-toggleable__label-arrow:before {color: black;}#sk-container-id-26 div.sk-toggleable__content {max-height: 0;max-width: 0;overflow: hidden;text-align: left;background-color: #f0f8ff;}#sk-container-id-26 div.sk-toggleable__content pre {margin: 0.2em;color: black;border-radius: 0.25em;background-color: #f0f8ff;}#sk-container-id-26 input.sk-toggleable__control:checked~div.sk-toggleable__content {max-height: 200px;max-width: 100%;overflow: auto;}#sk-container-id-26 input.sk-toggleable__control:checked~label.sk-toggleable__label-arrow:before {content: \"▾\";}#sk-container-id-26 div.sk-estimator input.sk-toggleable__control:checked~label.sk-toggleable__label {background-color: #d4ebff;}#sk-container-id-26 div.sk-label input.sk-toggleable__control:checked~label.sk-toggleable__label {background-color: #d4ebff;}#sk-container-id-26 input.sk-hidden--visually {border: 0;clip: rect(1px 1px 1px 1px);clip: rect(1px, 1px, 1px, 1px);height: 1px;margin: -1px;overflow: hidden;padding: 0;position: absolute;width: 1px;}#sk-container-id-26 div.sk-estimator {font-family: monospace;background-color: #f0f8ff;border: 1px dotted black;border-radius: 0.25em;box-sizing: border-box;margin-bottom: 0.5em;}#sk-container-id-26 div.sk-estimator:hover {background-color: #d4ebff;}#sk-container-id-26 div.sk-parallel-item::after {content: \"\";width: 100%;border-bottom: 1px solid gray;flex-grow: 1;}#sk-container-id-26 div.sk-label:hover label.sk-toggleable__label {background-color: #d4ebff;}#sk-container-id-26 div.sk-serial::before {content: \"\";position: absolute;border-left: 1px solid gray;box-sizing: border-box;top: 0;bottom: 0;left: 50%;z-index: 0;}#sk-container-id-26 div.sk-serial {display: flex;flex-direction: column;align-items: center;background-color: white;padding-right: 0.2em;padding-left: 0.2em;position: relative;}#sk-container-id-26 div.sk-item {position: relative;z-index: 1;}#sk-container-id-26 div.sk-parallel {display: flex;align-items: stretch;justify-content: center;background-color: white;position: relative;}#sk-container-id-26 div.sk-item::before, #sk-container-id-26 div.sk-parallel-item::before {content: \"\";position: absolute;border-left: 1px solid gray;box-sizing: border-box;top: 0;bottom: 0;left: 50%;z-index: -1;}#sk-container-id-26 div.sk-parallel-item {display: flex;flex-direction: column;z-index: 1;position: relative;background-color: white;}#sk-container-id-26 div.sk-parallel-item:first-child::after {align-self: flex-end;width: 50%;}#sk-container-id-26 div.sk-parallel-item:last-child::after {align-self: flex-start;width: 50%;}#sk-container-id-26 div.sk-parallel-item:only-child::after {width: 0;}#sk-container-id-26 div.sk-dashed-wrapped {border: 1px dashed gray;margin: 0 0.4em 0.5em 0.4em;box-sizing: border-box;padding-bottom: 0.4em;background-color: white;}#sk-container-id-26 div.sk-label label {font-family: monospace;font-weight: bold;display: inline-block;line-height: 1.2em;}#sk-container-id-26 div.sk-label-container {text-align: center;}#sk-container-id-26 div.sk-container {/* jupyter's `normalize.less` sets `[hidden] { display: none; }` but bootstrap.min.css set `[hidden] { display: none !important; }` so we also need the `!important` here to be able to override the default hidden behavior on the sphinx rendered scikit-learn.org. See: https://github.com/scikit-learn/scikit-learn/issues/21755 */display: inline-block !important;position: relative;}#sk-container-id-26 div.sk-text-repr-fallback {display: none;}</style><div id=\"sk-container-id-26\" class=\"sk-top-container\"><div class=\"sk-text-repr-fallback\"><pre>RandomForestClassifier(n_estimators=300)</pre><b>In a Jupyter environment, please rerun this cell to show the HTML representation or trust the notebook. <br />On GitHub, the HTML representation is unable to render, please try loading this page with nbviewer.org.</b></div><div class=\"sk-container\" hidden><div class=\"sk-item\"><div class=\"sk-estimator sk-toggleable\"><input class=\"sk-toggleable__control sk-hidden--visually\" id=\"sk-estimator-id-26\" type=\"checkbox\" checked><label for=\"sk-estimator-id-26\" class=\"sk-toggleable__label sk-toggleable__label-arrow\">RandomForestClassifier</label><div class=\"sk-toggleable__content\"><pre>RandomForestClassifier(n_estimators=300)</pre></div></div></div></div></div>"
            ]
          },
          "metadata": {},
          "execution_count": 304
        }
      ]
    },
    {
      "cell_type": "markdown",
      "source": [
        "At this point, we have a trained Random Forest model, but we need to find out whether it is making accurate predictions."
      ],
      "metadata": {
        "id": "2PgsuAbwRNIs"
      }
    },
    {
      "cell_type": "code",
      "source": [
        "y_pred = rf.predict(X_test)"
      ],
      "metadata": {
        "id": "0ZF9gUboRTPO"
      },
      "execution_count": 305,
      "outputs": []
    },
    {
      "cell_type": "markdown",
      "source": [
        "The simplest way to evaluate this model is using accuracy. We check the predictions against the actual values in the test set and count up how many the model got right."
      ],
      "metadata": {
        "id": "Zbr1sbmPRbed"
      }
    },
    {
      "cell_type": "code",
      "source": [
        "accuracy = accuracy_score(y_test, y_pred)\n",
        "print(\"Accuracy:\",'{:.4%}'.format(accuracy))"
      ],
      "metadata": {
        "id": "U9nWDE90RjSf",
        "colab": {
          "base_uri": "https://localhost:8080/"
        },
        "outputId": "4fa34e30-514a-4043-9b7f-dc058abb7ab7"
      },
      "execution_count": 306,
      "outputs": [
        {
          "output_type": "stream",
          "name": "stdout",
          "text": [
            "Accuracy: 99.5000%\n"
          ]
        }
      ]
    },
    {
      "cell_type": "markdown",
      "source": [
        "### We Plot Confusion Matrix"
      ],
      "metadata": {
        "id": "A27-PnNReqTg"
      }
    },
    {
      "cell_type": "code",
      "source": [
        "from sklearn.metrics import confusion_matrix, ConfusionMatrixDisplay\n",
        "import matplotlib.pyplot as plt\n",
        "\n",
        "# Assuming y_true and y_pred are your true labels and predicted labels, respectively\n",
        "# Compute the confusion matrix\n",
        "cm = confusion_matrix(y_test, y_pred)\n",
        "\n",
        "# Define class labels (if applicable)\n",
        "class_names = ['Grade A', 'Grade B', 'Grade C','Grade D', 'Grade F']  # Replace with your actual class labels\n",
        "\n",
        "# Create ConfusionMatrixDisplay object\n",
        "disp = ConfusionMatrixDisplay(confusion_matrix=cm, display_labels=class_names)\n",
        "\n",
        "# Plot Confusion Matrix\n",
        "disp.plot()\n",
        "\n",
        "# Show plot\n",
        "plt.show()\n"
      ],
      "metadata": {
        "colab": {
          "base_uri": "https://localhost:8080/",
          "height": 449
        },
        "id": "QREY7JfKbJ8j",
        "outputId": "9652bcaf-2e8f-452e-9047-15e07e377d24"
      },
      "execution_count": 307,
      "outputs": [
        {
          "output_type": "display_data",
          "data": {
            "text/plain": [
              "<Figure size 640x480 with 2 Axes>"
            ],
            "image/png": "[encoded data removed]"
          },
          "metadata": {}
        }
      ]
    },
    {
      "cell_type": "markdown",
      "source": [
        "## Visualize the Results"
      ],
      "metadata": {
        "id": "MbmlAUdKdYfa"
      }
    },
    {
      "cell_type": "markdown",
      "source": [
        "We can use the following code to visualize our first 3 trees."
      ],
      "metadata": {
        "id": "7Hx4TH95dL56"
      }
    },
    {
      "cell_type": "code",
      "source": [
        "# Export the first five decision trees from the forest\n",
        "# Tree Visualisation\n",
        "from sklearn.tree import export_graphviz\n",
        "from IPython.display import Image\n",
        "import graphviz\n",
        "\n",
        "for i in range(5):\n",
        "    tree = rf.estimators_[i] # rf = random forest classifier\n",
        "    dot_data = export_graphviz(tree,\n",
        "                               feature_names=X_train.columns,\n",
        "                               filled=True,\n",
        "                               max_depth=2,\n",
        "                               impurity=True,\n",
        "                               rotate=False,\n",
        "                               proportion=True)\n",
        "    graph = graphviz.Source(dot_data)\n",
        "    display(graph)"
      ],
      "metadata": {
        "id": "-uXhMYj_dQRq",
        "colab": {
          "base_uri": "https://localhost:8080/",
          "height": 1000
        },
        "outputId": "258c9719-3930-4373-f4ae-1a8be4f0f429"
      },
      "execution_count": 308,
      "outputs": [
        {
          "output_type": "display_data",
          "data": {
            "image/svg+xml": "<?xml version=\"1.0\" encoding=\"UTF-8\" standalone=\"no\"?>\n<!DOCTYPE svg PUBLIC \"-//W3C//DTD SVG 1.1//EN\"\n \"http://www.w3.org/Graphics/SVG/1.1/DTD/svg11.dtd\">\n<!-- Generated by graphviz version 2.43.0 (0)\n -->\n<!-- Title: Tree Pages: 1 -->\n<svg width=\"989pt\" height=\"356pt\"\n viewBox=\"0.00 0.00 988.50 356.00\" xmlns=\"http://www.w3.org/2000/svg\" xmlns:xlink=\"http://www.w3.org/1999/xlink\">\n<g id=\"graph0\" class=\"graph\" transform=\"scale(1 1) rotate(0) translate(4 352)\">\n<title>Tree</title>\n<polygon fill=\"white\" stroke=\"transparent\" points=\"-4,4 -4,-352 984.5,-352 984.5,4 -4,4\"/>\n<!-- 0 -->\n<g id=\"node1\" class=\"node\">\n<title>0</title>\n<polygon fill=\"#ffffff\" stroke=\"black\" points=\"618.5,-348 347.5,-348 347.5,-280 618.5,-280 618.5,-348\"/>\n<text text-anchor=\"middle\" x=\"483\" y=\"-332.8\" font-family=\"Helvetica,sans-Serif\" font-size=\"14.00\">marks &lt;= 500.5</text>\n<text text-anchor=\"middle\" x=\"483\" y=\"-317.8\" font-family=\"Helvetica,sans-Serif\" font-size=\"14.00\">gini = 0.757</text>\n<text text-anchor=\"middle\" x=\"483\" y=\"-302.8\" font-family=\"Helvetica,sans-Serif\" font-size=\"14.00\">samples = 100.0%</text>\n<text text-anchor=\"middle\" x=\"483\" y=\"-287.8\" font-family=\"Helvetica,sans-Serif\" font-size=\"14.00\">value = [0.094, 0.104, 0.306, 0.305, 0.191]</text>\n</g>\n<!-- 1 -->\n<g id=\"node2\" class=\"node\">\n<title>1</title>\n<polygon fill=\"#b6b5f5\" stroke=\"black\" points=\"470,-244 244,-244 244,-176 470,-176 470,-244\"/>\n<text text-anchor=\"middle\" x=\"357\" y=\"-228.8\" font-family=\"Helvetica,sans-Serif\" font-size=\"14.00\">age &lt;= 95.5</text>\n<text text-anchor=\"middle\" x=\"357\" y=\"-213.8\" font-family=\"Helvetica,sans-Serif\" font-size=\"14.00\">gini = 0.474</text>\n<text text-anchor=\"middle\" x=\"357\" y=\"-198.8\" font-family=\"Helvetica,sans-Serif\" font-size=\"14.00\">samples = 49.0%</text>\n<text text-anchor=\"middle\" x=\"357\" y=\"-183.8\" font-family=\"Helvetica,sans-Serif\" font-size=\"14.00\">value = [0.0, 0.0, 0.0, 0.615, 0.385]</text>\n</g>\n<!-- 0&#45;&gt;1 -->\n<g id=\"edge1\" class=\"edge\">\n<title>0&#45;&gt;1</title>\n<path fill=\"none\" stroke=\"black\" d=\"M442.09,-279.88C430.65,-270.62 418.09,-260.45 406.22,-250.85\"/>\n<polygon fill=\"black\" stroke=\"black\" points=\"408.11,-247.87 398.13,-244.3 403.7,-253.31 408.11,-247.87\"/>\n<text text-anchor=\"middle\" x=\"400.75\" y=\"-265.46\" font-family=\"Helvetica,sans-Serif\" font-size=\"14.00\">True</text>\n</g>\n<!-- 8 -->\n<g id=\"node9\" class=\"node\">\n<title>8</title>\n<polygon fill=\"#9bf2e2\" stroke=\"black\" points=\"729.5,-244 488.5,-244 488.5,-176 729.5,-176 729.5,-244\"/>\n<text text-anchor=\"middle\" x=\"609\" y=\"-228.8\" font-family=\"Helvetica,sans-Serif\" font-size=\"14.00\">merit &lt;= 63523.0</text>\n<text text-anchor=\"middle\" x=\"609\" y=\"-213.8\" font-family=\"Helvetica,sans-Serif\" font-size=\"14.00\">gini = 0.553</text>\n<text text-anchor=\"middle\" x=\"609\" y=\"-198.8\" font-family=\"Helvetica,sans-Serif\" font-size=\"14.00\">samples = 51.0%</text>\n<text text-anchor=\"middle\" x=\"609\" y=\"-183.8\" font-family=\"Helvetica,sans-Serif\" font-size=\"14.00\">value = [0.186, 0.206, 0.608, 0.0, 0.0]</text>\n</g>\n<!-- 0&#45;&gt;8 -->\n<g id=\"edge8\" class=\"edge\">\n<title>0&#45;&gt;8</title>\n<path fill=\"none\" stroke=\"black\" d=\"M523.91,-279.88C535.35,-270.62 547.91,-260.45 559.78,-250.85\"/>\n<polygon fill=\"black\" stroke=\"black\" points=\"562.3,-253.31 567.87,-244.3 557.89,-247.87 562.3,-253.31\"/>\n<text text-anchor=\"middle\" x=\"565.25\" y=\"-265.46\" font-family=\"Helvetica,sans-Serif\" font-size=\"14.00\">False</text>\n</g>\n<!-- 2 -->\n<g id=\"node3\" class=\"node\">\n<title>2</title>\n<polygon fill=\"#b0aff5\" stroke=\"black\" points=\"226,-140 0,-140 0,-72 226,-72 226,-140\"/>\n<text text-anchor=\"middle\" x=\"113\" y=\"-124.8\" font-family=\"Helvetica,sans-Serif\" font-size=\"14.00\">marks &lt;= 199.5</text>\n<text text-anchor=\"middle\" x=\"113\" y=\"-109.8\" font-family=\"Helvetica,sans-Serif\" font-size=\"14.00\">gini = 0.468</text>\n<text text-anchor=\"middle\" x=\"113\" y=\"-94.8\" font-family=\"Helvetica,sans-Serif\" font-size=\"14.00\">samples = 47.8%</text>\n<text text-anchor=\"middle\" x=\"113\" y=\"-79.8\" font-family=\"Helvetica,sans-Serif\" font-size=\"14.00\">value = [0.0, 0.0, 0.0, 0.626, 0.374]</text>\n</g>\n<!-- 1&#45;&gt;2 -->\n<g id=\"edge2\" class=\"edge\">\n<title>1&#45;&gt;2</title>\n<path fill=\"none\" stroke=\"black\" d=\"M277.78,-175.88C253.47,-165.72 226.57,-154.48 201.67,-144.07\"/>\n<polygon fill=\"black\" stroke=\"black\" points=\"202.82,-140.75 192.24,-140.12 200.12,-147.21 202.82,-140.75\"/>\n</g>\n<!-- 5 -->\n<g id=\"node6\" class=\"node\">\n<title>5</title>\n<polygon fill=\"#e852c8\" stroke=\"black\" points=\"470,-140 244,-140 244,-72 470,-72 470,-140\"/>\n<text text-anchor=\"middle\" x=\"357\" y=\"-124.8\" font-family=\"Helvetica,sans-Serif\" font-size=\"14.00\">age &lt;= 98.5</text>\n<text text-anchor=\"middle\" x=\"357\" y=\"-109.8\" font-family=\"Helvetica,sans-Serif\" font-size=\"14.00\">gini = 0.198</text>\n<text text-anchor=\"middle\" x=\"357\" y=\"-94.8\" font-family=\"Helvetica,sans-Serif\" font-size=\"14.00\">samples = 1.2%</text>\n<text text-anchor=\"middle\" x=\"357\" y=\"-79.8\" font-family=\"Helvetica,sans-Serif\" font-size=\"14.00\">value = [0.0, 0.0, 0.0, 0.111, 0.889]</text>\n</g>\n<!-- 1&#45;&gt;5 -->\n<g id=\"edge5\" class=\"edge\">\n<title>1&#45;&gt;5</title>\n<path fill=\"none\" stroke=\"black\" d=\"M357,-175.88C357,-167.78 357,-158.98 357,-150.47\"/>\n<polygon fill=\"black\" stroke=\"black\" points=\"360.5,-150.3 357,-140.3 353.5,-150.3 360.5,-150.3\"/>\n</g>\n<!-- 3 -->\n<g id=\"node4\" class=\"node\">\n<title>3</title>\n<polygon fill=\"#c0c0c0\" stroke=\"black\" points=\"104,-36 50,-36 50,0 104,0 104,-36\"/>\n<text text-anchor=\"middle\" x=\"77\" y=\"-14.3\" font-family=\"Helvetica,sans-Serif\" font-size=\"14.00\">(...)</text>\n</g>\n<!-- 2&#45;&gt;3 -->\n<g id=\"edge3\" class=\"edge\">\n<title>2&#45;&gt;3</title>\n<path fill=\"none\" stroke=\"black\" d=\"M99.18,-72C95.54,-63.28 91.64,-53.98 88.16,-45.65\"/>\n<polygon fill=\"black\" stroke=\"black\" points=\"91.38,-44.28 84.29,-36.4 84.92,-46.98 91.38,-44.28\"/>\n</g>\n<!-- 4 -->\n<g id=\"node5\" class=\"node\">\n<title>4</title>\n<polygon fill=\"#c0c0c0\" stroke=\"black\" points=\"176,-36 122,-36 122,0 176,0 176,-36\"/>\n<text text-anchor=\"middle\" x=\"149\" y=\"-14.3\" font-family=\"Helvetica,sans-Serif\" font-size=\"14.00\">(...)</text>\n</g>\n<!-- 2&#45;&gt;4 -->\n<g id=\"edge4\" class=\"edge\">\n<title>2&#45;&gt;4</title>\n<path fill=\"none\" stroke=\"black\" d=\"M126.82,-72C130.46,-63.28 134.36,-53.98 137.84,-45.65\"/>\n<polygon fill=\"black\" stroke=\"black\" points=\"141.08,-46.98 141.71,-36.4 134.62,-44.28 141.08,-46.98\"/>\n</g>\n<!-- 6 -->\n<g id=\"node7\" class=\"node\">\n<title>6</title>\n<polygon fill=\"#c0c0c0\" stroke=\"black\" points=\"348,-36 294,-36 294,0 348,0 348,-36\"/>\n<text text-anchor=\"middle\" x=\"321\" y=\"-14.3\" font-family=\"Helvetica,sans-Serif\" font-size=\"14.00\">(...)</text>\n</g>\n<!-- 5&#45;&gt;6 -->\n<g id=\"edge6\" class=\"edge\">\n<title>5&#45;&gt;6</title>\n<path fill=\"none\" stroke=\"black\" d=\"M343.18,-72C339.54,-63.28 335.64,-53.98 332.16,-45.65\"/>\n<polygon fill=\"black\" stroke=\"black\" points=\"335.38,-44.28 328.29,-36.4 328.92,-46.98 335.38,-44.28\"/>\n</g>\n<!-- 7 -->\n<g id=\"node8\" class=\"node\">\n<title>7</title>\n<polygon fill=\"#c0c0c0\" stroke=\"black\" points=\"420,-36 366,-36 366,0 420,0 420,-36\"/>\n<text text-anchor=\"middle\" x=\"393\" y=\"-14.3\" font-family=\"Helvetica,sans-Serif\" font-size=\"14.00\">(...)</text>\n</g>\n<!-- 5&#45;&gt;7 -->\n<g id=\"edge7\" class=\"edge\">\n<title>5&#45;&gt;7</title>\n<path fill=\"none\" stroke=\"black\" d=\"M370.82,-72C374.46,-63.28 378.36,-53.98 381.84,-45.65\"/>\n<polygon fill=\"black\" stroke=\"black\" points=\"385.08,-46.98 385.71,-36.4 378.62,-44.28 385.08,-46.98\"/>\n</g>\n<!-- 9 -->\n<g id=\"node10\" class=\"node\">\n<title>9</title>\n<polygon fill=\"#89f0dd\" stroke=\"black\" points=\"729.5,-140 488.5,-140 488.5,-72 729.5,-72 729.5,-140\"/>\n<text text-anchor=\"middle\" x=\"609\" y=\"-124.8\" font-family=\"Helvetica,sans-Serif\" font-size=\"14.00\">merit &lt;= 11479.0</text>\n<text text-anchor=\"middle\" x=\"609\" y=\"-109.8\" font-family=\"Helvetica,sans-Serif\" font-size=\"14.00\">gini = 0.496</text>\n<text text-anchor=\"middle\" x=\"609\" y=\"-94.8\" font-family=\"Helvetica,sans-Serif\" font-size=\"14.00\">samples = 44.9%</text>\n<text text-anchor=\"middle\" x=\"609\" y=\"-79.8\" font-family=\"Helvetica,sans-Serif\" font-size=\"14.00\">value = [0.144, 0.186, 0.669, 0.0, 0.0]</text>\n</g>\n<!-- 8&#45;&gt;9 -->\n<g id=\"edge9\" class=\"edge\">\n<title>8&#45;&gt;9</title>\n<path fill=\"none\" stroke=\"black\" d=\"M609,-175.88C609,-167.78 609,-158.98 609,-150.47\"/>\n<polygon fill=\"black\" stroke=\"black\" points=\"612.5,-150.3 609,-140.3 605.5,-150.3 612.5,-150.3\"/>\n</g>\n<!-- 44 -->\n<g id=\"node13\" class=\"node\">\n<title>44</title>\n<polygon fill=\"#f9e3d4\" stroke=\"black\" points=\"980.5,-140 747.5,-140 747.5,-72 980.5,-72 980.5,-140\"/>\n<text text-anchor=\"middle\" x=\"864\" y=\"-124.8\" font-family=\"Helvetica,sans-Serif\" font-size=\"14.00\">age &lt;= 21.5</text>\n<text text-anchor=\"middle\" x=\"864\" y=\"-109.8\" font-family=\"Helvetica,sans-Serif\" font-size=\"14.00\">gini = 0.613</text>\n<text text-anchor=\"middle\" x=\"864\" y=\"-94.8\" font-family=\"Helvetica,sans-Serif\" font-size=\"14.00\">samples = 6.1%</text>\n<text text-anchor=\"middle\" x=\"864\" y=\"-79.8\" font-family=\"Helvetica,sans-Serif\" font-size=\"14.00\">value = [0.49, 0.347, 0.163, 0.0, 0.0]</text>\n</g>\n<!-- 8&#45;&gt;44 -->\n<g id=\"edge12\" class=\"edge\">\n<title>8&#45;&gt;44</title>\n<path fill=\"none\" stroke=\"black\" d=\"M691.79,-175.88C717.31,-165.68 745.56,-154.38 771.67,-143.93\"/>\n<polygon fill=\"black\" stroke=\"black\" points=\"773.2,-147.09 781.19,-140.12 770.6,-140.59 773.2,-147.09\"/>\n</g>\n<!-- 10 -->\n<g id=\"node11\" class=\"node\">\n<title>10</title>\n<polygon fill=\"#c0c0c0\" stroke=\"black\" points=\"600,-36 546,-36 546,0 600,0 600,-36\"/>\n<text text-anchor=\"middle\" x=\"573\" y=\"-14.3\" font-family=\"Helvetica,sans-Serif\" font-size=\"14.00\">(...)</text>\n</g>\n<!-- 9&#45;&gt;10 -->\n<g id=\"edge10\" class=\"edge\">\n<title>9&#45;&gt;10</title>\n<path fill=\"none\" stroke=\"black\" d=\"M595.18,-72C591.54,-63.28 587.64,-53.98 584.16,-45.65\"/>\n<polygon fill=\"black\" stroke=\"black\" points=\"587.38,-44.28 580.29,-36.4 580.92,-46.98 587.38,-44.28\"/>\n</g>\n<!-- 29 -->\n<g id=\"node12\" class=\"node\">\n<title>29</title>\n<polygon fill=\"#c0c0c0\" stroke=\"black\" points=\"672,-36 618,-36 618,0 672,0 672,-36\"/>\n<text text-anchor=\"middle\" x=\"645\" y=\"-14.3\" font-family=\"Helvetica,sans-Serif\" font-size=\"14.00\">(...)</text>\n</g>\n<!-- 9&#45;&gt;29 -->\n<g id=\"edge11\" class=\"edge\">\n<title>9&#45;&gt;29</title>\n<path fill=\"none\" stroke=\"black\" d=\"M622.82,-72C626.46,-63.28 630.36,-53.98 633.84,-45.65\"/>\n<polygon fill=\"black\" stroke=\"black\" points=\"637.08,-46.98 637.71,-36.4 630.62,-44.28 637.08,-46.98\"/>\n</g>\n<!-- 45 -->\n<g id=\"node14\" class=\"node\">\n<title>45</title>\n<polygon fill=\"#c0c0c0\" stroke=\"black\" points=\"855,-36 801,-36 801,0 855,0 855,-36\"/>\n<text text-anchor=\"middle\" x=\"828\" y=\"-14.3\" font-family=\"Helvetica,sans-Serif\" font-size=\"14.00\">(...)</text>\n</g>\n<!-- 44&#45;&gt;45 -->\n<g id=\"edge13\" class=\"edge\">\n<title>44&#45;&gt;45</title>\n<path fill=\"none\" stroke=\"black\" d=\"M850.18,-72C846.54,-63.28 842.64,-53.98 839.16,-45.65\"/>\n<polygon fill=\"black\" stroke=\"black\" points=\"842.38,-44.28 835.29,-36.4 835.92,-46.98 842.38,-44.28\"/>\n</g>\n<!-- 62 -->\n<g id=\"node15\" class=\"node\">\n<title>62</title>\n<polygon fill=\"#c0c0c0\" stroke=\"black\" points=\"927,-36 873,-36 873,0 927,0 927,-36\"/>\n<text text-anchor=\"middle\" x=\"900\" y=\"-14.3\" font-family=\"Helvetica,sans-Serif\" font-size=\"14.00\">(...)</text>\n</g>\n<!-- 44&#45;&gt;62 -->\n<g id=\"edge14\" class=\"edge\">\n<title>44&#45;&gt;62</title>\n<path fill=\"none\" stroke=\"black\" d=\"M877.82,-72C881.46,-63.28 885.36,-53.98 888.84,-45.65\"/>\n<polygon fill=\"black\" stroke=\"black\" points=\"892.08,-46.98 892.71,-36.4 885.62,-44.28 892.08,-46.98\"/>\n</g>\n</g>\n</svg>\n",
            "text/plain": [
              "<graphviz.sources.Source at 0x787f79008460>"
            ]
          },
          "metadata": {}
        },
        {
          "output_type": "display_data",
          "data": {
            "image/svg+xml": "<?xml version=\"1.0\" encoding=\"UTF-8\" standalone=\"no\"?>\n<!DOCTYPE svg PUBLIC \"-//W3C//DTD SVG 1.1//EN\"\n \"http://www.w3.org/Graphics/SVG/1.1/DTD/svg11.dtd\">\n<!-- Generated by graphviz version 2.43.0 (0)\n -->\n<!-- Title: Tree Pages: 1 -->\n<svg width=\"1087pt\" height=\"356pt\"\n viewBox=\"0.00 0.00 1087.00 356.00\" xmlns=\"http://www.w3.org/2000/svg\" xmlns:xlink=\"http://www.w3.org/1999/xlink\">\n<g id=\"graph0\" class=\"graph\" transform=\"scale(1 1) rotate(0) translate(4 352)\">\n<title>Tree</title>\n<polygon fill=\"white\" stroke=\"transparent\" points=\"-4,4 -4,-352 1083,-352 1083,4 -4,4\"/>\n<!-- 0 -->\n<g id=\"node1\" class=\"node\">\n<title>0</title>\n<polygon fill=\"#fcfffe\" stroke=\"black\" points=\"659.5,-348 388.5,-348 388.5,-280 659.5,-280 659.5,-348\"/>\n<text text-anchor=\"middle\" x=\"524\" y=\"-332.8\" font-family=\"Helvetica,sans-Serif\" font-size=\"14.00\">merit &lt;= 10216.5</text>\n<text text-anchor=\"middle\" x=\"524\" y=\"-317.8\" font-family=\"Helvetica,sans-Serif\" font-size=\"14.00\">gini = 0.751</text>\n<text text-anchor=\"middle\" x=\"524\" y=\"-302.8\" font-family=\"Helvetica,sans-Serif\" font-size=\"14.00\">samples = 100.0%</text>\n<text text-anchor=\"middle\" x=\"524\" y=\"-287.8\" font-family=\"Helvetica,sans-Serif\" font-size=\"14.00\">value = [0.094, 0.102, 0.322, 0.312, 0.169]</text>\n</g>\n<!-- 1 -->\n<g id=\"node2\" class=\"node\">\n<title>1</title>\n<polygon fill=\"#fad9f3\" stroke=\"black\" points=\"511.5,-244 248.5,-244 248.5,-176 511.5,-176 511.5,-244\"/>\n<text text-anchor=\"middle\" x=\"380\" y=\"-228.8\" font-family=\"Helvetica,sans-Serif\" font-size=\"14.00\">age &lt;= 66.0</text>\n<text text-anchor=\"middle\" x=\"380\" y=\"-213.8\" font-family=\"Helvetica,sans-Serif\" font-size=\"14.00\">gini = 0.64</text>\n<text text-anchor=\"middle\" x=\"380\" y=\"-198.8\" font-family=\"Helvetica,sans-Serif\" font-size=\"14.00\">samples = 30.0%</text>\n<text text-anchor=\"middle\" x=\"380\" y=\"-183.8\" font-family=\"Helvetica,sans-Serif\" font-size=\"14.00\">value = [0.034, 0.03, 0.115, 0.349, 0.472]</text>\n</g>\n<!-- 0&#45;&gt;1 -->\n<g id=\"edge1\" class=\"edge\">\n<title>0&#45;&gt;1</title>\n<path fill=\"none\" stroke=\"black\" d=\"M477.25,-279.88C463.92,-270.44 449.27,-260.06 435.47,-250.29\"/>\n<polygon fill=\"black\" stroke=\"black\" points=\"437.19,-247.22 427.01,-244.3 433.15,-252.94 437.19,-247.22\"/>\n<text text-anchor=\"middle\" x=\"431.22\" y=\"-265.24\" font-family=\"Helvetica,sans-Serif\" font-size=\"14.00\">True</text>\n</g>\n<!-- 36 -->\n<g id=\"node9\" class=\"node\">\n<title>36</title>\n<polygon fill=\"#e0fbf6\" stroke=\"black\" points=\"804.5,-244 533.5,-244 533.5,-176 804.5,-176 804.5,-244\"/>\n<text text-anchor=\"middle\" x=\"669\" y=\"-228.8\" font-family=\"Helvetica,sans-Serif\" font-size=\"14.00\">age &lt;= 66.5</text>\n<text text-anchor=\"middle\" x=\"669\" y=\"-213.8\" font-family=\"Helvetica,sans-Serif\" font-size=\"14.00\">gini = 0.711</text>\n<text text-anchor=\"middle\" x=\"669\" y=\"-198.8\" font-family=\"Helvetica,sans-Serif\" font-size=\"14.00\">samples = 70.0%</text>\n<text text-anchor=\"middle\" x=\"669\" y=\"-183.8\" font-family=\"Helvetica,sans-Serif\" font-size=\"14.00\">value = [0.119, 0.133, 0.409, 0.297, 0.042]</text>\n</g>\n<!-- 0&#45;&gt;36 -->\n<g id=\"edge8\" class=\"edge\">\n<title>0&#45;&gt;36</title>\n<path fill=\"none\" stroke=\"black\" d=\"M571.08,-279.88C584.5,-270.44 599.25,-260.06 613.14,-250.29\"/>\n<polygon fill=\"black\" stroke=\"black\" points=\"615.5,-252.92 621.66,-244.3 611.47,-247.19 615.5,-252.92\"/>\n<text text-anchor=\"middle\" x=\"617.37\" y=\"-265.23\" font-family=\"Helvetica,sans-Serif\" font-size=\"14.00\">False</text>\n</g>\n<!-- 2 -->\n<g id=\"node3\" class=\"node\">\n<title>2</title>\n<polygon fill=\"#e644c3\" stroke=\"black\" points=\"226,-140 0,-140 0,-72 226,-72 226,-140\"/>\n<text text-anchor=\"middle\" x=\"113\" y=\"-124.8\" font-family=\"Helvetica,sans-Serif\" font-size=\"14.00\">age &lt;= 61.5</text>\n<text text-anchor=\"middle\" x=\"113\" y=\"-109.8\" font-family=\"Helvetica,sans-Serif\" font-size=\"14.00\">gini = 0.098</text>\n<text text-anchor=\"middle\" x=\"113\" y=\"-94.8\" font-family=\"Helvetica,sans-Serif\" font-size=\"14.00\">samples = 9.8%</text>\n<text text-anchor=\"middle\" x=\"113\" y=\"-79.8\" font-family=\"Helvetica,sans-Serif\" font-size=\"14.00\">value = [0.0, 0.0, 0.0, 0.052, 0.948]</text>\n</g>\n<!-- 1&#45;&gt;2 -->\n<g id=\"edge2\" class=\"edge\">\n<title>1&#45;&gt;2</title>\n<path fill=\"none\" stroke=\"black\" d=\"M293.31,-175.88C266.48,-165.63 236.76,-154.28 209.31,-143.79\"/>\n<polygon fill=\"black\" stroke=\"black\" points=\"210.3,-140.42 199.71,-140.12 207.8,-146.96 210.3,-140.42\"/>\n</g>\n<!-- 15 -->\n<g id=\"node6\" class=\"node\">\n<title>15</title>\n<polygon fill=\"#bebdf6\" stroke=\"black\" points=\"515.5,-140 244.5,-140 244.5,-72 515.5,-72 515.5,-140\"/>\n<text text-anchor=\"middle\" x=\"380\" y=\"-124.8\" font-family=\"Helvetica,sans-Serif\" font-size=\"14.00\">marks &lt;= 190.5</text>\n<text text-anchor=\"middle\" x=\"380\" y=\"-109.8\" font-family=\"Helvetica,sans-Serif\" font-size=\"14.00\">gini = 0.665</text>\n<text text-anchor=\"middle\" x=\"380\" y=\"-94.8\" font-family=\"Helvetica,sans-Serif\" font-size=\"14.00\">samples = 20.2%</text>\n<text text-anchor=\"middle\" x=\"380\" y=\"-79.8\" font-family=\"Helvetica,sans-Serif\" font-size=\"14.00\">value = [0.051, 0.044, 0.171, 0.494, 0.241]</text>\n</g>\n<!-- 1&#45;&gt;15 -->\n<g id=\"edge5\" class=\"edge\">\n<title>1&#45;&gt;15</title>\n<path fill=\"none\" stroke=\"black\" d=\"M380,-175.88C380,-167.78 380,-158.98 380,-150.47\"/>\n<polygon fill=\"black\" stroke=\"black\" points=\"383.5,-150.3 380,-140.3 376.5,-150.3 383.5,-150.3\"/>\n</g>\n<!-- 3 -->\n<g id=\"node4\" class=\"node\">\n<title>3</title>\n<polygon fill=\"#c0c0c0\" stroke=\"black\" points=\"104,-36 50,-36 50,0 104,0 104,-36\"/>\n<text text-anchor=\"middle\" x=\"77\" y=\"-14.3\" font-family=\"Helvetica,sans-Serif\" font-size=\"14.00\">(...)</text>\n</g>\n<!-- 2&#45;&gt;3 -->\n<g id=\"edge3\" class=\"edge\">\n<title>2&#45;&gt;3</title>\n<path fill=\"none\" stroke=\"black\" d=\"M99.18,-72C95.54,-63.28 91.64,-53.98 88.16,-45.65\"/>\n<polygon fill=\"black\" stroke=\"black\" points=\"91.38,-44.28 84.29,-36.4 84.92,-46.98 91.38,-44.28\"/>\n</g>\n<!-- 8 -->\n<g id=\"node5\" class=\"node\">\n<title>8</title>\n<polygon fill=\"#c0c0c0\" stroke=\"black\" points=\"176,-36 122,-36 122,0 176,0 176,-36\"/>\n<text text-anchor=\"middle\" x=\"149\" y=\"-14.3\" font-family=\"Helvetica,sans-Serif\" font-size=\"14.00\">(...)</text>\n</g>\n<!-- 2&#45;&gt;8 -->\n<g id=\"edge4\" class=\"edge\">\n<title>2&#45;&gt;8</title>\n<path fill=\"none\" stroke=\"black\" d=\"M126.82,-72C130.46,-63.28 134.36,-53.98 137.84,-45.65\"/>\n<polygon fill=\"black\" stroke=\"black\" points=\"141.08,-46.98 141.71,-36.4 134.62,-44.28 141.08,-46.98\"/>\n</g>\n<!-- 16 -->\n<g id=\"node7\" class=\"node\">\n<title>16</title>\n<polygon fill=\"#c0c0c0\" stroke=\"black\" points=\"371,-36 317,-36 317,0 371,0 371,-36\"/>\n<text text-anchor=\"middle\" x=\"344\" y=\"-14.3\" font-family=\"Helvetica,sans-Serif\" font-size=\"14.00\">(...)</text>\n</g>\n<!-- 15&#45;&gt;16 -->\n<g id=\"edge6\" class=\"edge\">\n<title>15&#45;&gt;16</title>\n<path fill=\"none\" stroke=\"black\" d=\"M366.18,-72C362.54,-63.28 358.64,-53.98 355.16,-45.65\"/>\n<polygon fill=\"black\" stroke=\"black\" points=\"358.38,-44.28 351.29,-36.4 351.92,-46.98 358.38,-44.28\"/>\n</g>\n<!-- 17 -->\n<g id=\"node8\" class=\"node\">\n<title>17</title>\n<polygon fill=\"#c0c0c0\" stroke=\"black\" points=\"443,-36 389,-36 389,0 443,0 443,-36\"/>\n<text text-anchor=\"middle\" x=\"416\" y=\"-14.3\" font-family=\"Helvetica,sans-Serif\" font-size=\"14.00\">(...)</text>\n</g>\n<!-- 15&#45;&gt;17 -->\n<g id=\"edge7\" class=\"edge\">\n<title>15&#45;&gt;17</title>\n<path fill=\"none\" stroke=\"black\" d=\"M393.82,-72C397.46,-63.28 401.36,-53.98 404.84,-45.65\"/>\n<polygon fill=\"black\" stroke=\"black\" points=\"408.08,-46.98 408.71,-36.4 401.62,-44.28 408.08,-46.98\"/>\n</g>\n<!-- 37 -->\n<g id=\"node10\" class=\"node\">\n<title>37</title>\n<polygon fill=\"#f7fefd\" stroke=\"black\" points=\"804.5,-140 533.5,-140 533.5,-72 804.5,-72 804.5,-140\"/>\n<text text-anchor=\"middle\" x=\"669\" y=\"-124.8\" font-family=\"Helvetica,sans-Serif\" font-size=\"14.00\">marks &lt;= 501.0</text>\n<text text-anchor=\"middle\" x=\"669\" y=\"-109.8\" font-family=\"Helvetica,sans-Serif\" font-size=\"14.00\">gini = 0.706</text>\n<text text-anchor=\"middle\" x=\"669\" y=\"-94.8\" font-family=\"Helvetica,sans-Serif\" font-size=\"14.00\">samples = 56.5%</text>\n<text text-anchor=\"middle\" x=\"669\" y=\"-79.8\" font-family=\"Helvetica,sans-Serif\" font-size=\"14.00\">value = [0.107, 0.109, 0.379, 0.352, 0.053]</text>\n</g>\n<!-- 36&#45;&gt;37 -->\n<g id=\"edge9\" class=\"edge\">\n<title>36&#45;&gt;37</title>\n<path fill=\"none\" stroke=\"black\" d=\"M669,-175.88C669,-167.78 669,-158.98 669,-150.47\"/>\n<polygon fill=\"black\" stroke=\"black\" points=\"672.5,-150.3 669,-140.3 665.5,-150.3 672.5,-150.3\"/>\n</g>\n<!-- 56 -->\n<g id=\"node13\" class=\"node\">\n<title>56</title>\n<polygon fill=\"#b0f5e8\" stroke=\"black\" points=\"1079,-140 823,-140 823,-72 1079,-72 1079,-140\"/>\n<text text-anchor=\"middle\" x=\"951\" y=\"-124.8\" font-family=\"Helvetica,sans-Serif\" font-size=\"14.00\">merit &lt;= 15190.5</text>\n<text text-anchor=\"middle\" x=\"951\" y=\"-109.8\" font-family=\"Helvetica,sans-Serif\" font-size=\"14.00\">gini = 0.626</text>\n<text text-anchor=\"middle\" x=\"951\" y=\"-94.8\" font-family=\"Helvetica,sans-Serif\" font-size=\"14.00\">samples = 13.5%</text>\n<text text-anchor=\"middle\" x=\"951\" y=\"-79.8\" font-family=\"Helvetica,sans-Serif\" font-size=\"14.00\">value = [0.167, 0.231, 0.537, 0.065, 0.0]</text>\n</g>\n<!-- 36&#45;&gt;56 -->\n<g id=\"edge12\" class=\"edge\">\n<title>36&#45;&gt;56</title>\n<path fill=\"none\" stroke=\"black\" d=\"M760.56,-175.88C789.02,-165.59 820.56,-154.18 849.66,-143.66\"/>\n<polygon fill=\"black\" stroke=\"black\" points=\"851.21,-146.82 859.42,-140.12 848.83,-140.23 851.21,-146.82\"/>\n</g>\n<!-- 38 -->\n<g id=\"node11\" class=\"node\">\n<title>38</title>\n<polygon fill=\"#c0c0c0\" stroke=\"black\" points=\"660,-36 606,-36 606,0 660,0 660,-36\"/>\n<text text-anchor=\"middle\" x=\"633\" y=\"-14.3\" font-family=\"Helvetica,sans-Serif\" font-size=\"14.00\">(...)</text>\n</g>\n<!-- 37&#45;&gt;38 -->\n<g id=\"edge10\" class=\"edge\">\n<title>37&#45;&gt;38</title>\n<path fill=\"none\" stroke=\"black\" d=\"M655.18,-72C651.54,-63.28 647.64,-53.98 644.16,-45.65\"/>\n<polygon fill=\"black\" stroke=\"black\" points=\"647.38,-44.28 640.29,-36.4 640.92,-46.98 647.38,-44.28\"/>\n</g>\n<!-- 47 -->\n<g id=\"node12\" class=\"node\">\n<title>47</title>\n<polygon fill=\"#c0c0c0\" stroke=\"black\" points=\"732,-36 678,-36 678,0 732,0 732,-36\"/>\n<text text-anchor=\"middle\" x=\"705\" y=\"-14.3\" font-family=\"Helvetica,sans-Serif\" font-size=\"14.00\">(...)</text>\n</g>\n<!-- 37&#45;&gt;47 -->\n<g id=\"edge11\" class=\"edge\">\n<title>37&#45;&gt;47</title>\n<path fill=\"none\" stroke=\"black\" d=\"M682.82,-72C686.46,-63.28 690.36,-53.98 693.84,-45.65\"/>\n<polygon fill=\"black\" stroke=\"black\" points=\"697.08,-46.98 697.71,-36.4 690.62,-44.28 697.08,-46.98\"/>\n</g>\n<!-- 57 -->\n<g id=\"node14\" class=\"node\">\n<title>57</title>\n<polygon fill=\"#c0c0c0\" stroke=\"black\" points=\"942,-36 888,-36 888,0 942,0 942,-36\"/>\n<text text-anchor=\"middle\" x=\"915\" y=\"-14.3\" font-family=\"Helvetica,sans-Serif\" font-size=\"14.00\">(...)</text>\n</g>\n<!-- 56&#45;&gt;57 -->\n<g id=\"edge13\" class=\"edge\">\n<title>56&#45;&gt;57</title>\n<path fill=\"none\" stroke=\"black\" d=\"M937.18,-72C933.54,-63.28 929.64,-53.98 926.16,-45.65\"/>\n<polygon fill=\"black\" stroke=\"black\" points=\"929.38,-44.28 922.29,-36.4 922.92,-46.98 929.38,-44.28\"/>\n</g>\n<!-- 76 -->\n<g id=\"node15\" class=\"node\">\n<title>76</title>\n<polygon fill=\"#c0c0c0\" stroke=\"black\" points=\"1014,-36 960,-36 960,0 1014,0 1014,-36\"/>\n<text text-anchor=\"middle\" x=\"987\" y=\"-14.3\" font-family=\"Helvetica,sans-Serif\" font-size=\"14.00\">(...)</text>\n</g>\n<!-- 56&#45;&gt;76 -->\n<g id=\"edge14\" class=\"edge\">\n<title>56&#45;&gt;76</title>\n<path fill=\"none\" stroke=\"black\" d=\"M964.82,-72C968.46,-63.28 972.36,-53.98 975.84,-45.65\"/>\n<polygon fill=\"black\" stroke=\"black\" points=\"979.08,-46.98 979.71,-36.4 972.62,-44.28 979.08,-46.98\"/>\n</g>\n</g>\n</svg>\n",
            "text/plain": [
              "<graphviz.sources.Source at 0x787f7900b760>"
            ]
          },
          "metadata": {}
        },
        {
          "output_type": "display_data",
          "data": {
            "image/svg+xml": "<?xml version=\"1.0\" encoding=\"UTF-8\" standalone=\"no\"?>\n<!DOCTYPE svg PUBLIC \"-//W3C//DTD SVG 1.1//EN\"\n \"http://www.w3.org/Graphics/SVG/1.1/DTD/svg11.dtd\">\n<!-- Generated by graphviz version 2.43.0 (0)\n -->\n<!-- Title: Tree Pages: 1 -->\n<svg width=\"1000pt\" height=\"356pt\"\n viewBox=\"0.00 0.00 999.50 356.00\" xmlns=\"http://www.w3.org/2000/svg\" xmlns:xlink=\"http://www.w3.org/1999/xlink\">\n<g id=\"graph0\" class=\"graph\" transform=\"scale(1 1) rotate(0) translate(4 352)\">\n<title>Tree</title>\n<polygon fill=\"white\" stroke=\"transparent\" points=\"-4,4 -4,-352 995.5,-352 995.5,4 -4,4\"/>\n<!-- 0 -->\n<g id=\"node1\" class=\"node\">\n<title>0</title>\n<polygon fill=\"#f6fefc\" stroke=\"black\" points=\"624.5,-348 361.5,-348 361.5,-280 624.5,-280 624.5,-348\"/>\n<text text-anchor=\"middle\" x=\"493\" y=\"-332.8\" font-family=\"Helvetica,sans-Serif\" font-size=\"14.00\">age &lt;= 61.5</text>\n<text text-anchor=\"middle\" x=\"493\" y=\"-317.8\" font-family=\"Helvetica,sans-Serif\" font-size=\"14.00\">gini = 0.751</text>\n<text text-anchor=\"middle\" x=\"493\" y=\"-302.8\" font-family=\"Helvetica,sans-Serif\" font-size=\"14.00\">samples = 100.0%</text>\n<text text-anchor=\"middle\" x=\"493\" y=\"-287.8\" font-family=\"Helvetica,sans-Serif\" font-size=\"14.00\">value = [0.08, 0.108, 0.328, 0.296, 0.189]</text>\n</g>\n<!-- 1 -->\n<g id=\"node2\" class=\"node\">\n<title>1</title>\n<polygon fill=\"#f8f8fe\" stroke=\"black\" points=\"486.5,-244 215.5,-244 215.5,-176 486.5,-176 486.5,-244\"/>\n<text text-anchor=\"middle\" x=\"351\" y=\"-228.8\" font-family=\"Helvetica,sans-Serif\" font-size=\"14.00\">marks &lt;= 501.0</text>\n<text text-anchor=\"middle\" x=\"351\" y=\"-213.8\" font-family=\"Helvetica,sans-Serif\" font-size=\"14.00\">gini = 0.754</text>\n<text text-anchor=\"middle\" x=\"351\" y=\"-198.8\" font-family=\"Helvetica,sans-Serif\" font-size=\"14.00\">samples = 62.9%</text>\n<text text-anchor=\"middle\" x=\"351\" y=\"-183.8\" font-family=\"Helvetica,sans-Serif\" font-size=\"14.00\">value = [0.082, 0.099, 0.291, 0.317, 0.212]</text>\n</g>\n<!-- 0&#45;&gt;1 -->\n<g id=\"edge1\" class=\"edge\">\n<title>0&#45;&gt;1</title>\n<path fill=\"none\" stroke=\"black\" d=\"M446.9,-279.88C433.75,-270.44 419.3,-260.06 405.7,-250.29\"/>\n<polygon fill=\"black\" stroke=\"black\" points=\"407.52,-247.29 397.36,-244.3 403.44,-252.98 407.52,-247.29\"/>\n<text text-anchor=\"middle\" x=\"401.4\" y=\"-265.27\" font-family=\"Helvetica,sans-Serif\" font-size=\"14.00\">True</text>\n</g>\n<!-- 34 -->\n<g id=\"node9\" class=\"node\">\n<title>34</title>\n<polygon fill=\"#dbfaf5\" stroke=\"black\" points=\"767.5,-244 504.5,-244 504.5,-176 767.5,-176 767.5,-244\"/>\n<text text-anchor=\"middle\" x=\"636\" y=\"-228.8\" font-family=\"Helvetica,sans-Serif\" font-size=\"14.00\">marks &lt;= 501.5</text>\n<text text-anchor=\"middle\" x=\"636\" y=\"-213.8\" font-family=\"Helvetica,sans-Serif\" font-size=\"14.00\">gini = 0.735</text>\n<text text-anchor=\"middle\" x=\"636\" y=\"-198.8\" font-family=\"Helvetica,sans-Serif\" font-size=\"14.00\">samples = 37.1%</text>\n<text text-anchor=\"middle\" x=\"636\" y=\"-183.8\" font-family=\"Helvetica,sans-Serif\" font-size=\"14.00\">value = [0.077, 0.123, 0.393, 0.26, 0.147]</text>\n</g>\n<!-- 0&#45;&gt;34 -->\n<g id=\"edge8\" class=\"edge\">\n<title>0&#45;&gt;34</title>\n<path fill=\"none\" stroke=\"black\" d=\"M539.43,-279.88C552.67,-270.44 567.21,-260.06 580.91,-250.29\"/>\n<polygon fill=\"black\" stroke=\"black\" points=\"583.21,-252.96 589.32,-244.3 579.14,-247.26 583.21,-252.96\"/>\n<text text-anchor=\"middle\" x=\"585.19\" y=\"-265.26\" font-family=\"Helvetica,sans-Serif\" font-size=\"14.00\">False</text>\n</g>\n<!-- 2 -->\n<g id=\"node3\" class=\"node\">\n<title>2</title>\n<polygon fill=\"#bebdf6\" stroke=\"black\" points=\"226,-140 0,-140 0,-72 226,-72 226,-140\"/>\n<text text-anchor=\"middle\" x=\"113\" y=\"-124.8\" font-family=\"Helvetica,sans-Serif\" font-size=\"14.00\">merit &lt;= 15271.0</text>\n<text text-anchor=\"middle\" x=\"113\" y=\"-109.8\" font-family=\"Helvetica,sans-Serif\" font-size=\"14.00\">gini = 0.48</text>\n<text text-anchor=\"middle\" x=\"113\" y=\"-94.8\" font-family=\"Helvetica,sans-Serif\" font-size=\"14.00\">samples = 33.4%</text>\n<text text-anchor=\"middle\" x=\"113\" y=\"-79.8\" font-family=\"Helvetica,sans-Serif\" font-size=\"14.00\">value = [0.0, 0.0, 0.0, 0.599, 0.401]</text>\n</g>\n<!-- 1&#45;&gt;2 -->\n<g id=\"edge2\" class=\"edge\">\n<title>1&#45;&gt;2</title>\n<path fill=\"none\" stroke=\"black\" d=\"M273.73,-175.88C250.02,-165.72 223.78,-154.48 199.49,-144.07\"/>\n<polygon fill=\"black\" stroke=\"black\" points=\"200.86,-140.85 190.29,-140.12 198.1,-147.28 200.86,-140.85\"/>\n</g>\n<!-- 25 -->\n<g id=\"node6\" class=\"node\">\n<title>25</title>\n<polygon fill=\"#99f2e1\" stroke=\"black\" points=\"477.5,-140 244.5,-140 244.5,-72 477.5,-72 477.5,-140\"/>\n<text text-anchor=\"middle\" x=\"361\" y=\"-124.8\" font-family=\"Helvetica,sans-Serif\" font-size=\"14.00\">marks &lt;= 801.0</text>\n<text text-anchor=\"middle\" x=\"361\" y=\"-109.8\" font-family=\"Helvetica,sans-Serif\" font-size=\"14.00\">gini = 0.545</text>\n<text text-anchor=\"middle\" x=\"361\" y=\"-94.8\" font-family=\"Helvetica,sans-Serif\" font-size=\"14.00\">samples = 29.5%</text>\n<text text-anchor=\"middle\" x=\"361\" y=\"-79.8\" font-family=\"Helvetica,sans-Serif\" font-size=\"14.00\">value = [0.173, 0.21, 0.617, 0.0, 0.0]</text>\n</g>\n<!-- 1&#45;&gt;25 -->\n<g id=\"edge5\" class=\"edge\">\n<title>1&#45;&gt;25</title>\n<path fill=\"none\" stroke=\"black\" d=\"M354.25,-175.88C355.04,-167.78 355.9,-158.98 356.74,-150.47\"/>\n<polygon fill=\"black\" stroke=\"black\" points=\"360.24,-150.59 357.74,-140.3 353.28,-149.91 360.24,-150.59\"/>\n</g>\n<!-- 3 -->\n<g id=\"node4\" class=\"node\">\n<title>3</title>\n<polygon fill=\"#c0c0c0\" stroke=\"black\" points=\"104,-36 50,-36 50,0 104,0 104,-36\"/>\n<text text-anchor=\"middle\" x=\"77\" y=\"-14.3\" font-family=\"Helvetica,sans-Serif\" font-size=\"14.00\">(...)</text>\n</g>\n<!-- 2&#45;&gt;3 -->\n<g id=\"edge3\" class=\"edge\">\n<title>2&#45;&gt;3</title>\n<path fill=\"none\" stroke=\"black\" d=\"M99.18,-72C95.54,-63.28 91.64,-53.98 88.16,-45.65\"/>\n<polygon fill=\"black\" stroke=\"black\" points=\"91.38,-44.28 84.29,-36.4 84.92,-46.98 91.38,-44.28\"/>\n</g>\n<!-- 14 -->\n<g id=\"node5\" class=\"node\">\n<title>14</title>\n<polygon fill=\"#c0c0c0\" stroke=\"black\" points=\"176,-36 122,-36 122,0 176,0 176,-36\"/>\n<text text-anchor=\"middle\" x=\"149\" y=\"-14.3\" font-family=\"Helvetica,sans-Serif\" font-size=\"14.00\">(...)</text>\n</g>\n<!-- 2&#45;&gt;14 -->\n<g id=\"edge4\" class=\"edge\">\n<title>2&#45;&gt;14</title>\n<path fill=\"none\" stroke=\"black\" d=\"M126.82,-72C130.46,-63.28 134.36,-53.98 137.84,-45.65\"/>\n<polygon fill=\"black\" stroke=\"black\" points=\"141.08,-46.98 141.71,-36.4 134.62,-44.28 141.08,-46.98\"/>\n</g>\n<!-- 26 -->\n<g id=\"node7\" class=\"node\">\n<title>26</title>\n<polygon fill=\"#c0c0c0\" stroke=\"black\" points=\"352,-36 298,-36 298,0 352,0 352,-36\"/>\n<text text-anchor=\"middle\" x=\"325\" y=\"-14.3\" font-family=\"Helvetica,sans-Serif\" font-size=\"14.00\">(...)</text>\n</g>\n<!-- 25&#45;&gt;26 -->\n<g id=\"edge6\" class=\"edge\">\n<title>25&#45;&gt;26</title>\n<path fill=\"none\" stroke=\"black\" d=\"M347.18,-72C343.54,-63.28 339.64,-53.98 336.16,-45.65\"/>\n<polygon fill=\"black\" stroke=\"black\" points=\"339.38,-44.28 332.29,-36.4 332.92,-46.98 339.38,-44.28\"/>\n</g>\n<!-- 27 -->\n<g id=\"node8\" class=\"node\">\n<title>27</title>\n<polygon fill=\"#c0c0c0\" stroke=\"black\" points=\"424,-36 370,-36 370,0 424,0 424,-36\"/>\n<text text-anchor=\"middle\" x=\"397\" y=\"-14.3\" font-family=\"Helvetica,sans-Serif\" font-size=\"14.00\">(...)</text>\n</g>\n<!-- 25&#45;&gt;27 -->\n<g id=\"edge7\" class=\"edge\">\n<title>25&#45;&gt;27</title>\n<path fill=\"none\" stroke=\"black\" d=\"M374.82,-72C378.46,-63.28 382.36,-53.98 385.84,-45.65\"/>\n<polygon fill=\"black\" stroke=\"black\" points=\"389.08,-46.98 389.71,-36.4 382.62,-44.28 389.08,-46.98\"/>\n</g>\n<!-- 35 -->\n<g id=\"node10\" class=\"node\">\n<title>35</title>\n<polygon fill=\"#aba9f4\" stroke=\"black\" points=\"740,-140 514,-140 514,-72 740,-72 740,-140\"/>\n<text text-anchor=\"middle\" x=\"627\" y=\"-124.8\" font-family=\"Helvetica,sans-Serif\" font-size=\"14.00\">marks &lt;= 198.0</text>\n<text text-anchor=\"middle\" x=\"627\" y=\"-109.8\" font-family=\"Helvetica,sans-Serif\" font-size=\"14.00\">gini = 0.462</text>\n<text text-anchor=\"middle\" x=\"627\" y=\"-94.8\" font-family=\"Helvetica,sans-Serif\" font-size=\"14.00\">samples = 14.9%</text>\n<text text-anchor=\"middle\" x=\"627\" y=\"-79.8\" font-family=\"Helvetica,sans-Serif\" font-size=\"14.00\">value = [0.0, 0.0, 0.0, 0.638, 0.362]</text>\n</g>\n<!-- 34&#45;&gt;35 -->\n<g id=\"edge9\" class=\"edge\">\n<title>34&#45;&gt;35</title>\n<path fill=\"none\" stroke=\"black\" d=\"M633.08,-175.88C632.36,-167.78 631.59,-158.98 630.84,-150.47\"/>\n<polygon fill=\"black\" stroke=\"black\" points=\"634.3,-149.95 629.94,-140.3 627.33,-150.57 634.3,-149.95\"/>\n</g>\n<!-- 38 -->\n<g id=\"node13\" class=\"node\">\n<title>38</title>\n<polygon fill=\"#8df0de\" stroke=\"black\" points=\"991.5,-140 758.5,-140 758.5,-72 991.5,-72 991.5,-140\"/>\n<text text-anchor=\"middle\" x=\"875\" y=\"-124.8\" font-family=\"Helvetica,sans-Serif\" font-size=\"14.00\">marks &lt;= 800.0</text>\n<text text-anchor=\"middle\" x=\"875\" y=\"-109.8\" font-family=\"Helvetica,sans-Serif\" font-size=\"14.00\">gini = 0.501</text>\n<text text-anchor=\"middle\" x=\"875\" y=\"-94.8\" font-family=\"Helvetica,sans-Serif\" font-size=\"14.00\">samples = 22.2%</text>\n<text text-anchor=\"middle\" x=\"875\" y=\"-79.8\" font-family=\"Helvetica,sans-Serif\" font-size=\"14.00\">value = [0.13, 0.207, 0.663, 0.0, 0.0]</text>\n</g>\n<!-- 34&#45;&gt;38 -->\n<g id=\"edge12\" class=\"edge\">\n<title>34&#45;&gt;38</title>\n<path fill=\"none\" stroke=\"black\" d=\"M713.6,-175.88C737.41,-165.72 763.76,-154.48 788.14,-144.07\"/>\n<polygon fill=\"black\" stroke=\"black\" points=\"789.56,-147.27 797.38,-140.12 786.81,-140.83 789.56,-147.27\"/>\n</g>\n<!-- 36 -->\n<g id=\"node11\" class=\"node\">\n<title>36</title>\n<polygon fill=\"#c0c0c0\" stroke=\"black\" points=\"618,-36 564,-36 564,0 618,0 618,-36\"/>\n<text text-anchor=\"middle\" x=\"591\" y=\"-14.3\" font-family=\"Helvetica,sans-Serif\" font-size=\"14.00\">(...)</text>\n</g>\n<!-- 35&#45;&gt;36 -->\n<g id=\"edge10\" class=\"edge\">\n<title>35&#45;&gt;36</title>\n<path fill=\"none\" stroke=\"black\" d=\"M613.18,-72C609.54,-63.28 605.64,-53.98 602.16,-45.65\"/>\n<polygon fill=\"black\" stroke=\"black\" points=\"605.38,-44.28 598.29,-36.4 598.92,-46.98 605.38,-44.28\"/>\n</g>\n<!-- 37 -->\n<g id=\"node12\" class=\"node\">\n<title>37</title>\n<polygon fill=\"#c0c0c0\" stroke=\"black\" points=\"690,-36 636,-36 636,0 690,0 690,-36\"/>\n<text text-anchor=\"middle\" x=\"663\" y=\"-14.3\" font-family=\"Helvetica,sans-Serif\" font-size=\"14.00\">(...)</text>\n</g>\n<!-- 35&#45;&gt;37 -->\n<g id=\"edge11\" class=\"edge\">\n<title>35&#45;&gt;37</title>\n<path fill=\"none\" stroke=\"black\" d=\"M640.82,-72C644.46,-63.28 648.36,-53.98 651.84,-45.65\"/>\n<polygon fill=\"black\" stroke=\"black\" points=\"655.08,-46.98 655.71,-36.4 648.62,-44.28 655.08,-46.98\"/>\n</g>\n<!-- 39 -->\n<g id=\"node14\" class=\"node\">\n<title>39</title>\n<polygon fill=\"#c0c0c0\" stroke=\"black\" points=\"866,-36 812,-36 812,0 866,0 866,-36\"/>\n<text text-anchor=\"middle\" x=\"839\" y=\"-14.3\" font-family=\"Helvetica,sans-Serif\" font-size=\"14.00\">(...)</text>\n</g>\n<!-- 38&#45;&gt;39 -->\n<g id=\"edge13\" class=\"edge\">\n<title>38&#45;&gt;39</title>\n<path fill=\"none\" stroke=\"black\" d=\"M861.18,-72C857.54,-63.28 853.64,-53.98 850.16,-45.65\"/>\n<polygon fill=\"black\" stroke=\"black\" points=\"853.38,-44.28 846.29,-36.4 846.92,-46.98 853.38,-44.28\"/>\n</g>\n<!-- 40 -->\n<g id=\"node15\" class=\"node\">\n<title>40</title>\n<polygon fill=\"#c0c0c0\" stroke=\"black\" points=\"938,-36 884,-36 884,0 938,0 938,-36\"/>\n<text text-anchor=\"middle\" x=\"911\" y=\"-14.3\" font-family=\"Helvetica,sans-Serif\" font-size=\"14.00\">(...)</text>\n</g>\n<!-- 38&#45;&gt;40 -->\n<g id=\"edge14\" class=\"edge\">\n<title>38&#45;&gt;40</title>\n<path fill=\"none\" stroke=\"black\" d=\"M888.82,-72C892.46,-63.28 896.36,-53.98 899.84,-45.65\"/>\n<polygon fill=\"black\" stroke=\"black\" points=\"903.08,-46.98 903.71,-36.4 896.62,-44.28 903.08,-46.98\"/>\n</g>\n</g>\n</svg>\n",
            "text/plain": [
              "<graphviz.sources.Source at 0x787f79008460>"
            ]
          },
          "metadata": {}
        },
        {
          "output_type": "display_data",
          "data": {
            "image/svg+xml": "<?xml version=\"1.0\" encoding=\"UTF-8\" standalone=\"no\"?>\n<!DOCTYPE svg PUBLIC \"-//W3C//DTD SVG 1.1//EN\"\n \"http://www.w3.org/Graphics/SVG/1.1/DTD/svg11.dtd\">\n<!-- Generated by graphviz version 2.43.0 (0)\n -->\n<!-- Title: Tree Pages: 1 -->\n<svg width=\"1039pt\" height=\"356pt\"\n viewBox=\"0.00 0.00 1038.50 356.00\" xmlns=\"http://www.w3.org/2000/svg\" xmlns:xlink=\"http://www.w3.org/1999/xlink\">\n<g id=\"graph0\" class=\"graph\" transform=\"scale(1 1) rotate(0) translate(4 352)\">\n<title>Tree</title>\n<polygon fill=\"white\" stroke=\"transparent\" points=\"-4,4 -4,-352 1034.5,-352 1034.5,4 -4,4\"/>\n<!-- 0 -->\n<g id=\"node1\" class=\"node\">\n<title>0</title>\n<polygon fill=\"#fbfefe\" stroke=\"black\" points=\"626.5,-348 355.5,-348 355.5,-280 626.5,-280 626.5,-348\"/>\n<text text-anchor=\"middle\" x=\"491\" y=\"-332.8\" font-family=\"Helvetica,sans-Serif\" font-size=\"14.00\">age &lt;= 21.5</text>\n<text text-anchor=\"middle\" x=\"491\" y=\"-317.8\" font-family=\"Helvetica,sans-Serif\" font-size=\"14.00\">gini = 0.758</text>\n<text text-anchor=\"middle\" x=\"491\" y=\"-302.8\" font-family=\"Helvetica,sans-Serif\" font-size=\"14.00\">samples = 100.0%</text>\n<text text-anchor=\"middle\" x=\"491\" y=\"-287.8\" font-family=\"Helvetica,sans-Serif\" font-size=\"14.00\">value = [0.105, 0.099, 0.312, 0.299, 0.185]</text>\n</g>\n<!-- 1 -->\n<g id=\"node2\" class=\"node\">\n<title>1</title>\n<polygon fill=\"#e8e8fc\" stroke=\"black\" points=\"485.5,-244 214.5,-244 214.5,-176 485.5,-176 485.5,-244\"/>\n<text text-anchor=\"middle\" x=\"350\" y=\"-228.8\" font-family=\"Helvetica,sans-Serif\" font-size=\"14.00\">marks &lt;= 501.0</text>\n<text text-anchor=\"middle\" x=\"350\" y=\"-213.8\" font-family=\"Helvetica,sans-Serif\" font-size=\"14.00\">gini = 0.716</text>\n<text text-anchor=\"middle\" x=\"350\" y=\"-198.8\" font-family=\"Helvetica,sans-Serif\" font-size=\"14.00\">samples = 21.4%</text>\n<text text-anchor=\"middle\" x=\"350\" y=\"-183.8\" font-family=\"Helvetica,sans-Serif\" font-size=\"14.00\">value = [0.062, 0.094, 0.312, 0.394, 0.138]</text>\n</g>\n<!-- 0&#45;&gt;1 -->\n<g id=\"edge1\" class=\"edge\">\n<title>0&#45;&gt;1</title>\n<path fill=\"none\" stroke=\"black\" d=\"M445.22,-279.88C432.17,-270.44 417.82,-260.06 404.31,-250.29\"/>\n<polygon fill=\"black\" stroke=\"black\" points=\"406.19,-247.32 396.03,-244.3 402.08,-253 406.19,-247.32\"/>\n<text text-anchor=\"middle\" x=\"399.99\" y=\"-265.28\" font-family=\"Helvetica,sans-Serif\" font-size=\"14.00\">True</text>\n</g>\n<!-- 20 -->\n<g id=\"node9\" class=\"node\">\n<title>20</title>\n<polygon fill=\"#f5fefc\" stroke=\"black\" points=\"760,-244 504,-244 504,-176 760,-176 760,-244\"/>\n<text text-anchor=\"middle\" x=\"632\" y=\"-228.8\" font-family=\"Helvetica,sans-Serif\" font-size=\"14.00\">age &lt;= 27.5</text>\n<text text-anchor=\"middle\" x=\"632\" y=\"-213.8\" font-family=\"Helvetica,sans-Serif\" font-size=\"14.00\">gini = 0.765</text>\n<text text-anchor=\"middle\" x=\"632\" y=\"-198.8\" font-family=\"Helvetica,sans-Serif\" font-size=\"14.00\">samples = 78.6%</text>\n<text text-anchor=\"middle\" x=\"632\" y=\"-183.8\" font-family=\"Helvetica,sans-Serif\" font-size=\"14.00\">value = [0.116, 0.1, 0.312, 0.275, 0.197]</text>\n</g>\n<!-- 0&#45;&gt;20 -->\n<g id=\"edge8\" class=\"edge\">\n<title>0&#45;&gt;20</title>\n<path fill=\"none\" stroke=\"black\" d=\"M536.78,-279.88C549.83,-270.44 564.18,-260.06 577.69,-250.29\"/>\n<polygon fill=\"black\" stroke=\"black\" points=\"579.92,-253 585.97,-244.3 575.81,-247.32 579.92,-253\"/>\n<text text-anchor=\"middle\" x=\"582.01\" y=\"-265.28\" font-family=\"Helvetica,sans-Serif\" font-size=\"14.00\">False</text>\n</g>\n<!-- 2 -->\n<g id=\"node3\" class=\"node\">\n<title>2</title>\n<polygon fill=\"#807eee\" stroke=\"black\" points=\"226,-140 0,-140 0,-72 226,-72 226,-140\"/>\n<text text-anchor=\"middle\" x=\"113\" y=\"-124.8\" font-family=\"Helvetica,sans-Serif\" font-size=\"14.00\">merit &lt;= 17362.0</text>\n<text text-anchor=\"middle\" x=\"113\" y=\"-109.8\" font-family=\"Helvetica,sans-Serif\" font-size=\"14.00\">gini = 0.384</text>\n<text text-anchor=\"middle\" x=\"113\" y=\"-94.8\" font-family=\"Helvetica,sans-Serif\" font-size=\"14.00\">samples = 11.1%</text>\n<text text-anchor=\"middle\" x=\"113\" y=\"-79.8\" font-family=\"Helvetica,sans-Serif\" font-size=\"14.00\">value = [0.0, 0.0, 0.0, 0.741, 0.259]</text>\n</g>\n<!-- 1&#45;&gt;2 -->\n<g id=\"edge2\" class=\"edge\">\n<title>1&#45;&gt;2</title>\n<path fill=\"none\" stroke=\"black\" d=\"M273.05,-175.88C249.55,-165.77 223.54,-154.58 199.45,-144.21\"/>\n<polygon fill=\"black\" stroke=\"black\" points=\"200.54,-140.86 189.97,-140.12 197.77,-147.29 200.54,-140.86\"/>\n</g>\n<!-- 9 -->\n<g id=\"node6\" class=\"node\">\n<title>9</title>\n<polygon fill=\"#8cf0dd\" stroke=\"black\" points=\"470,-140 244,-140 244,-72 470,-72 470,-140\"/>\n<text text-anchor=\"middle\" x=\"357\" y=\"-124.8\" font-family=\"Helvetica,sans-Serif\" font-size=\"14.00\">marks &lt;= 786.5</text>\n<text text-anchor=\"middle\" x=\"357\" y=\"-109.8\" font-family=\"Helvetica,sans-Serif\" font-size=\"14.00\">gini = 0.498</text>\n<text text-anchor=\"middle\" x=\"357\" y=\"-94.8\" font-family=\"Helvetica,sans-Serif\" font-size=\"14.00\">samples = 10.3%</text>\n<text text-anchor=\"middle\" x=\"357\" y=\"-79.8\" font-family=\"Helvetica,sans-Serif\" font-size=\"14.00\">value = [0.133, 0.2, 0.667, 0.0, 0.0]</text>\n</g>\n<!-- 1&#45;&gt;9 -->\n<g id=\"edge5\" class=\"edge\">\n<title>1&#45;&gt;9</title>\n<path fill=\"none\" stroke=\"black\" d=\"M352.27,-175.88C352.83,-167.78 353.43,-158.98 354.02,-150.47\"/>\n<polygon fill=\"black\" stroke=\"black\" points=\"357.52,-150.52 354.71,-140.3 350.54,-150.04 357.52,-150.52\"/>\n</g>\n<!-- 3 -->\n<g id=\"node4\" class=\"node\">\n<title>3</title>\n<polygon fill=\"#c0c0c0\" stroke=\"black\" points=\"104,-36 50,-36 50,0 104,0 104,-36\"/>\n<text text-anchor=\"middle\" x=\"77\" y=\"-14.3\" font-family=\"Helvetica,sans-Serif\" font-size=\"14.00\">(...)</text>\n</g>\n<!-- 2&#45;&gt;3 -->\n<g id=\"edge3\" class=\"edge\">\n<title>2&#45;&gt;3</title>\n<path fill=\"none\" stroke=\"black\" d=\"M99.18,-72C95.54,-63.28 91.64,-53.98 88.16,-45.65\"/>\n<polygon fill=\"black\" stroke=\"black\" points=\"91.38,-44.28 84.29,-36.4 84.92,-46.98 91.38,-44.28\"/>\n</g>\n<!-- 4 -->\n<g id=\"node5\" class=\"node\">\n<title>4</title>\n<polygon fill=\"#c0c0c0\" stroke=\"black\" points=\"176,-36 122,-36 122,0 176,0 176,-36\"/>\n<text text-anchor=\"middle\" x=\"149\" y=\"-14.3\" font-family=\"Helvetica,sans-Serif\" font-size=\"14.00\">(...)</text>\n</g>\n<!-- 2&#45;&gt;4 -->\n<g id=\"edge4\" class=\"edge\">\n<title>2&#45;&gt;4</title>\n<path fill=\"none\" stroke=\"black\" d=\"M126.82,-72C130.46,-63.28 134.36,-53.98 137.84,-45.65\"/>\n<polygon fill=\"black\" stroke=\"black\" points=\"141.08,-46.98 141.71,-36.4 134.62,-44.28 141.08,-46.98\"/>\n</g>\n<!-- 10 -->\n<g id=\"node7\" class=\"node\">\n<title>10</title>\n<polygon fill=\"#c0c0c0\" stroke=\"black\" points=\"348,-36 294,-36 294,0 348,0 348,-36\"/>\n<text text-anchor=\"middle\" x=\"321\" y=\"-14.3\" font-family=\"Helvetica,sans-Serif\" font-size=\"14.00\">(...)</text>\n</g>\n<!-- 9&#45;&gt;10 -->\n<g id=\"edge6\" class=\"edge\">\n<title>9&#45;&gt;10</title>\n<path fill=\"none\" stroke=\"black\" d=\"M343.18,-72C339.54,-63.28 335.64,-53.98 332.16,-45.65\"/>\n<polygon fill=\"black\" stroke=\"black\" points=\"335.38,-44.28 328.29,-36.4 328.92,-46.98 335.38,-44.28\"/>\n</g>\n<!-- 11 -->\n<g id=\"node8\" class=\"node\">\n<title>11</title>\n<polygon fill=\"#c0c0c0\" stroke=\"black\" points=\"420,-36 366,-36 366,0 420,0 420,-36\"/>\n<text text-anchor=\"middle\" x=\"393\" y=\"-14.3\" font-family=\"Helvetica,sans-Serif\" font-size=\"14.00\">(...)</text>\n</g>\n<!-- 9&#45;&gt;11 -->\n<g id=\"edge7\" class=\"edge\">\n<title>9&#45;&gt;11</title>\n<path fill=\"none\" stroke=\"black\" d=\"M370.82,-72C374.46,-63.28 378.36,-53.98 381.84,-45.65\"/>\n<polygon fill=\"black\" stroke=\"black\" points=\"385.08,-46.98 385.71,-36.4 378.62,-44.28 385.08,-46.98\"/>\n</g>\n<!-- 21 -->\n<g id=\"node10\" class=\"node\">\n<title>21</title>\n<polygon fill=\"#c5f7ee\" stroke=\"black\" points=\"749,-140 501,-140 501,-72 749,-72 749,-140\"/>\n<text text-anchor=\"middle\" x=\"625\" y=\"-124.8\" font-family=\"Helvetica,sans-Serif\" font-size=\"14.00\">merit &lt;= 19323.0</text>\n<text text-anchor=\"middle\" x=\"625\" y=\"-109.8\" font-family=\"Helvetica,sans-Serif\" font-size=\"14.00\">gini = 0.653</text>\n<text text-anchor=\"middle\" x=\"625\" y=\"-94.8\" font-family=\"Helvetica,sans-Serif\" font-size=\"14.00\">samples = 5.8%</text>\n<text text-anchor=\"middle\" x=\"625\" y=\"-79.8\" font-family=\"Helvetica,sans-Serif\" font-size=\"14.00\">value = [0.14, 0.0, 0.491, 0.088, 0.281]</text>\n</g>\n<!-- 20&#45;&gt;21 -->\n<g id=\"edge9\" class=\"edge\">\n<title>20&#45;&gt;21</title>\n<path fill=\"none\" stroke=\"black\" d=\"M629.73,-175.88C629.17,-167.78 628.57,-158.98 627.98,-150.47\"/>\n<polygon fill=\"black\" stroke=\"black\" points=\"631.46,-150.04 627.29,-140.3 624.48,-150.52 631.46,-150.04\"/>\n</g>\n<!-- 28 -->\n<g id=\"node13\" class=\"node\">\n<title>28</title>\n<polygon fill=\"#ffffff\" stroke=\"black\" points=\"1030.5,-140 767.5,-140 767.5,-72 1030.5,-72 1030.5,-140\"/>\n<text text-anchor=\"middle\" x=\"899\" y=\"-124.8\" font-family=\"Helvetica,sans-Serif\" font-size=\"14.00\">merit &lt;= 11124.5</text>\n<text text-anchor=\"middle\" x=\"899\" y=\"-109.8\" font-family=\"Helvetica,sans-Serif\" font-size=\"14.00\">gini = 0.766</text>\n<text text-anchor=\"middle\" x=\"899\" y=\"-94.8\" font-family=\"Helvetica,sans-Serif\" font-size=\"14.00\">samples = 72.8%</text>\n<text text-anchor=\"middle\" x=\"899\" y=\"-79.8\" font-family=\"Helvetica,sans-Serif\" font-size=\"14.00\">value = [0.113, 0.11, 0.295, 0.293, 0.189]</text>\n</g>\n<!-- 20&#45;&gt;28 -->\n<g id=\"edge12\" class=\"edge\">\n<title>20&#45;&gt;28</title>\n<path fill=\"none\" stroke=\"black\" d=\"M718.69,-175.88C745.52,-165.63 775.24,-154.28 802.69,-143.79\"/>\n<polygon fill=\"black\" stroke=\"black\" points=\"804.2,-146.96 812.29,-140.12 801.7,-140.42 804.2,-146.96\"/>\n</g>\n<!-- 22 -->\n<g id=\"node11\" class=\"node\">\n<title>22</title>\n<polygon fill=\"#c0c0c0\" stroke=\"black\" points=\"616,-36 562,-36 562,0 616,0 616,-36\"/>\n<text text-anchor=\"middle\" x=\"589\" y=\"-14.3\" font-family=\"Helvetica,sans-Serif\" font-size=\"14.00\">(...)</text>\n</g>\n<!-- 21&#45;&gt;22 -->\n<g id=\"edge10\" class=\"edge\">\n<title>21&#45;&gt;22</title>\n<path fill=\"none\" stroke=\"black\" d=\"M611.18,-72C607.54,-63.28 603.64,-53.98 600.16,-45.65\"/>\n<polygon fill=\"black\" stroke=\"black\" points=\"603.38,-44.28 596.29,-36.4 596.92,-46.98 603.38,-44.28\"/>\n</g>\n<!-- 23 -->\n<g id=\"node12\" class=\"node\">\n<title>23</title>\n<polygon fill=\"#c0c0c0\" stroke=\"black\" points=\"688,-36 634,-36 634,0 688,0 688,-36\"/>\n<text text-anchor=\"middle\" x=\"661\" y=\"-14.3\" font-family=\"Helvetica,sans-Serif\" font-size=\"14.00\">(...)</text>\n</g>\n<!-- 21&#45;&gt;23 -->\n<g id=\"edge11\" class=\"edge\">\n<title>21&#45;&gt;23</title>\n<path fill=\"none\" stroke=\"black\" d=\"M638.82,-72C642.46,-63.28 646.36,-53.98 649.84,-45.65\"/>\n<polygon fill=\"black\" stroke=\"black\" points=\"653.08,-46.98 653.71,-36.4 646.62,-44.28 653.08,-46.98\"/>\n</g>\n<!-- 29 -->\n<g id=\"node14\" class=\"node\">\n<title>29</title>\n<polygon fill=\"#c0c0c0\" stroke=\"black\" points=\"890,-36 836,-36 836,0 890,0 890,-36\"/>\n<text text-anchor=\"middle\" x=\"863\" y=\"-14.3\" font-family=\"Helvetica,sans-Serif\" font-size=\"14.00\">(...)</text>\n</g>\n<!-- 28&#45;&gt;29 -->\n<g id=\"edge13\" class=\"edge\">\n<title>28&#45;&gt;29</title>\n<path fill=\"none\" stroke=\"black\" d=\"M885.18,-72C881.54,-63.28 877.64,-53.98 874.16,-45.65\"/>\n<polygon fill=\"black\" stroke=\"black\" points=\"877.38,-44.28 870.29,-36.4 870.92,-46.98 877.38,-44.28\"/>\n</g>\n<!-- 88 -->\n<g id=\"node15\" class=\"node\">\n<title>88</title>\n<polygon fill=\"#c0c0c0\" stroke=\"black\" points=\"962,-36 908,-36 908,0 962,0 962,-36\"/>\n<text text-anchor=\"middle\" x=\"935\" y=\"-14.3\" font-family=\"Helvetica,sans-Serif\" font-size=\"14.00\">(...)</text>\n</g>\n<!-- 28&#45;&gt;88 -->\n<g id=\"edge14\" class=\"edge\">\n<title>28&#45;&gt;88</title>\n<path fill=\"none\" stroke=\"black\" d=\"M912.82,-72C916.46,-63.28 920.36,-53.98 923.84,-45.65\"/>\n<polygon fill=\"black\" stroke=\"black\" points=\"927.08,-46.98 927.71,-36.4 920.62,-44.28 927.08,-46.98\"/>\n</g>\n</g>\n</svg>\n",
            "text/plain": [
              "<graphviz.sources.Source at 0x787f7900b760>"
            ]
          },
          "metadata": {}
        },
        {
          "output_type": "display_data",
          "data": {
            "image/svg+xml": "<?xml version=\"1.0\" encoding=\"UTF-8\" standalone=\"no\"?>\n<!DOCTYPE svg PUBLIC \"-//W3C//DTD SVG 1.1//EN\"\n \"http://www.w3.org/Graphics/SVG/1.1/DTD/svg11.dtd\">\n<!-- Generated by graphviz version 2.43.0 (0)\n -->\n<!-- Title: Tree Pages: 1 -->\n<svg width=\"991pt\" height=\"356pt\"\n viewBox=\"0.00 0.00 990.50 356.00\" xmlns=\"http://www.w3.org/2000/svg\" xmlns:xlink=\"http://www.w3.org/1999/xlink\">\n<g id=\"graph0\" class=\"graph\" transform=\"scale(1 1) rotate(0) translate(4 352)\">\n<title>Tree</title>\n<polygon fill=\"white\" stroke=\"transparent\" points=\"-4,4 -4,-352 986.5,-352 986.5,4 -4,4\"/>\n<!-- 0 -->\n<g id=\"node1\" class=\"node\">\n<title>0</title>\n<polygon fill=\"#fefeff\" stroke=\"black\" points=\"675,-348 412,-348 412,-280 675,-280 675,-348\"/>\n<text text-anchor=\"middle\" x=\"543.5\" y=\"-332.8\" font-family=\"Helvetica,sans-Serif\" font-size=\"14.00\">age &lt;= 96.5</text>\n<text text-anchor=\"middle\" x=\"543.5\" y=\"-317.8\" font-family=\"Helvetica,sans-Serif\" font-size=\"14.00\">gini = 0.748</text>\n<text text-anchor=\"middle\" x=\"543.5\" y=\"-302.8\" font-family=\"Helvetica,sans-Serif\" font-size=\"14.00\">samples = 100.0%</text>\n<text text-anchor=\"middle\" x=\"543.5\" y=\"-287.8\" font-family=\"Helvetica,sans-Serif\" font-size=\"14.00\">value = [0.09, 0.085, 0.315, 0.318, 0.192]</text>\n</g>\n<!-- 1 -->\n<g id=\"node2\" class=\"node\">\n<title>1</title>\n<polygon fill=\"#fcfcff\" stroke=\"black\" points=\"540.5,-244 284.5,-244 284.5,-176 540.5,-176 540.5,-244\"/>\n<text text-anchor=\"middle\" x=\"412.5\" y=\"-228.8\" font-family=\"Helvetica,sans-Serif\" font-size=\"14.00\">age &lt;= 93.5</text>\n<text text-anchor=\"middle\" x=\"412.5\" y=\"-213.8\" font-family=\"Helvetica,sans-Serif\" font-size=\"14.00\">gini = 0.749</text>\n<text text-anchor=\"middle\" x=\"412.5\" y=\"-198.8\" font-family=\"Helvetica,sans-Serif\" font-size=\"14.00\">samples = 98.6%</text>\n<text text-anchor=\"middle\" x=\"412.5\" y=\"-183.8\" font-family=\"Helvetica,sans-Serif\" font-size=\"14.00\">value = [0.09, 0.086, 0.308, 0.32, 0.195]</text>\n</g>\n<!-- 0&#45;&gt;1 -->\n<g id=\"edge1\" class=\"edge\">\n<title>0&#45;&gt;1</title>\n<path fill=\"none\" stroke=\"black\" d=\"M500.97,-279.88C488.96,-270.53 475.76,-260.26 463.32,-250.57\"/>\n<polygon fill=\"black\" stroke=\"black\" points=\"465.31,-247.68 455.27,-244.3 461.01,-253.2 465.31,-247.68\"/>\n<text text-anchor=\"middle\" x=\"458.35\" y=\"-265.41\" font-family=\"Helvetica,sans-Serif\" font-size=\"14.00\">True</text>\n</g>\n<!-- 86 -->\n<g id=\"node9\" class=\"node\">\n<title>86</title>\n<polygon fill=\"#74edd6\" stroke=\"black\" points=\"792,-244 559,-244 559,-176 792,-176 792,-244\"/>\n<text text-anchor=\"middle\" x=\"675.5\" y=\"-228.8\" font-family=\"Helvetica,sans-Serif\" font-size=\"14.00\">marks &lt;= 485.5</text>\n<text text-anchor=\"middle\" x=\"675.5\" y=\"-213.8\" font-family=\"Helvetica,sans-Serif\" font-size=\"14.00\">gini = 0.403</text>\n<text text-anchor=\"middle\" x=\"675.5\" y=\"-198.8\" font-family=\"Helvetica,sans-Serif\" font-size=\"14.00\">samples = 1.4%</text>\n<text text-anchor=\"middle\" x=\"675.5\" y=\"-183.8\" font-family=\"Helvetica,sans-Serif\" font-size=\"14.00\">value = [0.083, 0.0, 0.75, 0.167, 0.0]</text>\n</g>\n<!-- 0&#45;&gt;86 -->\n<g id=\"edge8\" class=\"edge\">\n<title>0&#45;&gt;86</title>\n<path fill=\"none\" stroke=\"black\" d=\"M586.36,-279.88C598.46,-270.53 611.75,-260.26 624.29,-250.57\"/>\n<polygon fill=\"black\" stroke=\"black\" points=\"626.63,-253.18 632.41,-244.3 622.35,-247.64 626.63,-253.18\"/>\n<text text-anchor=\"middle\" x=\"629.23\" y=\"-265.4\" font-family=\"Helvetica,sans-Serif\" font-size=\"14.00\">False</text>\n</g>\n<!-- 2 -->\n<g id=\"node3\" class=\"node\">\n<title>2</title>\n<polygon fill=\"#fcfcff\" stroke=\"black\" points=\"271,-140 0,-140 0,-72 271,-72 271,-140\"/>\n<text text-anchor=\"middle\" x=\"135.5\" y=\"-124.8\" font-family=\"Helvetica,sans-Serif\" font-size=\"14.00\">age &lt;= 64.5</text>\n<text text-anchor=\"middle\" x=\"135.5\" y=\"-109.8\" font-family=\"Helvetica,sans-Serif\" font-size=\"14.00\">gini = 0.748</text>\n<text text-anchor=\"middle\" x=\"135.5\" y=\"-94.8\" font-family=\"Helvetica,sans-Serif\" font-size=\"14.00\">samples = 95.7%</text>\n<text text-anchor=\"middle\" x=\"135.5\" y=\"-79.8\" font-family=\"Helvetica,sans-Serif\" font-size=\"14.00\">value = [0.093, 0.087, 0.312, 0.324, 0.184]</text>\n</g>\n<!-- 1&#45;&gt;2 -->\n<g id=\"edge2\" class=\"edge\">\n<title>1&#45;&gt;2</title>\n<path fill=\"none\" stroke=\"black\" d=\"M322.57,-175.88C294.61,-165.59 263.62,-154.18 235.05,-143.66\"/>\n<polygon fill=\"black\" stroke=\"black\" points=\"236.05,-140.3 225.46,-140.12 233.63,-146.86 236.05,-140.3\"/>\n</g>\n<!-- 77 -->\n<g id=\"node6\" class=\"node\">\n<title>77</title>\n<polygon fill=\"#f29ce0\" stroke=\"black\" points=\"545.5,-140 289.5,-140 289.5,-72 545.5,-72 545.5,-140\"/>\n<text text-anchor=\"middle\" x=\"417.5\" y=\"-124.8\" font-family=\"Helvetica,sans-Serif\" font-size=\"14.00\">merit &lt;= 1079.0</text>\n<text text-anchor=\"middle\" x=\"417.5\" y=\"-109.8\" font-family=\"Helvetica,sans-Serif\" font-size=\"14.00\">gini = 0.583</text>\n<text text-anchor=\"middle\" x=\"417.5\" y=\"-94.8\" font-family=\"Helvetica,sans-Serif\" font-size=\"14.00\">samples = 3.0%</text>\n<text text-anchor=\"middle\" x=\"417.5\" y=\"-79.8\" font-family=\"Helvetica,sans-Serif\" font-size=\"14.00\">value = [0.0, 0.045, 0.182, 0.182, 0.591]</text>\n</g>\n<!-- 1&#45;&gt;77 -->\n<g id=\"edge5\" class=\"edge\">\n<title>1&#45;&gt;77</title>\n<path fill=\"none\" stroke=\"black\" d=\"M414.12,-175.88C414.52,-167.78 414.95,-158.98 415.37,-150.47\"/>\n<polygon fill=\"black\" stroke=\"black\" points=\"418.87,-150.46 415.87,-140.3 411.88,-150.12 418.87,-150.46\"/>\n</g>\n<!-- 3 -->\n<g id=\"node4\" class=\"node\">\n<title>3</title>\n<polygon fill=\"#c0c0c0\" stroke=\"black\" points=\"126.5,-36 72.5,-36 72.5,0 126.5,0 126.5,-36\"/>\n<text text-anchor=\"middle\" x=\"99.5\" y=\"-14.3\" font-family=\"Helvetica,sans-Serif\" font-size=\"14.00\">(...)</text>\n</g>\n<!-- 2&#45;&gt;3 -->\n<g id=\"edge3\" class=\"edge\">\n<title>2&#45;&gt;3</title>\n<path fill=\"none\" stroke=\"black\" d=\"M121.68,-72C118.04,-63.28 114.14,-53.98 110.66,-45.65\"/>\n<polygon fill=\"black\" stroke=\"black\" points=\"113.88,-44.28 106.79,-36.4 107.42,-46.98 113.88,-44.28\"/>\n</g>\n<!-- 42 -->\n<g id=\"node5\" class=\"node\">\n<title>42</title>\n<polygon fill=\"#c0c0c0\" stroke=\"black\" points=\"198.5,-36 144.5,-36 144.5,0 198.5,0 198.5,-36\"/>\n<text text-anchor=\"middle\" x=\"171.5\" y=\"-14.3\" font-family=\"Helvetica,sans-Serif\" font-size=\"14.00\">(...)</text>\n</g>\n<!-- 2&#45;&gt;42 -->\n<g id=\"edge4\" class=\"edge\">\n<title>2&#45;&gt;42</title>\n<path fill=\"none\" stroke=\"black\" d=\"M149.32,-72C152.96,-63.28 156.86,-53.98 160.34,-45.65\"/>\n<polygon fill=\"black\" stroke=\"black\" points=\"163.58,-46.98 164.21,-36.4 157.12,-44.28 163.58,-46.98\"/>\n</g>\n<!-- 78 -->\n<g id=\"node7\" class=\"node\">\n<title>78</title>\n<polygon fill=\"#c0c0c0\" stroke=\"black\" points=\"408.5,-36 354.5,-36 354.5,0 408.5,0 408.5,-36\"/>\n<text text-anchor=\"middle\" x=\"381.5\" y=\"-14.3\" font-family=\"Helvetica,sans-Serif\" font-size=\"14.00\">(...)</text>\n</g>\n<!-- 77&#45;&gt;78 -->\n<g id=\"edge6\" class=\"edge\">\n<title>77&#45;&gt;78</title>\n<path fill=\"none\" stroke=\"black\" d=\"M403.68,-72C400.04,-63.28 396.14,-53.98 392.66,-45.65\"/>\n<polygon fill=\"black\" stroke=\"black\" points=\"395.88,-44.28 388.79,-36.4 389.42,-46.98 395.88,-44.28\"/>\n</g>\n<!-- 79 -->\n<g id=\"node8\" class=\"node\">\n<title>79</title>\n<polygon fill=\"#c0c0c0\" stroke=\"black\" points=\"480.5,-36 426.5,-36 426.5,0 480.5,0 480.5,-36\"/>\n<text text-anchor=\"middle\" x=\"453.5\" y=\"-14.3\" font-family=\"Helvetica,sans-Serif\" font-size=\"14.00\">(...)</text>\n</g>\n<!-- 77&#45;&gt;79 -->\n<g id=\"edge7\" class=\"edge\">\n<title>77&#45;&gt;79</title>\n<path fill=\"none\" stroke=\"black\" d=\"M431.32,-72C434.96,-63.28 438.86,-53.98 442.34,-45.65\"/>\n<polygon fill=\"black\" stroke=\"black\" points=\"445.58,-46.98 446.21,-36.4 439.12,-44.28 445.58,-46.98\"/>\n</g>\n<!-- 87 -->\n<g id=\"node10\" class=\"node\">\n<title>87</title>\n<polygon fill=\"#3c39e5\" stroke=\"black\" points=\"768.5,-132.5 572.5,-132.5 572.5,-79.5 768.5,-79.5 768.5,-132.5\"/>\n<text text-anchor=\"middle\" x=\"670.5\" y=\"-117.3\" font-family=\"Helvetica,sans-Serif\" font-size=\"14.00\">gini = 0.0</text>\n<text text-anchor=\"middle\" x=\"670.5\" y=\"-102.3\" font-family=\"Helvetica,sans-Serif\" font-size=\"14.00\">samples = 0.4%</text>\n<text text-anchor=\"middle\" x=\"670.5\" y=\"-87.3\" font-family=\"Helvetica,sans-Serif\" font-size=\"14.00\">value = [0.0, 0.0, 0.0, 1.0, 0.0]</text>\n</g>\n<!-- 86&#45;&gt;87 -->\n<g id=\"edge9\" class=\"edge\">\n<title>86&#45;&gt;87</title>\n<path fill=\"none\" stroke=\"black\" d=\"M673.88,-175.88C673.35,-165.22 672.77,-153.35 672.24,-142.52\"/>\n<polygon fill=\"black\" stroke=\"black\" points=\"675.74,-142.34 671.75,-132.52 668.74,-142.68 675.74,-142.34\"/>\n</g>\n<!-- 88 -->\n<g id=\"node11\" class=\"node\">\n<title>88</title>\n<polygon fill=\"#4fe8cb\" stroke=\"black\" points=\"982.5,-140 786.5,-140 786.5,-72 982.5,-72 982.5,-140\"/>\n<text text-anchor=\"middle\" x=\"884.5\" y=\"-124.8\" font-family=\"Helvetica,sans-Serif\" font-size=\"14.00\">age &lt;= 98.5</text>\n<text text-anchor=\"middle\" x=\"884.5\" y=\"-109.8\" font-family=\"Helvetica,sans-Serif\" font-size=\"14.00\">gini = 0.18</text>\n<text text-anchor=\"middle\" x=\"884.5\" y=\"-94.8\" font-family=\"Helvetica,sans-Serif\" font-size=\"14.00\">samples = 1.0%</text>\n<text text-anchor=\"middle\" x=\"884.5\" y=\"-79.8\" font-family=\"Helvetica,sans-Serif\" font-size=\"14.00\">value = [0.1, 0.0, 0.9, 0.0, 0.0]</text>\n</g>\n<!-- 86&#45;&gt;88 -->\n<g id=\"edge10\" class=\"edge\">\n<title>86&#45;&gt;88</title>\n<path fill=\"none\" stroke=\"black\" d=\"M743.36,-175.88C763.81,-165.9 786.41,-154.87 807.42,-144.62\"/>\n<polygon fill=\"black\" stroke=\"black\" points=\"809.17,-147.66 816.63,-140.12 806.1,-141.37 809.17,-147.66\"/>\n</g>\n<!-- 89 -->\n<g id=\"node12\" class=\"node\">\n<title>89</title>\n<polygon fill=\"#c0c0c0\" stroke=\"black\" points=\"875.5,-36 821.5,-36 821.5,0 875.5,0 875.5,-36\"/>\n<text text-anchor=\"middle\" x=\"848.5\" y=\"-14.3\" font-family=\"Helvetica,sans-Serif\" font-size=\"14.00\">(...)</text>\n</g>\n<!-- 88&#45;&gt;89 -->\n<g id=\"edge11\" class=\"edge\">\n<title>88&#45;&gt;89</title>\n<path fill=\"none\" stroke=\"black\" d=\"M870.68,-72C867.04,-63.28 863.14,-53.98 859.66,-45.65\"/>\n<polygon fill=\"black\" stroke=\"black\" points=\"862.88,-44.28 855.79,-36.4 856.42,-46.98 862.88,-44.28\"/>\n</g>\n<!-- 90 -->\n<g id=\"node13\" class=\"node\">\n<title>90</title>\n<polygon fill=\"#c0c0c0\" stroke=\"black\" points=\"947.5,-36 893.5,-36 893.5,0 947.5,0 947.5,-36\"/>\n<text text-anchor=\"middle\" x=\"920.5\" y=\"-14.3\" font-family=\"Helvetica,sans-Serif\" font-size=\"14.00\">(...)</text>\n</g>\n<!-- 88&#45;&gt;90 -->\n<g id=\"edge12\" class=\"edge\">\n<title>88&#45;&gt;90</title>\n<path fill=\"none\" stroke=\"black\" d=\"M898.32,-72C901.96,-63.28 905.86,-53.98 909.34,-45.65\"/>\n<polygon fill=\"black\" stroke=\"black\" points=\"912.58,-46.98 913.21,-36.4 906.12,-44.28 912.58,-46.98\"/>\n</g>\n</g>\n</svg>\n",
            "text/plain": [
              "<graphviz.sources.Source at 0x787f79008460>"
            ]
          },
          "metadata": {}
        }
      ]
    }
  ]
}