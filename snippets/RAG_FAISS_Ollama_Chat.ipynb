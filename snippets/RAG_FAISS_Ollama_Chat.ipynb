{
 "cells": [
  {
   "cell_type": "code",
   "execution_count": 7,
   "id": "0742a467",
   "metadata": {},
   "outputs": [],
   "source": [
    "import aiohttp\n",
    "import json\n",
    "import asyncio\n",
    "from IPython.display import display, Markdown, clear_output\n",
    "\n",
    "ollama_url_chat = \"http://localhost:11434/api/chat\"\n",
    "ollama_model_name = \"llama3.2:latest\"\n",
    "\n",
    "chat_history = []\n",
    "\n",
    "async def chat(prompt, stream=True):\n",
    "    global chat_history\n",
    "    \n",
    "    chat_history.append({\"role\": \"user\", \"content\": prompt})\n",
    "    payload = {\"model\": ollama_model_name, \"messages\": chat_history, \"stream\": stream}\n",
    "    headers = {\"Content-Type\": \"application/json\"}\n",
    "\n",
    "    response_text = \"\"\n",
    "    buffer = \"\"\n",
    "\n",
    "    async with aiohttp.ClientSession() as session:\n",
    "        async with session.post(ollama_url_chat, headers=headers, data=json.dumps(payload)) as response:\n",
    "            if stream:\n",
    "                async for chunk in response.content.iter_any():\n",
    "                    try:\n",
    "                        data = json.loads(chunk.decode('utf-8'))\n",
    "                        content = data.get(\"message\", {}).get(\"content\", \"\")\n",
    "                        buffer += content\n",
    "\n",
    "                        if len(buffer) > 10:\n",
    "                            response_text += buffer\n",
    "                            clear_output(wait=True)\n",
    "                            display(Markdown(response_text))\n",
    "                            buffer = \"\"\n",
    "                            \n",
    "                    except json.JSONDecodeError:\n",
    "                        continue\n",
    "\n",
    "                response_text += buffer\n",
    "                clear_output(wait=True)\n",
    "                display(Markdown(response_text))\n",
    "            else:\n",
    "                response_text = await response.text()\n",
    "                display(Markdown(response_text))\n",
    "\n",
    "    chat_history.append({\"role\": \"assistant\", \"content\": response_text})\n",
    "\n",
    "    return response_text"
   ]
  },
  {
   "cell_type": "code",
   "execution_count": 9,
   "id": "fad4ac9d",
   "metadata": {
    "scrolled": false
   },
   "outputs": [
    {
     "data": {
      "text/markdown": [
       "Facebook is a social media platform that allows users to create profiles, connect with friends and family, share updates and photos, join groups and communities, and participate in online discussions. It was founded in 2004 by Mark Zuckerberg and has since become one of the most widely used social media platforms in the world.\n",
       "\n",
       "In essence, Facebook is a virtual space where people can:\n",
       "\n",
       "* Share their thoughts, feelings, and experiences with others\n",
       "* Connect with friends, family, and acquaintances from all over the world\n",
       "* Join communities based on shared interests or affiliations\n",
       "* Access information and news about current events, trending topics, and popular culture\n",
       "\n",
       "Facebook's core features include:\n",
       "\n",
       "1. Profiles: Users can create a profile to share information about themselves.\n",
       "2. News Feed: A curated feed of updates from friends and pages users follow.\n",
       "3. Groups: Communities based on shared interests or affiliations.\n",
       "4. Messages: Private messaging between friends and family members.\n",
       "5. Events: Creation and RSVPs for events, such as birthdays, weddings, or concerts.\n",
       "\n",
       "Over time, Facebook has evolved to include additional features, such as:\n",
       "\n",
       "1. Facebook Marketplace: A platform for buying and selling items locally.\n",
       "2. Facebook Live: Real-time video streaming for personal and professional use.\n",
       "3. Facebook Stories: A feature that allows users to share behind-the-scenes content.\n",
       "\n",
       "Today, Facebook is a major part of modern online life, with billions of users worldwide."
      ],
      "text/plain": [
       "<IPython.core.display.Markdown object>"
      ]
     },
     "metadata": {},
     "output_type": "display_data"
    }
   ],
   "source": [
    "_ = await chat(\"What is Facebook?\")"
   ]
  },
  {
   "cell_type": "code",
   "execution_count": 10,
   "id": "fb806b7f",
   "metadata": {},
   "outputs": [
    {
     "data": {
      "text/markdown": [
       "Facebook's vision is to \"give people the power to build community and bring the world closer together.\" This vision is reflected in Mark Zuckerberg's statement: \"Our mission is to give people the power to build community and make the world more open and connected.\"\n",
       "\n",
       "More specifically, Facebook's long-term goals include:\n",
       "\n",
       "1. **Building a global network**: Connect people from all over the world and create a platform where everyone can contribute.\n",
       "2. **Empowering communities**: Create tools and platforms that help people connect with others who share similar interests, passions, or causes.\n",
       "3. **Facilitating knowledge sharing**: Provide a space for people to share information, ideas, and expertise, and make it easily accessible to others.\n",
       "4. **Promoting online safety and security**: Protect users' data and ensure that the platform is a safe and trustworthy place for everyone.\n",
       "5. **Innovating new technologies**: Continuously innovate and experiment with new technologies and features to improve the user experience.\n",
       "\n",
       "Facebook's vision is also reflected in its core values:\n",
       "\n",
       "1. **Openness**: Be open to new ideas, perspectives, and connections.\n",
       "2. **Community**: Foster a sense of belonging and connection among users.\n",
       "3. **Innovation**: Continuously innovate and experiment with new technologies and features.\n",
       "4. **Transparency**: Be transparent about data collection, usage, and policies.\n",
       "5. **Accountability**: Take responsibility for the impact of the platform on society.\n",
       "\n",
       "Overall, Facebook's vision is to create a global network that connects people, fosters community, and promotes knowledge sharing, innovation, and positive change."
      ],
      "text/plain": [
       "<IPython.core.display.Markdown object>"
      ]
     },
     "metadata": {},
     "output_type": "display_data"
    }
   ],
   "source": [
    "_ = await chat(\"What is it's vision?\")"
   ]
  }
 ],
 "metadata": {
  "kernelspec": {
   "display_name": "Python 3 (ipykernel)",
   "language": "python",
   "name": "python3"
  },
  "language_info": {
   "codemirror_mode": {
    "name": "ipython",
    "version": 3
   },
   "file_extension": ".py",
   "mimetype": "text/x-python",
   "name": "python",
   "nbconvert_exporter": "python",
   "pygments_lexer": "ipython3",
   "version": "3.11.5"
  }
 },
 "nbformat": 4,
 "nbformat_minor": 5
}
